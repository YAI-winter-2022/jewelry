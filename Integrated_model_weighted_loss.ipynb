{
 "cells": [
  {
   "cell_type": "code",
   "execution_count": 1,
   "id": "d7bf85c1",
   "metadata": {
    "ExecuteTime": {
     "end_time": "2022-02-26T13:08:30.262228Z",
     "start_time": "2022-02-26T13:08:28.499164Z"
    },
    "executionInfo": {
     "elapsed": 8302,
     "status": "ok",
     "timestamp": 1645863233600,
     "user": {
      "displayName": "석진혁(공과대학 기계공학)",
      "photoUrl": "https://lh3.googleusercontent.com/a/default-user=s64",
      "userId": "04829476984882153292"
     },
     "user_tz": -540
    },
    "id": "d7bf85c1"
   },
   "outputs": [],
   "source": [
    "import pandas as pd\n",
    "import numpy as np\n",
    "from PIL import Image\n",
    "import torch\n",
    "import torchvision\n",
    "import torch.nn as nn\n",
    "import torch.optim as optim\n",
    "from torchvision import transforms\n",
    "from torch.utils.data import Dataset, DataLoader\n",
    "from torch.utils.data.dataset import random_split\n",
    "import random\n",
    "import albumentations as A\n",
    "import matplotlib.pyplot as plt\n",
    "\n",
    "device = torch.device('cuda' if torch.cuda.is_available() else 'cpu')"
   ]
  },
  {
   "cell_type": "code",
   "execution_count": 2,
   "id": "88539da3",
   "metadata": {
    "ExecuteTime": {
     "end_time": "2022-02-26T13:08:30.278128Z",
     "start_time": "2022-02-26T13:08:30.263226Z"
    },
    "executionInfo": {
     "elapsed": 410,
     "status": "ok",
     "timestamp": 1645863260239,
     "user": {
      "displayName": "석진혁(공과대학 기계공학)",
      "photoUrl": "https://lh3.googleusercontent.com/a/default-user=s64",
      "userId": "04829476984882153292"
     },
     "user_tz": -540
    },
    "id": "88539da3"
   },
   "outputs": [],
   "source": [
    "csv_train_path = \"train.csv\"\n",
    "csv_test_path = \"test.csv\"\n",
    "csv_val_path = \"val.csv\"\n",
    "image_path = \"./images\"\n",
    "batch_size = 256\n",
    "epochs = 100\n",
    "learning_rate = 1e-3\n",
    "seed = 42"
   ]
  },
  {
   "cell_type": "code",
   "execution_count": 3,
   "id": "00c5b968",
   "metadata": {
    "ExecuteTime": {
     "end_time": "2022-02-26T13:08:30.294162Z",
     "start_time": "2022-02-26T13:08:30.279124Z"
    },
    "executionInfo": {
     "elapsed": 11,
     "status": "ok",
     "timestamp": 1645863263034,
     "user": {
      "displayName": "석진혁(공과대학 기계공학)",
      "photoUrl": "https://lh3.googleusercontent.com/a/default-user=s64",
      "userId": "04829476984882153292"
     },
     "user_tz": -540
    },
    "id": "00c5b968"
   },
   "outputs": [],
   "source": [
    "torch.manual_seed(seed)\n",
    "np.random.seed(seed)\n",
    "random.seed(seed)\n",
    "torch.backends.cudnn.deterministic = True\n",
    "torch.backends.cudnn.benchmark = False\n",
    "torch.cuda.manual_seed(seed)\n",
    "torch.cuda.manual_seed_all(seed)"
   ]
  },
  {
   "cell_type": "code",
   "execution_count": 4,
   "id": "a160df3d",
   "metadata": {
    "ExecuteTime": {
     "end_time": "2022-02-26T13:08:30.309091Z",
     "start_time": "2022-02-26T13:08:30.294162Z"
    }
   },
   "outputs": [],
   "source": [
    "trainset = pd.read_csv(csv_train_path)\n",
    "weightmap = [1 / np.sum((np.array(np.log(trainset['Price']) - 6).astype(int) // 2) == i) for i in range(3)]\n",
    "cutline = [np.exp(i) for i in range(8, 12, 2)]"
   ]
  },
  {
   "cell_type": "code",
   "execution_count": 5,
   "id": "78410749",
   "metadata": {
    "ExecuteTime": {
     "end_time": "2022-02-26T13:08:30.325165Z",
     "start_time": "2022-02-26T13:08:30.309091Z"
    },
    "executionInfo": {
     "elapsed": 298,
     "status": "ok",
     "timestamp": 1645863265603,
     "user": {
      "displayName": "석진혁(공과대학 기계공학)",
      "photoUrl": "https://lh3.googleusercontent.com/a/default-user=s64",
      "userId": "04829476984882153292"
     },
     "user_tz": -540
    },
    "id": "78410749"
   },
   "outputs": [],
   "source": [
    "class AllDataset(Dataset):\n",
    "    def __init__(self, csv_path, image_path, image_transform=transforms.Compose([transforms.ToTensor()])):\n",
    "        super(AllDataset).__init__()\n",
    "        csv = pd.read_csv(csv_path)\n",
    "        csv_np = csv.to_numpy()\n",
    "        \n",
    "        self.image_transform = image_transform\n",
    "        self.ids = list(map(str, csv['Id']))\n",
    "        self.image_path = image_path\n",
    "        \n",
    "        for i in [1, 3, 4, 5, 6, 7, 8]:\n",
    "            wordset = {word: idx for idx, word in enumerate(np.unique(csv_np[:,i]))}\n",
    "            for row in range(len(csv_np)):\n",
    "                csv_np[row][i] = wordset[csv_np[row][i]]\n",
    "        self.ints = torch.from_numpy(np.array(csv_np[:,[1,3,4,5,6,7,8]], dtype=\"int\"))\n",
    "        self.floats = torch.from_numpy(np.array(csv_np[:,[2,9,10,11]], dtype=\"float\")).float()\n",
    "        self.target = torch.from_numpy(np.array(csv_np[:,[12]], dtype=\"float\")).float()\n",
    "    \n",
    "    \n",
    "    def __getitem__(self,idx):\n",
    "        return self.image_transform(Image.open(self.image_path+'/'+self.ids[idx]+'.jpg')), self.ints[idx],self.floats[idx], self.target[idx]\n",
    "    \n",
    "    \n",
    "    def __len__(self):\n",
    "        return len(self.ints)"
   ]
  },
  {
   "cell_type": "code",
   "execution_count": 6,
   "id": "c8af2023",
   "metadata": {
    "ExecuteTime": {
     "end_time": "2022-02-26T13:08:30.356078Z",
     "start_time": "2022-02-26T13:08:30.326161Z"
    },
    "executionInfo": {
     "elapsed": 713,
     "status": "ok",
     "timestamp": 1645863356773,
     "user": {
      "displayName": "석진혁(공과대학 기계공학)",
      "photoUrl": "https://lh3.googleusercontent.com/a/default-user=s64",
      "userId": "04829476984882153292"
     },
     "user_tz": -540
    },
    "id": "c8af2023"
   },
   "outputs": [],
   "source": [
    "image_transform = transforms.Compose([transforms.ToTensor()\n",
    "                                     ])\n",
    "train_dataset = AllDataset(csv_train_path, image_path, image_transform)\n",
    "test_dataset = AllDataset(csv_test_path, image_path, image_transform)\n",
    "val_dataset = AllDataset(csv_val_path, image_path, image_transform)\n",
    "\n",
    "train_loader = DataLoader(train_dataset, batch_size=batch_size, shuffle = True)\n",
    "test_loader = DataLoader(test_dataset, batch_size=batch_size, shuffle = True)\n",
    "val_loader = DataLoader(val_dataset, batch_size=batch_size, shuffle = True)\n"
   ]
  },
  {
   "cell_type": "code",
   "execution_count": 7,
   "id": "36a46f59",
   "metadata": {
    "ExecuteTime": {
     "end_time": "2022-02-26T13:08:30.372060Z",
     "start_time": "2022-02-26T13:08:30.357033Z"
    },
    "executionInfo": {
     "elapsed": 316,
     "status": "ok",
     "timestamp": 1645863361593,
     "user": {
      "displayName": "석진혁(공과대학 기계공학)",
      "photoUrl": "https://lh3.googleusercontent.com/a/default-user=s64",
      "userId": "04829476984882153292"
     },
     "user_tz": -540
    },
    "id": "36a46f59"
   },
   "outputs": [],
   "source": [
    "class Net(nn.Module):\n",
    "    def __init__(self):\n",
    "        super(Net, self).__init__()\n",
    "        self.resnet18 = torchvision.models.resnet18(pretrained=False)\n",
    "        self.resnet18.fc = nn.Sequential(nn.Linear(512, 4096),\n",
    "                                         nn.BatchNorm1d(4096),\n",
    "                                         nn.ReLU(),\n",
    "                                         nn.Dropout()\n",
    "                                        )\n",
    "        self.resenet18 = self.resnet18.to(device)\n",
    "        \n",
    "        self.emb1 = torch.nn.Embedding(8, 20)\n",
    "        self.emb2 = torch.nn.Embedding(11, 20)\n",
    "        self.emb3 = torch.nn.Embedding(20, 20)\n",
    "        self.emb4 = torch.nn.Embedding(4, 20)\n",
    "        self.emb5 = torch.nn.Embedding(4, 20)\n",
    "        self.emb6 = torch.nn.Embedding(4, 20)\n",
    "        self.emb7 = torch.nn.Embedding(7, 20)\n",
    "        self.act = nn.ReLU()\n",
    "        self.fc = nn.Linear(4, 80)\n",
    "        self.csvbn = nn.BatchNorm1d(80)\n",
    "        self.csvfc1 = nn.Linear(220, 8192)\n",
    "        self.csvfc2 = nn.Linear(8192, 8192)\n",
    "        self.csvfc3 = nn.Linear(8192, 4096)\n",
    "        self.csvbn1 = nn.BatchNorm1d(8192)\n",
    "        self.csvbn2 = nn.BatchNorm1d(8192)\n",
    "        self.csvbn3 = nn.BatchNorm1d(4096)\n",
    "        \n",
    "        self.fc1 = nn.Linear(8192, 4096)\n",
    "        self.fc2 = nn.Linear(4096, 1)\n",
    "        self.bn1 = nn.BatchNorm1d(4096)\n",
    "        self.dropout = nn.Dropout()\n",
    "    \n",
    "    def forward(self, image, x, y):\n",
    "        image = self.resnet18(image)\n",
    "        \n",
    "        x1 = self.emb1(x[:,0])\n",
    "        x2 = self.emb2(x[:,1])\n",
    "        x3 = self.emb3(x[:,2])\n",
    "        x4 = self.emb4(x[:,3])\n",
    "        x5 = self.emb5(x[:,4])\n",
    "        x6 = self.emb6(x[:,5])\n",
    "        x7 = self.emb7(x[:,6])\n",
    "        y = self.csvbn(self.fc(y))\n",
    "        x = torch.cat((x1, x2, x3, x4, x5, x6, x7, y), dim=1)\n",
    "        \n",
    "        x = self.dropout(self.act(self.csvbn1(self.csvfc1(x))))\n",
    "        x = self.dropout(self.act(self.csvbn2(self.csvfc2(x))))\n",
    "        x = self.dropout(self.act(self.csvbn3(self.csvfc3(x))))\n",
    "        x = torch.cat((x, image), dim=1)\n",
    "        \n",
    "        x = self.dropout(self.act(self.bn1(self.fc1(x))))\n",
    "        return self.fc2(x)"
   ]
  },
  {
   "cell_type": "code",
   "execution_count": 8,
   "id": "ac745ce3",
   "metadata": {
    "ExecuteTime": {
     "end_time": "2022-02-26T13:08:30.387241Z",
     "start_time": "2022-02-26T13:08:30.373026Z"
    }
   },
   "outputs": [],
   "source": [
    "def WRMSE(pred, target):\n",
    "    weight = []\n",
    "    for i in target:\n",
    "        weight.append(weightmap[(torch.log(i[0])- 6).int() // 2])\n",
    "    weight = torch.from_numpy(np.array(weight)).float().to(device)\n",
    "    x = torch.sum(weight * (pred - target) ** 2)\n",
    "    x /= torch.sum(weight) * len(target)\n",
    "    return torch.sqrt(x)"
   ]
  },
  {
   "cell_type": "code",
   "execution_count": 9,
   "id": "fb3749f1",
   "metadata": {
    "ExecuteTime": {
     "end_time": "2022-02-26T13:08:31.067800Z",
     "start_time": "2022-02-26T13:08:30.388205Z"
    },
    "executionInfo": {
     "elapsed": 10083,
     "status": "ok",
     "timestamp": 1645863374896,
     "user": {
      "displayName": "석진혁(공과대학 기계공학)",
      "photoUrl": "https://lh3.googleusercontent.com/a/default-user=s64",
      "userId": "04829476984882153292"
     },
     "user_tz": -540
    },
    "id": "fb3749f1"
   },
   "outputs": [],
   "source": [
    "model = Net().to(device)\n",
    "\n",
    "criterion = nn.MSELoss().to(device)\n",
    "optimizer = optim.Adam(model.parameters(), lr=learning_rate)"
   ]
  },
  {
   "cell_type": "code",
   "execution_count": null,
   "id": "ad748bfb",
   "metadata": {
    "ExecuteTime": {
     "start_time": "2022-02-26T13:08:28.487Z"
    },
    "colab": {
     "base_uri": "https://localhost:8080/"
    },
    "executionInfo": {
     "elapsed": 3354719,
     "status": "ok",
     "timestamp": 1645866740859,
     "user": {
      "displayName": "석진혁(공과대학 기계공학)",
      "photoUrl": "https://lh3.googleusercontent.com/a/default-user=s64",
      "userId": "04829476984882153292"
     },
     "user_tz": -540
    },
    "id": "ad748bfb",
    "outputId": "259fbd99-569f-4a15-a584-fdf04c9d5058",
    "scrolled": false
   },
   "outputs": [
    {
     "name": "stderr",
     "output_type": "stream",
     "text": [
      "C:\\Users\\user\\AppData\\Local\\Temp/ipykernel_26816/2767223654.py:4: UserWarning: __floordiv__ is deprecated, and its behavior will change in a future version of pytorch. It currently rounds toward 0 (like the 'trunc' function NOT 'floor'). This results in incorrect rounding for negative values. To keep the current behavior, use torch.div(a, b, rounding_mode='trunc'), or for actual floor division, use torch.div(a, b, rounding_mode='floor').\n",
      "  weight.append(weightmap[(torch.log(i[0])- 6).int() // 2])\n"
     ]
    },
    {
     "name": "stdout",
     "output_type": "stream",
     "text": [
      "[Epoch:  1] Average loss: 4386.0747, val_loss: 4061.0845\n",
      "[Epoch:  2] Average loss: 4343.2417, val_loss: 4654.3125\n",
      "[Epoch:  3] Average loss: 4502.5332, val_loss: 4158.2061\n",
      "[Epoch:  4] Average loss: 4359.3154, val_loss: 4534.0254\n",
      "[Epoch:  5] Average loss: 4604.9854, val_loss: 4304.2710\n",
      "[Epoch:  6] Average loss: 4172.9756, val_loss: 3923.8120\n",
      "[Epoch:  7] Average loss: 5594.7930, val_loss: 3783.5166\n",
      "[Epoch:  8] Average loss: 3929.6304, val_loss: 3810.4009\n",
      "[Epoch:  9] Average loss: 4113.0791, val_loss: 3668.3342\n",
      "[Epoch: 10] Average loss: 3948.1294, val_loss: 3824.3389\n",
      "[Epoch: 11] Average loss: 3933.9343, val_loss: 3959.7769\n",
      "[Epoch: 12] Average loss: 3839.9365, val_loss: 3913.1101\n",
      "[Epoch: 13] Average loss: 3922.9116, val_loss: 3571.5811\n",
      "[Epoch: 14] Average loss: 3729.9077, val_loss: 3751.6050\n",
      "[Epoch: 15] Average loss: 3612.7358, val_loss: 3429.8691\n",
      "[Epoch: 16] Average loss: 3637.5129, val_loss: 3522.5745\n",
      "[Epoch: 17] Average loss: 3796.6375, val_loss: 3654.8677\n",
      "[Epoch: 18] Average loss: 3508.0449, val_loss: 3186.1094\n",
      "[Epoch: 19] Average loss: 3398.3892, val_loss: 3310.7827\n",
      "[Epoch: 20] Average loss: 3291.2954, val_loss: 3025.9390\n",
      "[Epoch: 21] Average loss: 3201.0068, val_loss: 3094.2942\n",
      "[Epoch: 22] Average loss: 3208.9329, val_loss: 3030.5801\n",
      "[Epoch: 23] Average loss: 3112.7026, val_loss: 3061.9553\n",
      "[Epoch: 24] Average loss: 3108.6243, val_loss: 2800.8755\n",
      "[Epoch: 25] Average loss: 3110.7620, val_loss: 2768.7673\n",
      "[Epoch: 26] Average loss: 2925.5625, val_loss: 2739.4224\n",
      "[Epoch: 27] Average loss: 2820.7124, val_loss: 2560.0955\n",
      "[Epoch: 28] Average loss: 2773.4790, val_loss: 2588.3362\n",
      "[Epoch: 29] Average loss: 2650.6370, val_loss: 2499.9863\n",
      "[Epoch: 30] Average loss: 2613.8037, val_loss: 2553.7896\n",
      "[Epoch: 31] Average loss: 4164.5171, val_loss: 2854.7495\n",
      "[Epoch: 32] Average loss: 2427.0649, val_loss: 2486.6589\n",
      "[Epoch: 33] Average loss: 2353.4788, val_loss: 1938.3213\n",
      "[Epoch: 34] Average loss: 2302.5339, val_loss: 2325.5264\n",
      "[Epoch: 35] Average loss: 2175.9092, val_loss: 1864.3723\n",
      "[Epoch: 36] Average loss: 2138.9775, val_loss: 1969.0803\n",
      "[Epoch: 37] Average loss: 2047.8141, val_loss: 1625.3969\n",
      "[Epoch: 38] Average loss: 2265.8403, val_loss: 1709.2739\n",
      "[Epoch: 39] Average loss: 1962.2291, val_loss: 1559.3231\n",
      "[Epoch: 40] Average loss: 1897.8500, val_loss: 1747.9218\n",
      "[Epoch: 41] Average loss: 1916.5569, val_loss: 1636.6591\n",
      "[Epoch: 42] Average loss: 1755.2891, val_loss: 1708.8165\n",
      "[Epoch: 43] Average loss: 1683.3214, val_loss: 1348.0940\n",
      "[Epoch: 44] Average loss: 1886.7485, val_loss: 1919.3958\n",
      "[Epoch: 45] Average loss: 1701.8442, val_loss: 1396.8960\n",
      "[Epoch: 46] Average loss: 1607.5603, val_loss: 1701.0779\n",
      "[Epoch: 47] Average loss: 1523.9850, val_loss: 1689.5027\n",
      "[Epoch: 48] Average loss: 1626.6207, val_loss: 1729.1411\n",
      "[Epoch: 49] Average loss: 1520.1764, val_loss: 1734.7166\n",
      "[Epoch: 50] Average loss: 1641.3367, val_loss: 1486.7435\n",
      "[Epoch: 51] Average loss: 1620.8920, val_loss: 1696.1300\n",
      "[Epoch: 52] Average loss: 1624.4961, val_loss: 1388.4475\n",
      "[Epoch: 53] Average loss: 1413.4556, val_loss: 1372.3722\n",
      "[Epoch: 54] Average loss: 1489.8458, val_loss: 1312.7533\n",
      "[Epoch: 55] Average loss: 1386.7423, val_loss: 1222.0699\n",
      "[Epoch: 56] Average loss: 1436.1274, val_loss: 1254.0000\n",
      "[Epoch: 57] Average loss: 1559.2991, val_loss: 1414.2522\n",
      "[Epoch: 58] Average loss: 1320.6256, val_loss: 1406.1725\n",
      "[Epoch: 59] Average loss: 1237.2952, val_loss: 1244.4653\n",
      "[Epoch: 60] Average loss: 1315.2406, val_loss: 1404.6301\n",
      "[Epoch: 61] Average loss: 1599.1836, val_loss: 1447.7426\n",
      "[Epoch: 62] Average loss: 1488.1415, val_loss: 1664.9424\n",
      "[Epoch: 63] Average loss: 1288.2478, val_loss: 1259.5232\n",
      "[Epoch: 64] Average loss: 1272.5178, val_loss: 1315.1167\n",
      "[Epoch: 65] Average loss: 1187.7115, val_loss: 1593.2921\n",
      "[Epoch: 66] Average loss: 1294.9102, val_loss: 1378.0171\n",
      "[Epoch: 67] Average loss: 1205.3419, val_loss: 1217.7283\n",
      "[Epoch: 68] Average loss: 1310.5646, val_loss: 1230.9763\n",
      "[Epoch: 69] Average loss: 1230.2870, val_loss: 1405.8979\n",
      "[Epoch: 70] Average loss: 1304.6572, val_loss: 1422.9694\n",
      "[Epoch: 71] Average loss: 1103.3193, val_loss: 1305.8699\n",
      "[Epoch: 72] Average loss: 1263.3672, val_loss: 1179.8152\n",
      "[Epoch: 73] Average loss: 1169.0721, val_loss: 1177.8257\n",
      "[Epoch: 74] Average loss: 1179.2874, val_loss: 1252.8113\n",
      "[Epoch: 75] Average loss: 1804.4342, val_loss: 1338.2021\n",
      "[Epoch: 76] Average loss: 1093.4053, val_loss: 1534.6649\n",
      "[Epoch: 77] Average loss: 1173.4271, val_loss: 1439.6984\n",
      "[Epoch: 78] Average loss: 1258.9895, val_loss: 1307.8999\n",
      "[Epoch: 79] Average loss: 1152.6395, val_loss: 1202.0125\n",
      "[Epoch: 80] Average loss: 1367.1716, val_loss: 1351.7971\n",
      "[Epoch: 81] Average loss: 1148.8033, val_loss: 1326.0311\n",
      "[Epoch: 82] Average loss: 1187.6294, val_loss: 1156.8971\n",
      "[Epoch: 83] Average loss: 1327.9976, val_loss: 1304.3311\n",
      "[Epoch: 84] Average loss: 1183.2368, val_loss: 1268.5625\n",
      "[Epoch: 85] Average loss: 1187.1917, val_loss: 1289.6460\n",
      "[Epoch: 86] Average loss: 1392.5491, val_loss: 1462.8738\n",
      "[Epoch: 87] Average loss: 1238.1859, val_loss: 1374.5392\n",
      "[Epoch: 88] Average loss: 1110.0543, val_loss: 1226.6892\n",
      "[Epoch: 89] Average loss: 1117.6393, val_loss: 1365.9958\n",
      "[Epoch: 90] Average loss: 1104.5994, val_loss: 1342.0769\n",
      "[Epoch: 91] Average loss: 1236.1237, val_loss: 1294.5193\n",
      "[Epoch: 92] Average loss: 1095.1362, val_loss: 1469.4757\n",
      "[Epoch: 93] Average loss: 1097.4148, val_loss: 1233.3212\n",
      "[Epoch: 94] Average loss: 945.8215, val_loss: 1380.7169\n",
      "[Epoch: 95] Average loss: 1224.9423, val_loss: 1571.5922\n",
      "[Epoch: 96] Average loss: 1188.8812, val_loss: 1363.5381\n",
      "[Epoch: 97] Average loss: 1288.3766, val_loss: 1573.1396\n",
      "[Epoch: 98] Average loss: 1066.9968, val_loss: 1193.9758\n"
     ]
    }
   ],
   "source": [
    "for epoch in range(epochs):\n",
    "    model.train()\n",
    "    criterion.train()\n",
    "    \n",
    "    avg_loss = 0\n",
    "\n",
    "    for Img, X1, X2, Y in train_loader:\n",
    "        Img = Img.to(device)\n",
    "        X1 = X1.to(device)\n",
    "        X2 = X2.to(device)\n",
    "        Y = Y.to(device)\n",
    "\n",
    "        model.zero_grad()\n",
    "        prediction = model(Img, X1, X2)\n",
    "        loss = WRMSE(prediction, Y).to(device)\n",
    "        loss.backward()\n",
    "        optimizer.step()\n",
    "        avg_loss += loss / len(train_loader)\n",
    "    print(f'[Epoch: {epoch+1:>2}] Average loss: {avg_loss:.4f}, ', end='')\n",
    "    \n",
    "    model.eval()\n",
    "    criterion.eval()\n",
    "    with torch.no_grad():\n",
    "        val_avg_loss = 0.\n",
    "        for Image_val, X1_val, X2_val, Y_val in val_loader:\n",
    "            Image_val = Image_val.to(device)\n",
    "            X1_val = X1_val.to(device)\n",
    "            X2_val = X2_val.to(device)\n",
    "            Y_val = Y_val.to(device)\n",
    "            val_prediction = model(Image_val, X1_val, X2_val)\n",
    "            val_loss = WRMSE(val_prediction, Y_val).to(device)\n",
    "            val_avg_loss += val_loss / len(val_loader)\n",
    "        \n",
    "        print(f\"val_loss: {val_avg_loss:.4f}\")"
   ]
  },
  {
   "cell_type": "code",
   "execution_count": null,
   "id": "9be9XqCiL9Od",
   "metadata": {
    "ExecuteTime": {
     "start_time": "2022-02-26T13:13:18.939Z"
    },
    "executionInfo": {
     "elapsed": 2183,
     "status": "ok",
     "timestamp": 1645867145200,
     "user": {
      "displayName": "석진혁(공과대학 기계공학)",
      "photoUrl": "https://lh3.googleusercontent.com/a/default-user=s64",
      "userId": "04829476984882153292"
     },
     "user_tz": -540
    },
    "id": "9be9XqCiL9Od"
   },
   "outputs": [],
   "source": [
    "PATH = './model/'\n",
    "Name = 'model_weighted_loss.pt'\n",
    "torch.save(model.state_dict(), PATH+Name)"
   ]
  },
  {
   "cell_type": "code",
   "execution_count": null,
   "id": "l6xe2kBx6hHD",
   "metadata": {
    "ExecuteTime": {
     "start_time": "2022-02-26T13:13:21.084Z"
    },
    "executionInfo": {
     "elapsed": 356,
     "status": "ok",
     "timestamp": 1645867147900,
     "user": {
      "displayName": "석진혁(공과대학 기계공학)",
      "photoUrl": "https://lh3.googleusercontent.com/a/default-user=s64",
      "userId": "04829476984882153292"
     },
     "user_tz": -540
    },
    "id": "l6xe2kBx6hHD"
   },
   "outputs": [],
   "source": [
    "RMSEs = []\n",
    "accuracys = []"
   ]
  },
  {
   "cell_type": "code",
   "execution_count": null,
   "id": "434a531a",
   "metadata": {
    "ExecuteTime": {
     "start_time": "2022-02-26T13:13:22.221Z"
    },
    "colab": {
     "base_uri": "https://localhost:8080/"
    },
    "executionInfo": {
     "elapsed": 10203,
     "status": "ok",
     "timestamp": 1645867159095,
     "user": {
      "displayName": "석진혁(공과대학 기계공학)",
      "photoUrl": "https://lh3.googleusercontent.com/a/default-user=s64",
      "userId": "04829476984882153292"
     },
     "user_tz": -540
    },
    "id": "434a531a",
    "outputId": "e7fce435-9361-40f0-d451-5b96ea7f480c"
   },
   "outputs": [],
   "source": [
    "model.eval()\n",
    "criterion.eval()\n",
    "ss_tot = 0\n",
    "ss_res = 0\n",
    "test_loader = DataLoader(test_dataset, batch_size=1, shuffle = True)\n",
    "pred = []\n",
    "label = []\n",
    "with torch.no_grad():\n",
    "    for Image_test, X1_test, X2_test, Y_test in test_loader:\n",
    "        if Y_test < 20000:\n",
    "            continue\n",
    "        Image_test =Image_test.to(device)\n",
    "        X1_test = X1_test.to(device)\n",
    "        X2_test = X2_test.to(device)\n",
    "        Y_test = Y_test.to(device)\n",
    "        prediction = model(Image_test, X1_test, X2_test)\n",
    "        print(f\"결과값:{Y_test.item():.2f}$, 예측값 :{prediction.item():.2f}$\")\n",
    "        pred.append(prediction)\n",
    "        label.append(Y_test)\n",
    "    pred = torch.tensor(pred)\n",
    "    label = torch.tensor(label)\n",
    "    mean = torch.mean(label)\n",
    "    ss_tot += torch.sum((label - mean) ** 2)\n",
    "    ss_res += torch.sum((label - pred) ** 2)\n",
    "    \n",
    "    accuracy = 1 - ss_res/ss_tot\n",
    "    RMSE = (torch.sum((label - pred)**2) / len(pred.numpy()))**(1/2)\n",
    "    accuracys.append(accuracy)\n",
    "    RMSEs.append(RMSE)\n",
    "    print(f\"Accuracy: {accuracy*100:.2f}   RMSE : {RMSE:.2f}\",)"
   ]
  },
  {
   "cell_type": "code",
   "execution_count": null,
   "id": "U4JoCBgz4wPs",
   "metadata": {
    "ExecuteTime": {
     "start_time": "2022-02-26T13:13:22.693Z"
    },
    "colab": {
     "base_uri": "https://localhost:8080/",
     "height": 440
    },
    "executionInfo": {
     "elapsed": 471,
     "status": "ok",
     "timestamp": 1645867162468,
     "user": {
      "displayName": "석진혁(공과대학 기계공학)",
      "photoUrl": "https://lh3.googleusercontent.com/a/default-user=s64",
      "userId": "04829476984882153292"
     },
     "user_tz": -540
    },
    "id": "U4JoCBgz4wPs",
    "outputId": "fb583ce9-01bd-45d2-9f63-a63a1618bacd"
   },
   "outputs": [],
   "source": [
    "prediction = pd.DataFrame({'pred': pred.numpy().tolist(),\n",
    "                          'label': label.numpy().tolist()})\n",
    "prediction = prediction.sort_values(by=['label'])\n",
    "prediction = prediction.reset_index(drop=True)\n",
    "fig, ax = plt.subplots(1, 1,figsize = (10, 7))\n",
    "\n",
    "ax.plot(prediction.index, prediction['pred'],label='Prediction',        \n",
    "        marker = 'o',\n",
    "        linestyle = '--',)\n",
    "ax.plot(prediction.index, prediction['label'], label = 'Truth',\n",
    "        marker = 'o',\n",
    "        linestyle = '--',)\n",
    "ax.set_title(f\"prediction vs Truth : over 20,000$\", loc='left', fontsize=20, va= 'bottom', fontweight='semibold')\n",
    "ax.legend()\n",
    "plt.ylabel('prices')\n",
    "plt.xticks([])\n",
    "ax.set_xticks([])\n",
    "plt.show()"
   ]
  },
  {
   "cell_type": "code",
   "execution_count": null,
   "id": "teV-yR88PUu8",
   "metadata": {
    "ExecuteTime": {
     "start_time": "2022-02-26T13:13:23.253Z"
    },
    "colab": {
     "base_uri": "https://localhost:8080/"
    },
    "executionInfo": {
     "elapsed": 9677,
     "status": "ok",
     "timestamp": 1645867175851,
     "user": {
      "displayName": "석진혁(공과대학 기계공학)",
      "photoUrl": "https://lh3.googleusercontent.com/a/default-user=s64",
      "userId": "04829476984882153292"
     },
     "user_tz": -540
    },
    "id": "teV-yR88PUu8",
    "outputId": "25d5cb5a-d481-4c3d-eba5-c25cdf1b38b4"
   },
   "outputs": [],
   "source": [
    "model.eval()\n",
    "criterion.eval()\n",
    "ss_tot = 0\n",
    "ss_res = 0\n",
    "test_loader = DataLoader(test_dataset, batch_size=1, shuffle = True)\n",
    "pred = []\n",
    "label = []\n",
    "with torch.no_grad():\n",
    "    for Image_test, X1_test, X2_test, Y_test in test_loader:\n",
    "        if Y_test < 15000:\n",
    "            continue\n",
    "        Image_test =Image_test.to(device)\n",
    "        X1_test = X1_test.to(device)\n",
    "        X2_test = X2_test.to(device)\n",
    "        Y_test = Y_test.to(device)\n",
    "        prediction = model(Image_test, X1_test, X2_test)\n",
    "        print(f\"결과값:{Y_test.item():.2f}$, 예측값 :{prediction.item():.2f}$\")\n",
    "        pred.append(prediction)\n",
    "        label.append(Y_test)\n",
    "    pred = torch.tensor(pred)\n",
    "    label = torch.tensor(label)\n",
    "    mean = torch.mean(label)\n",
    "    ss_tot += torch.sum((label - mean) ** 2)\n",
    "    ss_res += torch.sum((label - pred) ** 2)\n",
    "    \n",
    "    accuracy = 1 - ss_res/ss_tot\n",
    "    RMSE = (torch.sum((label - pred)**2) / len(pred.numpy()))**(1/2)\n",
    "    print(f\"Accuracy: {accuracy*100:.2f}   RMSE : {RMSE:.2f}\", )"
   ]
  },
  {
   "cell_type": "code",
   "execution_count": null,
   "id": "Ls8nNtkC92xe",
   "metadata": {
    "ExecuteTime": {
     "start_time": "2022-02-26T13:13:23.668Z"
    },
    "colab": {
     "base_uri": "https://localhost:8080/",
     "height": 440
    },
    "executionInfo": {
     "elapsed": 423,
     "status": "ok",
     "timestamp": 1645867179755,
     "user": {
      "displayName": "석진혁(공과대학 기계공학)",
      "photoUrl": "https://lh3.googleusercontent.com/a/default-user=s64",
      "userId": "04829476984882153292"
     },
     "user_tz": -540
    },
    "id": "Ls8nNtkC92xe",
    "outputId": "15bc4491-5a55-4eed-86a0-7ccd2c4d92dc"
   },
   "outputs": [],
   "source": [
    "prediction = pd.DataFrame({'pred': pred.numpy().tolist(),\n",
    "                          'label': label.numpy().tolist()})\n",
    "prediction = prediction.sort_values(by=['label'])\n",
    "prediction = prediction.reset_index(drop=True)\n",
    "fig, ax = plt.subplots(1, 1,figsize = (10, 7))\n",
    "\n",
    "ax.plot(prediction.index, prediction['pred'],label='Prediction',        \n",
    "        marker = 'o',\n",
    "        linestyle = '--',)\n",
    "ax.plot(prediction.index, prediction['label'], label = 'Truth',\n",
    "        marker = 'o',\n",
    "        linestyle = '--',)\n",
    "ax.set_title(f\"prediction vs Truth : over 15,000$\", loc='left', fontsize=20, va= 'bottom', fontweight='semibold')\n",
    "ax.legend()\n",
    "plt.ylabel('prices')\n",
    "plt.xticks([])\n",
    "ax.set_xticks([])\n",
    "plt.show()"
   ]
  },
  {
   "cell_type": "code",
   "execution_count": null,
   "id": "JTMlu-7LPVp9",
   "metadata": {
    "ExecuteTime": {
     "start_time": "2022-02-26T13:13:24.045Z"
    },
    "colab": {
     "base_uri": "https://localhost:8080/"
    },
    "executionInfo": {
     "elapsed": 9629,
     "status": "ok",
     "timestamp": 1645867192605,
     "user": {
      "displayName": "석진혁(공과대학 기계공학)",
      "photoUrl": "https://lh3.googleusercontent.com/a/default-user=s64",
      "userId": "04829476984882153292"
     },
     "user_tz": -540
    },
    "id": "JTMlu-7LPVp9",
    "outputId": "fe06116d-99f4-42f3-a24f-38645cf73b7d"
   },
   "outputs": [],
   "source": [
    "model.eval()\n",
    "criterion.eval()\n",
    "ss_tot = 0\n",
    "ss_res = 0\n",
    "test_loader = DataLoader(test_dataset, batch_size=1, shuffle = True)\n",
    "pred = []\n",
    "label = []\n",
    "with torch.no_grad():\n",
    "    for Image_test, X1_test, X2_test, Y_test in test_loader:\n",
    "        if Y_test < 10000:\n",
    "            continue\n",
    "        Image_test =Image_test.to(device)\n",
    "        X1_test = X1_test.to(device)\n",
    "        X2_test = X2_test.to(device)\n",
    "        Y_test = Y_test.to(device)\n",
    "        prediction = model(Image_test, X1_test, X2_test)\n",
    "        print(f\"결과값:{Y_test.item():.2f}$, 예측값 :{prediction.item():.2f}$\")\n",
    "        pred.append(prediction)\n",
    "        label.append(Y_test)\n",
    "    pred = torch.tensor(pred)\n",
    "    label = torch.tensor(label)\n",
    "    mean = torch.mean(label)\n",
    "    ss_tot += torch.sum((label - mean) ** 2)\n",
    "    ss_res += torch.sum((label - pred) ** 2)\n",
    "    \n",
    "    accuracy = 1 - ss_res/ss_tot\n",
    "    RMSE = (torch.sum((label - pred)**2) / len(pred.numpy()))**(1/2)\n",
    "    print(f\"Accuracy: {accuracy*100:.2f}   RMSE : {RMSE:.2f}\", )"
   ]
  },
  {
   "cell_type": "code",
   "execution_count": null,
   "id": "vPfGv-Qg9_94",
   "metadata": {
    "ExecuteTime": {
     "start_time": "2022-02-26T13:13:24.525Z"
    },
    "colab": {
     "base_uri": "https://localhost:8080/",
     "height": 440
    },
    "executionInfo": {
     "elapsed": 414,
     "status": "ok",
     "timestamp": 1645867210470,
     "user": {
      "displayName": "석진혁(공과대학 기계공학)",
      "photoUrl": "https://lh3.googleusercontent.com/a/default-user=s64",
      "userId": "04829476984882153292"
     },
     "user_tz": -540
    },
    "id": "vPfGv-Qg9_94",
    "outputId": "12860cf6-9cb1-4d3b-8318-c1f037b8ec8c"
   },
   "outputs": [],
   "source": [
    "prediction = pd.DataFrame({'pred': pred.numpy().tolist(),\n",
    "                          'label': label.numpy().tolist()})\n",
    "prediction = prediction.sort_values(by=['label'])\n",
    "prediction = prediction.reset_index(drop=True)\n",
    "fig, ax = plt.subplots(1, 1,figsize = (10, 7))\n",
    "\n",
    "ax.plot(prediction.index, prediction['pred'],label='Prediction',        \n",
    "        marker = 'o',\n",
    "        linestyle = '--',)\n",
    "ax.plot(prediction.index, prediction['label'], label = 'Truth',\n",
    "        marker = 'o',\n",
    "        linestyle = '--',)\n",
    "ax.set_title(f\"prediction vs Truth : over 10,000$\", loc='left', fontsize=20, va= 'bottom', fontweight='semibold')\n",
    "ax.legend()\n",
    "plt.ylabel('prices')\n",
    "plt.xticks([])\n",
    "ax.set_xticks([])\n",
    "plt.show()"
   ]
  },
  {
   "cell_type": "code",
   "execution_count": null,
   "id": "srKOR48BixNl",
   "metadata": {
    "ExecuteTime": {
     "start_time": "2022-02-26T13:13:25.093Z"
    },
    "colab": {
     "base_uri": "https://localhost:8080/"
    },
    "executionInfo": {
     "elapsed": 31904,
     "status": "ok",
     "timestamp": 1645867246397,
     "user": {
      "displayName": "석진혁(공과대학 기계공학)",
      "photoUrl": "https://lh3.googleusercontent.com/a/default-user=s64",
      "userId": "04829476984882153292"
     },
     "user_tz": -540
    },
    "id": "srKOR48BixNl",
    "outputId": "23f15f28-b45f-4af9-cd0c-9b24404ab89b"
   },
   "outputs": [],
   "source": [
    "model.eval()\n",
    "criterion.eval()\n",
    "ss_tot = 0\n",
    "ss_res = 0\n",
    "test_loader = DataLoader(test_dataset, batch_size=1, shuffle = True)\n",
    "pred = []\n",
    "label = []\n",
    "with torch.no_grad():\n",
    "    for Image_test, X1_test, X2_test, Y_test in test_loader:\n",
    "        Image_test =Image_test.to(device)\n",
    "        X1_test = X1_test.to(device)\n",
    "        X2_test = X2_test.to(device)\n",
    "        Y_test = Y_test.to(device)\n",
    "        prediction = model(Image_test, X1_test, X2_test)\n",
    "        print(f\"결과값:{Y_test.item():.2f}$, 예측값 :{prediction.item():.2f}$\")\n",
    "        pred.append(prediction)\n",
    "        label.append(Y_test)\n",
    "    pred = torch.tensor(pred)\n",
    "    label = torch.tensor(label)\n",
    "    mean = torch.mean(label)\n",
    "    ss_tot += torch.sum((label - mean) ** 2)\n",
    "    ss_res += torch.sum((label - pred) ** 2)\n",
    "    \n",
    "    accuracy = 1 - ss_res/ss_tot\n",
    "    RMSE = (torch.sum((label - pred)**2) / len(pred.numpy()))**(1/2)\n",
    "    print(f\"Accuracy: {accuracy*100:.2f}   RMSE : {RMSE:.2f}\", )"
   ]
  },
  {
   "cell_type": "code",
   "execution_count": null,
   "id": "sxTEi3UjxzSa",
   "metadata": {
    "ExecuteTime": {
     "start_time": "2022-02-26T13:13:25.766Z"
    },
    "colab": {
     "base_uri": "https://localhost:8080/",
     "height": 431
    },
    "executionInfo": {
     "elapsed": 839,
     "status": "ok",
     "timestamp": 1645867251540,
     "user": {
      "displayName": "석진혁(공과대학 기계공학)",
      "photoUrl": "https://lh3.googleusercontent.com/a/default-user=s64",
      "userId": "04829476984882153292"
     },
     "user_tz": -540
    },
    "id": "sxTEi3UjxzSa",
    "outputId": "8dc1cd3a-49fc-4711-9909-adda1bb3fd17"
   },
   "outputs": [],
   "source": [
    "prediction = pd.DataFrame({'pred': pred.numpy().tolist(),\n",
    "                          'label': label.numpy().tolist()})\n",
    "prediction = prediction.sort_values(by=['label'])\n",
    "prediction = prediction.reset_index(drop=True)\n",
    "\n",
    "fig, axes = plt.subplots(1, 2,figsize = (12, 7), sharey = True)\n",
    "\n",
    "prediction1 = prediction[prediction['label'] < 10000]\n",
    "axes[0].plot(prediction1.index, prediction1['pred'],label='Prediction',        \n",
    "        linestyle = '--',)\n",
    "axes[0].plot(prediction1.index, prediction1['label'], label = 'Truth',\n",
    "        linestyle = '--',)\n",
    "axes[0].set_xticks([])\n",
    "axes[0].legend()\n",
    "axes[0].set_title(\"Price under 10000$\")\n",
    "prediction2 = prediction[prediction['label'] > 10000]\n",
    "axes[1].plot(prediction2.index, prediction2['pred'],label='Prediction',        \n",
    "        linestyle = '--',)\n",
    "axes[1].plot(prediction2.index, prediction2['label'], label = 'Truth',\n",
    "        marker = 'o',\n",
    "        linestyle = '--',)\n",
    "axes[1].set_xticks([])\n",
    "axes[1].legend()\n",
    "axes[1].set_title(\"Price over 10000$\")\n",
    "plt.ylabel('prices')\n",
    "plt.show()"
   ]
  },
  {
   "cell_type": "code",
   "execution_count": null,
   "id": "oDrh63MaVTEO",
   "metadata": {
    "id": "oDrh63MaVTEO"
   },
   "outputs": [],
   "source": []
  }
 ],
 "metadata": {
  "accelerator": "GPU",
  "colab": {
   "collapsed_sections": [],
   "history_visible": true,
   "machine_shape": "hm",
   "name": "Integrated_model_stratifiedplit.ipynb",
   "provenance": []
  },
  "kernelspec": {
   "display_name": "cuda",
   "language": "python",
   "name": "python-3-9-7"
  },
  "language_info": {
   "codemirror_mode": {
    "name": "ipython",
    "version": 3
   },
   "file_extension": ".py",
   "mimetype": "text/x-python",
   "name": "python",
   "nbconvert_exporter": "python",
   "pygments_lexer": "ipython3",
   "version": "3.9.7"
  }
 },
 "nbformat": 4,
 "nbformat_minor": 5
}
