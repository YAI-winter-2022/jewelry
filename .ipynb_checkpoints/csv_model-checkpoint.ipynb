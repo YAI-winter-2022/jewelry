{
 "cells": [
  {
   "cell_type": "code",
   "execution_count": 1,
   "id": "a83628a5",
   "metadata": {
    "ExecuteTime": {
     "end_time": "2022-02-24T09:35:09.364054Z",
     "start_time": "2022-02-24T09:35:08.599104Z"
    }
   },
   "outputs": [],
   "source": [
    "import pandas as pd\n",
    "import numpy as np\n",
    "import torch\n",
    "import torch.nn as nn\n",
    "import torch.optim as optim\n",
    "import torchvision\n",
    "import torchvision.transforms as transforms\n",
    "from torch.utils.data import Dataset, DataLoader\n",
    "from torch.utils.data.dataset import random_split\n",
    "import random\n",
    "\n",
    "device = torch.device('cuda' if torch.cuda.is_available() else 'cpu')"
   ]
  },
  {
   "cell_type": "code",
   "execution_count": 2,
   "id": "a6a6f2fe",
   "metadata": {
    "ExecuteTime": {
     "end_time": "2022-02-24T09:35:09.380013Z",
     "start_time": "2022-02-24T09:35:09.365051Z"
    }
   },
   "outputs": [],
   "source": [
    "root = \"final.csv\"\n",
    "batch_size = 256\n",
    "epochs = 200\n",
    "learning_rate = 1e-3\n",
    "seed = 42"
   ]
  },
  {
   "cell_type": "code",
   "execution_count": 3,
   "id": "6ee64c02",
   "metadata": {
    "ExecuteTime": {
     "end_time": "2022-02-24T09:35:09.395969Z",
     "start_time": "2022-02-24T09:35:09.382007Z"
    }
   },
   "outputs": [],
   "source": [
    "torch.manual_seed(seed)\n",
    "np.random.seed(seed)\n",
    "random.seed(seed)\n",
    "torch.backends.cudnn.deterministic = True\n",
    "torch.backends.cudnn.benchmark = False\n",
    "torch.cuda.manual_seed(seed)\n",
    "torch.cuda.manual_seed_all(seed)"
   ]
  },
  {
   "cell_type": "code",
   "execution_count": 4,
   "id": "b815b6b1",
   "metadata": {
    "ExecuteTime": {
     "end_time": "2022-02-24T09:35:09.411926Z",
     "start_time": "2022-02-24T09:35:09.396966Z"
    }
   },
   "outputs": [],
   "source": [
    "class CsvDataset(Dataset):\n",
    "    def __init__(self, path):\n",
    "        super(CsvDataset).__init__()\n",
    "        csv = pd.read_csv(path)\n",
    "        csv_np = csv.to_numpy()\n",
    "        for i in [1, 3, 4, 5, 6, 7, 8]:\n",
    "            wordset = {word: idx for idx, word in enumerate(np.unique(csv_np[:,i]))}\n",
    "            for row in range(len(csv_np)):\n",
    "                csv_np[row][i] = wordset[csv_np[row][i]]\n",
    "        self.ints = torch.from_numpy(np.array(csv_np[:,[1,3,4,5,6,7,8]], dtype=\"int\"))\n",
    "        self.floats = torch.from_numpy(np.array(list(map(lambda x: (x - np.array([0.27, 3.54, 3.01, 1.88])) / np.array([5.75, 8.98, 6.84, 4.78]), csv_np[:,[2,9,10,11]])), dtype=\"float\")).float()\n",
    "        self.target = torch.from_numpy(np.array(csv_np[:,[12]], dtype=\"float\")).float()\n",
    "        \n",
    "        \n",
    "    def __getitem__(self,idx):\n",
    "        return self.ints[idx],self.floats[idx], self.target[idx]\n",
    "    \n",
    "    \n",
    "    def __len__(self):\n",
    "        return len(self.ints)"
   ]
  },
  {
   "cell_type": "code",
   "execution_count": 5,
   "id": "ff0950ff",
   "metadata": {
    "ExecuteTime": {
     "end_time": "2022-02-24T09:35:09.475755Z",
     "start_time": "2022-02-24T09:35:09.412925Z"
    }
   },
   "outputs": [
    {
     "name": "stdout",
     "output_type": "stream",
     "text": [
      "[0.27 3.54 3.01 1.88] [5.75 8.98 6.84 4.78]\n"
     ]
    }
   ],
   "source": [
    "data_length = len(pd.read_csv(root))\n",
    "train_length = int(data_length * 0.6)\n",
    "test_length = int(data_length * 0.2)\n",
    "val_length = data_length - train_length - test_length\n",
    "\n",
    "train_dataset = CsvDataset(root)\n",
    "train_dataset, test_dataset = random_split(train_dataset, [train_length, test_length+val_length])\n",
    "test_dataset, val_dataset = random_split(test_dataset, [test_length, val_length])\n",
    "\n",
    "train_loader = DataLoader(train_dataset, batch_size=batch_size, shuffle = True)\n",
    "test_loader = DataLoader(test_dataset, batch_size=batch_size, shuffle = True)\n",
    "val_loader = DataLoader(val_dataset, batch_size=batch_size, shuffle = True)"
   ]
  },
  {
   "cell_type": "code",
   "execution_count": 6,
   "id": "a476a743",
   "metadata": {
    "ExecuteTime": {
     "end_time": "2022-02-24T09:35:09.491712Z",
     "start_time": "2022-02-24T09:35:09.476753Z"
    }
   },
   "outputs": [],
   "source": [
    "class CsvNet(nn.Module):\n",
    "    def __init__(self):\n",
    "        super(CsvNet, self).__init__()\n",
    "        self.emb1 = torch.nn.Embedding(8, 20)\n",
    "        self.emb2 = torch.nn.Embedding(11, 20)\n",
    "        self.emb3 = torch.nn.Embedding(20, 20)\n",
    "        self.emb4 = torch.nn.Embedding(4, 20)\n",
    "        self.emb5 = torch.nn.Embedding(4, 20)\n",
    "        self.emb6 = torch.nn.Embedding(4, 20)\n",
    "        self.emb7 = torch.nn.Embedding(7, 20)\n",
    "        self.act = nn.ReLU()\n",
    "        self.fc = nn.Linear(4, 80)\n",
    "        self.fc1 = nn.Linear(220, 8192)\n",
    "        self.fc2 = nn.Linear(8192, 8192)\n",
    "        self.fc3 = nn.Linear(8192, 4096)\n",
    "        self.fc4 = nn.Linear(4096, 2048)\n",
    "        self.fc5 = nn.Linear(2048, 1)\n",
    "        self.bn1 = nn.BatchNorm1d(8192)\n",
    "        self.bn2 = nn.BatchNorm1d(8192)\n",
    "        self.bn3 = nn.BatchNorm1d(4096)\n",
    "        self.bn4 = nn.BatchNorm1d(2048)\n",
    "        self.dropout = nn.Dropout()\n",
    "    \n",
    "    def forward(self, x, y):\n",
    "        x1 = self.emb1(x[:,0])\n",
    "        x2 = self.emb2(x[:,1])\n",
    "        x3 = self.emb3(x[:,2])\n",
    "        x4 = self.emb4(x[:,3])\n",
    "        x5 = self.emb5(x[:,4])\n",
    "        x6 = self.emb6(x[:,5])\n",
    "        x7 = self.emb7(x[:,6])\n",
    "        y = self.fc(y)\n",
    "        x = torch.cat((x1, x2, x3, x4, x5, x6, x7, y), dim=1)\n",
    "        x = self.dropout(self.act(self.bn1(self.fc1(x))))\n",
    "        x = self.dropout(self.act(self.bn2(self.fc2(x))))\n",
    "        x = self.dropout(self.act(self.bn3(self.fc3(x))))\n",
    "        x = self.dropout(self.act(self.bn4(self.fc4(x))))\n",
    "        return self.fc5(x)"
   ]
  },
  {
   "cell_type": "code",
   "execution_count": 7,
   "id": "57844bf7",
   "metadata": {
    "ExecuteTime": {
     "end_time": "2022-02-24T09:35:10.008858Z",
     "start_time": "2022-02-24T09:35:09.492710Z"
    }
   },
   "outputs": [],
   "source": [
    "model = CsvNet().to(device)\n",
    "\n",
    "criterion = nn.MSELoss().to(device)\n",
    "optimizer = optim.Adam(model.parameters(), lr=learning_rate)"
   ]
  },
  {
   "cell_type": "code",
   "execution_count": 8,
   "id": "7f910f99",
   "metadata": {
    "ExecuteTime": {
     "end_time": "2022-02-24T09:37:36.239096Z",
     "start_time": "2022-02-24T09:35:10.009856Z"
    }
   },
   "outputs": [
    {
     "name": "stdout",
     "output_type": "stream",
     "text": [
      "[Epoch:  1] Average loss: 4718.9253, val_loss: 4658.8193\n",
      "[Epoch:  2] Average loss: 4903.1992, val_loss: 4658.6533\n",
      "[Epoch:  3] Average loss: 4486.4771, val_loss: 4949.5469\n",
      "[Epoch:  4] Average loss: 4528.8804, val_loss: 4850.6372\n",
      "[Epoch:  5] Average loss: 4477.6982, val_loss: 4739.0039\n",
      "[Epoch:  6] Average loss: 4688.7539, val_loss: 4755.4990\n",
      "[Epoch:  7] Average loss: 4381.4443, val_loss: 4646.0249\n",
      "[Epoch:  8] Average loss: 4357.1631, val_loss: 4708.2837\n",
      "[Epoch:  9] Average loss: 4415.0352, val_loss: 4647.5586\n",
      "[Epoch: 10] Average loss: 4263.8735, val_loss: 4435.7676\n",
      "[Epoch: 11] Average loss: 4445.2236, val_loss: 4791.7632\n",
      "[Epoch: 12] Average loss: 4322.1543, val_loss: 4274.9263\n",
      "[Epoch: 13] Average loss: 4113.2778, val_loss: 4160.1924\n",
      "[Epoch: 14] Average loss: 4125.2769, val_loss: 4237.4912\n",
      "[Epoch: 15] Average loss: 4447.7007, val_loss: 4497.1250\n",
      "[Epoch: 16] Average loss: 5390.1382, val_loss: 4498.5820\n",
      "[Epoch: 17] Average loss: 4475.3135, val_loss: 4271.4141\n",
      "[Epoch: 18] Average loss: 4156.8062, val_loss: 4140.9844\n",
      "[Epoch: 19] Average loss: 4191.7896, val_loss: 4088.2053\n",
      "[Epoch: 20] Average loss: 4095.1001, val_loss: 3990.0149\n",
      "[Epoch: 21] Average loss: 3854.3491, val_loss: 3764.8025\n",
      "[Epoch: 22] Average loss: 4229.2793, val_loss: 3970.6206\n",
      "[Epoch: 23] Average loss: 3797.6345, val_loss: 4158.8774\n",
      "[Epoch: 24] Average loss: 4040.3801, val_loss: 3988.0525\n",
      "[Epoch: 25] Average loss: 3693.7725, val_loss: 4082.8186\n",
      "[Epoch: 26] Average loss: 3718.9360, val_loss: 3793.8691\n",
      "[Epoch: 27] Average loss: 3721.8958, val_loss: 3799.8198\n",
      "[Epoch: 28] Average loss: 3591.5420, val_loss: 3740.1904\n",
      "[Epoch: 29] Average loss: 3486.6309, val_loss: 3342.5869\n",
      "[Epoch: 30] Average loss: 3518.2432, val_loss: 3357.9795\n",
      "[Epoch: 31] Average loss: 3462.1929, val_loss: 3181.7705\n",
      "[Epoch: 32] Average loss: 3724.7239, val_loss: 3634.4419\n",
      "[Epoch: 33] Average loss: 3297.1987, val_loss: 3108.6489\n",
      "[Epoch: 34] Average loss: 3321.1340, val_loss: 3360.1628\n",
      "[Epoch: 35] Average loss: 3633.0415, val_loss: 3234.3245\n",
      "[Epoch: 36] Average loss: 3147.4521, val_loss: 3525.1091\n",
      "[Epoch: 37] Average loss: 3055.4492, val_loss: 3257.0728\n",
      "[Epoch: 38] Average loss: 3431.5618, val_loss: 2710.9744\n",
      "[Epoch: 39] Average loss: 3027.4634, val_loss: 3210.5288\n",
      "[Epoch: 40] Average loss: 3075.7554, val_loss: 2548.7051\n",
      "[Epoch: 41] Average loss: 2946.9495, val_loss: 2430.9539\n",
      "[Epoch: 42] Average loss: 2839.8828, val_loss: 2160.3906\n",
      "[Epoch: 43] Average loss: 2799.9856, val_loss: 2345.9939\n",
      "[Epoch: 44] Average loss: 2752.7910, val_loss: 2521.9092\n",
      "[Epoch: 45] Average loss: 2701.9617, val_loss: 2449.7432\n",
      "[Epoch: 46] Average loss: 2602.5891, val_loss: 2093.8276\n",
      "[Epoch: 47] Average loss: 2605.0527, val_loss: 2571.2310\n",
      "[Epoch: 48] Average loss: 2477.3191, val_loss: 1867.4489\n",
      "[Epoch: 49] Average loss: 2397.4517, val_loss: 2147.1047\n",
      "[Epoch: 50] Average loss: 2402.0002, val_loss: 1923.0278\n",
      "[Epoch: 51] Average loss: 2283.4712, val_loss: 1837.9883\n",
      "[Epoch: 52] Average loss: 2457.0654, val_loss: 2336.2632\n",
      "[Epoch: 53] Average loss: 2305.5586, val_loss: 2000.8488\n",
      "[Epoch: 54] Average loss: 2305.5090, val_loss: 2488.2551\n",
      "[Epoch: 55] Average loss: 2242.7678, val_loss: 2033.4214\n",
      "[Epoch: 56] Average loss: 2042.2017, val_loss: 1538.0045\n",
      "[Epoch: 57] Average loss: 2342.5093, val_loss: 1907.0447\n",
      "[Epoch: 58] Average loss: 1893.2217, val_loss: 1892.7719\n",
      "[Epoch: 59] Average loss: 1912.5399, val_loss: 1386.8790\n",
      "[Epoch: 60] Average loss: 1910.4624, val_loss: 1409.7352\n",
      "[Epoch: 61] Average loss: 1776.9689, val_loss: 2077.3674\n",
      "[Epoch: 62] Average loss: 1894.7727, val_loss: 1399.0251\n",
      "[Epoch: 63] Average loss: 1744.7166, val_loss: 1289.7633\n",
      "[Epoch: 64] Average loss: 1682.9325, val_loss: 1698.4259\n",
      "[Epoch: 65] Average loss: 1579.9436, val_loss: 1277.9839\n",
      "[Epoch: 66] Average loss: 1707.0461, val_loss: 1425.1774\n",
      "[Epoch: 67] Average loss: 1622.1971, val_loss: 1309.2053\n",
      "[Epoch: 68] Average loss: 1645.5488, val_loss: 1373.1019\n",
      "[Epoch: 69] Average loss: 1646.0103, val_loss: 1284.5798\n",
      "[Epoch: 70] Average loss: 1351.7159, val_loss: 1090.1459\n",
      "[Epoch: 71] Average loss: 1436.0186, val_loss: 1112.2278\n",
      "[Epoch: 72] Average loss: 1363.6125, val_loss: 1133.0645\n",
      "[Epoch: 73] Average loss: 1523.9250, val_loss: 1080.6740\n",
      "[Epoch: 74] Average loss: 1769.2748, val_loss: 1250.4836\n",
      "[Epoch: 75] Average loss: 1449.3386, val_loss: 1357.1987\n",
      "[Epoch: 76] Average loss: 1248.7483, val_loss: 1182.1382\n",
      "[Epoch: 77] Average loss: 1434.6447, val_loss: 1493.7377\n",
      "[Epoch: 78] Average loss: 1556.9894, val_loss: 945.4403\n",
      "[Epoch: 79] Average loss: 1351.3694, val_loss: 1211.7345\n",
      "[Epoch: 80] Average loss: 1131.6689, val_loss: 1033.3409\n",
      "[Epoch: 81] Average loss: 1264.2166, val_loss: 1406.3798\n",
      "[Epoch: 82] Average loss: 1233.7183, val_loss: 1043.0750\n",
      "[Epoch: 83] Average loss: 1260.7933, val_loss: 1464.4707\n",
      "[Epoch: 84] Average loss: 1382.6281, val_loss: 1085.1949\n",
      "[Epoch: 85] Average loss: 1549.5201, val_loss: 1194.1136\n",
      "[Epoch: 86] Average loss: 1133.1948, val_loss: 1764.3351\n",
      "[Epoch: 87] Average loss: 1281.4889, val_loss: 1333.7366\n",
      "[Epoch: 88] Average loss: 1235.2417, val_loss: 1247.3038\n",
      "[Epoch: 89] Average loss: 1370.8865, val_loss: 1185.1372\n",
      "[Epoch: 90] Average loss: 1267.7463, val_loss: 1075.1005\n",
      "[Epoch: 91] Average loss: 1309.7065, val_loss: 1107.6309\n",
      "[Epoch: 92] Average loss: 1210.7444, val_loss: 1326.8386\n",
      "[Epoch: 93] Average loss: 1276.7107, val_loss: 1238.9135\n",
      "[Epoch: 94] Average loss: 1044.8254, val_loss: 1107.3041\n",
      "[Epoch: 95] Average loss: 1333.6670, val_loss: 1242.5524\n",
      "[Epoch: 96] Average loss: 1313.6321, val_loss: 1034.6329\n",
      "[Epoch: 97] Average loss: 1221.5094, val_loss: 1563.0347\n",
      "[Epoch: 98] Average loss: 1240.5446, val_loss: 1495.1033\n",
      "[Epoch: 99] Average loss: 1304.5453, val_loss: 1128.3334\n",
      "[Epoch: 100] Average loss: 1022.9314, val_loss: 1103.3083\n",
      "[Epoch: 101] Average loss: 1185.2280, val_loss: 1098.0715\n",
      "[Epoch: 102] Average loss: 1095.1931, val_loss: 1099.6832\n",
      "[Epoch: 103] Average loss: 1142.0566, val_loss: 1150.3807\n",
      "[Epoch: 104] Average loss: 1068.5504, val_loss: 1061.5150\n",
      "[Epoch: 105] Average loss: 1075.8341, val_loss: 1014.4827\n",
      "[Epoch: 106] Average loss: 959.5560, val_loss: 1092.6299\n",
      "[Epoch: 107] Average loss: 1091.0153, val_loss: 1065.1161\n",
      "[Epoch: 108] Average loss: 984.8470, val_loss: 1094.2588\n",
      "[Epoch: 109] Average loss: 1127.6016, val_loss: 1292.4746\n",
      "[Epoch: 110] Average loss: 1350.2311, val_loss: 1080.7690\n",
      "[Epoch: 111] Average loss: 1176.4829, val_loss: 1327.0688\n",
      "[Epoch: 112] Average loss: 1165.1403, val_loss: 1025.9907\n",
      "[Epoch: 113] Average loss: 1235.3901, val_loss: 1202.9331\n",
      "[Epoch: 114] Average loss: 1318.5532, val_loss: 1160.2139\n",
      "[Epoch: 115] Average loss: 1079.9479, val_loss: 1052.2424\n",
      "[Epoch: 116] Average loss: 1038.4912, val_loss: 1050.2074\n",
      "[Epoch: 117] Average loss: 1081.0713, val_loss: 1363.7213\n",
      "[Epoch: 118] Average loss: 1188.2433, val_loss: 1077.5365\n",
      "[Epoch: 119] Average loss: 957.5906, val_loss: 1095.1144\n",
      "[Epoch: 120] Average loss: 1150.5653, val_loss: 1101.5746\n",
      "[Epoch: 121] Average loss: 960.0116, val_loss: 1130.0692\n",
      "[Epoch: 122] Average loss: 967.0121, val_loss: 1216.5029\n",
      "[Epoch: 123] Average loss: 1116.4421, val_loss: 993.0709\n",
      "[Epoch: 124] Average loss: 944.6913, val_loss: 1010.5854\n",
      "[Epoch: 125] Average loss: 1165.4828, val_loss: 1092.7902\n",
      "[Epoch: 126] Average loss: 1136.9181, val_loss: 1101.4435\n",
      "[Epoch: 127] Average loss: 910.1540, val_loss: 1083.1893\n",
      "[Epoch: 128] Average loss: 1014.0782, val_loss: 923.9500\n",
      "[Epoch: 129] Average loss: 1126.5031, val_loss: 1230.7800\n",
      "[Epoch: 130] Average loss: 1188.3536, val_loss: 1396.4420\n",
      "[Epoch: 131] Average loss: 1128.6757, val_loss: 923.2795\n",
      "[Epoch: 132] Average loss: 951.5474, val_loss: 1228.3998\n",
      "[Epoch: 133] Average loss: 894.8369, val_loss: 1108.2987\n",
      "[Epoch: 134] Average loss: 1000.2543, val_loss: 1106.6360\n",
      "[Epoch: 135] Average loss: 1213.3195, val_loss: 1065.6846\n",
      "[Epoch: 136] Average loss: 889.7669, val_loss: 1162.2041\n",
      "[Epoch: 137] Average loss: 917.7465, val_loss: 1074.3428\n",
      "[Epoch: 138] Average loss: 1035.5734, val_loss: 1059.3822\n",
      "[Epoch: 139] Average loss: 935.2196, val_loss: 1125.7333\n",
      "[Epoch: 140] Average loss: 1320.0477, val_loss: 1062.4919\n",
      "[Epoch: 141] Average loss: 947.8032, val_loss: 1121.0822\n",
      "[Epoch: 142] Average loss: 952.0463, val_loss: 1170.2900\n",
      "[Epoch: 143] Average loss: 1095.7257, val_loss: 1145.7933\n",
      "[Epoch: 144] Average loss: 1089.0503, val_loss: 1375.4087\n"
     ]
    },
    {
     "name": "stdout",
     "output_type": "stream",
     "text": [
      "[Epoch: 145] Average loss: 968.2820, val_loss: 1059.4656\n",
      "[Epoch: 146] Average loss: 935.7491, val_loss: 1039.0658\n",
      "[Epoch: 147] Average loss: 984.9876, val_loss: 1177.9874\n",
      "[Epoch: 148] Average loss: 862.7051, val_loss: 1082.5729\n",
      "[Epoch: 149] Average loss: 977.5236, val_loss: 1162.1870\n",
      "[Epoch: 150] Average loss: 1059.0511, val_loss: 870.0711\n",
      "[Epoch: 151] Average loss: 1025.2681, val_loss: 969.9929\n",
      "[Epoch: 152] Average loss: 1061.0885, val_loss: 992.2888\n",
      "[Epoch: 153] Average loss: 925.8545, val_loss: 1054.1577\n",
      "[Epoch: 154] Average loss: 1021.5060, val_loss: 878.8428\n",
      "[Epoch: 155] Average loss: 1059.3710, val_loss: 979.6429\n",
      "[Epoch: 156] Average loss: 795.2925, val_loss: 1010.6490\n",
      "[Epoch: 157] Average loss: 1038.3011, val_loss: 964.7927\n",
      "[Epoch: 158] Average loss: 1002.1500, val_loss: 1053.5774\n",
      "[Epoch: 159] Average loss: 1051.7643, val_loss: 989.0231\n",
      "[Epoch: 160] Average loss: 911.4944, val_loss: 1154.1691\n",
      "[Epoch: 161] Average loss: 1038.2906, val_loss: 1010.1223\n",
      "[Epoch: 162] Average loss: 1864.3015, val_loss: 1522.2819\n",
      "[Epoch: 163] Average loss: 1089.2852, val_loss: 1206.2134\n",
      "[Epoch: 164] Average loss: 1081.6511, val_loss: 966.0718\n",
      "[Epoch: 165] Average loss: 817.5350, val_loss: 997.6322\n",
      "[Epoch: 166] Average loss: 1005.5217, val_loss: 1225.4103\n",
      "[Epoch: 167] Average loss: 777.1630, val_loss: 999.8497\n",
      "[Epoch: 168] Average loss: 1112.6443, val_loss: 997.5149\n",
      "[Epoch: 169] Average loss: 920.4624, val_loss: 1130.1482\n",
      "[Epoch: 170] Average loss: 1002.7255, val_loss: 980.2776\n",
      "[Epoch: 171] Average loss: 1133.8828, val_loss: 1052.2404\n",
      "[Epoch: 172] Average loss: 2011.9808, val_loss: 1552.5433\n",
      "[Epoch: 173] Average loss: 887.0778, val_loss: 1138.2682\n",
      "[Epoch: 174] Average loss: 1031.2710, val_loss: 923.8754\n",
      "[Epoch: 175] Average loss: 731.3268, val_loss: 1056.8519\n",
      "[Epoch: 176] Average loss: 974.7470, val_loss: 1152.3624\n",
      "[Epoch: 177] Average loss: 914.1233, val_loss: 1150.4229\n",
      "[Epoch: 178] Average loss: 1057.6671, val_loss: 929.0153\n",
      "[Epoch: 179] Average loss: 926.1197, val_loss: 1029.9884\n",
      "[Epoch: 180] Average loss: 906.9921, val_loss: 952.3682\n",
      "[Epoch: 181] Average loss: 874.5627, val_loss: 1186.3036\n",
      "[Epoch: 182] Average loss: 982.8124, val_loss: 1039.8896\n",
      "[Epoch: 183] Average loss: 813.4932, val_loss: 987.9119\n",
      "[Epoch: 184] Average loss: 855.4681, val_loss: 1202.6255\n",
      "[Epoch: 185] Average loss: 804.2585, val_loss: 1067.3206\n",
      "[Epoch: 186] Average loss: 849.0771, val_loss: 942.7577\n",
      "[Epoch: 187] Average loss: 653.0779, val_loss: 933.8136\n",
      "[Epoch: 188] Average loss: 1440.6421, val_loss: 1258.7318\n",
      "[Epoch: 189] Average loss: 710.9106, val_loss: 1049.6111\n",
      "[Epoch: 190] Average loss: 961.6517, val_loss: 1052.8116\n",
      "[Epoch: 191] Average loss: 917.3160, val_loss: 1003.2104\n",
      "[Epoch: 192] Average loss: 909.8586, val_loss: 1086.6050\n",
      "[Epoch: 193] Average loss: 883.5812, val_loss: 1150.4883\n",
      "[Epoch: 194] Average loss: 919.1708, val_loss: 968.1962\n",
      "[Epoch: 195] Average loss: 616.0174, val_loss: 1033.0872\n",
      "[Epoch: 196] Average loss: 1172.2256, val_loss: 955.3813\n",
      "[Epoch: 197] Average loss: 805.6925, val_loss: 940.7547\n",
      "[Epoch: 198] Average loss: 920.1237, val_loss: 1025.5601\n",
      "[Epoch: 199] Average loss: 986.9437, val_loss: 986.9061\n",
      "[Epoch: 200] Average loss: 774.6729, val_loss: 888.7440\n"
     ]
    }
   ],
   "source": [
    "for epoch in range(epochs):\n",
    "    model.train()\n",
    "    criterion.train()\n",
    "    \n",
    "    avg_loss = 0\n",
    "\n",
    "    for X1, X2, Y in train_loader:\n",
    "        X1 = X1.to(device)\n",
    "        X2 = X2.to(device)\n",
    "        Y = Y.to(device)\n",
    "\n",
    "        model.zero_grad()\n",
    "        prediction = model(X1, X2)\n",
    "        loss = torch.sqrt(criterion(prediction, Y)).to(device)\n",
    "        loss.backward()\n",
    "        optimizer.step()\n",
    "        avg_loss += loss / len(train_loader)\n",
    "    print(f'[Epoch: {epoch+1:>2}] Average loss: {avg_loss:.4f}, ', end='')\n",
    "    \n",
    "    model.eval()\n",
    "    criterion.eval()\n",
    "    with torch.no_grad():\n",
    "        val_avg_loss = 0.\n",
    "        for X1_val, X2_val, Y_val in val_loader:\n",
    "            X1_val = X1_val.to(device)\n",
    "            X2_val = X2_val.to(device)\n",
    "            Y_val = Y_val.to(device)\n",
    "            val_prediction = model(X1_val, X2_val)\n",
    "            val_loss = torch.sqrt(criterion(val_prediction, Y_val)).to(device)\n",
    "            val_avg_loss += val_loss / len(val_loader)\n",
    "        \n",
    "        print(f\"val_loss: {val_avg_loss:.4f}\")"
   ]
  },
  {
   "cell_type": "code",
   "execution_count": 9,
   "id": "783b56f4",
   "metadata": {
    "ExecuteTime": {
     "end_time": "2022-02-24T09:37:36.286258Z",
     "start_time": "2022-02-24T09:37:36.240274Z"
    }
   },
   "outputs": [
    {
     "name": "stdout",
     "output_type": "stream",
     "text": [
      "Accuracy: 86.94%\n"
     ]
    }
   ],
   "source": [
    "model.eval()\n",
    "criterion.eval()\n",
    "ss_tot = 0\n",
    "ss_res = 0\n",
    "with torch.no_grad():\n",
    "    for X1_test, X2_test, Y_test in test_loader:\n",
    "        X1_test = X1_test.to(device)\n",
    "        X2_test = X2_test.to(device)\n",
    "        Y_test = Y_test.to(device)\n",
    "        prediction = model(X1_test, X2_test)\n",
    "        mean = torch.mean(Y_test)\n",
    "        ss_tot += torch.sum((Y_test - mean) ** 2)\n",
    "        ss_res += torch.sum((Y_test - prediction) ** 2)\n",
    "    \n",
    "    accuracy = 1 - ss_res/ss_tot\n",
    "    print(f\"Accuracy: {accuracy*100:.2f}%\")"
   ]
  }
 ],
 "metadata": {
  "kernelspec": {
   "display_name": "cuda",
   "language": "python",
   "name": "python-3-9-7"
  },
  "language_info": {
   "codemirror_mode": {
    "name": "ipython",
    "version": 3
   },
   "file_extension": ".py",
   "mimetype": "text/x-python",
   "name": "python",
   "nbconvert_exporter": "python",
   "pygments_lexer": "ipython3",
   "version": "3.9.7"
  }
 },
 "nbformat": 4,
 "nbformat_minor": 5
}
