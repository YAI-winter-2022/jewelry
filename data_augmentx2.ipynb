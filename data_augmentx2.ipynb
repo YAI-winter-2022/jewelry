{
 "cells": [
  {
   "cell_type": "code",
   "execution_count": 1,
   "metadata": {
    "ExecuteTime": {
     "end_time": "2022-02-26T10:04:26.928665Z",
     "start_time": "2022-02-26T10:04:26.116666Z"
    },
    "executionInfo": {
     "elapsed": 1951,
     "status": "ok",
     "timestamp": 1645858333068,
     "user": {
      "displayName": "석진혁(공과대학 기계공학)",
      "photoUrl": "https://lh3.googleusercontent.com/a/default-user=s64",
      "userId": "04829476984882153292"
     },
     "user_tz": -540
    },
    "id": "bXWpR7rdVF3Q"
   },
   "outputs": [],
   "source": [
    "import pandas as pd\n",
    "import cv2\n",
    "import albumentations as A"
   ]
  },
  {
   "cell_type": "code",
   "execution_count": 2,
   "metadata": {
    "ExecuteTime": {
     "end_time": "2022-02-26T10:04:26.944585Z",
     "start_time": "2022-02-26T10:04:26.928665Z"
    },
    "executionInfo": {
     "elapsed": 277,
     "status": "ok",
     "timestamp": 1645858574220,
     "user": {
      "displayName": "석진혁(공과대학 기계공학)",
      "photoUrl": "https://lh3.googleusercontent.com/a/default-user=s64",
      "userId": "04829476984882153292"
     },
     "user_tz": -540
    },
    "id": "gofriPU0QEwv"
   },
   "outputs": [],
   "source": [
    "image_path = './imagesx2'\n",
    "csv_path = './train.csv'"
   ]
  },
  {
   "cell_type": "code",
   "execution_count": 3,
   "metadata": {
    "ExecuteTime": {
     "end_time": "2022-02-26T10:04:27.084247Z",
     "start_time": "2022-02-26T10:04:26.945551Z"
    },
    "colab": {
     "base_uri": "https://localhost:8080/"
    },
    "executionInfo": {
     "elapsed": 716,
     "status": "ok",
     "timestamp": 1645858579639,
     "user": {
      "displayName": "석진혁(공과대학 기계공학)",
      "photoUrl": "https://lh3.googleusercontent.com/a/default-user=s64",
      "userId": "04829476984882153292"
     },
     "user_tz": -540
    },
    "id": "2_llzSs3VIcn",
    "outputId": "9bc1366f-d071-4ed2-da17-be77a4e2d196"
   },
   "outputs": [
    {
     "name": "stdout",
     "output_type": "stream",
     "text": [
      "2823\n"
     ]
    }
   ],
   "source": [
    "train_csv = pd.read_csv(csv_path)\n",
    "print(len(train_csv))"
   ]
  },
  {
   "cell_type": "code",
   "execution_count": 4,
   "metadata": {
    "ExecuteTime": {
     "end_time": "2022-02-26T10:04:27.099776Z",
     "start_time": "2022-02-26T10:04:27.085244Z"
    },
    "colab": {
     "base_uri": "https://localhost:8080/"
    },
    "executionInfo": {
     "elapsed": 284,
     "status": "ok",
     "timestamp": 1645858605442,
     "user": {
      "displayName": "석진혁(공과대학 기계공학)",
      "photoUrl": "https://lh3.googleusercontent.com/a/default-user=s64",
      "userId": "04829476984882153292"
     },
     "user_tz": -540
    },
    "id": "ZD0ooeO4VKZs",
    "outputId": "39d74ab3-e251-4ac5-fd8c-db8402a6a8c1"
   },
   "outputs": [
    {
     "name": "stdout",
     "output_type": "stream",
     "text": [
      "20000$이상 보석 개수 :  17\n"
     ]
    }
   ],
   "source": [
    "print(\"20000$이상 보석 개수 : \",len(train_csv[train_csv['Price']>20000]))"
   ]
  },
  {
   "cell_type": "code",
   "execution_count": 5,
   "metadata": {
    "ExecuteTime": {
     "end_time": "2022-02-26T10:04:27.838844Z",
     "start_time": "2022-02-26T10:04:27.100774Z"
    },
    "colab": {
     "base_uri": "https://localhost:8080/"
    },
    "executionInfo": {
     "elapsed": 742,
     "status": "ok",
     "timestamp": 1645858651556,
     "user": {
      "displayName": "석진혁(공과대학 기계공학)",
      "photoUrl": "https://lh3.googleusercontent.com/a/default-user=s64",
      "userId": "04829476984882153292"
     },
     "user_tz": -540
    },
    "id": "eC9xuTIQVtbS",
    "outputId": "13d87061-890b-4eef-a5b1-1c5a53905b8f"
   },
   "outputs": [
    {
     "name": "stdout",
     "output_type": "stream",
     "text": [
      "200705-2\n"
     ]
    },
    {
     "name": "stderr",
     "output_type": "stream",
     "text": [
      "C:\\Users\\user\\AppData\\Local\\Temp/ipykernel_18636/3482375441.py:18: SettingWithCopyWarning: \n",
      "A value is trying to be set on a copy of a slice from a DataFrame\n",
      "\n",
      "See the caveats in the documentation: https://pandas.pydata.org/pandas-docs/stable/user_guide/indexing.html#returning-a-view-versus-a-copy\n",
      "  train_csv_add['Id'] = id + '_hflip'\n",
      "C:\\Users\\user\\AppData\\Local\\Temp/ipykernel_18636/3482375441.py:19: FutureWarning: The frame.append method is deprecated and will be removed from pandas in a future version. Use pandas.concat instead.\n",
      "  train_csv = train_csv.append(train_csv_add, ignore_index = True)\n",
      "C:\\Users\\user\\AppData\\Local\\Temp/ipykernel_18636/3482375441.py:18: SettingWithCopyWarning: \n",
      "A value is trying to be set on a copy of a slice from a DataFrame\n",
      "\n",
      "See the caveats in the documentation: https://pandas.pydata.org/pandas-docs/stable/user_guide/indexing.html#returning-a-view-versus-a-copy\n",
      "  train_csv_add['Id'] = id + '_hflip'\n",
      "C:\\Users\\user\\AppData\\Local\\Temp/ipykernel_18636/3482375441.py:19: FutureWarning: The frame.append method is deprecated and will be removed from pandas in a future version. Use pandas.concat instead.\n",
      "  train_csv = train_csv.append(train_csv_add, ignore_index = True)\n",
      "C:\\Users\\user\\AppData\\Local\\Temp/ipykernel_18636/3482375441.py:18: SettingWithCopyWarning: \n",
      "A value is trying to be set on a copy of a slice from a DataFrame\n",
      "\n",
      "See the caveats in the documentation: https://pandas.pydata.org/pandas-docs/stable/user_guide/indexing.html#returning-a-view-versus-a-copy\n",
      "  train_csv_add['Id'] = id + '_hflip'\n",
      "C:\\Users\\user\\AppData\\Local\\Temp/ipykernel_18636/3482375441.py:19: FutureWarning: The frame.append method is deprecated and will be removed from pandas in a future version. Use pandas.concat instead.\n",
      "  train_csv = train_csv.append(train_csv_add, ignore_index = True)\n",
      "C:\\Users\\user\\AppData\\Local\\Temp/ipykernel_18636/3482375441.py:18: SettingWithCopyWarning: \n",
      "A value is trying to be set on a copy of a slice from a DataFrame\n",
      "\n",
      "See the caveats in the documentation: https://pandas.pydata.org/pandas-docs/stable/user_guide/indexing.html#returning-a-view-versus-a-copy\n",
      "  train_csv_add['Id'] = id + '_hflip'\n",
      "C:\\Users\\user\\AppData\\Local\\Temp/ipykernel_18636/3482375441.py:19: FutureWarning: The frame.append method is deprecated and will be removed from pandas in a future version. Use pandas.concat instead.\n",
      "  train_csv = train_csv.append(train_csv_add, ignore_index = True)\n",
      "C:\\Users\\user\\AppData\\Local\\Temp/ipykernel_18636/3482375441.py:18: SettingWithCopyWarning: \n",
      "A value is trying to be set on a copy of a slice from a DataFrame\n",
      "\n",
      "See the caveats in the documentation: https://pandas.pydata.org/pandas-docs/stable/user_guide/indexing.html#returning-a-view-versus-a-copy\n",
      "  train_csv_add['Id'] = id + '_hflip'\n",
      "C:\\Users\\user\\AppData\\Local\\Temp/ipykernel_18636/3482375441.py:19: FutureWarning: The frame.append method is deprecated and will be removed from pandas in a future version. Use pandas.concat instead.\n",
      "  train_csv = train_csv.append(train_csv_add, ignore_index = True)\n",
      "C:\\Users\\user\\AppData\\Local\\Temp/ipykernel_18636/3482375441.py:18: SettingWithCopyWarning: \n",
      "A value is trying to be set on a copy of a slice from a DataFrame\n",
      "\n",
      "See the caveats in the documentation: https://pandas.pydata.org/pandas-docs/stable/user_guide/indexing.html#returning-a-view-versus-a-copy\n",
      "  train_csv_add['Id'] = id + '_hflip'\n",
      "C:\\Users\\user\\AppData\\Local\\Temp/ipykernel_18636/3482375441.py:19: FutureWarning: The frame.append method is deprecated and will be removed from pandas in a future version. Use pandas.concat instead.\n",
      "  train_csv = train_csv.append(train_csv_add, ignore_index = True)\n",
      "C:\\Users\\user\\AppData\\Local\\Temp/ipykernel_18636/3482375441.py:18: SettingWithCopyWarning: \n",
      "A value is trying to be set on a copy of a slice from a DataFrame\n",
      "\n",
      "See the caveats in the documentation: https://pandas.pydata.org/pandas-docs/stable/user_guide/indexing.html#returning-a-view-versus-a-copy\n",
      "  train_csv_add['Id'] = id + '_hflip'\n",
      "C:\\Users\\user\\AppData\\Local\\Temp/ipykernel_18636/3482375441.py:19: FutureWarning: The frame.append method is deprecated and will be removed from pandas in a future version. Use pandas.concat instead.\n",
      "  train_csv = train_csv.append(train_csv_add, ignore_index = True)\n",
      "C:\\Users\\user\\AppData\\Local\\Temp/ipykernel_18636/3482375441.py:18: SettingWithCopyWarning: \n",
      "A value is trying to be set on a copy of a slice from a DataFrame\n",
      "\n",
      "See the caveats in the documentation: https://pandas.pydata.org/pandas-docs/stable/user_guide/indexing.html#returning-a-view-versus-a-copy\n",
      "  train_csv_add['Id'] = id + '_hflip'\n",
      "C:\\Users\\user\\AppData\\Local\\Temp/ipykernel_18636/3482375441.py:19: FutureWarning: The frame.append method is deprecated and will be removed from pandas in a future version. Use pandas.concat instead.\n",
      "  train_csv = train_csv.append(train_csv_add, ignore_index = True)\n",
      "C:\\Users\\user\\AppData\\Local\\Temp/ipykernel_18636/3482375441.py:18: SettingWithCopyWarning: \n",
      "A value is trying to be set on a copy of a slice from a DataFrame\n",
      "\n",
      "See the caveats in the documentation: https://pandas.pydata.org/pandas-docs/stable/user_guide/indexing.html#returning-a-view-versus-a-copy\n",
      "  train_csv_add['Id'] = id + '_hflip'\n",
      "C:\\Users\\user\\AppData\\Local\\Temp/ipykernel_18636/3482375441.py:19: FutureWarning: The frame.append method is deprecated and will be removed from pandas in a future version. Use pandas.concat instead.\n",
      "  train_csv = train_csv.append(train_csv_add, ignore_index = True)\n",
      "C:\\Users\\user\\AppData\\Local\\Temp/ipykernel_18636/3482375441.py:18: SettingWithCopyWarning: \n",
      "A value is trying to be set on a copy of a slice from a DataFrame\n",
      "\n",
      "See the caveats in the documentation: https://pandas.pydata.org/pandas-docs/stable/user_guide/indexing.html#returning-a-view-versus-a-copy\n",
      "  train_csv_add['Id'] = id + '_hflip'\n",
      "C:\\Users\\user\\AppData\\Local\\Temp/ipykernel_18636/3482375441.py:19: FutureWarning: The frame.append method is deprecated and will be removed from pandas in a future version. Use pandas.concat instead.\n",
      "  train_csv = train_csv.append(train_csv_add, ignore_index = True)\n"
     ]
    },
    {
     "name": "stdout",
     "output_type": "stream",
     "text": [
      "200723-27\n",
      "201223-84\n",
      "200807-308\n",
      "200498-62\n",
      "201196-1\n",
      "200652-17\n",
      "200802-35\n",
      "200802-42\n",
      "200705-4\n",
      "NY180424-54\n",
      "201037-161\n",
      "210042-119\n",
      "200518-333\n",
      "200712-296\n",
      "201196-18\n",
      "200763-184\n"
     ]
    },
    {
     "name": "stderr",
     "output_type": "stream",
     "text": [
      "C:\\Users\\user\\AppData\\Local\\Temp/ipykernel_18636/3482375441.py:18: SettingWithCopyWarning: \n",
      "A value is trying to be set on a copy of a slice from a DataFrame\n",
      "\n",
      "See the caveats in the documentation: https://pandas.pydata.org/pandas-docs/stable/user_guide/indexing.html#returning-a-view-versus-a-copy\n",
      "  train_csv_add['Id'] = id + '_hflip'\n",
      "C:\\Users\\user\\AppData\\Local\\Temp/ipykernel_18636/3482375441.py:19: FutureWarning: The frame.append method is deprecated and will be removed from pandas in a future version. Use pandas.concat instead.\n",
      "  train_csv = train_csv.append(train_csv_add, ignore_index = True)\n",
      "C:\\Users\\user\\AppData\\Local\\Temp/ipykernel_18636/3482375441.py:18: SettingWithCopyWarning: \n",
      "A value is trying to be set on a copy of a slice from a DataFrame\n",
      "\n",
      "See the caveats in the documentation: https://pandas.pydata.org/pandas-docs/stable/user_guide/indexing.html#returning-a-view-versus-a-copy\n",
      "  train_csv_add['Id'] = id + '_hflip'\n",
      "C:\\Users\\user\\AppData\\Local\\Temp/ipykernel_18636/3482375441.py:19: FutureWarning: The frame.append method is deprecated and will be removed from pandas in a future version. Use pandas.concat instead.\n",
      "  train_csv = train_csv.append(train_csv_add, ignore_index = True)\n",
      "C:\\Users\\user\\AppData\\Local\\Temp/ipykernel_18636/3482375441.py:18: SettingWithCopyWarning: \n",
      "A value is trying to be set on a copy of a slice from a DataFrame\n",
      "\n",
      "See the caveats in the documentation: https://pandas.pydata.org/pandas-docs/stable/user_guide/indexing.html#returning-a-view-versus-a-copy\n",
      "  train_csv_add['Id'] = id + '_hflip'\n",
      "C:\\Users\\user\\AppData\\Local\\Temp/ipykernel_18636/3482375441.py:19: FutureWarning: The frame.append method is deprecated and will be removed from pandas in a future version. Use pandas.concat instead.\n",
      "  train_csv = train_csv.append(train_csv_add, ignore_index = True)\n",
      "C:\\Users\\user\\AppData\\Local\\Temp/ipykernel_18636/3482375441.py:18: SettingWithCopyWarning: \n",
      "A value is trying to be set on a copy of a slice from a DataFrame\n",
      "\n",
      "See the caveats in the documentation: https://pandas.pydata.org/pandas-docs/stable/user_guide/indexing.html#returning-a-view-versus-a-copy\n",
      "  train_csv_add['Id'] = id + '_hflip'\n",
      "C:\\Users\\user\\AppData\\Local\\Temp/ipykernel_18636/3482375441.py:19: FutureWarning: The frame.append method is deprecated and will be removed from pandas in a future version. Use pandas.concat instead.\n",
      "  train_csv = train_csv.append(train_csv_add, ignore_index = True)\n",
      "C:\\Users\\user\\AppData\\Local\\Temp/ipykernel_18636/3482375441.py:18: SettingWithCopyWarning: \n",
      "A value is trying to be set on a copy of a slice from a DataFrame\n",
      "\n",
      "See the caveats in the documentation: https://pandas.pydata.org/pandas-docs/stable/user_guide/indexing.html#returning-a-view-versus-a-copy\n",
      "  train_csv_add['Id'] = id + '_hflip'\n",
      "C:\\Users\\user\\AppData\\Local\\Temp/ipykernel_18636/3482375441.py:19: FutureWarning: The frame.append method is deprecated and will be removed from pandas in a future version. Use pandas.concat instead.\n",
      "  train_csv = train_csv.append(train_csv_add, ignore_index = True)\n",
      "C:\\Users\\user\\AppData\\Local\\Temp/ipykernel_18636/3482375441.py:18: SettingWithCopyWarning: \n",
      "A value is trying to be set on a copy of a slice from a DataFrame\n",
      "\n",
      "See the caveats in the documentation: https://pandas.pydata.org/pandas-docs/stable/user_guide/indexing.html#returning-a-view-versus-a-copy\n",
      "  train_csv_add['Id'] = id + '_hflip'\n",
      "C:\\Users\\user\\AppData\\Local\\Temp/ipykernel_18636/3482375441.py:19: FutureWarning: The frame.append method is deprecated and will be removed from pandas in a future version. Use pandas.concat instead.\n",
      "  train_csv = train_csv.append(train_csv_add, ignore_index = True)\n",
      "C:\\Users\\user\\AppData\\Local\\Temp/ipykernel_18636/3482375441.py:18: SettingWithCopyWarning: \n",
      "A value is trying to be set on a copy of a slice from a DataFrame\n",
      "\n",
      "See the caveats in the documentation: https://pandas.pydata.org/pandas-docs/stable/user_guide/indexing.html#returning-a-view-versus-a-copy\n",
      "  train_csv_add['Id'] = id + '_hflip'\n",
      "C:\\Users\\user\\AppData\\Local\\Temp/ipykernel_18636/3482375441.py:19: FutureWarning: The frame.append method is deprecated and will be removed from pandas in a future version. Use pandas.concat instead.\n",
      "  train_csv = train_csv.append(train_csv_add, ignore_index = True)\n"
     ]
    }
   ],
   "source": [
    "length = len(train_csv)\n",
    "for i in range(length):\n",
    "    if train_csv['Price'].iloc[i] < 20000:\n",
    "        continue\n",
    "    id = train_csv['Id'].iloc[i]\n",
    "    image = image_path + '/' + id +'.jpg'\n",
    "    image = cv2.imread(image)\n",
    "    image = cv2.cvtColor(image, cv2.COLOR_BGR2RGB)\n",
    "    transform1 = A.Compose([\n",
    "           A.HorizontalFlip(always_apply=False, p=1.0)\n",
    "                               ])\n",
    "\n",
    "    print(id)\n",
    "    image_hflip = transform1(image=image)['image']\n",
    "    cv2.imwrite(image_path + '/' + id + '_hflip.jpg',image_hflip)\n",
    "\n",
    "    train_csv_add = train_csv.iloc[i]\n",
    "    train_csv_add['Id'] = id + '_hflip'\n",
    "    train_csv = train_csv.append(train_csv_add, ignore_index = True)"
   ]
  },
  {
   "cell_type": "code",
   "execution_count": 6,
   "metadata": {
    "ExecuteTime": {
     "end_time": "2022-02-26T10:04:27.854349Z",
     "start_time": "2022-02-26T10:04:27.839842Z"
    },
    "colab": {
     "base_uri": "https://localhost:8080/"
    },
    "executionInfo": {
     "elapsed": 393,
     "status": "ok",
     "timestamp": 1645858678382,
     "user": {
      "displayName": "석진혁(공과대학 기계공학)",
      "photoUrl": "https://lh3.googleusercontent.com/a/default-user=s64",
      "userId": "04829476984882153292"
     },
     "user_tz": -540
    },
    "id": "eJaoc5-UVhaj",
    "outputId": "bef653f8-43a7-4e4a-f10f-0dd2d9eccb33"
   },
   "outputs": [
    {
     "name": "stdout",
     "output_type": "stream",
     "text": [
      "20000$이상 보석 개수 :  34\n"
     ]
    }
   ],
   "source": [
    "print(\"20000$이상 보석 개수 : \",len(train_csv[train_csv['Price']>20000]))"
   ]
  },
  {
   "cell_type": "code",
   "execution_count": 10,
   "metadata": {
    "ExecuteTime": {
     "end_time": "2022-02-26T10:11:24.165019Z",
     "start_time": "2022-02-26T10:11:24.149062Z"
    },
    "executionInfo": {
     "elapsed": 294,
     "status": "ok",
     "timestamp": 1645858834865,
     "user": {
      "displayName": "석진혁(공과대학 기계공학)",
      "photoUrl": "https://lh3.googleusercontent.com/a/default-user=s64",
      "userId": "04829476984882153292"
     },
     "user_tz": -540
    },
    "id": "Q64wG4jRi6fg"
   },
   "outputs": [],
   "source": [
    "#다른 파일로 저장\n",
    "train_csv.to_csv('trainx2.csv', index=False)"
   ]
  },
  {
   "cell_type": "code",
   "execution_count": 8,
   "metadata": {
    "ExecuteTime": {
     "end_time": "2022-02-26T10:04:27.886263Z",
     "start_time": "2022-02-26T10:04:27.871303Z"
    },
    "colab": {
     "base_uri": "https://localhost:8080/"
    },
    "executionInfo": {
     "elapsed": 288,
     "status": "ok",
     "timestamp": 1645859009655,
     "user": {
      "displayName": "석진혁(공과대학 기계공학)",
      "photoUrl": "https://lh3.googleusercontent.com/a/default-user=s64",
      "userId": "04829476984882153292"
     },
     "user_tz": -540
    },
    "id": "ct9CMulG1xT4",
    "outputId": "755f479c-8fa3-46d1-e737-e8cfc516a483"
   },
   "outputs": [
    {
     "name": "stdout",
     "output_type": "stream",
     "text": [
      "2840\n"
     ]
    }
   ],
   "source": [
    "train_csv2 = pd.read_csv('trainx2.csv')\n",
    "print(len(train_csv2))"
   ]
  },
  {
   "cell_type": "code",
   "execution_count": 9,
   "metadata": {
    "ExecuteTime": {
     "end_time": "2022-02-26T10:09:41.435876Z",
     "start_time": "2022-02-26T10:09:41.412937Z"
    }
   },
   "outputs": [
    {
     "data": {
      "text/html": [
       "<div>\n",
       "<style scoped>\n",
       "    .dataframe tbody tr th:only-of-type {\n",
       "        vertical-align: middle;\n",
       "    }\n",
       "\n",
       "    .dataframe tbody tr th {\n",
       "        vertical-align: top;\n",
       "    }\n",
       "\n",
       "    .dataframe thead th {\n",
       "        text-align: right;\n",
       "    }\n",
       "</style>\n",
       "<table border=\"1\" class=\"dataframe\">\n",
       "  <thead>\n",
       "    <tr style=\"text-align: right;\">\n",
       "      <th></th>\n",
       "      <th>Id</th>\n",
       "      <th>Shape</th>\n",
       "      <th>Weight</th>\n",
       "      <th>Clarity</th>\n",
       "      <th>Colour</th>\n",
       "      <th>Cut</th>\n",
       "      <th>Polish</th>\n",
       "      <th>Symmetry</th>\n",
       "      <th>Fluorescence</th>\n",
       "      <th>Length</th>\n",
       "      <th>Width</th>\n",
       "      <th>Depth</th>\n",
       "      <th>Price</th>\n",
       "    </tr>\n",
       "  </thead>\n",
       "  <tbody>\n",
       "    <tr>\n",
       "      <th>0</th>\n",
       "      <td>1667147</td>\n",
       "      <td>CUSHION</td>\n",
       "      <td>0.75</td>\n",
       "      <td>SI2</td>\n",
       "      <td>G</td>\n",
       "      <td>EX</td>\n",
       "      <td>EX</td>\n",
       "      <td>GD</td>\n",
       "      <td>N</td>\n",
       "      <td>5.70</td>\n",
       "      <td>4.86</td>\n",
       "      <td>3.29</td>\n",
       "      <td>2296.25</td>\n",
       "    </tr>\n",
       "    <tr>\n",
       "      <th>1</th>\n",
       "      <td>1786495</td>\n",
       "      <td>EMERALD</td>\n",
       "      <td>0.41</td>\n",
       "      <td>IF</td>\n",
       "      <td>G</td>\n",
       "      <td>EX</td>\n",
       "      <td>EX</td>\n",
       "      <td>GD</td>\n",
       "      <td>N</td>\n",
       "      <td>4.89</td>\n",
       "      <td>3.61</td>\n",
       "      <td>2.43</td>\n",
       "      <td>1273.53</td>\n",
       "    </tr>\n",
       "    <tr>\n",
       "      <th>2</th>\n",
       "      <td>200722-12</td>\n",
       "      <td>CUSHION</td>\n",
       "      <td>1.70</td>\n",
       "      <td>SI1</td>\n",
       "      <td>H</td>\n",
       "      <td>EX</td>\n",
       "      <td>EX</td>\n",
       "      <td>EX</td>\n",
       "      <td>N</td>\n",
       "      <td>6.90</td>\n",
       "      <td>6.75</td>\n",
       "      <td>4.55</td>\n",
       "      <td>13164.25</td>\n",
       "    </tr>\n",
       "    <tr>\n",
       "      <th>3</th>\n",
       "      <td>1649864</td>\n",
       "      <td>ROUND</td>\n",
       "      <td>0.51</td>\n",
       "      <td>SI2</td>\n",
       "      <td>J</td>\n",
       "      <td>EX</td>\n",
       "      <td>EX</td>\n",
       "      <td>EX</td>\n",
       "      <td>M</td>\n",
       "      <td>5.07</td>\n",
       "      <td>5.10</td>\n",
       "      <td>3.18</td>\n",
       "      <td>1508.15</td>\n",
       "    </tr>\n",
       "    <tr>\n",
       "      <th>4</th>\n",
       "      <td>1658975</td>\n",
       "      <td>EMERALD</td>\n",
       "      <td>0.50</td>\n",
       "      <td>SI1</td>\n",
       "      <td>I</td>\n",
       "      <td>EX</td>\n",
       "      <td>VG</td>\n",
       "      <td>VG</td>\n",
       "      <td>N</td>\n",
       "      <td>5.34</td>\n",
       "      <td>3.86</td>\n",
       "      <td>2.53</td>\n",
       "      <td>1199.94</td>\n",
       "    </tr>\n",
       "  </tbody>\n",
       "</table>\n",
       "</div>"
      ],
      "text/plain": [
       "          Id    Shape  Weight Clarity Colour Cut Polish Symmetry Fluorescence  \\\n",
       "0    1667147  CUSHION    0.75     SI2      G  EX     EX       GD            N   \n",
       "1    1786495  EMERALD    0.41      IF      G  EX     EX       GD            N   \n",
       "2  200722-12  CUSHION    1.70     SI1      H  EX     EX       EX            N   \n",
       "3    1649864    ROUND    0.51     SI2      J  EX     EX       EX            M   \n",
       "4    1658975  EMERALD    0.50     SI1      I  EX     VG       VG            N   \n",
       "\n",
       "   Length  Width  Depth     Price  \n",
       "0    5.70   4.86   3.29   2296.25  \n",
       "1    4.89   3.61   2.43   1273.53  \n",
       "2    6.90   6.75   4.55  13164.25  \n",
       "3    5.07   5.10   3.18   1508.15  \n",
       "4    5.34   3.86   2.53   1199.94  "
      ]
     },
     "execution_count": 9,
     "metadata": {},
     "output_type": "execute_result"
    }
   ],
   "source": [
    "train_csv.head()"
   ]
  }
 ],
 "metadata": {
  "colab": {
   "authorship_tag": "ABX9TyMXibM2C2vf2uEHlpC/2VnK",
   "collapsed_sections": [],
   "name": "data_augmentx2.ipynb",
   "provenance": [
    {
     "file_id": "1PhjEvu3vMH-gJss8MPwKf4HjwY8PmtX8",
     "timestamp": 1645857482610
    }
   ]
  },
  "kernelspec": {
   "display_name": "Python 3 (ipykernel)",
   "language": "python",
   "name": "python3"
  },
  "language_info": {
   "codemirror_mode": {
    "name": "ipython",
    "version": 3
   },
   "file_extension": ".py",
   "mimetype": "text/x-python",
   "name": "python",
   "nbconvert_exporter": "python",
   "pygments_lexer": "ipython3",
   "version": "3.9.7"
  }
 },
 "nbformat": 4,
 "nbformat_minor": 1
}
