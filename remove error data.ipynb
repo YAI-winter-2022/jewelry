{
 "cells": [
  {
   "cell_type": "code",
   "execution_count": 1,
   "id": "e2aafd35",
   "metadata": {
    "ExecuteTime": {
     "end_time": "2022-02-18T20:26:27.362731Z",
     "start_time": "2022-02-18T20:26:27.120824Z"
    }
   },
   "outputs": [],
   "source": [
    "import pandas as pd\n",
    "import numpy as np"
   ]
  },
  {
   "cell_type": "code",
   "execution_count": 2,
   "id": "f222e1a3",
   "metadata": {
    "ExecuteTime": {
     "end_time": "2022-02-18T20:26:49.866583Z",
     "start_time": "2022-02-18T20:26:49.840652Z"
    }
   },
   "outputs": [
    {
     "data": {
      "text/html": [
       "<div>\n",
       "<style scoped>\n",
       "    .dataframe tbody tr th:only-of-type {\n",
       "        vertical-align: middle;\n",
       "    }\n",
       "\n",
       "    .dataframe tbody tr th {\n",
       "        vertical-align: top;\n",
       "    }\n",
       "\n",
       "    .dataframe thead th {\n",
       "        text-align: right;\n",
       "    }\n",
       "</style>\n",
       "<table border=\"1\" class=\"dataframe\">\n",
       "  <thead>\n",
       "    <tr style=\"text-align: right;\">\n",
       "      <th></th>\n",
       "      <th>Id</th>\n",
       "      <th>Shape</th>\n",
       "      <th>Weight</th>\n",
       "      <th>Clarity</th>\n",
       "      <th>Colour</th>\n",
       "      <th>Cut</th>\n",
       "      <th>Polish</th>\n",
       "      <th>Symmetry</th>\n",
       "      <th>Fluorescence</th>\n",
       "      <th>Length</th>\n",
       "      <th>Width</th>\n",
       "      <th>Depth</th>\n",
       "      <th>Price</th>\n",
       "    </tr>\n",
       "  </thead>\n",
       "  <tbody>\n",
       "    <tr>\n",
       "      <th>0</th>\n",
       "      <td>111000-5962</td>\n",
       "      <td>CUSHION</td>\n",
       "      <td>1.01</td>\n",
       "      <td>I2</td>\n",
       "      <td>FANCY</td>\n",
       "      <td>EX</td>\n",
       "      <td>VG</td>\n",
       "      <td>VG</td>\n",
       "      <td>N</td>\n",
       "      <td>5.89</td>\n",
       "      <td>5.63</td>\n",
       "      <td>3.53</td>\n",
       "      <td>1155.27</td>\n",
       "    </tr>\n",
       "    <tr>\n",
       "      <th>1</th>\n",
       "      <td>111000-6281</td>\n",
       "      <td>CUSHION</td>\n",
       "      <td>1.19</td>\n",
       "      <td>I2</td>\n",
       "      <td>FANCY</td>\n",
       "      <td>EX</td>\n",
       "      <td>VG</td>\n",
       "      <td>GD</td>\n",
       "      <td>M</td>\n",
       "      <td>5.97</td>\n",
       "      <td>5.59</td>\n",
       "      <td>3.80</td>\n",
       "      <td>3638.36</td>\n",
       "    </tr>\n",
       "    <tr>\n",
       "      <th>2</th>\n",
       "      <td>111000-6305</td>\n",
       "      <td>OVAL</td>\n",
       "      <td>1.00</td>\n",
       "      <td>SI2</td>\n",
       "      <td>U-V</td>\n",
       "      <td>EX</td>\n",
       "      <td>EX</td>\n",
       "      <td>VG</td>\n",
       "      <td>M</td>\n",
       "      <td>8.47</td>\n",
       "      <td>5.39</td>\n",
       "      <td>3.42</td>\n",
       "      <td>2237.73</td>\n",
       "    </tr>\n",
       "    <tr>\n",
       "      <th>3</th>\n",
       "      <td>111000-6320</td>\n",
       "      <td>PEAR</td>\n",
       "      <td>1.01</td>\n",
       "      <td>SI2</td>\n",
       "      <td>E</td>\n",
       "      <td>EX</td>\n",
       "      <td>VG</td>\n",
       "      <td>VG</td>\n",
       "      <td>N</td>\n",
       "      <td>9.39</td>\n",
       "      <td>5.52</td>\n",
       "      <td>3.24</td>\n",
       "      <td>2953.85</td>\n",
       "    </tr>\n",
       "    <tr>\n",
       "      <th>4</th>\n",
       "      <td>111000-6368</td>\n",
       "      <td>CUSHION</td>\n",
       "      <td>1.01</td>\n",
       "      <td>SI2</td>\n",
       "      <td>FANCY</td>\n",
       "      <td>VG</td>\n",
       "      <td>VG</td>\n",
       "      <td>GD</td>\n",
       "      <td>ST</td>\n",
       "      <td>6.10</td>\n",
       "      <td>5.36</td>\n",
       "      <td>3.48</td>\n",
       "      <td>2241.67</td>\n",
       "    </tr>\n",
       "  </tbody>\n",
       "</table>\n",
       "</div>"
      ],
      "text/plain": [
       "            Id    Shape  Weight Clarity Colour Cut Polish Symmetry  \\\n",
       "0  111000-5962  CUSHION    1.01      I2  FANCY  EX     VG       VG   \n",
       "1  111000-6281  CUSHION    1.19      I2  FANCY  EX     VG       GD   \n",
       "2  111000-6305     OVAL    1.00     SI2    U-V  EX     EX       VG   \n",
       "3  111000-6320     PEAR    1.01     SI2      E  EX     VG       VG   \n",
       "4  111000-6368  CUSHION    1.01     SI2  FANCY  VG     VG       GD   \n",
       "\n",
       "  Fluorescence  Length  Width  Depth    Price  \n",
       "0            N    5.89   5.63   3.53  1155.27  \n",
       "1            M    5.97   5.59   3.80  3638.36  \n",
       "2            M    8.47   5.39   3.42  2237.73  \n",
       "3            N    9.39   5.52   3.24  2953.85  \n",
       "4           ST    6.10   5.36   3.48  2241.67  "
      ]
     },
     "execution_count": 2,
     "metadata": {},
     "output_type": "execute_result"
    }
   ],
   "source": [
    "data = pd.read_csv(\"total_without_png.csv\")\n",
    "data.head()"
   ]
  },
  {
   "cell_type": "code",
   "execution_count": 6,
   "id": "266fe5c3",
   "metadata": {
    "ExecuteTime": {
     "end_time": "2022-02-18T20:28:28.763071Z",
     "start_time": "2022-02-18T20:28:28.721135Z"
    }
   },
   "outputs": [
    {
     "name": "stdout",
     "output_type": "stream",
     "text": [
      "219 1610237\n"
     ]
    }
   ],
   "source": [
    "for i in range(len(data) - 1):\n",
    "    if data[\"Id\"][i] == data[\"Id\"][i+1]:\n",
    "        print(i, data[\"Id\"][i])"
   ]
  },
  {
   "cell_type": "code",
   "execution_count": 8,
   "id": "aa219a78",
   "metadata": {
    "ExecuteTime": {
     "end_time": "2022-02-18T20:31:14.291381Z",
     "start_time": "2022-02-18T20:31:14.281408Z"
    }
   },
   "outputs": [
    {
     "data": {
      "text/plain": [
       "89"
      ]
     },
     "execution_count": 8,
     "metadata": {},
     "output_type": "execute_result"
    }
   ],
   "source": [
    "file = open(\"total_without_png.csv\", \"r\")\n",
    "output = open(\"final.csv\", \"w\")\n",
    "output.write(file.readlines()[0])"
   ]
  },
  {
   "cell_type": "code",
   "execution_count": 9,
   "id": "78c5cd05",
   "metadata": {
    "ExecuteTime": {
     "end_time": "2022-02-18T20:31:22.437322Z",
     "start_time": "2022-02-18T20:31:22.432335Z"
    }
   },
   "outputs": [],
   "source": [
    "file.close()"
   ]
  },
  {
   "cell_type": "code",
   "execution_count": 10,
   "id": "014ffbbd",
   "metadata": {
    "ExecuteTime": {
     "end_time": "2022-02-18T20:31:32.242619Z",
     "start_time": "2022-02-18T20:31:32.232644Z"
    }
   },
   "outputs": [],
   "source": [
    "data = data.to_numpy()"
   ]
  },
  {
   "cell_type": "code",
   "execution_count": 12,
   "id": "fab57059",
   "metadata": {
    "ExecuteTime": {
     "end_time": "2022-02-18T20:32:07.614409Z",
     "start_time": "2022-02-18T20:32:07.601443Z"
    }
   },
   "outputs": [
    {
     "data": {
      "text/plain": [
       "array(['1610237', 'CUSHION', 0.52, 'SI1', 'FANCY', 'EX', 'VG', 'VG', 'ST',\n",
       "       4.6, 4.4, 2.99, 1142.98], dtype=object)"
      ]
     },
     "execution_count": 12,
     "metadata": {},
     "output_type": "execute_result"
    }
   ],
   "source": [
    "data = list(data)\n",
    "data.pop(220)\n",
    "data.pop(219)"
   ]
  },
  {
   "cell_type": "code",
   "execution_count": 13,
   "id": "0bfbb360",
   "metadata": {
    "ExecuteTime": {
     "end_time": "2022-02-18T20:32:48.872247Z",
     "start_time": "2022-02-18T20:32:48.849339Z"
    }
   },
   "outputs": [],
   "source": [
    "for line in data:\n",
    "    output.write(\",\".join(map(str, line)) + \"\\n\")"
   ]
  },
  {
   "cell_type": "code",
   "execution_count": 14,
   "id": "58f8194e",
   "metadata": {
    "ExecuteTime": {
     "end_time": "2022-02-18T20:32:52.686091Z",
     "start_time": "2022-02-18T20:32:52.681105Z"
    }
   },
   "outputs": [],
   "source": [
    "output.close()"
   ]
  },
  {
   "cell_type": "code",
   "execution_count": null,
   "id": "411f0e99",
   "metadata": {},
   "outputs": [],
   "source": []
  }
 ],
 "metadata": {
  "kernelspec": {
   "display_name": "cuda",
   "language": "python",
   "name": "python-3-9-7"
  },
  "language_info": {
   "codemirror_mode": {
    "name": "ipython",
    "version": 3
   },
   "file_extension": ".py",
   "mimetype": "text/x-python",
   "name": "python",
   "nbconvert_exporter": "python",
   "pygments_lexer": "ipython3",
   "version": "3.9.7"
  }
 },
 "nbformat": 4,
 "nbformat_minor": 5
}
