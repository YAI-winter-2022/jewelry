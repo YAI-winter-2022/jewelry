{
 "cells": [
  {
   "cell_type": "code",
   "execution_count": 1,
   "id": "d7bf85c1",
   "metadata": {
    "ExecuteTime": {
     "end_time": "2022-02-26T10:35:39.096068Z",
     "start_time": "2022-02-26T10:35:37.321786Z"
    },
    "executionInfo": {
     "elapsed": 8302,
     "status": "ok",
     "timestamp": 1645863233600,
     "user": {
      "displayName": "석진혁(공과대학 기계공학)",
      "photoUrl": "https://lh3.googleusercontent.com/a/default-user=s64",
      "userId": "04829476984882153292"
     },
     "user_tz": -540
    },
    "id": "d7bf85c1"
   },
   "outputs": [],
   "source": [
    "import pandas as pd\n",
    "import numpy as np\n",
    "from PIL import Image\n",
    "import torch\n",
    "import torchvision\n",
    "import torch.nn as nn\n",
    "import torch.optim as optim\n",
    "from torchvision import transforms\n",
    "from torch.utils.data import Dataset, DataLoader\n",
    "from torch.utils.data.dataset import random_split\n",
    "import random\n",
    "import albumentations as A\n",
    "import matplotlib.pyplot as plt\n",
    "\n",
    "device = torch.device('cuda' if torch.cuda.is_available() else 'cpu')"
   ]
  },
  {
   "cell_type": "code",
   "execution_count": 2,
   "id": "88539da3",
   "metadata": {
    "ExecuteTime": {
     "end_time": "2022-02-26T10:35:39.112025Z",
     "start_time": "2022-02-26T10:35:39.097065Z"
    },
    "executionInfo": {
     "elapsed": 410,
     "status": "ok",
     "timestamp": 1645863260239,
     "user": {
      "displayName": "석진혁(공과대학 기계공학)",
      "photoUrl": "https://lh3.googleusercontent.com/a/default-user=s64",
      "userId": "04829476984882153292"
     },
     "user_tz": -540
    },
    "id": "88539da3"
   },
   "outputs": [],
   "source": [
    "csv_train_path = \"trainx4.csv\"\n",
    "csv_test_path = \"test.csv\"\n",
    "csv_val_path = \"val.csv\"\n",
    "image_path = \"./imagesx4\"\n",
    "batch_size = 256\n",
    "epochs = 100\n",
    "learning_rate = 1e-3\n",
    "seed = 42"
   ]
  },
  {
   "cell_type": "code",
   "execution_count": 3,
   "id": "00c5b968",
   "metadata": {
    "ExecuteTime": {
     "end_time": "2022-02-26T10:35:39.191108Z",
     "start_time": "2022-02-26T10:35:39.113023Z"
    },
    "executionInfo": {
     "elapsed": 11,
     "status": "ok",
     "timestamp": 1645863263034,
     "user": {
      "displayName": "석진혁(공과대학 기계공학)",
      "photoUrl": "https://lh3.googleusercontent.com/a/default-user=s64",
      "userId": "04829476984882153292"
     },
     "user_tz": -540
    },
    "id": "00c5b968"
   },
   "outputs": [],
   "source": [
    "torch.manual_seed(seed)\n",
    "np.random.seed(seed)\n",
    "random.seed(seed)\n",
    "torch.backends.cudnn.deterministic = True\n",
    "torch.backends.cudnn.benchmark = False\n",
    "torch.cuda.manual_seed(seed)\n",
    "torch.cuda.manual_seed_all(seed)"
   ]
  },
  {
   "cell_type": "code",
   "execution_count": 4,
   "id": "78410749",
   "metadata": {
    "ExecuteTime": {
     "end_time": "2022-02-26T10:35:39.207065Z",
     "start_time": "2022-02-26T10:35:39.192107Z"
    },
    "executionInfo": {
     "elapsed": 298,
     "status": "ok",
     "timestamp": 1645863265603,
     "user": {
      "displayName": "석진혁(공과대학 기계공학)",
      "photoUrl": "https://lh3.googleusercontent.com/a/default-user=s64",
      "userId": "04829476984882153292"
     },
     "user_tz": -540
    },
    "id": "78410749"
   },
   "outputs": [],
   "source": [
    "class AllDataset(Dataset):\n",
    "    def __init__(self, csv_path, image_path, image_transform=transforms.Compose([transforms.ToTensor()])):\n",
    "        super(AllDataset).__init__()\n",
    "        csv = pd.read_csv(csv_path)\n",
    "        csv_np = csv.to_numpy()\n",
    "        \n",
    "        self.image_transform = image_transform\n",
    "        self.ids = list(map(str, csv['Id']))\n",
    "        self.image_path = image_path\n",
    "        \n",
    "        for i in [1, 3, 4, 5, 6, 7, 8]:\n",
    "            wordset = {word: idx for idx, word in enumerate(np.unique(csv_np[:,i]))}\n",
    "            for row in range(len(csv_np)):\n",
    "                csv_np[row][i] = wordset[csv_np[row][i]]\n",
    "        self.ints = torch.from_numpy(np.array(csv_np[:,[1,3,4,5,6,7,8]], dtype=\"int\"))\n",
    "        self.floats = torch.from_numpy(np.array(csv_np[:,[2,9,10,11]], dtype=\"float\")).float()\n",
    "        self.target = torch.from_numpy(np.array(csv_np[:,[12]], dtype=\"float\")).float()\n",
    "    \n",
    "    \n",
    "    def __getitem__(self,idx):\n",
    "        return self.image_transform(Image.open(self.image_path+'/'+self.ids[idx]+'.jpg')), self.ints[idx],self.floats[idx], self.target[idx]\n",
    "    \n",
    "    \n",
    "    def __len__(self):\n",
    "        return len(self.ints)"
   ]
  },
  {
   "cell_type": "code",
   "execution_count": 5,
   "id": "c8af2023",
   "metadata": {
    "ExecuteTime": {
     "end_time": "2022-02-26T10:35:39.238980Z",
     "start_time": "2022-02-26T10:35:39.208064Z"
    },
    "executionInfo": {
     "elapsed": 713,
     "status": "ok",
     "timestamp": 1645863356773,
     "user": {
      "displayName": "석진혁(공과대학 기계공학)",
      "photoUrl": "https://lh3.googleusercontent.com/a/default-user=s64",
      "userId": "04829476984882153292"
     },
     "user_tz": -540
    },
    "id": "c8af2023"
   },
   "outputs": [],
   "source": [
    "image_transform = transforms.Compose([transforms.ToTensor()\n",
    "                                     ])\n",
    "train_dataset = AllDataset(csv_train_path, image_path, image_transform)\n",
    "test_dataset = AllDataset(csv_test_path, image_path, image_transform)\n",
    "val_dataset = AllDataset(csv_val_path, image_path, image_transform)\n",
    "\n",
    "train_loader = DataLoader(train_dataset, batch_size=batch_size, shuffle = True)\n",
    "test_loader = DataLoader(test_dataset, batch_size=batch_size, shuffle = True)\n",
    "val_loader = DataLoader(val_dataset, batch_size=batch_size, shuffle = True)\n"
   ]
  },
  {
   "cell_type": "code",
   "execution_count": 6,
   "id": "36a46f59",
   "metadata": {
    "ExecuteTime": {
     "end_time": "2022-02-26T10:35:39.254974Z",
     "start_time": "2022-02-26T10:35:39.239978Z"
    },
    "executionInfo": {
     "elapsed": 316,
     "status": "ok",
     "timestamp": 1645863361593,
     "user": {
      "displayName": "석진혁(공과대학 기계공학)",
      "photoUrl": "https://lh3.googleusercontent.com/a/default-user=s64",
      "userId": "04829476984882153292"
     },
     "user_tz": -540
    },
    "id": "36a46f59"
   },
   "outputs": [],
   "source": [
    "class Net(nn.Module):\n",
    "    def __init__(self):\n",
    "        super(Net, self).__init__()\n",
    "        self.resnet18 = torchvision.models.resnet18(pretrained=False)\n",
    "        self.resnet18.fc = nn.Sequential(nn.Linear(512, 4096),\n",
    "                                         nn.BatchNorm1d(4096),\n",
    "                                         nn.ReLU(),\n",
    "                                         nn.Dropout()\n",
    "                                        )\n",
    "        self.resenet18 = self.resnet18.to(device)\n",
    "        \n",
    "        self.emb1 = torch.nn.Embedding(8, 20)\n",
    "        self.emb2 = torch.nn.Embedding(11, 20)\n",
    "        self.emb3 = torch.nn.Embedding(20, 20)\n",
    "        self.emb4 = torch.nn.Embedding(4, 20)\n",
    "        self.emb5 = torch.nn.Embedding(4, 20)\n",
    "        self.emb6 = torch.nn.Embedding(4, 20)\n",
    "        self.emb7 = torch.nn.Embedding(7, 20)\n",
    "        self.act = nn.ReLU()\n",
    "        self.fc = nn.Linear(4, 80)\n",
    "        self.csvbn = nn.BatchNorm1d(80)\n",
    "        self.csvfc1 = nn.Linear(220, 8192)\n",
    "        self.csvfc2 = nn.Linear(8192, 8192)\n",
    "        self.csvfc3 = nn.Linear(8192, 4096)\n",
    "        self.csvbn1 = nn.BatchNorm1d(8192)\n",
    "        self.csvbn2 = nn.BatchNorm1d(8192)\n",
    "        self.csvbn3 = nn.BatchNorm1d(4096)\n",
    "        \n",
    "        self.fc1 = nn.Linear(8192, 4096)\n",
    "        self.fc2 = nn.Linear(4096, 1)\n",
    "        self.bn1 = nn.BatchNorm1d(4096)\n",
    "        self.dropout = nn.Dropout()\n",
    "    \n",
    "    def forward(self, image, x, y):\n",
    "        image = self.resnet18(image)\n",
    "        \n",
    "        x1 = self.emb1(x[:,0])\n",
    "        x2 = self.emb2(x[:,1])\n",
    "        x3 = self.emb3(x[:,2])\n",
    "        x4 = self.emb4(x[:,3])\n",
    "        x5 = self.emb5(x[:,4])\n",
    "        x6 = self.emb6(x[:,5])\n",
    "        x7 = self.emb7(x[:,6])\n",
    "        y = self.csvbn(self.fc(y))\n",
    "        x = torch.cat((x1, x2, x3, x4, x5, x6, x7, y), dim=1)\n",
    "        \n",
    "        x = self.dropout(self.act(self.csvbn1(self.csvfc1(x))))\n",
    "        x = self.dropout(self.act(self.csvbn2(self.csvfc2(x))))\n",
    "        x = self.dropout(self.act(self.csvbn3(self.csvfc3(x))))\n",
    "        x = torch.cat((x, image), dim=1)\n",
    "        \n",
    "        x = self.dropout(self.act(self.bn1(self.fc1(x))))\n",
    "        return self.fc2(x)"
   ]
  },
  {
   "cell_type": "code",
   "execution_count": 7,
   "id": "fb3749f1",
   "metadata": {
    "ExecuteTime": {
     "end_time": "2022-02-26T10:35:39.942585Z",
     "start_time": "2022-02-26T10:35:39.255971Z"
    },
    "executionInfo": {
     "elapsed": 10083,
     "status": "ok",
     "timestamp": 1645863374896,
     "user": {
      "displayName": "석진혁(공과대학 기계공학)",
      "photoUrl": "https://lh3.googleusercontent.com/a/default-user=s64",
      "userId": "04829476984882153292"
     },
     "user_tz": -540
    },
    "id": "fb3749f1"
   },
   "outputs": [],
   "source": [
    "model = Net().to(device)\n",
    "\n",
    "criterion = nn.MSELoss().to(device)\n",
    "optimizer = optim.Adam(model.parameters(), lr=learning_rate)"
   ]
  },
  {
   "cell_type": "code",
   "execution_count": 8,
   "id": "ad748bfb",
   "metadata": {
    "ExecuteTime": {
     "end_time": "2022-02-26T10:52:20.595646Z",
     "start_time": "2022-02-26T10:35:39.943580Z"
    },
    "colab": {
     "base_uri": "https://localhost:8080/"
    },
    "executionInfo": {
     "elapsed": 3354719,
     "status": "ok",
     "timestamp": 1645866740859,
     "user": {
      "displayName": "석진혁(공과대학 기계공학)",
      "photoUrl": "https://lh3.googleusercontent.com/a/default-user=s64",
      "userId": "04829476984882153292"
     },
     "user_tz": -540
    },
    "id": "ad748bfb",
    "outputId": "259fbd99-569f-4a15-a584-fdf04c9d5058",
    "scrolled": false
   },
   "outputs": [
    {
     "name": "stdout",
     "output_type": "stream",
     "text": [
      "[Epoch:  1] Average loss: 8115.7031, val_loss: 4235.5649\n",
      "[Epoch:  2] Average loss: 7749.1558, val_loss: 4607.5059\n",
      "[Epoch:  3] Average loss: 8206.2256, val_loss: 3846.1860\n",
      "[Epoch:  4] Average loss: 7881.1709, val_loss: 4733.2002\n",
      "[Epoch:  5] Average loss: 7729.1519, val_loss: 4113.6523\n",
      "[Epoch:  6] Average loss: 7775.0703, val_loss: 4356.7417\n",
      "[Epoch:  7] Average loss: 8140.4424, val_loss: 3916.3296\n",
      "[Epoch:  8] Average loss: 7548.1963, val_loss: 4389.6641\n",
      "[Epoch:  9] Average loss: 7444.1460, val_loss: 4422.8242\n",
      "[Epoch: 10] Average loss: 7166.5273, val_loss: 4044.1484\n",
      "[Epoch: 11] Average loss: 7973.0674, val_loss: 4203.9917\n",
      "[Epoch: 12] Average loss: 7139.1338, val_loss: 4272.0649\n",
      "[Epoch: 13] Average loss: 6936.3828, val_loss: 3918.6748\n",
      "[Epoch: 14] Average loss: 6871.3457, val_loss: 3810.7336\n",
      "[Epoch: 15] Average loss: 7391.2578, val_loss: 4099.6567\n",
      "[Epoch: 16] Average loss: 7087.4819, val_loss: 4125.2749\n",
      "[Epoch: 17] Average loss: 6974.4849, val_loss: 3993.7527\n",
      "[Epoch: 18] Average loss: 7189.5029, val_loss: 3688.7651\n",
      "[Epoch: 19] Average loss: 6514.3535, val_loss: 3861.2141\n",
      "[Epoch: 20] Average loss: 7096.8916, val_loss: 3594.5979\n",
      "[Epoch: 21] Average loss: 6954.4937, val_loss: 3655.0547\n",
      "[Epoch: 22] Average loss: 6501.1729, val_loss: 3845.3320\n",
      "[Epoch: 23] Average loss: 6316.2212, val_loss: 3981.6323\n",
      "[Epoch: 24] Average loss: 6803.8354, val_loss: 3608.1921\n",
      "[Epoch: 25] Average loss: 6154.0566, val_loss: 3619.5508\n",
      "[Epoch: 26] Average loss: 5919.0283, val_loss: 3617.8525\n",
      "[Epoch: 27] Average loss: 6058.7500, val_loss: 3292.7544\n",
      "[Epoch: 28] Average loss: 6182.2661, val_loss: 3212.5430\n",
      "[Epoch: 29] Average loss: 5611.6113, val_loss: 3521.5762\n",
      "[Epoch: 30] Average loss: 5465.0649, val_loss: 3160.7383\n",
      "[Epoch: 31] Average loss: 5842.2207, val_loss: 2580.7024\n",
      "[Epoch: 32] Average loss: 5603.0435, val_loss: 2815.1025\n",
      "[Epoch: 33] Average loss: 5091.1538, val_loss: 2753.2156\n",
      "[Epoch: 34] Average loss: 5448.0269, val_loss: 3042.5264\n",
      "[Epoch: 35] Average loss: 5085.8711, val_loss: 2979.6582\n",
      "[Epoch: 36] Average loss: 4982.9370, val_loss: 2922.0210\n",
      "[Epoch: 37] Average loss: 5017.0542, val_loss: 3108.8506\n",
      "[Epoch: 38] Average loss: 4915.3823, val_loss: 2621.7559\n",
      "[Epoch: 39] Average loss: 4598.4844, val_loss: 2541.3242\n",
      "[Epoch: 40] Average loss: 4190.6665, val_loss: 2415.8616\n",
      "[Epoch: 41] Average loss: 4064.9417, val_loss: 2479.9468\n",
      "[Epoch: 42] Average loss: 4105.9370, val_loss: 2067.7031\n",
      "[Epoch: 43] Average loss: 3735.8672, val_loss: 1936.8456\n",
      "[Epoch: 44] Average loss: 4027.8303, val_loss: 1850.2059\n",
      "[Epoch: 45] Average loss: 3611.1792, val_loss: 3584.4910\n",
      "[Epoch: 46] Average loss: 3653.2202, val_loss: 1634.7554\n",
      "[Epoch: 47] Average loss: 3262.8955, val_loss: 1877.1941\n",
      "[Epoch: 48] Average loss: 3189.9338, val_loss: 2153.8569\n",
      "[Epoch: 49] Average loss: 3007.4875, val_loss: 2013.1335\n",
      "[Epoch: 50] Average loss: 3019.3792, val_loss: 3808.1038\n",
      "[Epoch: 51] Average loss: 2719.6101, val_loss: 1987.3267\n",
      "[Epoch: 52] Average loss: 3189.1423, val_loss: 1879.6509\n",
      "[Epoch: 53] Average loss: 2880.7290, val_loss: 1638.7189\n",
      "[Epoch: 54] Average loss: 2485.6658, val_loss: 1631.4268\n",
      "[Epoch: 55] Average loss: 2774.3853, val_loss: 1505.1381\n",
      "[Epoch: 56] Average loss: 2520.5178, val_loss: 3494.7273\n",
      "[Epoch: 57] Average loss: 2505.3311, val_loss: 1580.7949\n",
      "[Epoch: 58] Average loss: 2192.2720, val_loss: 1758.6423\n",
      "[Epoch: 59] Average loss: 2790.8230, val_loss: 1347.5414\n",
      "[Epoch: 60] Average loss: 2177.1243, val_loss: 1588.2186\n",
      "[Epoch: 61] Average loss: 2195.6821, val_loss: 1599.3716\n",
      "[Epoch: 62] Average loss: 1728.7083, val_loss: 1366.2900\n",
      "[Epoch: 63] Average loss: 2432.7390, val_loss: 1461.0043\n",
      "[Epoch: 64] Average loss: 2010.0063, val_loss: 1601.7709\n",
      "[Epoch: 65] Average loss: 1756.2297, val_loss: 1589.9186\n",
      "[Epoch: 66] Average loss: 2052.5195, val_loss: 1391.7122\n",
      "[Epoch: 67] Average loss: 1925.7164, val_loss: 1569.0443\n",
      "[Epoch: 68] Average loss: 1880.2605, val_loss: 1490.7507\n",
      "[Epoch: 69] Average loss: 1911.6042, val_loss: 1531.0088\n",
      "[Epoch: 70] Average loss: 2109.0991, val_loss: 1334.9642\n",
      "[Epoch: 71] Average loss: 2195.3801, val_loss: 1633.8032\n",
      "[Epoch: 72] Average loss: 1518.7853, val_loss: 1757.3625\n",
      "[Epoch: 73] Average loss: 1660.2153, val_loss: 1365.8877\n",
      "[Epoch: 74] Average loss: 2118.3206, val_loss: 2206.2739\n",
      "[Epoch: 75] Average loss: 2485.3823, val_loss: 1397.2124\n",
      "[Epoch: 76] Average loss: 1995.8645, val_loss: 1566.4951\n",
      "[Epoch: 77] Average loss: 1736.8445, val_loss: 1759.8567\n",
      "[Epoch: 78] Average loss: 1661.6144, val_loss: 1558.9141\n",
      "[Epoch: 79] Average loss: 2176.6926, val_loss: 1388.7705\n",
      "[Epoch: 80] Average loss: 2077.9121, val_loss: 1417.9196\n",
      "[Epoch: 81] Average loss: 1750.6527, val_loss: 1608.7737\n",
      "[Epoch: 82] Average loss: 1749.0763, val_loss: 1425.1974\n",
      "[Epoch: 83] Average loss: 1838.4490, val_loss: 1667.0682\n",
      "[Epoch: 84] Average loss: 1443.9973, val_loss: 1482.0535\n",
      "[Epoch: 85] Average loss: 1854.3412, val_loss: 2238.1855\n",
      "[Epoch: 86] Average loss: 1767.0958, val_loss: 1554.5989\n",
      "[Epoch: 87] Average loss: 1953.7603, val_loss: 1585.9021\n",
      "[Epoch: 88] Average loss: 1342.0958, val_loss: 1250.2072\n",
      "[Epoch: 89] Average loss: 1327.8436, val_loss: 1628.4420\n",
      "[Epoch: 90] Average loss: 1551.9344, val_loss: 1435.7566\n",
      "[Epoch: 91] Average loss: 2823.4197, val_loss: 1765.1649\n",
      "[Epoch: 92] Average loss: 1402.3933, val_loss: 1429.3306\n",
      "[Epoch: 93] Average loss: 1437.9584, val_loss: 1547.0321\n",
      "[Epoch: 94] Average loss: 1342.1232, val_loss: 1305.9833\n",
      "[Epoch: 95] Average loss: 1407.1841, val_loss: 1348.1166\n",
      "[Epoch: 96] Average loss: 1978.6816, val_loss: 1472.4535\n",
      "[Epoch: 97] Average loss: 1965.4624, val_loss: 1533.6691\n",
      "[Epoch: 98] Average loss: 2125.4753, val_loss: 1245.6912\n",
      "[Epoch: 99] Average loss: 1470.8123, val_loss: 1427.4871\n",
      "[Epoch: 100] Average loss: 1829.9531, val_loss: 1401.0500\n"
     ]
    }
   ],
   "source": [
    "for epoch in range(epochs):\n",
    "    model.train()\n",
    "    criterion.train()\n",
    "    \n",
    "    avg_loss = 0\n",
    "\n",
    "    for Img, X1, X2, Y in train_loader:\n",
    "        Img = Img.to(device)\n",
    "        X1 = X1.to(device)\n",
    "        X2 = X2.to(device)\n",
    "        Y = Y.to(device)\n",
    "\n",
    "        model.zero_grad()\n",
    "        prediction = model(Img, X1, X2)\n",
    "        loss = torch.sqrt(criterion(prediction, Y)).to(device)\n",
    "        loss.backward()\n",
    "        optimizer.step()\n",
    "        avg_loss += loss / len(train_loader)\n",
    "    print(f'[Epoch: {epoch+1:>2}] Average loss: {avg_loss:.4f}, ', end='')\n",
    "    \n",
    "    model.eval()\n",
    "    criterion.eval()\n",
    "    with torch.no_grad():\n",
    "        val_avg_loss = 0.\n",
    "        for Image_val, X1_val, X2_val, Y_val in val_loader:\n",
    "            Image_val = Image_val.to(device)\n",
    "            X1_val = X1_val.to(device)\n",
    "            X2_val = X2_val.to(device)\n",
    "            Y_val = Y_val.to(device)\n",
    "            val_prediction = model(Image_val, X1_val, X2_val)\n",
    "            val_loss = torch.sqrt(criterion(val_prediction, Y_val)).to(device)\n",
    "            val_avg_loss += val_loss / len(val_loader)\n",
    "        \n",
    "        print(f\"val_loss: {val_avg_loss:.4f}\")"
   ]
  },
  {
   "cell_type": "code",
   "execution_count": 9,
   "id": "9be9XqCiL9Od",
   "metadata": {
    "ExecuteTime": {
     "end_time": "2022-02-26T10:52:21.466843Z",
     "start_time": "2022-02-26T10:52:20.597640Z"
    },
    "executionInfo": {
     "elapsed": 2183,
     "status": "ok",
     "timestamp": 1645867145200,
     "user": {
      "displayName": "석진혁(공과대학 기계공학)",
      "photoUrl": "https://lh3.googleusercontent.com/a/default-user=s64",
      "userId": "04829476984882153292"
     },
     "user_tz": -540
    },
    "id": "9be9XqCiL9Od"
   },
   "outputs": [],
   "source": [
    "PATH = './model/'\n",
    "Name = 'model_stfsplit.pt'\n",
    "torch.save(model.state_dict(), PATH+Name)"
   ]
  },
  {
   "cell_type": "code",
   "execution_count": 10,
   "id": "l6xe2kBx6hHD",
   "metadata": {
    "ExecuteTime": {
     "end_time": "2022-02-26T10:52:21.482797Z",
     "start_time": "2022-02-26T10:52:21.467838Z"
    },
    "executionInfo": {
     "elapsed": 356,
     "status": "ok",
     "timestamp": 1645867147900,
     "user": {
      "displayName": "석진혁(공과대학 기계공학)",
      "photoUrl": "https://lh3.googleusercontent.com/a/default-user=s64",
      "userId": "04829476984882153292"
     },
     "user_tz": -540
    },
    "id": "l6xe2kBx6hHD"
   },
   "outputs": [],
   "source": [
    "RMSEs = []\n",
    "accuracys = []"
   ]
  },
  {
   "cell_type": "code",
   "execution_count": null,
   "id": "434a531a",
   "metadata": {
    "ExecuteTime": {
     "start_time": "2022-02-26T10:35:37.321Z"
    },
    "colab": {
     "base_uri": "https://localhost:8080/"
    },
    "executionInfo": {
     "elapsed": 10203,
     "status": "ok",
     "timestamp": 1645867159095,
     "user": {
      "displayName": "석진혁(공과대학 기계공학)",
      "photoUrl": "https://lh3.googleusercontent.com/a/default-user=s64",
      "userId": "04829476984882153292"
     },
     "user_tz": -540
    },
    "id": "434a531a",
    "outputId": "e7fce435-9361-40f0-d451-5b96ea7f480c"
   },
   "outputs": [
    {
     "name": "stdout",
     "output_type": "stream",
     "text": [
      "결과값:70749.53$, 예측값 :61089.95$\n"
     ]
    }
   ],
   "source": [
    "model.eval()\n",
    "criterion.eval()\n",
    "ss_tot = 0\n",
    "ss_res = 0\n",
    "test_loader = DataLoader(test_dataset, batch_size=1, shuffle = True)\n",
    "pred = []\n",
    "label = []\n",
    "with torch.no_grad():\n",
    "    for Image_test, X1_test, X2_test, Y_test in test_loader:\n",
    "        if Y_test < 20000:\n",
    "            continue\n",
    "        Image_test =Image_test.to(device)\n",
    "        X1_test = X1_test.to(device)\n",
    "        X2_test = X2_test.to(device)\n",
    "        Y_test = Y_test.to(device)\n",
    "        prediction = model(Image_test, X1_test, X2_test)\n",
    "        print(f\"결과값:{Y_test.item():.2f}$, 예측값 :{prediction.item():.2f}$\")\n",
    "        pred.append(prediction)\n",
    "        label.append(Y_test)\n",
    "    pred = torch.tensor(pred)\n",
    "    label = torch.tensor(label)\n",
    "    mean = torch.mean(label)\n",
    "    ss_tot += torch.sum((label - mean) ** 2)\n",
    "    ss_res += torch.sum((label - pred) ** 2)\n",
    "    \n",
    "    accuracy = 1 - ss_res/ss_tot\n",
    "    RMSE = (torch.sum((label - pred)**2) / len(pred.numpy()))**(1/2)\n",
    "    accuracys.append(accuracy)\n",
    "    RMSEs.append(RMSE)\n",
    "    print(f\"Accuracy: {accuracy*100:.2f}   RMSE : {RMSE:.2f}\",)"
   ]
  },
  {
   "cell_type": "code",
   "execution_count": null,
   "id": "U4JoCBgz4wPs",
   "metadata": {
    "ExecuteTime": {
     "start_time": "2022-02-26T10:35:37.322Z"
    },
    "colab": {
     "base_uri": "https://localhost:8080/",
     "height": 440
    },
    "executionInfo": {
     "elapsed": 471,
     "status": "ok",
     "timestamp": 1645867162468,
     "user": {
      "displayName": "석진혁(공과대학 기계공학)",
      "photoUrl": "https://lh3.googleusercontent.com/a/default-user=s64",
      "userId": "04829476984882153292"
     },
     "user_tz": -540
    },
    "id": "U4JoCBgz4wPs",
    "outputId": "fb583ce9-01bd-45d2-9f63-a63a1618bacd"
   },
   "outputs": [],
   "source": [
    "prediction = pd.DataFrame({'pred': pred.numpy().tolist(),\n",
    "                          'label': label.numpy().tolist()})\n",
    "prediction = prediction.sort_values(by=['label'])\n",
    "prediction = prediction.reset_index(drop=True)\n",
    "fig, ax = plt.subplots(1, 1,figsize = (10, 7))\n",
    "\n",
    "ax.plot(prediction.index, prediction['pred'],label='Prediction',        \n",
    "        marker = 'o',\n",
    "        linestyle = '--',)\n",
    "ax.plot(prediction.index, prediction['label'], label = 'Truth',\n",
    "        marker = 'o',\n",
    "        linestyle = '--',)\n",
    "ax.set_title(f\"prediction vs Truth : over 20,000$\", loc='left', fontsize=20, va= 'bottom', fontweight='semibold')\n",
    "ax.legend()\n",
    "plt.ylabel('prices')\n",
    "plt.xticks([])\n",
    "ax.set_xticks([])\n",
    "plt.show()"
   ]
  },
  {
   "cell_type": "code",
   "execution_count": null,
   "id": "teV-yR88PUu8",
   "metadata": {
    "ExecuteTime": {
     "start_time": "2022-02-26T10:35:37.323Z"
    },
    "colab": {
     "base_uri": "https://localhost:8080/"
    },
    "executionInfo": {
     "elapsed": 9677,
     "status": "ok",
     "timestamp": 1645867175851,
     "user": {
      "displayName": "석진혁(공과대학 기계공학)",
      "photoUrl": "https://lh3.googleusercontent.com/a/default-user=s64",
      "userId": "04829476984882153292"
     },
     "user_tz": -540
    },
    "id": "teV-yR88PUu8",
    "outputId": "25d5cb5a-d481-4c3d-eba5-c25cdf1b38b4"
   },
   "outputs": [],
   "source": [
    "model.eval()\n",
    "criterion.eval()\n",
    "ss_tot = 0\n",
    "ss_res = 0\n",
    "test_loader = DataLoader(test_dataset, batch_size=1, shuffle = True)\n",
    "pred = []\n",
    "label = []\n",
    "with torch.no_grad():\n",
    "    for Image_test, X1_test, X2_test, Y_test in test_loader:\n",
    "        if Y_test < 15000:\n",
    "            continue\n",
    "        Image_test =Image_test.to(device)\n",
    "        X1_test = X1_test.to(device)\n",
    "        X2_test = X2_test.to(device)\n",
    "        Y_test = Y_test.to(device)\n",
    "        prediction = model(Image_test, X1_test, X2_test)\n",
    "        print(f\"결과값:{Y_test.item():.2f}$, 예측값 :{prediction.item():.2f}$\")\n",
    "        pred.append(prediction)\n",
    "        label.append(Y_test)\n",
    "    pred = torch.tensor(pred)\n",
    "    label = torch.tensor(label)\n",
    "    mean = torch.mean(label)\n",
    "    ss_tot += torch.sum((label - mean) ** 2)\n",
    "    ss_res += torch.sum((label - pred) ** 2)\n",
    "    \n",
    "    accuracy = 1 - ss_res/ss_tot\n",
    "    RMSE = (torch.sum((label - pred)**2) / len(pred.numpy()))**(1/2)\n",
    "    print(f\"Accuracy: {accuracy*100:.2f}   RMSE : {RMSE:.2f}\", )"
   ]
  },
  {
   "cell_type": "code",
   "execution_count": null,
   "id": "Ls8nNtkC92xe",
   "metadata": {
    "ExecuteTime": {
     "start_time": "2022-02-26T10:35:37.324Z"
    },
    "colab": {
     "base_uri": "https://localhost:8080/",
     "height": 440
    },
    "executionInfo": {
     "elapsed": 423,
     "status": "ok",
     "timestamp": 1645867179755,
     "user": {
      "displayName": "석진혁(공과대학 기계공학)",
      "photoUrl": "https://lh3.googleusercontent.com/a/default-user=s64",
      "userId": "04829476984882153292"
     },
     "user_tz": -540
    },
    "id": "Ls8nNtkC92xe",
    "outputId": "15bc4491-5a55-4eed-86a0-7ccd2c4d92dc"
   },
   "outputs": [],
   "source": [
    "prediction = pd.DataFrame({'pred': pred.numpy().tolist(),\n",
    "                          'label': label.numpy().tolist()})\n",
    "prediction = prediction.sort_values(by=['label'])\n",
    "prediction = prediction.reset_index(drop=True)\n",
    "fig, ax = plt.subplots(1, 1,figsize = (10, 7))\n",
    "\n",
    "ax.plot(prediction.index, prediction['pred'],label='Prediction',        \n",
    "        marker = 'o',\n",
    "        linestyle = '--',)\n",
    "ax.plot(prediction.index, prediction['label'], label = 'Truth',\n",
    "        marker = 'o',\n",
    "        linestyle = '--',)\n",
    "ax.set_title(f\"prediction vs Truth : over 15,000$\", loc='left', fontsize=20, va= 'bottom', fontweight='semibold')\n",
    "ax.legend()\n",
    "plt.ylabel('prices')\n",
    "plt.xticks([])\n",
    "ax.set_xticks([])\n",
    "plt.show()"
   ]
  },
  {
   "cell_type": "code",
   "execution_count": null,
   "id": "JTMlu-7LPVp9",
   "metadata": {
    "ExecuteTime": {
     "start_time": "2022-02-26T10:35:37.324Z"
    },
    "colab": {
     "base_uri": "https://localhost:8080/"
    },
    "executionInfo": {
     "elapsed": 9629,
     "status": "ok",
     "timestamp": 1645867192605,
     "user": {
      "displayName": "석진혁(공과대학 기계공학)",
      "photoUrl": "https://lh3.googleusercontent.com/a/default-user=s64",
      "userId": "04829476984882153292"
     },
     "user_tz": -540
    },
    "id": "JTMlu-7LPVp9",
    "outputId": "fe06116d-99f4-42f3-a24f-38645cf73b7d"
   },
   "outputs": [],
   "source": [
    "model.eval()\n",
    "criterion.eval()\n",
    "ss_tot = 0\n",
    "ss_res = 0\n",
    "test_loader = DataLoader(test_dataset, batch_size=1, shuffle = True)\n",
    "pred = []\n",
    "label = []\n",
    "with torch.no_grad():\n",
    "    for Image_test, X1_test, X2_test, Y_test in test_loader:\n",
    "        if Y_test < 10000:\n",
    "            continue\n",
    "        Image_test =Image_test.to(device)\n",
    "        X1_test = X1_test.to(device)\n",
    "        X2_test = X2_test.to(device)\n",
    "        Y_test = Y_test.to(device)\n",
    "        prediction = model(Image_test, X1_test, X2_test)\n",
    "        print(f\"결과값:{Y_test.item():.2f}$, 예측값 :{prediction.item():.2f}$\")\n",
    "        pred.append(prediction)\n",
    "        label.append(Y_test)\n",
    "    pred = torch.tensor(pred)\n",
    "    label = torch.tensor(label)\n",
    "    mean = torch.mean(label)\n",
    "    ss_tot += torch.sum((label - mean) ** 2)\n",
    "    ss_res += torch.sum((label - pred) ** 2)\n",
    "    \n",
    "    accuracy = 1 - ss_res/ss_tot\n",
    "    RMSE = (torch.sum((label - pred)**2) / len(pred.numpy()))**(1/2)\n",
    "    print(f\"Accuracy: {accuracy*100:.2f}   RMSE : {RMSE:.2f}\", )"
   ]
  },
  {
   "cell_type": "code",
   "execution_count": null,
   "id": "vPfGv-Qg9_94",
   "metadata": {
    "ExecuteTime": {
     "start_time": "2022-02-26T10:35:37.325Z"
    },
    "colab": {
     "base_uri": "https://localhost:8080/",
     "height": 440
    },
    "executionInfo": {
     "elapsed": 414,
     "status": "ok",
     "timestamp": 1645867210470,
     "user": {
      "displayName": "석진혁(공과대학 기계공학)",
      "photoUrl": "https://lh3.googleusercontent.com/a/default-user=s64",
      "userId": "04829476984882153292"
     },
     "user_tz": -540
    },
    "id": "vPfGv-Qg9_94",
    "outputId": "12860cf6-9cb1-4d3b-8318-c1f037b8ec8c"
   },
   "outputs": [],
   "source": [
    "prediction = pd.DataFrame({'pred': pred.numpy().tolist(),\n",
    "                          'label': label.numpy().tolist()})\n",
    "prediction = prediction.sort_values(by=['label'])\n",
    "prediction = prediction.reset_index(drop=True)\n",
    "fig, ax = plt.subplots(1, 1,figsize = (10, 7))\n",
    "\n",
    "ax.plot(prediction.index, prediction['pred'],label='Prediction',        \n",
    "        marker = 'o',\n",
    "        linestyle = '--',)\n",
    "ax.plot(prediction.index, prediction['label'], label = 'Truth',\n",
    "        marker = 'o',\n",
    "        linestyle = '--',)\n",
    "ax.set_title(f\"prediction vs Truth : over 10,000$\", loc='left', fontsize=20, va= 'bottom', fontweight='semibold')\n",
    "ax.legend()\n",
    "plt.ylabel('prices')\n",
    "plt.xticks([])\n",
    "ax.set_xticks([])\n",
    "plt.show()"
   ]
  },
  {
   "cell_type": "code",
   "execution_count": null,
   "id": "srKOR48BixNl",
   "metadata": {
    "ExecuteTime": {
     "start_time": "2022-02-26T10:35:37.326Z"
    },
    "colab": {
     "base_uri": "https://localhost:8080/"
    },
    "executionInfo": {
     "elapsed": 31904,
     "status": "ok",
     "timestamp": 1645867246397,
     "user": {
      "displayName": "석진혁(공과대학 기계공학)",
      "photoUrl": "https://lh3.googleusercontent.com/a/default-user=s64",
      "userId": "04829476984882153292"
     },
     "user_tz": -540
    },
    "id": "srKOR48BixNl",
    "outputId": "23f15f28-b45f-4af9-cd0c-9b24404ab89b"
   },
   "outputs": [],
   "source": [
    "model.eval()\n",
    "criterion.eval()\n",
    "ss_tot = 0\n",
    "ss_res = 0\n",
    "test_loader = DataLoader(test_dataset, batch_size=1, shuffle = True)\n",
    "pred = []\n",
    "label = []\n",
    "with torch.no_grad():\n",
    "    for Image_test, X1_test, X2_test, Y_test in test_loader:\n",
    "        Image_test =Image_test.to(device)\n",
    "        X1_test = X1_test.to(device)\n",
    "        X2_test = X2_test.to(device)\n",
    "        Y_test = Y_test.to(device)\n",
    "        prediction = model(Image_test, X1_test, X2_test)\n",
    "        print(f\"결과값:{Y_test.item():.2f}$, 예측값 :{prediction.item():.2f}$\")\n",
    "        pred.append(prediction)\n",
    "        label.append(Y_test)\n",
    "    pred = torch.tensor(pred)\n",
    "    label = torch.tensor(label)\n",
    "    mean = torch.mean(label)\n",
    "    ss_tot += torch.sum((label - mean) ** 2)\n",
    "    ss_res += torch.sum((label - pred) ** 2)\n",
    "    \n",
    "    accuracy = 1 - ss_res/ss_tot\n",
    "    RMSE = (torch.sum((label - pred)**2) / len(pred.numpy()))**(1/2)\n",
    "    print(f\"Accuracy: {accuracy*100:.2f}   RMSE : {RMSE:.2f}\", )"
   ]
  },
  {
   "cell_type": "code",
   "execution_count": null,
   "id": "sxTEi3UjxzSa",
   "metadata": {
    "ExecuteTime": {
     "start_time": "2022-02-26T10:35:37.327Z"
    },
    "colab": {
     "base_uri": "https://localhost:8080/",
     "height": 431
    },
    "executionInfo": {
     "elapsed": 839,
     "status": "ok",
     "timestamp": 1645867251540,
     "user": {
      "displayName": "석진혁(공과대학 기계공학)",
      "photoUrl": "https://lh3.googleusercontent.com/a/default-user=s64",
      "userId": "04829476984882153292"
     },
     "user_tz": -540
    },
    "id": "sxTEi3UjxzSa",
    "outputId": "8dc1cd3a-49fc-4711-9909-adda1bb3fd17"
   },
   "outputs": [],
   "source": [
    "prediction = pd.DataFrame({'pred': pred.numpy().tolist(),\n",
    "                          'label': label.numpy().tolist()})\n",
    "prediction = prediction.sort_values(by=['label'])\n",
    "prediction = prediction.reset_index(drop=True)\n",
    "\n",
    "fig, axes = plt.subplots(1, 2,figsize = (12, 7), sharey = True)\n",
    "\n",
    "prediction1 = prediction[prediction['label'] < 10000]\n",
    "axes[0].plot(prediction1.index, prediction1['pred'],label='Prediction',        \n",
    "        linestyle = '--',)\n",
    "axes[0].plot(prediction1.index, prediction1['label'], label = 'Truth',\n",
    "        linestyle = '--',)\n",
    "axes[0].set_xticks([])\n",
    "axes[0].legend()\n",
    "axes[0].set_title(\"Price under 10000$\")\n",
    "prediction2 = prediction[prediction['label'] > 10000]\n",
    "axes[1].plot(prediction2.index, prediction2['pred'],label='Prediction',        \n",
    "        linestyle = '--',)\n",
    "axes[1].plot(prediction2.index, prediction2['label'], label = 'Truth',\n",
    "        marker = 'o',\n",
    "        linestyle = '--',)\n",
    "axes[1].set_xticks([])\n",
    "axes[1].legend()\n",
    "axes[1].set_title(\"Price over 10000$\")\n",
    "plt.ylabel('prices')\n",
    "plt.show()"
   ]
  },
  {
   "cell_type": "code",
   "execution_count": null,
   "id": "oDrh63MaVTEO",
   "metadata": {
    "id": "oDrh63MaVTEO"
   },
   "outputs": [],
   "source": []
  }
 ],
 "metadata": {
  "accelerator": "GPU",
  "colab": {
   "collapsed_sections": [],
   "history_visible": true,
   "machine_shape": "hm",
   "name": "Integrated_model_stratifiedplit.ipynb",
   "provenance": []
  },
  "kernelspec": {
   "display_name": "cuda",
   "language": "python",
   "name": "python-3-9-7"
  },
  "language_info": {
   "codemirror_mode": {
    "name": "ipython",
    "version": 3
   },
   "file_extension": ".py",
   "mimetype": "text/x-python",
   "name": "python",
   "nbconvert_exporter": "python",
   "pygments_lexer": "ipython3",
   "version": "3.9.7"
  }
 },
 "nbformat": 4,
 "nbformat_minor": 5
}
