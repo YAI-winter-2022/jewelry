{
 "cells": [
  {
   "cell_type": "code",
   "execution_count": 1,
   "metadata": {
    "ExecuteTime": {
     "end_time": "2022-02-26T10:04:47.457627Z",
     "start_time": "2022-02-26T10:04:46.630888Z"
    },
    "id": "bXWpR7rdVF3Q"
   },
   "outputs": [],
   "source": [
    "import pandas as pd\n",
    "import cv2\n",
    "import albumentations as A"
   ]
  },
  {
   "cell_type": "code",
   "execution_count": 2,
   "metadata": {
    "ExecuteTime": {
     "end_time": "2022-02-26T10:04:47.473614Z",
     "start_time": "2022-02-26T10:04:47.458626Z"
    },
    "executionInfo": {
     "elapsed": 432,
     "status": "ok",
     "timestamp": 1645859317802,
     "user": {
      "displayName": "석진혁(공과대학 기계공학)",
      "photoUrl": "https://lh3.googleusercontent.com/a/default-user=s64",
      "userId": "04829476984882153292"
     },
     "user_tz": -540
    },
    "id": "gofriPU0QEwv"
   },
   "outputs": [],
   "source": [
    "image_path = './imagesx4'\n",
    "csv_path = './train.csv'"
   ]
  },
  {
   "cell_type": "code",
   "execution_count": 3,
   "metadata": {
    "ExecuteTime": {
     "end_time": "2022-02-26T10:04:47.658719Z",
     "start_time": "2022-02-26T10:04:47.474612Z"
    },
    "colab": {
     "base_uri": "https://localhost:8080/"
    },
    "executionInfo": {
     "elapsed": 414,
     "status": "ok",
     "timestamp": 1645859320740,
     "user": {
      "displayName": "석진혁(공과대학 기계공학)",
      "photoUrl": "https://lh3.googleusercontent.com/a/default-user=s64",
      "userId": "04829476984882153292"
     },
     "user_tz": -540
    },
    "id": "2_llzSs3VIcn",
    "outputId": "1ed8671c-1a5f-4435-b096-68acc8a91e28"
   },
   "outputs": [
    {
     "name": "stdout",
     "output_type": "stream",
     "text": [
      "2823\n"
     ]
    }
   ],
   "source": [
    "train_csv = pd.read_csv(csv_path)\n",
    "print(len(train_csv))"
   ]
  },
  {
   "cell_type": "code",
   "execution_count": 4,
   "metadata": {
    "ExecuteTime": {
     "end_time": "2022-02-26T10:04:47.673698Z",
     "start_time": "2022-02-26T10:04:47.659716Z"
    },
    "colab": {
     "base_uri": "https://localhost:8080/"
    },
    "executionInfo": {
     "elapsed": 392,
     "status": "ok",
     "timestamp": 1645859324364,
     "user": {
      "displayName": "석진혁(공과대학 기계공학)",
      "photoUrl": "https://lh3.googleusercontent.com/a/default-user=s64",
      "userId": "04829476984882153292"
     },
     "user_tz": -540
    },
    "id": "ZD0ooeO4VKZs",
    "outputId": "c06ec35e-4743-4b9a-d70b-fded1681ebf9"
   },
   "outputs": [
    {
     "name": "stdout",
     "output_type": "stream",
     "text": [
      "20000$이상 보석 개수 :  17\n"
     ]
    }
   ],
   "source": [
    "print(\"20000$이상 보석 개수 : \",len(train_csv[train_csv['Price']>20000]))"
   ]
  },
  {
   "cell_type": "code",
   "execution_count": 5,
   "metadata": {
    "ExecuteTime": {
     "end_time": "2022-02-26T10:04:48.656061Z",
     "start_time": "2022-02-26T10:04:47.674695Z"
    },
    "colab": {
     "base_uri": "https://localhost:8080/"
    },
    "executionInfo": {
     "elapsed": 1297,
     "status": "ok",
     "timestamp": 1645859676615,
     "user": {
      "displayName": "석진혁(공과대학 기계공학)",
      "photoUrl": "https://lh3.googleusercontent.com/a/default-user=s64",
      "userId": "04829476984882153292"
     },
     "user_tz": -540
    },
    "id": "eC9xuTIQVtbS",
    "outputId": "6f172a02-d10e-4a95-abb2-4172cd4ca779"
   },
   "outputs": [
    {
     "name": "stdout",
     "output_type": "stream",
     "text": [
      "200705-2\n"
     ]
    },
    {
     "name": "stderr",
     "output_type": "stream",
     "text": [
      "C:\\Users\\user\\AppData\\Local\\Temp/ipykernel_27588/3943940919.py:33: SettingWithCopyWarning: \n",
      "A value is trying to be set on a copy of a slice from a DataFrame\n",
      "\n",
      "See the caveats in the documentation: https://pandas.pydata.org/pandas-docs/stable/user_guide/indexing.html#returning-a-view-versus-a-copy\n",
      "  train_csv_add['Id'] = id + '_hflip'\n",
      "C:\\Users\\user\\AppData\\Local\\Temp/ipykernel_27588/3943940919.py:34: FutureWarning: The frame.append method is deprecated and will be removed from pandas in a future version. Use pandas.concat instead.\n",
      "  train_csv = train_csv.append(train_csv_add, ignore_index = True)\n",
      "C:\\Users\\user\\AppData\\Local\\Temp/ipykernel_27588/3943940919.py:35: SettingWithCopyWarning: \n",
      "A value is trying to be set on a copy of a slice from a DataFrame\n",
      "\n",
      "See the caveats in the documentation: https://pandas.pydata.org/pandas-docs/stable/user_guide/indexing.html#returning-a-view-versus-a-copy\n",
      "  train_csv_add['Id'] = id + '_rotate'\n",
      "C:\\Users\\user\\AppData\\Local\\Temp/ipykernel_27588/3943940919.py:36: FutureWarning: The frame.append method is deprecated and will be removed from pandas in a future version. Use pandas.concat instead.\n",
      "  train_csv = train_csv.append(train_csv_add, ignore_index = True)\n",
      "C:\\Users\\user\\AppData\\Local\\Temp/ipykernel_27588/3943940919.py:37: SettingWithCopyWarning: \n",
      "A value is trying to be set on a copy of a slice from a DataFrame\n",
      "\n",
      "See the caveats in the documentation: https://pandas.pydata.org/pandas-docs/stable/user_guide/indexing.html#returning-a-view-versus-a-copy\n",
      "  train_csv_add['Id'] = id + '_hflip_rotate'\n",
      "C:\\Users\\user\\AppData\\Local\\Temp/ipykernel_27588/3943940919.py:38: FutureWarning: The frame.append method is deprecated and will be removed from pandas in a future version. Use pandas.concat instead.\n",
      "  train_csv = train_csv.append(train_csv_add, ignore_index = True)\n",
      "C:\\Users\\user\\AppData\\Local\\Temp/ipykernel_27588/3943940919.py:33: SettingWithCopyWarning: \n",
      "A value is trying to be set on a copy of a slice from a DataFrame\n",
      "\n",
      "See the caveats in the documentation: https://pandas.pydata.org/pandas-docs/stable/user_guide/indexing.html#returning-a-view-versus-a-copy\n",
      "  train_csv_add['Id'] = id + '_hflip'\n",
      "C:\\Users\\user\\AppData\\Local\\Temp/ipykernel_27588/3943940919.py:34: FutureWarning: The frame.append method is deprecated and will be removed from pandas in a future version. Use pandas.concat instead.\n",
      "  train_csv = train_csv.append(train_csv_add, ignore_index = True)\n",
      "C:\\Users\\user\\AppData\\Local\\Temp/ipykernel_27588/3943940919.py:35: SettingWithCopyWarning: \n",
      "A value is trying to be set on a copy of a slice from a DataFrame\n",
      "\n",
      "See the caveats in the documentation: https://pandas.pydata.org/pandas-docs/stable/user_guide/indexing.html#returning-a-view-versus-a-copy\n",
      "  train_csv_add['Id'] = id + '_rotate'\n",
      "C:\\Users\\user\\AppData\\Local\\Temp/ipykernel_27588/3943940919.py:36: FutureWarning: The frame.append method is deprecated and will be removed from pandas in a future version. Use pandas.concat instead.\n",
      "  train_csv = train_csv.append(train_csv_add, ignore_index = True)\n",
      "C:\\Users\\user\\AppData\\Local\\Temp/ipykernel_27588/3943940919.py:37: SettingWithCopyWarning: \n",
      "A value is trying to be set on a copy of a slice from a DataFrame\n",
      "\n",
      "See the caveats in the documentation: https://pandas.pydata.org/pandas-docs/stable/user_guide/indexing.html#returning-a-view-versus-a-copy\n",
      "  train_csv_add['Id'] = id + '_hflip_rotate'\n",
      "C:\\Users\\user\\AppData\\Local\\Temp/ipykernel_27588/3943940919.py:38: FutureWarning: The frame.append method is deprecated and will be removed from pandas in a future version. Use pandas.concat instead.\n",
      "  train_csv = train_csv.append(train_csv_add, ignore_index = True)\n",
      "C:\\Users\\user\\AppData\\Local\\Temp/ipykernel_27588/3943940919.py:33: SettingWithCopyWarning: \n",
      "A value is trying to be set on a copy of a slice from a DataFrame\n",
      "\n",
      "See the caveats in the documentation: https://pandas.pydata.org/pandas-docs/stable/user_guide/indexing.html#returning-a-view-versus-a-copy\n",
      "  train_csv_add['Id'] = id + '_hflip'\n",
      "C:\\Users\\user\\AppData\\Local\\Temp/ipykernel_27588/3943940919.py:34: FutureWarning: The frame.append method is deprecated and will be removed from pandas in a future version. Use pandas.concat instead.\n",
      "  train_csv = train_csv.append(train_csv_add, ignore_index = True)\n",
      "C:\\Users\\user\\AppData\\Local\\Temp/ipykernel_27588/3943940919.py:35: SettingWithCopyWarning: \n",
      "A value is trying to be set on a copy of a slice from a DataFrame\n",
      "\n",
      "See the caveats in the documentation: https://pandas.pydata.org/pandas-docs/stable/user_guide/indexing.html#returning-a-view-versus-a-copy\n",
      "  train_csv_add['Id'] = id + '_rotate'\n",
      "C:\\Users\\user\\AppData\\Local\\Temp/ipykernel_27588/3943940919.py:36: FutureWarning: The frame.append method is deprecated and will be removed from pandas in a future version. Use pandas.concat instead.\n",
      "  train_csv = train_csv.append(train_csv_add, ignore_index = True)\n",
      "C:\\Users\\user\\AppData\\Local\\Temp/ipykernel_27588/3943940919.py:38: FutureWarning: The frame.append method is deprecated and will be removed from pandas in a future version. Use pandas.concat instead.\n",
      "  train_csv = train_csv.append(train_csv_add, ignore_index = True)\n"
     ]
    },
    {
     "name": "stdout",
     "output_type": "stream",
     "text": [
      "200723-27\n",
      "201223-84\n",
      "200807-308\n"
     ]
    },
    {
     "name": "stderr",
     "output_type": "stream",
     "text": [
      "C:\\Users\\user\\AppData\\Local\\Temp/ipykernel_27588/3943940919.py:33: SettingWithCopyWarning: \n",
      "A value is trying to be set on a copy of a slice from a DataFrame\n",
      "\n",
      "See the caveats in the documentation: https://pandas.pydata.org/pandas-docs/stable/user_guide/indexing.html#returning-a-view-versus-a-copy\n",
      "  train_csv_add['Id'] = id + '_hflip'\n",
      "C:\\Users\\user\\AppData\\Local\\Temp/ipykernel_27588/3943940919.py:34: FutureWarning: The frame.append method is deprecated and will be removed from pandas in a future version. Use pandas.concat instead.\n",
      "  train_csv = train_csv.append(train_csv_add, ignore_index = True)\n",
      "C:\\Users\\user\\AppData\\Local\\Temp/ipykernel_27588/3943940919.py:35: SettingWithCopyWarning: \n",
      "A value is trying to be set on a copy of a slice from a DataFrame\n",
      "\n",
      "See the caveats in the documentation: https://pandas.pydata.org/pandas-docs/stable/user_guide/indexing.html#returning-a-view-versus-a-copy\n",
      "  train_csv_add['Id'] = id + '_rotate'\n",
      "C:\\Users\\user\\AppData\\Local\\Temp/ipykernel_27588/3943940919.py:36: FutureWarning: The frame.append method is deprecated and will be removed from pandas in a future version. Use pandas.concat instead.\n",
      "  train_csv = train_csv.append(train_csv_add, ignore_index = True)\n",
      "C:\\Users\\user\\AppData\\Local\\Temp/ipykernel_27588/3943940919.py:37: SettingWithCopyWarning: \n",
      "A value is trying to be set on a copy of a slice from a DataFrame\n",
      "\n",
      "See the caveats in the documentation: https://pandas.pydata.org/pandas-docs/stable/user_guide/indexing.html#returning-a-view-versus-a-copy\n",
      "  train_csv_add['Id'] = id + '_hflip_rotate'\n",
      "C:\\Users\\user\\AppData\\Local\\Temp/ipykernel_27588/3943940919.py:38: FutureWarning: The frame.append method is deprecated and will be removed from pandas in a future version. Use pandas.concat instead.\n",
      "  train_csv = train_csv.append(train_csv_add, ignore_index = True)\n",
      "C:\\Users\\user\\AppData\\Local\\Temp/ipykernel_27588/3943940919.py:33: SettingWithCopyWarning: \n",
      "A value is trying to be set on a copy of a slice from a DataFrame\n",
      "\n",
      "See the caveats in the documentation: https://pandas.pydata.org/pandas-docs/stable/user_guide/indexing.html#returning-a-view-versus-a-copy\n",
      "  train_csv_add['Id'] = id + '_hflip'\n",
      "C:\\Users\\user\\AppData\\Local\\Temp/ipykernel_27588/3943940919.py:34: FutureWarning: The frame.append method is deprecated and will be removed from pandas in a future version. Use pandas.concat instead.\n",
      "  train_csv = train_csv.append(train_csv_add, ignore_index = True)\n",
      "C:\\Users\\user\\AppData\\Local\\Temp/ipykernel_27588/3943940919.py:35: SettingWithCopyWarning: \n",
      "A value is trying to be set on a copy of a slice from a DataFrame\n",
      "\n",
      "See the caveats in the documentation: https://pandas.pydata.org/pandas-docs/stable/user_guide/indexing.html#returning-a-view-versus-a-copy\n",
      "  train_csv_add['Id'] = id + '_rotate'\n",
      "C:\\Users\\user\\AppData\\Local\\Temp/ipykernel_27588/3943940919.py:36: FutureWarning: The frame.append method is deprecated and will be removed from pandas in a future version. Use pandas.concat instead.\n",
      "  train_csv = train_csv.append(train_csv_add, ignore_index = True)\n",
      "C:\\Users\\user\\AppData\\Local\\Temp/ipykernel_27588/3943940919.py:38: FutureWarning: The frame.append method is deprecated and will be removed from pandas in a future version. Use pandas.concat instead.\n",
      "  train_csv = train_csv.append(train_csv_add, ignore_index = True)\n",
      "C:\\Users\\user\\AppData\\Local\\Temp/ipykernel_27588/3943940919.py:33: SettingWithCopyWarning: \n",
      "A value is trying to be set on a copy of a slice from a DataFrame\n",
      "\n",
      "See the caveats in the documentation: https://pandas.pydata.org/pandas-docs/stable/user_guide/indexing.html#returning-a-view-versus-a-copy\n",
      "  train_csv_add['Id'] = id + '_hflip'\n",
      "C:\\Users\\user\\AppData\\Local\\Temp/ipykernel_27588/3943940919.py:34: FutureWarning: The frame.append method is deprecated and will be removed from pandas in a future version. Use pandas.concat instead.\n",
      "  train_csv = train_csv.append(train_csv_add, ignore_index = True)\n",
      "C:\\Users\\user\\AppData\\Local\\Temp/ipykernel_27588/3943940919.py:35: SettingWithCopyWarning: \n",
      "A value is trying to be set on a copy of a slice from a DataFrame\n",
      "\n",
      "See the caveats in the documentation: https://pandas.pydata.org/pandas-docs/stable/user_guide/indexing.html#returning-a-view-versus-a-copy\n",
      "  train_csv_add['Id'] = id + '_rotate'\n",
      "C:\\Users\\user\\AppData\\Local\\Temp/ipykernel_27588/3943940919.py:36: FutureWarning: The frame.append method is deprecated and will be removed from pandas in a future version. Use pandas.concat instead.\n",
      "  train_csv = train_csv.append(train_csv_add, ignore_index = True)\n",
      "C:\\Users\\user\\AppData\\Local\\Temp/ipykernel_27588/3943940919.py:37: SettingWithCopyWarning: \n",
      "A value is trying to be set on a copy of a slice from a DataFrame\n",
      "\n",
      "See the caveats in the documentation: https://pandas.pydata.org/pandas-docs/stable/user_guide/indexing.html#returning-a-view-versus-a-copy\n",
      "  train_csv_add['Id'] = id + '_hflip_rotate'\n",
      "C:\\Users\\user\\AppData\\Local\\Temp/ipykernel_27588/3943940919.py:38: FutureWarning: The frame.append method is deprecated and will be removed from pandas in a future version. Use pandas.concat instead.\n",
      "  train_csv = train_csv.append(train_csv_add, ignore_index = True)\n",
      "C:\\Users\\user\\AppData\\Local\\Temp/ipykernel_27588/3943940919.py:33: SettingWithCopyWarning: \n",
      "A value is trying to be set on a copy of a slice from a DataFrame\n",
      "\n",
      "See the caveats in the documentation: https://pandas.pydata.org/pandas-docs/stable/user_guide/indexing.html#returning-a-view-versus-a-copy\n",
      "  train_csv_add['Id'] = id + '_hflip'\n",
      "C:\\Users\\user\\AppData\\Local\\Temp/ipykernel_27588/3943940919.py:34: FutureWarning: The frame.append method is deprecated and will be removed from pandas in a future version. Use pandas.concat instead.\n",
      "  train_csv = train_csv.append(train_csv_add, ignore_index = True)\n",
      "C:\\Users\\user\\AppData\\Local\\Temp/ipykernel_27588/3943940919.py:36: FutureWarning: The frame.append method is deprecated and will be removed from pandas in a future version. Use pandas.concat instead.\n",
      "  train_csv = train_csv.append(train_csv_add, ignore_index = True)\n",
      "C:\\Users\\user\\AppData\\Local\\Temp/ipykernel_27588/3943940919.py:38: FutureWarning: The frame.append method is deprecated and will be removed from pandas in a future version. Use pandas.concat instead.\n",
      "  train_csv = train_csv.append(train_csv_add, ignore_index = True)\n",
      "C:\\Users\\user\\AppData\\Local\\Temp/ipykernel_27588/3943940919.py:33: SettingWithCopyWarning: \n",
      "A value is trying to be set on a copy of a slice from a DataFrame\n",
      "\n",
      "See the caveats in the documentation: https://pandas.pydata.org/pandas-docs/stable/user_guide/indexing.html#returning-a-view-versus-a-copy\n",
      "  train_csv_add['Id'] = id + '_hflip'\n",
      "C:\\Users\\user\\AppData\\Local\\Temp/ipykernel_27588/3943940919.py:34: FutureWarning: The frame.append method is deprecated and will be removed from pandas in a future version. Use pandas.concat instead.\n",
      "  train_csv = train_csv.append(train_csv_add, ignore_index = True)\n",
      "C:\\Users\\user\\AppData\\Local\\Temp/ipykernel_27588/3943940919.py:35: SettingWithCopyWarning: \n",
      "A value is trying to be set on a copy of a slice from a DataFrame\n",
      "\n",
      "See the caveats in the documentation: https://pandas.pydata.org/pandas-docs/stable/user_guide/indexing.html#returning-a-view-versus-a-copy\n",
      "  train_csv_add['Id'] = id + '_rotate'\n",
      "C:\\Users\\user\\AppData\\Local\\Temp/ipykernel_27588/3943940919.py:36: FutureWarning: The frame.append method is deprecated and will be removed from pandas in a future version. Use pandas.concat instead.\n",
      "  train_csv = train_csv.append(train_csv_add, ignore_index = True)\n",
      "C:\\Users\\user\\AppData\\Local\\Temp/ipykernel_27588/3943940919.py:37: SettingWithCopyWarning: \n",
      "A value is trying to be set on a copy of a slice from a DataFrame\n",
      "\n",
      "See the caveats in the documentation: https://pandas.pydata.org/pandas-docs/stable/user_guide/indexing.html#returning-a-view-versus-a-copy\n",
      "  train_csv_add['Id'] = id + '_hflip_rotate'\n"
     ]
    },
    {
     "name": "stdout",
     "output_type": "stream",
     "text": [
      "200498-62\n",
      "201196-1\n",
      "200652-17\n",
      "200802-35\n",
      "200802-42\n"
     ]
    },
    {
     "name": "stderr",
     "output_type": "stream",
     "text": [
      "C:\\Users\\user\\AppData\\Local\\Temp/ipykernel_27588/3943940919.py:38: FutureWarning: The frame.append method is deprecated and will be removed from pandas in a future version. Use pandas.concat instead.\n",
      "  train_csv = train_csv.append(train_csv_add, ignore_index = True)\n",
      "C:\\Users\\user\\AppData\\Local\\Temp/ipykernel_27588/3943940919.py:33: SettingWithCopyWarning: \n",
      "A value is trying to be set on a copy of a slice from a DataFrame\n",
      "\n",
      "See the caveats in the documentation: https://pandas.pydata.org/pandas-docs/stable/user_guide/indexing.html#returning-a-view-versus-a-copy\n",
      "  train_csv_add['Id'] = id + '_hflip'\n",
      "C:\\Users\\user\\AppData\\Local\\Temp/ipykernel_27588/3943940919.py:34: FutureWarning: The frame.append method is deprecated and will be removed from pandas in a future version. Use pandas.concat instead.\n",
      "  train_csv = train_csv.append(train_csv_add, ignore_index = True)\n",
      "C:\\Users\\user\\AppData\\Local\\Temp/ipykernel_27588/3943940919.py:36: FutureWarning: The frame.append method is deprecated and will be removed from pandas in a future version. Use pandas.concat instead.\n",
      "  train_csv = train_csv.append(train_csv_add, ignore_index = True)\n",
      "C:\\Users\\user\\AppData\\Local\\Temp/ipykernel_27588/3943940919.py:38: FutureWarning: The frame.append method is deprecated and will be removed from pandas in a future version. Use pandas.concat instead.\n",
      "  train_csv = train_csv.append(train_csv_add, ignore_index = True)\n",
      "C:\\Users\\user\\AppData\\Local\\Temp/ipykernel_27588/3943940919.py:33: SettingWithCopyWarning: \n",
      "A value is trying to be set on a copy of a slice from a DataFrame\n",
      "\n",
      "See the caveats in the documentation: https://pandas.pydata.org/pandas-docs/stable/user_guide/indexing.html#returning-a-view-versus-a-copy\n",
      "  train_csv_add['Id'] = id + '_hflip'\n",
      "C:\\Users\\user\\AppData\\Local\\Temp/ipykernel_27588/3943940919.py:34: FutureWarning: The frame.append method is deprecated and will be removed from pandas in a future version. Use pandas.concat instead.\n",
      "  train_csv = train_csv.append(train_csv_add, ignore_index = True)\n",
      "C:\\Users\\user\\AppData\\Local\\Temp/ipykernel_27588/3943940919.py:35: SettingWithCopyWarning: \n",
      "A value is trying to be set on a copy of a slice from a DataFrame\n",
      "\n",
      "See the caveats in the documentation: https://pandas.pydata.org/pandas-docs/stable/user_guide/indexing.html#returning-a-view-versus-a-copy\n",
      "  train_csv_add['Id'] = id + '_rotate'\n",
      "C:\\Users\\user\\AppData\\Local\\Temp/ipykernel_27588/3943940919.py:36: FutureWarning: The frame.append method is deprecated and will be removed from pandas in a future version. Use pandas.concat instead.\n",
      "  train_csv = train_csv.append(train_csv_add, ignore_index = True)\n",
      "C:\\Users\\user\\AppData\\Local\\Temp/ipykernel_27588/3943940919.py:37: SettingWithCopyWarning: \n",
      "A value is trying to be set on a copy of a slice from a DataFrame\n",
      "\n",
      "See the caveats in the documentation: https://pandas.pydata.org/pandas-docs/stable/user_guide/indexing.html#returning-a-view-versus-a-copy\n",
      "  train_csv_add['Id'] = id + '_hflip_rotate'\n",
      "C:\\Users\\user\\AppData\\Local\\Temp/ipykernel_27588/3943940919.py:38: FutureWarning: The frame.append method is deprecated and will be removed from pandas in a future version. Use pandas.concat instead.\n",
      "  train_csv = train_csv.append(train_csv_add, ignore_index = True)\n",
      "C:\\Users\\user\\AppData\\Local\\Temp/ipykernel_27588/3943940919.py:33: SettingWithCopyWarning: \n",
      "A value is trying to be set on a copy of a slice from a DataFrame\n",
      "\n",
      "See the caveats in the documentation: https://pandas.pydata.org/pandas-docs/stable/user_guide/indexing.html#returning-a-view-versus-a-copy\n",
      "  train_csv_add['Id'] = id + '_hflip'\n",
      "C:\\Users\\user\\AppData\\Local\\Temp/ipykernel_27588/3943940919.py:34: FutureWarning: The frame.append method is deprecated and will be removed from pandas in a future version. Use pandas.concat instead.\n",
      "  train_csv = train_csv.append(train_csv_add, ignore_index = True)\n",
      "C:\\Users\\user\\AppData\\Local\\Temp/ipykernel_27588/3943940919.py:36: FutureWarning: The frame.append method is deprecated and will be removed from pandas in a future version. Use pandas.concat instead.\n",
      "  train_csv = train_csv.append(train_csv_add, ignore_index = True)\n",
      "C:\\Users\\user\\AppData\\Local\\Temp/ipykernel_27588/3943940919.py:38: FutureWarning: The frame.append method is deprecated and will be removed from pandas in a future version. Use pandas.concat instead.\n",
      "  train_csv = train_csv.append(train_csv_add, ignore_index = True)\n",
      "C:\\Users\\user\\AppData\\Local\\Temp/ipykernel_27588/3943940919.py:33: SettingWithCopyWarning: \n",
      "A value is trying to be set on a copy of a slice from a DataFrame\n",
      "\n",
      "See the caveats in the documentation: https://pandas.pydata.org/pandas-docs/stable/user_guide/indexing.html#returning-a-view-versus-a-copy\n",
      "  train_csv_add['Id'] = id + '_hflip'\n",
      "C:\\Users\\user\\AppData\\Local\\Temp/ipykernel_27588/3943940919.py:34: FutureWarning: The frame.append method is deprecated and will be removed from pandas in a future version. Use pandas.concat instead.\n",
      "  train_csv = train_csv.append(train_csv_add, ignore_index = True)\n",
      "C:\\Users\\user\\AppData\\Local\\Temp/ipykernel_27588/3943940919.py:35: SettingWithCopyWarning: \n",
      "A value is trying to be set on a copy of a slice from a DataFrame\n",
      "\n",
      "See the caveats in the documentation: https://pandas.pydata.org/pandas-docs/stable/user_guide/indexing.html#returning-a-view-versus-a-copy\n",
      "  train_csv_add['Id'] = id + '_rotate'\n",
      "C:\\Users\\user\\AppData\\Local\\Temp/ipykernel_27588/3943940919.py:36: FutureWarning: The frame.append method is deprecated and will be removed from pandas in a future version. Use pandas.concat instead.\n",
      "  train_csv = train_csv.append(train_csv_add, ignore_index = True)\n",
      "C:\\Users\\user\\AppData\\Local\\Temp/ipykernel_27588/3943940919.py:37: SettingWithCopyWarning: \n",
      "A value is trying to be set on a copy of a slice from a DataFrame\n",
      "\n",
      "See the caveats in the documentation: https://pandas.pydata.org/pandas-docs/stable/user_guide/indexing.html#returning-a-view-versus-a-copy\n",
      "  train_csv_add['Id'] = id + '_hflip_rotate'\n",
      "C:\\Users\\user\\AppData\\Local\\Temp/ipykernel_27588/3943940919.py:38: FutureWarning: The frame.append method is deprecated and will be removed from pandas in a future version. Use pandas.concat instead.\n",
      "  train_csv = train_csv.append(train_csv_add, ignore_index = True)\n",
      "C:\\Users\\user\\AppData\\Local\\Temp/ipykernel_27588/3943940919.py:33: SettingWithCopyWarning: \n",
      "A value is trying to be set on a copy of a slice from a DataFrame\n",
      "\n",
      "See the caveats in the documentation: https://pandas.pydata.org/pandas-docs/stable/user_guide/indexing.html#returning-a-view-versus-a-copy\n",
      "  train_csv_add['Id'] = id + '_hflip'\n",
      "C:\\Users\\user\\AppData\\Local\\Temp/ipykernel_27588/3943940919.py:34: FutureWarning: The frame.append method is deprecated and will be removed from pandas in a future version. Use pandas.concat instead.\n",
      "  train_csv = train_csv.append(train_csv_add, ignore_index = True)\n"
     ]
    },
    {
     "name": "stdout",
     "output_type": "stream",
     "text": [
      "200705-4\n",
      "NY180424-54\n",
      "201037-161\n",
      "210042-119\n",
      "200518-333\n",
      "200712-296\n",
      "201196-18\n",
      "200763-184\n"
     ]
    },
    {
     "name": "stderr",
     "output_type": "stream",
     "text": [
      "C:\\Users\\user\\AppData\\Local\\Temp/ipykernel_27588/3943940919.py:36: FutureWarning: The frame.append method is deprecated and will be removed from pandas in a future version. Use pandas.concat instead.\n",
      "  train_csv = train_csv.append(train_csv_add, ignore_index = True)\n",
      "C:\\Users\\user\\AppData\\Local\\Temp/ipykernel_27588/3943940919.py:38: FutureWarning: The frame.append method is deprecated and will be removed from pandas in a future version. Use pandas.concat instead.\n",
      "  train_csv = train_csv.append(train_csv_add, ignore_index = True)\n",
      "C:\\Users\\user\\AppData\\Local\\Temp/ipykernel_27588/3943940919.py:33: SettingWithCopyWarning: \n",
      "A value is trying to be set on a copy of a slice from a DataFrame\n",
      "\n",
      "See the caveats in the documentation: https://pandas.pydata.org/pandas-docs/stable/user_guide/indexing.html#returning-a-view-versus-a-copy\n",
      "  train_csv_add['Id'] = id + '_hflip'\n",
      "C:\\Users\\user\\AppData\\Local\\Temp/ipykernel_27588/3943940919.py:34: FutureWarning: The frame.append method is deprecated and will be removed from pandas in a future version. Use pandas.concat instead.\n",
      "  train_csv = train_csv.append(train_csv_add, ignore_index = True)\n",
      "C:\\Users\\user\\AppData\\Local\\Temp/ipykernel_27588/3943940919.py:35: SettingWithCopyWarning: \n",
      "A value is trying to be set on a copy of a slice from a DataFrame\n",
      "\n",
      "See the caveats in the documentation: https://pandas.pydata.org/pandas-docs/stable/user_guide/indexing.html#returning-a-view-versus-a-copy\n",
      "  train_csv_add['Id'] = id + '_rotate'\n",
      "C:\\Users\\user\\AppData\\Local\\Temp/ipykernel_27588/3943940919.py:36: FutureWarning: The frame.append method is deprecated and will be removed from pandas in a future version. Use pandas.concat instead.\n",
      "  train_csv = train_csv.append(train_csv_add, ignore_index = True)\n",
      "C:\\Users\\user\\AppData\\Local\\Temp/ipykernel_27588/3943940919.py:37: SettingWithCopyWarning: \n",
      "A value is trying to be set on a copy of a slice from a DataFrame\n",
      "\n",
      "See the caveats in the documentation: https://pandas.pydata.org/pandas-docs/stable/user_guide/indexing.html#returning-a-view-versus-a-copy\n",
      "  train_csv_add['Id'] = id + '_hflip_rotate'\n",
      "C:\\Users\\user\\AppData\\Local\\Temp/ipykernel_27588/3943940919.py:38: FutureWarning: The frame.append method is deprecated and will be removed from pandas in a future version. Use pandas.concat instead.\n",
      "  train_csv = train_csv.append(train_csv_add, ignore_index = True)\n",
      "C:\\Users\\user\\AppData\\Local\\Temp/ipykernel_27588/3943940919.py:33: SettingWithCopyWarning: \n",
      "A value is trying to be set on a copy of a slice from a DataFrame\n",
      "\n",
      "See the caveats in the documentation: https://pandas.pydata.org/pandas-docs/stable/user_guide/indexing.html#returning-a-view-versus-a-copy\n",
      "  train_csv_add['Id'] = id + '_hflip'\n",
      "C:\\Users\\user\\AppData\\Local\\Temp/ipykernel_27588/3943940919.py:34: FutureWarning: The frame.append method is deprecated and will be removed from pandas in a future version. Use pandas.concat instead.\n",
      "  train_csv = train_csv.append(train_csv_add, ignore_index = True)\n",
      "C:\\Users\\user\\AppData\\Local\\Temp/ipykernel_27588/3943940919.py:36: FutureWarning: The frame.append method is deprecated and will be removed from pandas in a future version. Use pandas.concat instead.\n",
      "  train_csv = train_csv.append(train_csv_add, ignore_index = True)\n",
      "C:\\Users\\user\\AppData\\Local\\Temp/ipykernel_27588/3943940919.py:38: FutureWarning: The frame.append method is deprecated and will be removed from pandas in a future version. Use pandas.concat instead.\n",
      "  train_csv = train_csv.append(train_csv_add, ignore_index = True)\n",
      "C:\\Users\\user\\AppData\\Local\\Temp/ipykernel_27588/3943940919.py:33: SettingWithCopyWarning: \n",
      "A value is trying to be set on a copy of a slice from a DataFrame\n",
      "\n",
      "See the caveats in the documentation: https://pandas.pydata.org/pandas-docs/stable/user_guide/indexing.html#returning-a-view-versus-a-copy\n",
      "  train_csv_add['Id'] = id + '_hflip'\n",
      "C:\\Users\\user\\AppData\\Local\\Temp/ipykernel_27588/3943940919.py:34: FutureWarning: The frame.append method is deprecated and will be removed from pandas in a future version. Use pandas.concat instead.\n",
      "  train_csv = train_csv.append(train_csv_add, ignore_index = True)\n",
      "C:\\Users\\user\\AppData\\Local\\Temp/ipykernel_27588/3943940919.py:35: SettingWithCopyWarning: \n",
      "A value is trying to be set on a copy of a slice from a DataFrame\n",
      "\n",
      "See the caveats in the documentation: https://pandas.pydata.org/pandas-docs/stable/user_guide/indexing.html#returning-a-view-versus-a-copy\n",
      "  train_csv_add['Id'] = id + '_rotate'\n",
      "C:\\Users\\user\\AppData\\Local\\Temp/ipykernel_27588/3943940919.py:36: FutureWarning: The frame.append method is deprecated and will be removed from pandas in a future version. Use pandas.concat instead.\n",
      "  train_csv = train_csv.append(train_csv_add, ignore_index = True)\n",
      "C:\\Users\\user\\AppData\\Local\\Temp/ipykernel_27588/3943940919.py:37: SettingWithCopyWarning: \n",
      "A value is trying to be set on a copy of a slice from a DataFrame\n",
      "\n",
      "See the caveats in the documentation: https://pandas.pydata.org/pandas-docs/stable/user_guide/indexing.html#returning-a-view-versus-a-copy\n",
      "  train_csv_add['Id'] = id + '_hflip_rotate'\n",
      "C:\\Users\\user\\AppData\\Local\\Temp/ipykernel_27588/3943940919.py:38: FutureWarning: The frame.append method is deprecated and will be removed from pandas in a future version. Use pandas.concat instead.\n",
      "  train_csv = train_csv.append(train_csv_add, ignore_index = True)\n",
      "C:\\Users\\user\\AppData\\Local\\Temp/ipykernel_27588/3943940919.py:33: SettingWithCopyWarning: \n",
      "A value is trying to be set on a copy of a slice from a DataFrame\n",
      "\n",
      "See the caveats in the documentation: https://pandas.pydata.org/pandas-docs/stable/user_guide/indexing.html#returning-a-view-versus-a-copy\n",
      "  train_csv_add['Id'] = id + '_hflip'\n",
      "C:\\Users\\user\\AppData\\Local\\Temp/ipykernel_27588/3943940919.py:34: FutureWarning: The frame.append method is deprecated and will be removed from pandas in a future version. Use pandas.concat instead.\n",
      "  train_csv = train_csv.append(train_csv_add, ignore_index = True)\n",
      "C:\\Users\\user\\AppData\\Local\\Temp/ipykernel_27588/3943940919.py:36: FutureWarning: The frame.append method is deprecated and will be removed from pandas in a future version. Use pandas.concat instead.\n",
      "  train_csv = train_csv.append(train_csv_add, ignore_index = True)\n",
      "C:\\Users\\user\\AppData\\Local\\Temp/ipykernel_27588/3943940919.py:38: FutureWarning: The frame.append method is deprecated and will be removed from pandas in a future version. Use pandas.concat instead.\n",
      "  train_csv = train_csv.append(train_csv_add, ignore_index = True)\n"
     ]
    }
   ],
   "source": [
    "length = len(train_csv)\n",
    "for i in range(length):\n",
    "    if train_csv['Price'].iloc[i] < 20000:\n",
    "        continue\n",
    "    id = train_csv['Id'].iloc[i]\n",
    "    image = image_path + '/' + id +'.jpg'\n",
    "    image = cv2.imread(image)\n",
    "    image = cv2.cvtColor(image, cv2.COLOR_BGR2RGB)\n",
    "    transform1 = A.Compose([\n",
    "           A.HorizontalFlip(always_apply=False, p=1.0)\n",
    "                               ])\n",
    "    transform2 = A.Compose([\n",
    "           A.Rotate(always_apply=False, p=1.0, limit=(90, 90), \n",
    "          interpolation=0)\n",
    "\n",
    "                               ])\n",
    "    transform3 = A.Compose([\n",
    "           A.HorizontalFlip(always_apply=False, p=1.0),\n",
    "           A.Rotate(always_apply=False, p=1.0, limit=(90, 90), \n",
    "           interpolation=0)\n",
    "\n",
    "                               ])\n",
    "\n",
    "    print(id)\n",
    "    image_hflip = transform1(image=image)['image']\n",
    "    cv2.imwrite(image_path + '/' + id + '_hflip.jpg',image_hflip)\n",
    "    image_rotate = transform2(image=image)['image']\n",
    "    cv2.imwrite(image_path + '/' + id + '_rotate.jpg',image_hflip)\n",
    "    image_hflip_rotate = transform3(image=image)['image']\n",
    "    cv2.imwrite(image_path + '/' + id + '_hflip_rotate.jpg',image_hflip)\n",
    "\n",
    "    train_csv_add = train_csv.iloc[i]\n",
    "    train_csv_add['Id'] = id + '_hflip'\n",
    "    train_csv = train_csv.append(train_csv_add, ignore_index = True)\n",
    "    train_csv_add['Id'] = id + '_rotate'\n",
    "    train_csv = train_csv.append(train_csv_add, ignore_index = True)\n",
    "    train_csv_add['Id'] = id + '_hflip_rotate'\n",
    "    train_csv = train_csv.append(train_csv_add, ignore_index = True)"
   ]
  },
  {
   "cell_type": "code",
   "execution_count": 6,
   "metadata": {
    "ExecuteTime": {
     "end_time": "2022-02-26T10:04:48.672017Z",
     "start_time": "2022-02-26T10:04:48.657058Z"
    },
    "colab": {
     "base_uri": "https://localhost:8080/"
    },
    "executionInfo": {
     "elapsed": 416,
     "status": "ok",
     "timestamp": 1645859685362,
     "user": {
      "displayName": "석진혁(공과대학 기계공학)",
      "photoUrl": "https://lh3.googleusercontent.com/a/default-user=s64",
      "userId": "04829476984882153292"
     },
     "user_tz": -540
    },
    "id": "g2UPP20D26In",
    "outputId": "7e6434a9-1e74-47da-8658-408c9e5ce7ce"
   },
   "outputs": [
    {
     "name": "stdout",
     "output_type": "stream",
     "text": [
      "20000$이상 보석 개수 :  68\n"
     ]
    }
   ],
   "source": [
    "print(\"20000$이상 보석 개수 : \",len(train_csv[train_csv['Price']>20000]))"
   ]
  },
  {
   "cell_type": "code",
   "execution_count": 9,
   "metadata": {
    "ExecuteTime": {
     "end_time": "2022-02-26T10:11:49.934551Z",
     "start_time": "2022-02-26T10:11:49.908620Z"
    },
    "executionInfo": {
     "elapsed": 423,
     "status": "ok",
     "timestamp": 1645859688865,
     "user": {
      "displayName": "석진혁(공과대학 기계공학)",
      "photoUrl": "https://lh3.googleusercontent.com/a/default-user=s64",
      "userId": "04829476984882153292"
     },
     "user_tz": -540
    },
    "id": "eJaoc5-UVhaj"
   },
   "outputs": [],
   "source": [
    "train_csv.to_csv('trainx4.csv', index=False)"
   ]
  },
  {
   "cell_type": "code",
   "execution_count": 8,
   "metadata": {
    "ExecuteTime": {
     "end_time": "2022-02-26T10:04:48.717401Z",
     "start_time": "2022-02-26T10:04:48.703439Z"
    },
    "colab": {
     "base_uri": "https://localhost:8080/"
    },
    "executionInfo": {
     "elapsed": 402,
     "status": "ok",
     "timestamp": 1645859691847,
     "user": {
      "displayName": "석진혁(공과대학 기계공학)",
      "photoUrl": "https://lh3.googleusercontent.com/a/default-user=s64",
      "userId": "04829476984882153292"
     },
     "user_tz": -540
    },
    "id": "Q64wG4jRi6fg",
    "outputId": "02a518aa-4d9c-42a5-d425-7499804eab5c"
   },
   "outputs": [
    {
     "name": "stdout",
     "output_type": "stream",
     "text": [
      "2874\n"
     ]
    }
   ],
   "source": [
    "train_csv2 = pd.read_csv('trainx4.csv')\n",
    "print(len(train_csv2))"
   ]
  }
 ],
 "metadata": {
  "colab": {
   "authorship_tag": "ABX9TyMvQVMlN8qGZCMwd9kcASkK",
   "collapsed_sections": [],
   "name": "data_augmentx4.ipynb",
   "provenance": []
  },
  "kernelspec": {
   "display_name": "Python 3 (ipykernel)",
   "language": "python",
   "name": "python3"
  },
  "language_info": {
   "codemirror_mode": {
    "name": "ipython",
    "version": 3
   },
   "file_extension": ".py",
   "mimetype": "text/x-python",
   "name": "python",
   "nbconvert_exporter": "python",
   "pygments_lexer": "ipython3",
   "version": "3.9.7"
  }
 },
 "nbformat": 4,
 "nbformat_minor": 1
}
