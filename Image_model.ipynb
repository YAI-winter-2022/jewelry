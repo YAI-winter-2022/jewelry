{
 "cells": [
  {
   "cell_type": "code",
   "execution_count": 1,
   "metadata": {
    "ExecuteTime": {
     "end_time": "2022-02-25T14:42:48.509819Z",
     "start_time": "2022-02-25T14:42:47.821055Z"
    },
    "executionInfo": {
     "elapsed": 389,
     "status": "ok",
     "timestamp": 1645248583756,
     "user": {
      "displayName": "석진혁(공과대학 기계공학)",
      "photoUrl": "https://lh3.googleusercontent.com/a/default-user=s64",
      "userId": "04829476984882153292"
     },
     "user_tz": -540
    },
    "id": "gala7GMLTriy"
   },
   "outputs": [],
   "source": [
    "import pandas as pd\n",
    "import numpy as np\n",
    "from PIL import Image\n",
    "import torch\n",
    "import torchvision\n",
    "import torch.nn as nn\n",
    "import torch.optim as optim\n",
    "from torchvision import transforms\n",
    "from torch.utils.data import Dataset, DataLoader\n",
    "from torch.utils.data.dataset import random_split\n",
    "import random\n",
    "\n",
    "device = torch.device('cuda' if torch.cuda.is_available() else 'cpu')"
   ]
  },
  {
   "cell_type": "code",
   "execution_count": 2,
   "metadata": {
    "ExecuteTime": {
     "end_time": "2022-02-25T14:42:48.525871Z",
     "start_time": "2022-02-25T14:42:48.509819Z"
    }
   },
   "outputs": [],
   "source": [
    "csv_path = \".\"\n",
    "image_path = \"./images\"\n",
    "batch_size = 256\n",
    "epochs = 200\n",
    "learning_rate = 1e-3\n",
    "seed = 42"
   ]
  },
  {
   "cell_type": "code",
   "execution_count": 3,
   "metadata": {
    "ExecuteTime": {
     "end_time": "2022-02-25T14:42:48.541937Z",
     "start_time": "2022-02-25T14:42:48.526870Z"
    }
   },
   "outputs": [],
   "source": [
    "torch.manual_seed(seed)\n",
    "np.random.seed(seed)\n",
    "random.seed(seed)\n",
    "torch.backends.cudnn.deterministic = True\n",
    "torch.backends.cudnn.benchmark = False\n",
    "torch.cuda.manual_seed(seed)\n",
    "torch.cuda.manual_seed_all(seed)"
   ]
  },
  {
   "cell_type": "code",
   "execution_count": 4,
   "metadata": {
    "ExecuteTime": {
     "end_time": "2022-02-25T14:42:48.557891Z",
     "start_time": "2022-02-25T14:42:48.542935Z"
    },
    "executionInfo": {
     "elapsed": 304,
     "status": "ok",
     "timestamp": 1645248727632,
     "user": {
      "displayName": "석진혁(공과대학 기계공학)",
      "photoUrl": "https://lh3.googleusercontent.com/a/default-user=s64",
      "userId": "04829476984882153292"
     },
     "user_tz": -540
    },
    "id": "S2aoNXxHSGUw"
   },
   "outputs": [],
   "source": [
    "class ImageDataset(Dataset):\n",
    "    def __init__(self, csv_path, image_path, image_transform=transforms.Compose([transforms.ToTensor()])):\n",
    "        super(ImageDataset).__init__()\n",
    "        csv = pd.read_csv(csv_path)\n",
    "        csv_np = csv.to_numpy()\n",
    "        \n",
    "        self.image_transform = image_transform\n",
    "        self.ids = list(map(str, csv_np[:,0]))\n",
    "        self.image_path = image_path\n",
    "        \n",
    "        self.target = torch.from_numpy(np.array(csv_np[:,[12]], dtype=\"float\")).float()\n",
    "    \n",
    "    \n",
    "    def __getitem__(self,idx):\n",
    "        image = Image.open(self.image_path+'/'+self.ids[idx]+'.jpg')\n",
    "        image_tensor = self.image_transform(image)\n",
    "        image.close()\n",
    "        return image_tensor, self.target[idx]\n",
    "    \n",
    "    \n",
    "    def __len__(self):\n",
    "        return len(self.target)"
   ]
  },
  {
   "cell_type": "code",
   "execution_count": 5,
   "metadata": {
    "ExecuteTime": {
     "end_time": "2022-02-25T14:42:48.573873Z",
     "start_time": "2022-02-25T14:42:48.558888Z"
    }
   },
   "outputs": [],
   "source": [
    "image_transform = transforms.Compose([transforms.ToTensor()\n",
    "                                     ])\n",
    "\n",
    "train_dataset = ImageDataset(csv_path+'/train.csv', image_path, image_transform)\n",
    "test_dataset = ImageDataset(csv_path+'/test.csv', image_path, image_transform)\n",
    "val_dataset = ImageDataset(csv_path+'/val.csv', image_path, image_transform)\n",
    "\n",
    "train_loader = DataLoader(train_dataset, batch_size=batch_size, shuffle = True)\n",
    "test_loader = DataLoader(test_dataset, batch_size=batch_size, shuffle = True)\n",
    "val_loader = DataLoader(val_dataset, batch_size=batch_size, shuffle = True)"
   ]
  },
  {
   "cell_type": "code",
   "execution_count": 6,
   "metadata": {
    "ExecuteTime": {
     "end_time": "2022-02-25T14:42:48.589854Z",
     "start_time": "2022-02-25T14:42:48.573873Z"
    }
   },
   "outputs": [],
   "source": [
    "class ImageNet(nn.Module):\n",
    "    def __init__(self):\n",
    "        super(ImageNet, self).__init__()\n",
    "        self.resnet18 = torchvision.models.resnet18(pretrained=False)\n",
    "        self.resnet18.fc = nn.Sequential(\n",
    "        nn.Linear(512, 4096),\n",
    "        nn.BatchNorm1d(4096),\n",
    "        nn.ReLU(),\n",
    "        nn.Dropout(),\n",
    "        nn.Linear(4096, 2048),\n",
    "        nn.BatchNorm1d(2048),\n",
    "        nn.ReLU(),\n",
    "        nn.Dropout(),\n",
    "        nn.Linear(2048, 1024),\n",
    "        nn.BatchNorm1d(1024),\n",
    "        nn.ReLU(),\n",
    "        nn.Dropout(),\n",
    "        nn.Linear(1024, 1)\n",
    "        )\n",
    "        self.resnet18.to(device)\n",
    "    \n",
    "    def forward(self, x):\n",
    "        return self.resnet18(x)"
   ]
  },
  {
   "cell_type": "code",
   "execution_count": 7,
   "metadata": {
    "ExecuteTime": {
     "end_time": "2022-02-25T14:42:48.809610Z",
     "start_time": "2022-02-25T14:42:48.590794Z"
    },
    "executionInfo": {
     "elapsed": 256,
     "status": "ok",
     "timestamp": 1645249328264,
     "user": {
      "displayName": "석진혁(공과대학 기계공학)",
      "photoUrl": "https://lh3.googleusercontent.com/a/default-user=s64",
      "userId": "04829476984882153292"
     },
     "user_tz": -540
    },
    "id": "l9xfqkslLx40"
   },
   "outputs": [],
   "source": [
    "model = ImageNet().to(device)\n",
    "\n",
    "criterion = nn.MSELoss().to(device)\n",
    "optimizer = optim.Adam(model.parameters(), lr=learning_rate)"
   ]
  },
  {
   "cell_type": "code",
   "execution_count": 8,
   "metadata": {
    "ExecuteTime": {
     "end_time": "2022-02-25T15:11:05.763439Z",
     "start_time": "2022-02-25T14:42:48.810201Z"
    },
    "colab": {
     "base_uri": "https://localhost:8080/"
    },
    "executionInfo": {
     "elapsed": 786494,
     "status": "ok",
     "timestamp": 1645250118255,
     "user": {
      "displayName": "석진혁(공과대학 기계공학)",
      "photoUrl": "https://lh3.googleusercontent.com/a/default-user=s64",
      "userId": "04829476984882153292"
     },
     "user_tz": -540
    },
    "id": "HTmDcy0gVAoM",
    "outputId": "355d74c4-e47f-45a7-b321-6aa19d66ac02"
   },
   "outputs": [
    {
     "name": "stdout",
     "output_type": "stream",
     "text": [
      "[Epoch:  1] Average loss: 4672.0181, val_loss: 4667.9331\n",
      "[Epoch:  2] Average loss: 4594.2466, val_loss: 4500.8057\n",
      "[Epoch:  3] Average loss: 4313.7705, val_loss: 4658.2295\n",
      "[Epoch:  4] Average loss: 4401.0811, val_loss: 4434.3462\n",
      "[Epoch:  5] Average loss: 4852.9316, val_loss: 4656.0889\n",
      "[Epoch:  6] Average loss: 4582.9897, val_loss: 4380.6406\n",
      "[Epoch:  7] Average loss: 4678.8623, val_loss: 4659.1743\n",
      "[Epoch:  8] Average loss: 4507.0454, val_loss: 4354.1768\n",
      "[Epoch:  9] Average loss: 4662.6431, val_loss: 4677.3232\n",
      "[Epoch: 10] Average loss: 4395.8877, val_loss: 4854.8730\n",
      "[Epoch: 11] Average loss: 4425.8467, val_loss: 4390.3994\n",
      "[Epoch: 12] Average loss: 4279.7222, val_loss: 4214.3857\n",
      "[Epoch: 13] Average loss: 4285.7705, val_loss: 3965.6694\n",
      "[Epoch: 14] Average loss: 4289.0293, val_loss: 4168.5547\n",
      "[Epoch: 15] Average loss: 4323.2402, val_loss: 3423.8088\n",
      "[Epoch: 16] Average loss: 4301.4980, val_loss: 4816.1924\n",
      "[Epoch: 17] Average loss: 4532.4521, val_loss: 4541.4810\n",
      "[Epoch: 18] Average loss: 4463.5312, val_loss: 3918.7217\n",
      "[Epoch: 19] Average loss: 4212.3369, val_loss: 4087.9688\n",
      "[Epoch: 20] Average loss: 4070.0037, val_loss: 3883.2358\n",
      "[Epoch: 21] Average loss: 3982.4854, val_loss: 4391.9141\n",
      "[Epoch: 22] Average loss: 4143.3477, val_loss: 4561.5254\n",
      "[Epoch: 23] Average loss: 4041.2720, val_loss: 4605.6758\n",
      "[Epoch: 24] Average loss: 4106.0381, val_loss: 4330.3726\n",
      "[Epoch: 25] Average loss: 4104.9434, val_loss: 4637.4688\n",
      "[Epoch: 26] Average loss: 3930.6929, val_loss: 4047.1406\n",
      "[Epoch: 27] Average loss: 4136.7241, val_loss: 3763.0269\n",
      "[Epoch: 28] Average loss: 4031.2095, val_loss: 4556.7637\n",
      "[Epoch: 29] Average loss: 3892.2908, val_loss: 6390.7598\n",
      "[Epoch: 30] Average loss: 4030.1165, val_loss: 4060.2346\n",
      "[Epoch: 31] Average loss: 3844.8210, val_loss: 4431.5112\n",
      "[Epoch: 32] Average loss: 4265.4585, val_loss: 4064.9268\n",
      "[Epoch: 33] Average loss: 3885.9238, val_loss: 4191.7744\n",
      "[Epoch: 34] Average loss: 3728.6624, val_loss: 4181.3457\n",
      "[Epoch: 35] Average loss: 3704.0046, val_loss: 4608.1162\n",
      "[Epoch: 36] Average loss: 4011.8716, val_loss: 3667.8467\n",
      "[Epoch: 37] Average loss: 3686.3445, val_loss: 4435.5435\n",
      "[Epoch: 38] Average loss: 3658.6538, val_loss: 5191.0864\n",
      "[Epoch: 39] Average loss: 3630.4531, val_loss: 7233.5342\n",
      "[Epoch: 40] Average loss: 3579.4258, val_loss: 4299.3198\n",
      "[Epoch: 41] Average loss: 3491.6003, val_loss: 4078.2847\n",
      "[Epoch: 42] Average loss: 3475.3047, val_loss: 6233.8755\n",
      "[Epoch: 43] Average loss: 3586.0234, val_loss: 13040.1797\n",
      "[Epoch: 44] Average loss: 3665.6277, val_loss: 4578.3252\n",
      "[Epoch: 45] Average loss: 3610.2886, val_loss: 4115.4731\n",
      "[Epoch: 46] Average loss: 3451.1062, val_loss: 4493.2979\n",
      "[Epoch: 47] Average loss: 3396.6880, val_loss: 3566.2871\n",
      "[Epoch: 48] Average loss: 3585.2949, val_loss: 4249.2334\n",
      "[Epoch: 49] Average loss: 3211.0291, val_loss: 4103.6792\n",
      "[Epoch: 50] Average loss: 3188.6558, val_loss: 3730.0947\n",
      "[Epoch: 51] Average loss: 3197.5837, val_loss: 3876.4231\n",
      "[Epoch: 52] Average loss: 3111.4116, val_loss: 4003.0774\n",
      "[Epoch: 53] Average loss: 4014.9597, val_loss: 3716.0491\n",
      "[Epoch: 54] Average loss: 3009.3142, val_loss: 4176.7676\n",
      "[Epoch: 55] Average loss: 2983.5740, val_loss: 4033.2288\n",
      "[Epoch: 56] Average loss: 3034.6724, val_loss: 3780.2612\n",
      "[Epoch: 57] Average loss: 2963.7876, val_loss: 3989.0728\n",
      "[Epoch: 58] Average loss: 2871.8533, val_loss: 3509.9478\n",
      "[Epoch: 59] Average loss: 2962.4744, val_loss: 5242.0078\n",
      "[Epoch: 60] Average loss: 2858.2412, val_loss: 11655.3398\n",
      "[Epoch: 61] Average loss: 2778.0303, val_loss: 3841.0566\n",
      "[Epoch: 62] Average loss: 2720.7830, val_loss: 4244.0029\n",
      "[Epoch: 63] Average loss: 2818.5872, val_loss: 3894.0635\n",
      "[Epoch: 64] Average loss: 2736.1970, val_loss: 4084.1011\n",
      "[Epoch: 65] Average loss: 2788.3376, val_loss: 4023.3889\n",
      "[Epoch: 66] Average loss: 2720.3887, val_loss: 4154.6143\n",
      "[Epoch: 67] Average loss: 2635.4978, val_loss: 4762.6826\n",
      "[Epoch: 68] Average loss: 2668.6772, val_loss: 3748.0391\n",
      "[Epoch: 69] Average loss: 2907.8457, val_loss: 4106.1592\n",
      "[Epoch: 70] Average loss: 2456.4634, val_loss: 3717.5354\n",
      "[Epoch: 71] Average loss: 2382.8684, val_loss: 3397.5083\n",
      "[Epoch: 72] Average loss: 2466.6912, val_loss: 4026.6714\n",
      "[Epoch: 73] Average loss: 2370.9060, val_loss: 4313.5923\n",
      "[Epoch: 74] Average loss: 2298.1870, val_loss: 3580.9297\n",
      "[Epoch: 75] Average loss: 2307.1367, val_loss: 13524.4795\n",
      "[Epoch: 76] Average loss: 2354.2070, val_loss: 10013.3701\n",
      "[Epoch: 77] Average loss: 3229.5408, val_loss: 3981.7373\n",
      "[Epoch: 78] Average loss: 2143.8760, val_loss: 3950.7568\n",
      "[Epoch: 79] Average loss: 2147.8723, val_loss: 4967.3608\n",
      "[Epoch: 80] Average loss: 2240.9714, val_loss: 3682.6626\n",
      "[Epoch: 81] Average loss: 2165.8008, val_loss: 4308.0332\n",
      "[Epoch: 82] Average loss: 2185.7366, val_loss: 3676.7559\n",
      "[Epoch: 83] Average loss: 2031.4050, val_loss: 4443.5742\n",
      "[Epoch: 84] Average loss: 2078.9346, val_loss: 3556.8164\n",
      "[Epoch: 85] Average loss: 1977.1338, val_loss: 3381.6995\n",
      "[Epoch: 86] Average loss: 1941.7944, val_loss: 3239.3855\n",
      "[Epoch: 87] Average loss: 1806.4375, val_loss: 3526.3586\n",
      "[Epoch: 88] Average loss: 1935.8848, val_loss: 3428.6194\n",
      "[Epoch: 89] Average loss: 2053.6223, val_loss: 3375.7776\n",
      "[Epoch: 90] Average loss: 1820.9404, val_loss: 3270.2695\n",
      "[Epoch: 91] Average loss: 1737.5966, val_loss: 3293.7988\n",
      "[Epoch: 92] Average loss: 1873.7255, val_loss: 3804.5869\n",
      "[Epoch: 93] Average loss: 1837.9249, val_loss: 3565.2341\n",
      "[Epoch: 94] Average loss: 1721.0990, val_loss: 3510.3870\n",
      "[Epoch: 95] Average loss: 1801.2299, val_loss: 3887.9004\n",
      "[Epoch: 96] Average loss: 1630.1335, val_loss: 4325.2178\n",
      "[Epoch: 97] Average loss: 1691.0551, val_loss: 3532.5466\n",
      "[Epoch: 98] Average loss: 1686.2627, val_loss: 3085.3386\n",
      "[Epoch: 99] Average loss: 2377.3818, val_loss: 3219.2866\n",
      "[Epoch: 100] Average loss: 1547.4652, val_loss: 4266.9468\n",
      "[Epoch: 101] Average loss: 1651.8474, val_loss: 3577.6475\n",
      "[Epoch: 102] Average loss: 1655.0089, val_loss: 3533.1316\n",
      "[Epoch: 103] Average loss: 1617.6282, val_loss: 3393.5242\n",
      "[Epoch: 104] Average loss: 1499.6294, val_loss: 3673.6787\n",
      "[Epoch: 105] Average loss: 1546.6018, val_loss: 4117.5029\n",
      "[Epoch: 106] Average loss: 1507.6237, val_loss: 5141.9878\n",
      "[Epoch: 107] Average loss: 1535.0990, val_loss: 3745.1001\n",
      "[Epoch: 108] Average loss: 1557.4050, val_loss: 3688.7310\n",
      "[Epoch: 109] Average loss: 1483.5598, val_loss: 3730.2095\n",
      "[Epoch: 110] Average loss: 1698.2081, val_loss: 3349.4104\n",
      "[Epoch: 111] Average loss: 1336.9991, val_loss: 3568.3586\n",
      "[Epoch: 112] Average loss: 1346.3544, val_loss: 3365.4146\n",
      "[Epoch: 113] Average loss: 1415.8486, val_loss: 3253.9858\n",
      "[Epoch: 114] Average loss: 1559.2600, val_loss: 3330.0576\n",
      "[Epoch: 115] Average loss: 1453.7628, val_loss: 3472.7168\n",
      "[Epoch: 116] Average loss: 1318.5867, val_loss: 3527.0674\n",
      "[Epoch: 117] Average loss: 1433.8044, val_loss: 3087.8704\n",
      "[Epoch: 118] Average loss: 1473.9557, val_loss: 3402.0046\n",
      "[Epoch: 119] Average loss: 1427.5848, val_loss: 3619.5669\n",
      "[Epoch: 120] Average loss: 1495.1935, val_loss: 3599.5400\n",
      "[Epoch: 121] Average loss: 1375.3118, val_loss: 3071.8865\n",
      "[Epoch: 122] Average loss: 1390.2006, val_loss: 3969.2537\n",
      "[Epoch: 123] Average loss: 1552.8867, val_loss: 3137.0701\n",
      "[Epoch: 124] Average loss: 1616.3778, val_loss: 3658.3662\n",
      "[Epoch: 125] Average loss: 1771.2407, val_loss: 3290.8662\n",
      "[Epoch: 126] Average loss: 2227.3735, val_loss: 3416.4031\n",
      "[Epoch: 127] Average loss: 1250.9039, val_loss: 3938.9751\n",
      "[Epoch: 128] Average loss: 1372.5841, val_loss: 3417.0020\n",
      "[Epoch: 129] Average loss: 1184.3408, val_loss: 2942.1008\n",
      "[Epoch: 130] Average loss: 1259.1237, val_loss: 3528.2332\n",
      "[Epoch: 131] Average loss: 2955.6873, val_loss: 3203.4023\n",
      "[Epoch: 132] Average loss: 1539.7542, val_loss: 3646.6274\n",
      "[Epoch: 133] Average loss: 1349.8317, val_loss: 3699.2358\n",
      "[Epoch: 134] Average loss: 2420.6743, val_loss: 3130.6689\n",
      "[Epoch: 135] Average loss: 1324.8655, val_loss: 3383.5586\n",
      "[Epoch: 136] Average loss: 1546.9209, val_loss: 3425.6492\n",
      "[Epoch: 137] Average loss: 1130.7560, val_loss: 3188.6694\n",
      "[Epoch: 138] Average loss: 1330.4065, val_loss: 3440.9727\n",
      "[Epoch: 139] Average loss: 1405.7111, val_loss: 3434.5662\n",
      "[Epoch: 140] Average loss: 1323.6892, val_loss: 2910.5044\n",
      "[Epoch: 141] Average loss: 1173.3733, val_loss: 3380.3022\n",
      "[Epoch: 142] Average loss: 1354.6930, val_loss: 4835.5806\n",
      "[Epoch: 143] Average loss: 1380.4407, val_loss: 3499.9731\n"
     ]
    },
    {
     "name": "stdout",
     "output_type": "stream",
     "text": [
      "[Epoch: 144] Average loss: 1446.8352, val_loss: 3222.3594\n",
      "[Epoch: 145] Average loss: 1267.6029, val_loss: 3757.5288\n",
      "[Epoch: 146] Average loss: 1201.0812, val_loss: 3316.7363\n",
      "[Epoch: 147] Average loss: 1318.7610, val_loss: 3449.1514\n",
      "[Epoch: 148] Average loss: 1097.8059, val_loss: 3586.0974\n",
      "[Epoch: 149] Average loss: 1018.3423, val_loss: 3476.0269\n",
      "[Epoch: 150] Average loss: 1506.7144, val_loss: 3624.1094\n",
      "[Epoch: 151] Average loss: 1350.4680, val_loss: 3616.3652\n",
      "[Epoch: 152] Average loss: 1307.3025, val_loss: 3189.4546\n",
      "[Epoch: 153] Average loss: 1184.3168, val_loss: 3315.2649\n",
      "[Epoch: 154] Average loss: 1094.5510, val_loss: 3082.5940\n",
      "[Epoch: 155] Average loss: 2323.4619, val_loss: 3217.8025\n",
      "[Epoch: 156] Average loss: 1109.8395, val_loss: 3134.5090\n",
      "[Epoch: 157] Average loss: 1179.8141, val_loss: 3499.4189\n",
      "[Epoch: 158] Average loss: 1064.5637, val_loss: 3728.2510\n",
      "[Epoch: 159] Average loss: 1196.9845, val_loss: 3484.8647\n",
      "[Epoch: 160] Average loss: 1224.0010, val_loss: 3297.6130\n",
      "[Epoch: 161] Average loss: 1140.5371, val_loss: 3491.2092\n",
      "[Epoch: 162] Average loss: 1346.6968, val_loss: 5779.9380\n",
      "[Epoch: 163] Average loss: 1360.3685, val_loss: 3700.3582\n",
      "[Epoch: 164] Average loss: 1424.8555, val_loss: 3526.0352\n",
      "[Epoch: 165] Average loss: 1170.2233, val_loss: 3787.6558\n",
      "[Epoch: 166] Average loss: 1346.1177, val_loss: 3416.0945\n",
      "[Epoch: 167] Average loss: 1042.6012, val_loss: 3277.8691\n",
      "[Epoch: 168] Average loss: 1027.2134, val_loss: 3515.3315\n",
      "[Epoch: 169] Average loss: 1222.6172, val_loss: 3080.1223\n",
      "[Epoch: 170] Average loss: 1215.9777, val_loss: 3381.6091\n",
      "[Epoch: 171] Average loss: 1230.0785, val_loss: 3572.7886\n",
      "[Epoch: 172] Average loss: 1137.3019, val_loss: 3030.4421\n",
      "[Epoch: 173] Average loss: 1141.3115, val_loss: 3131.5317\n",
      "[Epoch: 174] Average loss: 1176.7690, val_loss: 3149.5986\n",
      "[Epoch: 175] Average loss: 999.3215, val_loss: 3638.8823\n",
      "[Epoch: 176] Average loss: 1130.6047, val_loss: 2956.3494\n",
      "[Epoch: 177] Average loss: 1375.0941, val_loss: 3136.8928\n",
      "[Epoch: 178] Average loss: 1020.4027, val_loss: 3365.4094\n",
      "[Epoch: 179] Average loss: 1138.8992, val_loss: 3386.3840\n",
      "[Epoch: 180] Average loss: 1947.1986, val_loss: 3140.7329\n",
      "[Epoch: 181] Average loss: 1049.1587, val_loss: 3649.0747\n",
      "[Epoch: 182] Average loss: 1238.2357, val_loss: 3313.9880\n",
      "[Epoch: 183] Average loss: 1090.2719, val_loss: 3156.8203\n",
      "[Epoch: 184] Average loss: 1003.7991, val_loss: 3682.8096\n",
      "[Epoch: 185] Average loss: 1019.1326, val_loss: 3683.3809\n",
      "[Epoch: 186] Average loss: 2007.3545, val_loss: 3354.5793\n",
      "[Epoch: 187] Average loss: 2717.8748, val_loss: 3595.5110\n",
      "[Epoch: 188] Average loss: 1082.9307, val_loss: 3092.3757\n",
      "[Epoch: 189] Average loss: 1094.1890, val_loss: 3696.8315\n",
      "[Epoch: 190] Average loss: 1091.9907, val_loss: 3189.3801\n",
      "[Epoch: 191] Average loss: 1156.6045, val_loss: 3606.7415\n",
      "[Epoch: 192] Average loss: 1183.2073, val_loss: 3258.3242\n",
      "[Epoch: 193] Average loss: 1016.3879, val_loss: 2902.7444\n",
      "[Epoch: 194] Average loss: 957.9711, val_loss: 3270.9653\n",
      "[Epoch: 195] Average loss: 1158.9551, val_loss: 3528.7788\n",
      "[Epoch: 196] Average loss: 1238.1455, val_loss: 3329.7981\n",
      "[Epoch: 197] Average loss: 1234.5450, val_loss: 3801.8193\n",
      "[Epoch: 198] Average loss: 1200.9639, val_loss: 3419.8877\n",
      "[Epoch: 199] Average loss: 1104.6750, val_loss: 3376.7239\n",
      "[Epoch: 200] Average loss: 1195.6154, val_loss: 3325.5715\n"
     ]
    }
   ],
   "source": [
    "for epoch in range(epochs):\n",
    "    model.train()\n",
    "    criterion.train()\n",
    "    \n",
    "    avg_loss = 0\n",
    "\n",
    "    for X, Y in train_loader:\n",
    "        X = X.to(device)\n",
    "        Y = Y.to(device)\n",
    "\n",
    "        model.zero_grad()\n",
    "        prediction = model(X)\n",
    "        loss = torch.sqrt(criterion(prediction, Y)).to(device)\n",
    "        loss.backward()\n",
    "        optimizer.step()\n",
    "        avg_loss += loss / len(train_loader)\n",
    "    print(f'[Epoch: {epoch+1:>2}] Average loss: {avg_loss:.4f}, ', end='')\n",
    "    \n",
    "    model.eval()\n",
    "    criterion.eval()\n",
    "    with torch.no_grad():\n",
    "        val_avg_loss = 0.\n",
    "        for X_val, Y_val in val_loader:\n",
    "            X_val = X_val.to(device)\n",
    "            Y_val = Y_val.to(device)\n",
    "            val_prediction = model(X_val)\n",
    "            val_loss = torch.sqrt(criterion(val_prediction, Y_val)).to(device)\n",
    "            val_avg_loss += val_loss / len(val_loader)\n",
    "        \n",
    "        print(f\"val_loss: {val_avg_loss:.4f}\")"
   ]
  },
  {
   "cell_type": "code",
   "execution_count": 9,
   "metadata": {
    "ExecuteTime": {
     "end_time": "2022-02-25T15:11:07.747858Z",
     "start_time": "2022-02-25T15:11:05.764437Z"
    },
    "colab": {
     "base_uri": "https://localhost:8080/"
    },
    "executionInfo": {
     "elapsed": 8090,
     "status": "ok",
     "timestamp": 1645251018146,
     "user": {
      "displayName": "석진혁(공과대학 기계공학)",
      "photoUrl": "https://lh3.googleusercontent.com/a/default-user=s64",
      "userId": "04829476984882153292"
     },
     "user_tz": -540
    },
    "id": "bNWcnr4RR9wP",
    "outputId": "d1174ff1-ea8b-49a9-9ce4-294874569f6e"
   },
   "outputs": [
    {
     "name": "stdout",
     "output_type": "stream",
     "text": [
      "Accuracy: 13.80%\n"
     ]
    }
   ],
   "source": [
    "model.eval()\n",
    "criterion.eval()\n",
    "ss_tot = 0\n",
    "ss_res = 0\n",
    "with torch.no_grad():\n",
    "    for X_test, Y_test in test_loader:\n",
    "        X_test = X_test.to(device)\n",
    "        Y_test = Y_test.to(device)\n",
    "        prediction = model(X_test)\n",
    "        mean = torch.mean(Y_test)\n",
    "        ss_tot += torch.sum((Y_test - mean) ** 2)\n",
    "        ss_res += torch.sum((Y_test - prediction) ** 2)\n",
    "    \n",
    "    accuracy = 1 - ss_res/ss_tot\n",
    "    print(f\"Accuracy: {accuracy*100:.2f}%\")"
   ]
  }
 ],
 "metadata": {
  "accelerator": "GPU",
  "colab": {
   "authorship_tag": "ABX9TyPfB93W6gSzubm+xCLPEP0L",
   "collapsed_sections": [],
   "name": "train.ipynb",
   "provenance": []
  },
  "kernelspec": {
   "display_name": "Python 3 (ipykernel)",
   "language": "python",
   "name": "python3"
  },
  "language_info": {
   "codemirror_mode": {
    "name": "ipython",
    "version": 3
   },
   "file_extension": ".py",
   "mimetype": "text/x-python",
   "name": "python",
   "nbconvert_exporter": "python",
   "pygments_lexer": "ipython3",
   "version": "3.9.7"
  }
 },
 "nbformat": 4,
 "nbformat_minor": 1
}
