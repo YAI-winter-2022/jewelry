{
 "cells": [
  {
   "cell_type": "code",
   "execution_count": 1,
   "id": "a83628a5",
   "metadata": {
    "ExecuteTime": {
     "end_time": "2022-02-17T21:23:10.343420Z",
     "start_time": "2022-02-17T21:23:09.621899Z"
    }
   },
   "outputs": [],
   "source": [
    "import pandas as pd\n",
    "import numpy as np\n",
    "import torch\n",
    "import torch.nn as nn\n",
    "import torch.nn.functional as F\n",
    "import torchvision\n",
    "import torchvision.transforms as transforms\n",
    "from torch.utils.data.dataset import random_split\n",
    "from ignite.contrib.metrics.regression import R2Score\n",
    "\n",
    "device = torch.device('cuda' if torch.cuda.is_available() else 'cpu')\n",
    "device = torch.device('cpu')"
   ]
  },
  {
   "cell_type": "code",
   "execution_count": 2,
   "id": "a6a6f2fe",
   "metadata": {
    "ExecuteTime": {
     "end_time": "2022-02-17T21:23:10.359482Z",
     "start_time": "2022-02-17T21:23:10.343420Z"
    }
   },
   "outputs": [],
   "source": [
    "root = \"total.csv\"\n",
    "batch_size = 64\n",
    "epochs = 200\n",
    "learning_rate = 1e-3"
   ]
  },
  {
   "cell_type": "code",
   "execution_count": 3,
   "id": "ca7f373c",
   "metadata": {
    "ExecuteTime": {
     "end_time": "2022-02-17T21:23:10.501294Z",
     "start_time": "2022-02-17T21:23:10.360450Z"
    }
   },
   "outputs": [
    {
     "data": {
      "text/html": [
       "<div>\n",
       "<style scoped>\n",
       "    .dataframe tbody tr th:only-of-type {\n",
       "        vertical-align: middle;\n",
       "    }\n",
       "\n",
       "    .dataframe tbody tr th {\n",
       "        vertical-align: top;\n",
       "    }\n",
       "\n",
       "    .dataframe thead th {\n",
       "        text-align: right;\n",
       "    }\n",
       "</style>\n",
       "<table border=\"1\" class=\"dataframe\">\n",
       "  <thead>\n",
       "    <tr style=\"text-align: right;\">\n",
       "      <th></th>\n",
       "      <th>Id</th>\n",
       "      <th>Shape</th>\n",
       "      <th>Weight</th>\n",
       "      <th>Clarity</th>\n",
       "      <th>Colour</th>\n",
       "      <th>Cut</th>\n",
       "      <th>Polish</th>\n",
       "      <th>Symmetry</th>\n",
       "      <th>Fluorescence</th>\n",
       "      <th>Length</th>\n",
       "      <th>Width</th>\n",
       "      <th>Depth</th>\n",
       "      <th>Price</th>\n",
       "    </tr>\n",
       "  </thead>\n",
       "  <tbody>\n",
       "    <tr>\n",
       "      <th>0</th>\n",
       "      <td>1638147</td>\n",
       "      <td>CUSHION</td>\n",
       "      <td>0.55</td>\n",
       "      <td>SI2</td>\n",
       "      <td>E</td>\n",
       "      <td>EX</td>\n",
       "      <td>EX</td>\n",
       "      <td>VG</td>\n",
       "      <td>N</td>\n",
       "      <td>5.05</td>\n",
       "      <td>4.35</td>\n",
       "      <td>2.94</td>\n",
       "      <td>1378.65</td>\n",
       "    </tr>\n",
       "    <tr>\n",
       "      <th>1</th>\n",
       "      <td>1630155</td>\n",
       "      <td>CUSHION</td>\n",
       "      <td>0.50</td>\n",
       "      <td>VVS1</td>\n",
       "      <td>FANCY</td>\n",
       "      <td>EX</td>\n",
       "      <td>EX</td>\n",
       "      <td>VG</td>\n",
       "      <td>F</td>\n",
       "      <td>4.60</td>\n",
       "      <td>4.31</td>\n",
       "      <td>2.92</td>\n",
       "      <td>1379.74</td>\n",
       "    </tr>\n",
       "    <tr>\n",
       "      <th>2</th>\n",
       "      <td>1612606</td>\n",
       "      <td>CUSHION</td>\n",
       "      <td>0.51</td>\n",
       "      <td>VS2</td>\n",
       "      <td>H</td>\n",
       "      <td>EX</td>\n",
       "      <td>EX</td>\n",
       "      <td>VG</td>\n",
       "      <td>N</td>\n",
       "      <td>4.71</td>\n",
       "      <td>4.35</td>\n",
       "      <td>2.94</td>\n",
       "      <td>1380.19</td>\n",
       "    </tr>\n",
       "    <tr>\n",
       "      <th>3</th>\n",
       "      <td>1638140</td>\n",
       "      <td>CUSHION</td>\n",
       "      <td>0.50</td>\n",
       "      <td>VS2</td>\n",
       "      <td>H</td>\n",
       "      <td>EX</td>\n",
       "      <td>EX</td>\n",
       "      <td>VG</td>\n",
       "      <td>N</td>\n",
       "      <td>4.91</td>\n",
       "      <td>4.26</td>\n",
       "      <td>2.88</td>\n",
       "      <td>1380.61</td>\n",
       "    </tr>\n",
       "    <tr>\n",
       "      <th>4</th>\n",
       "      <td>1536093</td>\n",
       "      <td>CUSHION</td>\n",
       "      <td>0.53</td>\n",
       "      <td>SI1</td>\n",
       "      <td>D</td>\n",
       "      <td>EX</td>\n",
       "      <td>VG</td>\n",
       "      <td>VG</td>\n",
       "      <td>N</td>\n",
       "      <td>4.70</td>\n",
       "      <td>4.46</td>\n",
       "      <td>3.01</td>\n",
       "      <td>1383.13</td>\n",
       "    </tr>\n",
       "  </tbody>\n",
       "</table>\n",
       "</div>"
      ],
      "text/plain": [
       "        Id    Shape  Weight Clarity Colour Cut Polish Symmetry Fluorescence  \\\n",
       "0  1638147  CUSHION    0.55     SI2      E  EX     EX       VG            N   \n",
       "1  1630155  CUSHION    0.50    VVS1  FANCY  EX     EX       VG            F   \n",
       "2  1612606  CUSHION    0.51     VS2      H  EX     EX       VG            N   \n",
       "3  1638140  CUSHION    0.50     VS2      H  EX     EX       VG            N   \n",
       "4  1536093  CUSHION    0.53     SI1      D  EX     VG       VG            N   \n",
       "\n",
       "   Length  Width  Depth    Price  \n",
       "0    5.05   4.35   2.94  1378.65  \n",
       "1    4.60   4.31   2.92  1379.74  \n",
       "2    4.71   4.35   2.94  1380.19  \n",
       "3    4.91   4.26   2.88  1380.61  \n",
       "4    4.70   4.46   3.01  1383.13  "
      ]
     },
     "execution_count": 3,
     "metadata": {},
     "output_type": "execute_result"
    }
   ],
   "source": [
    "data_pd = pd.read_csv(root)\n",
    "data_pd.head()"
   ]
  },
  {
   "cell_type": "code",
   "execution_count": 4,
   "id": "06878422",
   "metadata": {
    "ExecuteTime": {
     "end_time": "2022-02-17T21:23:10.517297Z",
     "start_time": "2022-02-17T21:23:10.502293Z"
    }
   },
   "outputs": [],
   "source": [
    "data_numpy = data_pd.to_numpy()"
   ]
  },
  {
   "cell_type": "code",
   "execution_count": 5,
   "id": "c82b5d8e",
   "metadata": {
    "ExecuteTime": {
     "end_time": "2022-02-17T21:23:10.548409Z",
     "start_time": "2022-02-17T21:23:10.518269Z"
    }
   },
   "outputs": [
    {
     "name": "stdout",
     "output_type": "stream",
     "text": [
      "{'CUSHION': 0, 'EMERALD': 1, 'HEART': 2, 'MARQUISE': 3, 'OVAL': 4, 'PEAR': 5, 'PRINCESS': 6, 'ROUND': 7}\n",
      "{'FL': 0, 'I1': 1, 'I2': 2, 'I3': 3, 'IF': 4, 'SI1': 5, 'SI2': 6, 'VS1': 7, 'VS2': 8, 'VVS1': 9, 'VVS2': 10}\n",
      "{'D': 0, 'E': 1, 'F': 2, 'FANCY': 3, 'G': 4, 'H': 5, 'I': 6, 'J': 7, 'K': 8, 'L': 9, 'M': 10, 'N': 11, 'O': 12, 'O-P': 13, 'Q-R': 14, 'S-T': 15, 'U-V': 16, 'W': 17, 'W-X': 18, 'Y-Z': 19}\n",
      "{'EX': 0, 'F': 1, 'GD': 2, 'VG': 3}\n",
      "{'EX': 0, 'F': 1, 'GD': 2, 'VG': 3}\n",
      "{'EX': 0, 'FR': 1, 'GD': 2, 'VG': 3}\n",
      "{'F': 0, 'M': 1, 'N': 2, 'SL': 3, 'ST': 4, 'VS': 5, 'VSL': 6}\n"
     ]
    }
   ],
   "source": [
    "for i in [1, 3, 4, 5, 6, 7, 8]:\n",
    "    wordset = {word: idx for idx, word in enumerate(np.unique(data_numpy[:,i]))}\n",
    "    print(wordset)\n",
    "    for row in range(len(data_numpy)):\n",
    "        data_numpy[row][i] = wordset[data_numpy[row][i]]"
   ]
  },
  {
   "cell_type": "code",
   "execution_count": 6,
   "id": "7d93a08a",
   "metadata": {
    "ExecuteTime": {
     "end_time": "2022-02-17T21:23:10.564403Z",
     "start_time": "2022-02-17T21:23:10.549374Z"
    }
   },
   "outputs": [
    {
     "name": "stdout",
     "output_type": "stream",
     "text": [
      "[0 0.55 6 1 0 0 3 2 5.05 4.35 2.94 1378.65]\n"
     ]
    }
   ],
   "source": [
    "data_numpy = data_numpy[:,1:]\n",
    "print(data_numpy[0])"
   ]
  },
  {
   "cell_type": "code",
   "execution_count": 7,
   "id": "d62ba9fe",
   "metadata": {
    "ExecuteTime": {
     "end_time": "2022-02-17T21:23:10.579538Z",
     "start_time": "2022-02-17T21:23:10.565366Z"
    }
   },
   "outputs": [],
   "source": [
    "class Dataset(torch.utils.data.Dataset):\n",
    "    def __init__(self,ints, floats, target):\n",
    "        super(Dataset).__init__()\n",
    "        self.ints = ints\n",
    "        self.floats = floats\n",
    "        self.target = target\n",
    "        \n",
    "    def __getitem__(self,idx):\n",
    "        return self.ints[idx],self.floats[idx], self.target[idx]\n",
    "    \n",
    "    def __len__(self):\n",
    "        return len(self.ints)"
   ]
  },
  {
   "cell_type": "code",
   "execution_count": 8,
   "id": "95b71e61",
   "metadata": {
    "ExecuteTime": {
     "end_time": "2022-02-17T21:23:10.595346Z",
     "start_time": "2022-02-17T21:23:10.580386Z"
    }
   },
   "outputs": [
    {
     "name": "stdout",
     "output_type": "stream",
     "text": [
      "tensor([0, 6, 1, 0, 0, 3, 2], dtype=torch.int32)\n",
      "tensor([0.5500, 5.0500, 4.3500, 2.9400])\n",
      "tensor([1378.6500])\n"
     ]
    }
   ],
   "source": [
    "data_int = torch.from_numpy(np.array(data_numpy[:,[0,2,3,4,5,6,7]], dtype=\"int\"))\n",
    "data_float = torch.from_numpy(np.array(data_numpy[:,[1,8,9,10]], dtype=\"float\")).float()\n",
    "data_target = torch.from_numpy(np.array(data_numpy[:,[11]], dtype=\"float\")).float()\n",
    "print(data_int[0])\n",
    "print(data_float[0])\n",
    "print(data_target[0])"
   ]
  },
  {
   "cell_type": "code",
   "execution_count": 9,
   "id": "ff0950ff",
   "metadata": {
    "ExecuteTime": {
     "end_time": "2022-02-17T21:23:10.611331Z",
     "start_time": "2022-02-17T21:23:10.596343Z"
    }
   },
   "outputs": [],
   "source": [
    "train_length = int(len(data_numpy) * 0.6)\n",
    "test_length = int(len(data_numpy) * 0.2)\n",
    "val_length = len(data_numpy) - train_length - test_length\n",
    "\n",
    "train_dataset = Dataset(data_int, data_float, data_target)\n",
    "train_dataset, test_dataset = random_split(train_dataset, [train_length, test_length+val_length])\n",
    "test_dataset, val_dataset = random_split(test_dataset, [test_length, val_length])\n",
    "\n",
    "train_loader = torch.utils.data.DataLoader(train_dataset, batch_size=batch_size, shuffle = True)\n",
    "test_loader = torch.utils.data.DataLoader(test_dataset, batch_size=batch_size, shuffle = True)\n",
    "val_loader = torch.utils.data.DataLoader(val_dataset, batch_size=batch_size, shuffle = True)"
   ]
  },
  {
   "cell_type": "code",
   "execution_count": 10,
   "id": "a476a743",
   "metadata": {
    "ExecuteTime": {
     "end_time": "2022-02-17T21:23:10.627291Z",
     "start_time": "2022-02-17T21:23:10.612301Z"
    }
   },
   "outputs": [],
   "source": [
    "class Net(nn.Module):\n",
    "    def __init__(self):\n",
    "        super(Net, self).__init__()\n",
    "        self.emb1 = torch.nn.Embedding(8, 3)\n",
    "        self.emb2 = torch.nn.Embedding(11, 3)\n",
    "        self.emb3 = torch.nn.Embedding(20, 3)\n",
    "        self.emb4 = torch.nn.Embedding(4, 3)\n",
    "        self.emb5 = torch.nn.Embedding(4, 3)\n",
    "        self.emb6 = torch.nn.Embedding(4, 3)\n",
    "        self.emb7 = torch.nn.Embedding(7, 3)\n",
    "        self.act = nn.ReLU()\n",
    "        self.fc1 = nn.Linear(7*3+4, 120)\n",
    "        self.fc2 = nn.Linear(120, 84)\n",
    "        self.fc3 = nn.Linear(84, 1)\n",
    "    \n",
    "    def forward(self, x, y):\n",
    "        x1 = self.emb1(x[:,0])\n",
    "        x2 = self.emb2(x[:,1])\n",
    "        x3 = self.emb3(x[:,2])\n",
    "        x4 = self.emb4(x[:,3])\n",
    "        x5 = self.emb5(x[:,4])\n",
    "        x6 = self.emb6(x[:,5])\n",
    "        x7 = self.emb7(x[:,6])\n",
    "        x = torch.cat((x1, x2, x3, x4, x5, x6, x7, y), dim=1)\n",
    "        x = self.act(self.fc1(x))\n",
    "        x = self.act(self.fc2(x))\n",
    "        x = self.fc3(x)\n",
    "        return x"
   ]
  },
  {
   "cell_type": "code",
   "execution_count": 11,
   "id": "57844bf7",
   "metadata": {
    "ExecuteTime": {
     "end_time": "2022-02-17T21:23:10.643219Z",
     "start_time": "2022-02-17T21:23:10.628259Z"
    }
   },
   "outputs": [],
   "source": [
    "model = Net().to(device)\n",
    "\n",
    "criterion = nn.MSELoss().to(device)\n",
    "optimizer = torch.optim.Adam(model.parameters(), lr=learning_rate)"
   ]
  },
  {
   "cell_type": "code",
   "execution_count": null,
   "id": "7226943b",
   "metadata": {
    "ExecuteTime": {
     "start_time": "2022-02-17T21:23:09.606Z"
    }
   },
   "outputs": [
    {
     "name": "stdout",
     "output_type": "stream",
     "text": [
      "[Epoch:  1] Average loss: 23224882.0000, val_loss: 22418288.0000\n",
      "[Epoch:  2] Average loss: 22841530.0000, val_loss: 21303416.0000\n",
      "[Epoch:  3] Average loss: 20150762.0000, val_loss: 17521654.0000\n",
      "[Epoch:  4] Average loss: 17337856.0000, val_loss: 15858633.0000\n",
      "[Epoch:  5] Average loss: 17514902.0000, val_loss: 16328892.0000\n",
      "[Epoch:  6] Average loss: 15987319.0000, val_loss: 15495918.0000\n",
      "[Epoch:  7] Average loss: 16306881.0000, val_loss: 15328036.0000\n",
      "[Epoch:  8] Average loss: 15615265.0000, val_loss: 15147997.0000\n",
      "[Epoch:  9] Average loss: 15450321.0000, val_loss: 14983252.0000\n",
      "[Epoch: 10] Average loss: 15249082.0000, val_loss: 14787340.0000\n",
      "[Epoch: 11] Average loss: 15100431.0000, val_loss: 14582566.0000\n",
      "[Epoch: 12] Average loss: 15096018.0000, val_loss: 14372069.0000\n",
      "[Epoch: 13] Average loss: 14590633.0000, val_loss: 14979166.0000\n",
      "[Epoch: 14] Average loss: 14337693.0000, val_loss: 14519582.0000\n",
      "[Epoch: 15] Average loss: 14107648.0000, val_loss: 13662189.0000\n",
      "[Epoch: 16] Average loss: 13802912.0000, val_loss: 14014900.0000\n",
      "[Epoch: 17] Average loss: 13570015.0000, val_loss: 13186215.0000\n",
      "[Epoch: 18] Average loss: 13373053.0000, val_loss: 12946863.0000\n",
      "[Epoch: 19] Average loss: 13096826.0000, val_loss: 13066205.0000\n",
      "[Epoch: 20] Average loss: 12908633.0000, val_loss: 12570657.0000\n",
      "[Epoch: 21] Average loss: 12688648.0000, val_loss: 12587104.0000\n",
      "[Epoch: 22] Average loss: 12491451.0000, val_loss: 12873047.0000\n",
      "[Epoch: 23] Average loss: 12313422.0000, val_loss: 12100460.0000\n",
      "[Epoch: 24] Average loss: 12100875.0000, val_loss: 11925197.0000\n",
      "[Epoch: 25] Average loss: 13493438.0000, val_loss: 12277819.0000\n",
      "[Epoch: 26] Average loss: 11722203.0000, val_loss: 11550751.0000\n",
      "[Epoch: 27] Average loss: 12007495.0000, val_loss: 11653481.0000\n",
      "[Epoch: 28] Average loss: 11252828.0000, val_loss: 11176415.0000\n",
      "[Epoch: 29] Average loss: 11049620.0000, val_loss: 10958774.0000\n",
      "[Epoch: 30] Average loss: 11175472.0000, val_loss: 10751072.0000\n",
      "[Epoch: 31] Average loss: 11152757.0000, val_loss: 10554571.0000\n",
      "[Epoch: 32] Average loss: 10313391.0000, val_loss: 10317345.0000\n",
      "[Epoch: 33] Average loss: 10049266.0000, val_loss: 10081843.0000\n",
      "[Epoch: 34] Average loss: 9805167.0000, val_loss: 10087827.0000\n",
      "[Epoch: 35] Average loss: 9576522.0000, val_loss: 9628428.0000\n",
      "[Epoch: 36] Average loss: 9335386.0000, val_loss: 9374582.0000\n",
      "[Epoch: 37] Average loss: 9043186.0000, val_loss: 9121506.0000\n",
      "[Epoch: 38] Average loss: 8704148.0000, val_loss: 8872447.0000\n",
      "[Epoch: 39] Average loss: 8433375.0000, val_loss: 8665048.0000\n",
      "[Epoch: 40] Average loss: 8208390.5000, val_loss: 8449808.0000\n",
      "[Epoch: 41] Average loss: 7864186.0000, val_loss: 8263682.0000\n",
      "[Epoch: 42] Average loss: 7583605.0000, val_loss: 7865796.0000\n",
      "[Epoch: 43] Average loss: 7311091.5000, val_loss: 7636129.5000\n",
      "[Epoch: 44] Average loss: 7025212.5000, val_loss: 7403008.5000\n",
      "[Epoch: 45] Average loss: 6817131.0000, val_loss: 7164430.0000\n",
      "[Epoch: 46] Average loss: 6566842.5000, val_loss: 6934018.0000\n",
      "[Epoch: 47] Average loss: 7138216.5000, val_loss: 6698451.5000\n",
      "[Epoch: 48] Average loss: 6059100.5000, val_loss: 6480860.5000\n",
      "[Epoch: 49] Average loss: 5815920.0000, val_loss: 6494983.0000\n",
      "[Epoch: 50] Average loss: 5664644.0000, val_loss: 6058319.5000\n",
      "[Epoch: 51] Average loss: 5426136.5000, val_loss: 5851261.0000\n",
      "[Epoch: 52] Average loss: 5218136.0000, val_loss: 6158194.0000\n",
      "[Epoch: 53] Average loss: 4998184.0000, val_loss: 5525577.5000\n",
      "[Epoch: 54] Average loss: 4811889.0000, val_loss: 5564257.0000\n",
      "[Epoch: 55] Average loss: 4626155.0000, val_loss: 5163445.0000\n",
      "[Epoch: 56] Average loss: 4500643.0000, val_loss: 5085358.0000\n",
      "[Epoch: 57] Average loss: 4327933.5000, val_loss: 4878261.0000\n",
      "[Epoch: 58] Average loss: 4241292.0000, val_loss: 4801568.5000\n",
      "[Epoch: 59] Average loss: 4029973.5000, val_loss: 4602583.5000\n",
      "[Epoch: 60] Average loss: 3903330.2500, val_loss: 4556423.5000\n",
      "[Epoch: 61] Average loss: 3765281.0000, val_loss: 4328105.0000\n",
      "[Epoch: 62] Average loss: 3687415.0000, val_loss: 4249893.0000\n",
      "[Epoch: 63] Average loss: 3510402.5000, val_loss: 4357223.0000\n",
      "[Epoch: 64] Average loss: 3426763.7500, val_loss: 4058894.0000\n",
      "[Epoch: 65] Average loss: 3316235.2500, val_loss: 3929066.2500\n",
      "[Epoch: 66] Average loss: 3206814.5000, val_loss: 3817980.7500\n",
      "[Epoch: 67] Average loss: 3115606.0000, val_loss: 3736593.0000\n",
      "[Epoch: 68] Average loss: 3020018.7500, val_loss: 3653218.5000\n",
      "[Epoch: 69] Average loss: 2965513.7500, val_loss: 3579966.7500\n",
      "[Epoch: 70] Average loss: 2903624.0000, val_loss: 3504029.5000\n",
      "[Epoch: 71] Average loss: 2826171.5000, val_loss: 3479684.2500\n",
      "[Epoch: 72] Average loss: 2970659.0000, val_loss: 3364071.0000\n",
      "[Epoch: 73] Average loss: 2675327.5000, val_loss: 3284349.0000\n",
      "[Epoch: 74] Average loss: 2606816.7500, val_loss: 3257067.7500\n",
      "[Epoch: 75] Average loss: 2626283.0000, val_loss: 3162070.2500\n",
      "[Epoch: 76] Average loss: 2495683.0000, val_loss: 3097734.0000\n",
      "[Epoch: 77] Average loss: 2427671.5000, val_loss: 3020060.7500\n",
      "[Epoch: 78] Average loss: 2366354.2500, val_loss: 3006233.0000\n",
      "[Epoch: 79] Average loss: 2308913.0000, val_loss: 2926065.2500\n",
      "[Epoch: 80] Average loss: 2636951.5000, val_loss: 2884091.5000\n",
      "[Epoch: 81] Average loss: 2234713.7500, val_loss: 2927028.7500\n",
      "[Epoch: 82] Average loss: 2269557.7500, val_loss: 2751224.2500\n",
      "[Epoch: 83] Average loss: 2165127.2500, val_loss: 2718364.0000\n",
      "[Epoch: 84] Average loss: 2105994.0000, val_loss: 2671688.2500\n",
      "[Epoch: 85] Average loss: 2054734.5000, val_loss: 2626825.0000\n",
      "[Epoch: 86] Average loss: 1998384.1250, val_loss: 2609126.2500\n",
      "[Epoch: 87] Average loss: 2118068.7500, val_loss: 2562238.7500\n",
      "[Epoch: 88] Average loss: 1962049.1250, val_loss: 2644285.0000\n",
      "[Epoch: 89] Average loss: 1902687.7500, val_loss: 2478765.7500\n",
      "[Epoch: 90] Average loss: 1871650.2500, val_loss: 2420984.7500\n",
      "[Epoch: 91] Average loss: 1833145.1250, val_loss: 2387385.5000\n",
      "[Epoch: 92] Average loss: 1797216.8750, val_loss: 2349540.0000\n",
      "[Epoch: 93] Average loss: 1781858.8750, val_loss: 2342734.0000\n",
      "[Epoch: 94] Average loss: 1753821.3750, val_loss: 2297014.0000\n",
      "[Epoch: 95] Average loss: 1960519.2500, val_loss: 2276350.5000\n",
      "[Epoch: 96] Average loss: 1717180.2500, val_loss: 2245326.0000\n",
      "[Epoch: 97] Average loss: 1648061.8750, val_loss: 2354395.5000\n",
      "[Epoch: 98] Average loss: 1615067.8750, val_loss: 2337363.0000\n",
      "[Epoch: 99] Average loss: 1584383.6250, val_loss: 2209468.0000\n",
      "[Epoch: 100] Average loss: 1577701.6250, val_loss: 2153170.7500\n",
      "[Epoch: 101] Average loss: 1527749.2500, val_loss: 2129489.5000\n",
      "[Epoch: 102] Average loss: 1515743.6250, val_loss: 2158854.7500\n",
      "[Epoch: 103] Average loss: 1467862.1250, val_loss: 2098000.0000\n",
      "[Epoch: 104] Average loss: 1452502.5000, val_loss: 2055306.7500\n"
     ]
    }
   ],
   "source": [
    "for epoch in range(epochs):\n",
    "    avg_loss = 0\n",
    "\n",
    "    for X1, X2, Y in train_loader:\n",
    "        X1 = X1.to(device)\n",
    "        X2 = X2.to(device)\n",
    "        Y = Y.to(device)\n",
    "\n",
    "        model.zero_grad()  # why we use zero_grad?\n",
    "        prediction = model(X1, X2)\n",
    "        loss = criterion(prediction, Y)\n",
    "        loss.backward()\n",
    "        optimizer.step()\n",
    "        avg_loss += loss / len(train_loader)\n",
    "    print(f'[Epoch: {epoch+1:>2}] Average loss: {avg_loss:.4f}, ', end='')\n",
    "    with torch.no_grad():\n",
    "        val_avg_loss = 0.\n",
    "        for X1_val, X2_val, Y_val in val_loader:\n",
    "            X1_val = X1_val.to(device)\n",
    "            X2_val = X2_val.to(device)\n",
    "            Y_val = Y_val.to(device)\n",
    "            val_prediction = model(X1_val, X2_val)\n",
    "            val_loss = criterion(val_prediction, Y_val)\n",
    "            val_avg_loss += val_loss / len(val_loader)\n",
    "        \n",
    "        print(f\"val_loss: {val_avg_loss:.4f}\")"
   ]
  },
  {
   "cell_type": "code",
   "execution_count": null,
   "id": "cb1fcdc2",
   "metadata": {
    "ExecuteTime": {
     "start_time": "2022-02-17T21:23:09.607Z"
    }
   },
   "outputs": [],
   "source": [
    "metric = R2Score(device=device)\n",
    "metric.reset()\n",
    "with torch.no_grad():\n",
    "    test_avg_acc = 0\n",
    "    for X1_test, X2_test, Y_test in test_loader:\n",
    "        X1_test = X1_test.to(device)\n",
    "        X2_test = X2_test.to(device)\n",
    "        Y_test = Y_test.to(device)\n",
    "        \n",
    "        test_prediction = model(X1_test, X2_test)\n",
    "        metric.update([test_prediction, Y_test])\n",
    "    print(f\"Accuracy: {metric.compute()*100:.2f}%\")"
   ]
  },
  {
   "cell_type": "code",
   "execution_count": null,
   "id": "3695258d",
   "metadata": {},
   "outputs": [],
   "source": []
  }
 ],
 "metadata": {
  "kernelspec": {
   "display_name": "cuda",
   "language": "python",
   "name": "python-3-9-7"
  },
  "language_info": {
   "codemirror_mode": {
    "name": "ipython",
    "version": 3
   },
   "file_extension": ".py",
   "mimetype": "text/x-python",
   "name": "python",
   "nbconvert_exporter": "python",
   "pygments_lexer": "ipython3",
   "version": "3.9.7"
  }
 },
 "nbformat": 4,
 "nbformat_minor": 5
}
