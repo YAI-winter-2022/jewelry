{
 "cells": [
  {
   "cell_type": "code",
   "execution_count": 1,
   "id": "a83628a5",
   "metadata": {
    "ExecuteTime": {
     "end_time": "2022-02-17T21:30:03.057174Z",
     "start_time": "2022-02-17T21:30:02.312764Z"
    }
   },
   "outputs": [],
   "source": [
    "import pandas as pd\n",
    "import numpy as np\n",
    "import torch\n",
    "import torch.nn as nn\n",
    "import torch.nn.functional as F\n",
    "import torchvision\n",
    "import torchvision.transforms as transforms\n",
    "from torch.utils.data.dataset import random_split\n",
    "from ignite.contrib.metrics.regression import R2Score\n",
    "\n",
    "device = torch.device('cuda' if torch.cuda.is_available() else 'cpu')"
   ]
  },
  {
   "cell_type": "code",
   "execution_count": 2,
   "id": "a6a6f2fe",
   "metadata": {
    "ExecuteTime": {
     "end_time": "2022-02-17T21:30:03.073172Z",
     "start_time": "2022-02-17T21:30:03.057174Z"
    }
   },
   "outputs": [],
   "source": [
    "root = \"total.csv\"\n",
    "batch_size = 256\n",
    "epochs = 200\n",
    "learning_rate = 1e-3"
   ]
  },
  {
   "cell_type": "code",
   "execution_count": 3,
   "id": "ca7f373c",
   "metadata": {
    "ExecuteTime": {
     "end_time": "2022-02-17T21:30:03.168297Z",
     "start_time": "2022-02-17T21:30:03.074169Z"
    }
   },
   "outputs": [
    {
     "data": {
      "text/html": [
       "<div>\n",
       "<style scoped>\n",
       "    .dataframe tbody tr th:only-of-type {\n",
       "        vertical-align: middle;\n",
       "    }\n",
       "\n",
       "    .dataframe tbody tr th {\n",
       "        vertical-align: top;\n",
       "    }\n",
       "\n",
       "    .dataframe thead th {\n",
       "        text-align: right;\n",
       "    }\n",
       "</style>\n",
       "<table border=\"1\" class=\"dataframe\">\n",
       "  <thead>\n",
       "    <tr style=\"text-align: right;\">\n",
       "      <th></th>\n",
       "      <th>Id</th>\n",
       "      <th>Shape</th>\n",
       "      <th>Weight</th>\n",
       "      <th>Clarity</th>\n",
       "      <th>Colour</th>\n",
       "      <th>Cut</th>\n",
       "      <th>Polish</th>\n",
       "      <th>Symmetry</th>\n",
       "      <th>Fluorescence</th>\n",
       "      <th>Length</th>\n",
       "      <th>Width</th>\n",
       "      <th>Depth</th>\n",
       "      <th>Price</th>\n",
       "    </tr>\n",
       "  </thead>\n",
       "  <tbody>\n",
       "    <tr>\n",
       "      <th>0</th>\n",
       "      <td>1638147</td>\n",
       "      <td>CUSHION</td>\n",
       "      <td>0.55</td>\n",
       "      <td>SI2</td>\n",
       "      <td>E</td>\n",
       "      <td>EX</td>\n",
       "      <td>EX</td>\n",
       "      <td>VG</td>\n",
       "      <td>N</td>\n",
       "      <td>5.05</td>\n",
       "      <td>4.35</td>\n",
       "      <td>2.94</td>\n",
       "      <td>1378.65</td>\n",
       "    </tr>\n",
       "    <tr>\n",
       "      <th>1</th>\n",
       "      <td>1630155</td>\n",
       "      <td>CUSHION</td>\n",
       "      <td>0.50</td>\n",
       "      <td>VVS1</td>\n",
       "      <td>FANCY</td>\n",
       "      <td>EX</td>\n",
       "      <td>EX</td>\n",
       "      <td>VG</td>\n",
       "      <td>F</td>\n",
       "      <td>4.60</td>\n",
       "      <td>4.31</td>\n",
       "      <td>2.92</td>\n",
       "      <td>1379.74</td>\n",
       "    </tr>\n",
       "    <tr>\n",
       "      <th>2</th>\n",
       "      <td>1612606</td>\n",
       "      <td>CUSHION</td>\n",
       "      <td>0.51</td>\n",
       "      <td>VS2</td>\n",
       "      <td>H</td>\n",
       "      <td>EX</td>\n",
       "      <td>EX</td>\n",
       "      <td>VG</td>\n",
       "      <td>N</td>\n",
       "      <td>4.71</td>\n",
       "      <td>4.35</td>\n",
       "      <td>2.94</td>\n",
       "      <td>1380.19</td>\n",
       "    </tr>\n",
       "    <tr>\n",
       "      <th>3</th>\n",
       "      <td>1638140</td>\n",
       "      <td>CUSHION</td>\n",
       "      <td>0.50</td>\n",
       "      <td>VS2</td>\n",
       "      <td>H</td>\n",
       "      <td>EX</td>\n",
       "      <td>EX</td>\n",
       "      <td>VG</td>\n",
       "      <td>N</td>\n",
       "      <td>4.91</td>\n",
       "      <td>4.26</td>\n",
       "      <td>2.88</td>\n",
       "      <td>1380.61</td>\n",
       "    </tr>\n",
       "    <tr>\n",
       "      <th>4</th>\n",
       "      <td>1536093</td>\n",
       "      <td>CUSHION</td>\n",
       "      <td>0.53</td>\n",
       "      <td>SI1</td>\n",
       "      <td>D</td>\n",
       "      <td>EX</td>\n",
       "      <td>VG</td>\n",
       "      <td>VG</td>\n",
       "      <td>N</td>\n",
       "      <td>4.70</td>\n",
       "      <td>4.46</td>\n",
       "      <td>3.01</td>\n",
       "      <td>1383.13</td>\n",
       "    </tr>\n",
       "  </tbody>\n",
       "</table>\n",
       "</div>"
      ],
      "text/plain": [
       "        Id    Shape  Weight Clarity Colour Cut Polish Symmetry Fluorescence  \\\n",
       "0  1638147  CUSHION    0.55     SI2      E  EX     EX       VG            N   \n",
       "1  1630155  CUSHION    0.50    VVS1  FANCY  EX     EX       VG            F   \n",
       "2  1612606  CUSHION    0.51     VS2      H  EX     EX       VG            N   \n",
       "3  1638140  CUSHION    0.50     VS2      H  EX     EX       VG            N   \n",
       "4  1536093  CUSHION    0.53     SI1      D  EX     VG       VG            N   \n",
       "\n",
       "   Length  Width  Depth    Price  \n",
       "0    5.05   4.35   2.94  1378.65  \n",
       "1    4.60   4.31   2.92  1379.74  \n",
       "2    4.71   4.35   2.94  1380.19  \n",
       "3    4.91   4.26   2.88  1380.61  \n",
       "4    4.70   4.46   3.01  1383.13  "
      ]
     },
     "execution_count": 3,
     "metadata": {},
     "output_type": "execute_result"
    }
   ],
   "source": [
    "data_pd = pd.read_csv(root)\n",
    "data_pd.head()"
   ]
  },
  {
   "cell_type": "code",
   "execution_count": 4,
   "id": "06878422",
   "metadata": {
    "ExecuteTime": {
     "end_time": "2022-02-17T21:30:03.183803Z",
     "start_time": "2022-02-17T21:30:03.169290Z"
    }
   },
   "outputs": [],
   "source": [
    "data_numpy = data_pd.to_numpy()"
   ]
  },
  {
   "cell_type": "code",
   "execution_count": 5,
   "id": "c82b5d8e",
   "metadata": {
    "ExecuteTime": {
     "end_time": "2022-02-17T21:30:03.215743Z",
     "start_time": "2022-02-17T21:30:03.184800Z"
    }
   },
   "outputs": [
    {
     "name": "stdout",
     "output_type": "stream",
     "text": [
      "{'CUSHION': 0, 'EMERALD': 1, 'HEART': 2, 'MARQUISE': 3, 'OVAL': 4, 'PEAR': 5, 'PRINCESS': 6, 'ROUND': 7}\n",
      "{'FL': 0, 'I1': 1, 'I2': 2, 'I3': 3, 'IF': 4, 'SI1': 5, 'SI2': 6, 'VS1': 7, 'VS2': 8, 'VVS1': 9, 'VVS2': 10}\n",
      "{'D': 0, 'E': 1, 'F': 2, 'FANCY': 3, 'G': 4, 'H': 5, 'I': 6, 'J': 7, 'K': 8, 'L': 9, 'M': 10, 'N': 11, 'O': 12, 'O-P': 13, 'Q-R': 14, 'S-T': 15, 'U-V': 16, 'W': 17, 'W-X': 18, 'Y-Z': 19}\n",
      "{'EX': 0, 'F': 1, 'GD': 2, 'VG': 3}\n",
      "{'EX': 0, 'F': 1, 'GD': 2, 'VG': 3}\n",
      "{'EX': 0, 'FR': 1, 'GD': 2, 'VG': 3}\n",
      "{'F': 0, 'M': 1, 'N': 2, 'SL': 3, 'ST': 4, 'VS': 5, 'VSL': 6}\n"
     ]
    }
   ],
   "source": [
    "for i in [1, 3, 4, 5, 6, 7, 8]:\n",
    "    wordset = {word: idx for idx, word in enumerate(np.unique(data_numpy[:,i]))}\n",
    "    print(wordset)\n",
    "    for row in range(len(data_numpy)):\n",
    "        data_numpy[row][i] = wordset[data_numpy[row][i]]"
   ]
  },
  {
   "cell_type": "code",
   "execution_count": 6,
   "id": "7d93a08a",
   "metadata": {
    "ExecuteTime": {
     "end_time": "2022-02-17T21:30:03.231813Z",
     "start_time": "2022-02-17T21:30:03.215743Z"
    }
   },
   "outputs": [
    {
     "name": "stdout",
     "output_type": "stream",
     "text": [
      "[0 0.55 6 1 0 0 3 2 5.05 4.35 2.94 1378.65]\n"
     ]
    }
   ],
   "source": [
    "data_numpy = data_numpy[:,1:]\n",
    "print(data_numpy[0])"
   ]
  },
  {
   "cell_type": "code",
   "execution_count": 7,
   "id": "b815b6b1",
   "metadata": {
    "ExecuteTime": {
     "end_time": "2022-02-17T21:30:03.247694Z",
     "start_time": "2022-02-17T21:30:03.232810Z"
    }
   },
   "outputs": [],
   "source": [
    "class Dataset(torch.utils.data.Dataset):\n",
    "    def __init__(self,ints, floats, target):\n",
    "        super(Dataset).__init__()\n",
    "        self.ints = ints\n",
    "        self.floats = floats\n",
    "        self.target = target\n",
    "        \n",
    "    def __getitem__(self,idx):\n",
    "        return self.ints[idx],self.floats[idx], self.target[idx]\n",
    "    \n",
    "    def __len__(self):\n",
    "        return len(self.ints)"
   ]
  },
  {
   "cell_type": "code",
   "execution_count": 8,
   "id": "925cf468",
   "metadata": {
    "ExecuteTime": {
     "end_time": "2022-02-17T21:30:03.263625Z",
     "start_time": "2022-02-17T21:30:03.248691Z"
    }
   },
   "outputs": [
    {
     "name": "stdout",
     "output_type": "stream",
     "text": [
      "tensor([0, 6, 1, 0, 0, 3, 2], dtype=torch.int32)\n",
      "tensor([0.5500, 5.0500, 4.3500, 2.9400])\n",
      "tensor([1378.6500])\n"
     ]
    }
   ],
   "source": [
    "data_int = torch.from_numpy(np.array(data_numpy[:,[0,2,3,4,5,6,7]], dtype=\"int\"))\n",
    "data_float = torch.from_numpy(np.array(data_numpy[:,[1,8,9,10]], dtype=\"float\")).float()\n",
    "data_target = torch.from_numpy(np.array(data_numpy[:,[11]], dtype=\"float\")).float()\n",
    "print(data_int[0])\n",
    "print(data_float[0])\n",
    "print(data_target[0])"
   ]
  },
  {
   "cell_type": "code",
   "execution_count": 9,
   "id": "ff0950ff",
   "metadata": {
    "ExecuteTime": {
     "end_time": "2022-02-17T21:30:03.279581Z",
     "start_time": "2022-02-17T21:30:03.264623Z"
    }
   },
   "outputs": [],
   "source": [
    "train_length = int(len(data_numpy) * 0.6)\n",
    "test_length = int(len(data_numpy) * 0.2)\n",
    "val_length = len(data_numpy) - train_length - test_length\n",
    "\n",
    "train_dataset = Dataset(data_int, data_float, data_target)\n",
    "train_dataset, test_dataset = random_split(train_dataset, [train_length, test_length+val_length])\n",
    "test_dataset, val_dataset = random_split(test_dataset, [test_length, val_length])\n",
    "\n",
    "train_loader = torch.utils.data.DataLoader(train_dataset, batch_size=batch_size, shuffle = True)\n",
    "test_loader = torch.utils.data.DataLoader(test_dataset, batch_size=batch_size, shuffle = True)\n",
    "val_loader = torch.utils.data.DataLoader(val_dataset, batch_size=batch_size, shuffle = True)"
   ]
  },
  {
   "cell_type": "code",
   "execution_count": 10,
   "id": "a476a743",
   "metadata": {
    "ExecuteTime": {
     "end_time": "2022-02-17T21:30:03.295540Z",
     "start_time": "2022-02-17T21:30:03.280581Z"
    }
   },
   "outputs": [],
   "source": [
    "class Net(nn.Module):\n",
    "    def __init__(self):\n",
    "        super(Net, self).__init__()\n",
    "        self.emb1 = torch.nn.Embedding(8, 3)\n",
    "        self.emb2 = torch.nn.Embedding(11, 3)\n",
    "        self.emb3 = torch.nn.Embedding(20, 3)\n",
    "        self.emb4 = torch.nn.Embedding(4, 3)\n",
    "        self.emb5 = torch.nn.Embedding(4, 3)\n",
    "        self.emb6 = torch.nn.Embedding(4, 3)\n",
    "        self.emb7 = torch.nn.Embedding(7, 3)\n",
    "        self.act = nn.ReLU()\n",
    "        self.fc1 = nn.Linear(7*3+4, 120)\n",
    "        self.fc2 = nn.Linear(120, 84)\n",
    "        self.fc3 = nn.Linear(84, 1)\n",
    "    \n",
    "    def forward(self, x, y):\n",
    "        x1 = self.emb1(x[:,0])\n",
    "        x2 = self.emb2(x[:,1])\n",
    "        x3 = self.emb3(x[:,2])\n",
    "        x4 = self.emb4(x[:,3])\n",
    "        x5 = self.emb5(x[:,4])\n",
    "        x6 = self.emb6(x[:,5])\n",
    "        x7 = self.emb7(x[:,6])\n",
    "        x = torch.cat((x1, x2, x3, x4, x5, x6, x7, y), dim=1)\n",
    "        x = self.act(self.fc1(x))\n",
    "        x = self.act(self.fc2(x))\n",
    "        x = self.fc3(x)\n",
    "        return x"
   ]
  },
  {
   "cell_type": "code",
   "execution_count": 11,
   "id": "57844bf7",
   "metadata": {
    "ExecuteTime": {
     "end_time": "2022-02-17T21:30:03.359369Z",
     "start_time": "2022-02-17T21:30:03.296536Z"
    }
   },
   "outputs": [],
   "source": [
    "model = Net().to(device)\n",
    "\n",
    "criterion = nn.MSELoss().to(device)\n",
    "optimizer = torch.optim.Adam(model.parameters(), lr=learning_rate)"
   ]
  },
  {
   "cell_type": "code",
   "execution_count": 12,
   "id": "7f910f99",
   "metadata": {
    "ExecuteTime": {
     "end_time": "2022-02-17T21:30:15.566387Z",
     "start_time": "2022-02-17T21:30:03.360367Z"
    }
   },
   "outputs": [
    {
     "name": "stdout",
     "output_type": "stream",
     "text": [
      "[Epoch:  1] Average loss: 21193272.0000, val_loss: 25385304.0000\n",
      "[Epoch:  2] Average loss: 21565362.0000, val_loss: 25527010.0000\n",
      "[Epoch:  3] Average loss: 21149318.0000, val_loss: 25321208.0000\n",
      "[Epoch:  4] Average loss: 21080712.0000, val_loss: 25266450.0000\n",
      "[Epoch:  5] Average loss: 21018072.0000, val_loss: 25190596.0000\n",
      "[Epoch:  6] Average loss: 20745704.0000, val_loss: 24629102.0000\n",
      "[Epoch:  7] Average loss: 20253468.0000, val_loss: 24268978.0000\n",
      "[Epoch:  8] Average loss: 19682772.0000, val_loss: 23262500.0000\n",
      "[Epoch:  9] Average loss: 18971822.0000, val_loss: 22482676.0000\n",
      "[Epoch: 10] Average loss: 17907246.0000, val_loss: 21673212.0000\n",
      "[Epoch: 11] Average loss: 17299500.0000, val_loss: 20161980.0000\n",
      "[Epoch: 12] Average loss: 15921561.0000, val_loss: 19243524.0000\n",
      "[Epoch: 13] Average loss: 15219813.0000, val_loss: 18629054.0000\n",
      "[Epoch: 14] Average loss: 14832585.0000, val_loss: 18069992.0000\n",
      "[Epoch: 15] Average loss: 14438126.0000, val_loss: 18034496.0000\n",
      "[Epoch: 16] Average loss: 14446161.0000, val_loss: 17808334.0000\n",
      "[Epoch: 17] Average loss: 14272697.0000, val_loss: 17732632.0000\n",
      "[Epoch: 18] Average loss: 14451802.0000, val_loss: 17673822.0000\n",
      "[Epoch: 19] Average loss: 14144218.0000, val_loss: 17464934.0000\n",
      "[Epoch: 20] Average loss: 14154936.0000, val_loss: 17433366.0000\n",
      "[Epoch: 21] Average loss: 14236965.0000, val_loss: 17490514.0000\n",
      "[Epoch: 22] Average loss: 14084807.0000, val_loss: 17249054.0000\n",
      "[Epoch: 23] Average loss: 13992394.0000, val_loss: 17354920.0000\n",
      "[Epoch: 24] Average loss: 13985805.0000, val_loss: 17272440.0000\n",
      "[Epoch: 25] Average loss: 13773539.0000, val_loss: 17239262.0000\n",
      "[Epoch: 26] Average loss: 13697753.0000, val_loss: 16953664.0000\n",
      "[Epoch: 27] Average loss: 13702818.0000, val_loss: 17027832.0000\n",
      "[Epoch: 28] Average loss: 13672636.0000, val_loss: 16807092.0000\n",
      "[Epoch: 29] Average loss: 13539682.0000, val_loss: 16879626.0000\n",
      "[Epoch: 30] Average loss: 13464358.0000, val_loss: 16619711.0000\n",
      "[Epoch: 31] Average loss: 13387010.0000, val_loss: 16851222.0000\n",
      "[Epoch: 32] Average loss: 13315025.0000, val_loss: 16514537.0000\n",
      "[Epoch: 33] Average loss: 13340007.0000, val_loss: 16525507.0000\n",
      "[Epoch: 34] Average loss: 13330473.0000, val_loss: 16653668.0000\n",
      "[Epoch: 35] Average loss: 13070734.0000, val_loss: 16340384.0000\n",
      "[Epoch: 36] Average loss: 13098493.0000, val_loss: 16223393.0000\n",
      "[Epoch: 37] Average loss: 13074953.0000, val_loss: 15998780.0000\n",
      "[Epoch: 38] Average loss: 13108237.0000, val_loss: 16058459.0000\n",
      "[Epoch: 39] Average loss: 12745001.0000, val_loss: 15975641.0000\n",
      "[Epoch: 40] Average loss: 13242214.0000, val_loss: 15687547.0000\n",
      "[Epoch: 41] Average loss: 12618029.0000, val_loss: 16046216.0000\n",
      "[Epoch: 42] Average loss: 12477387.0000, val_loss: 15536580.0000\n",
      "[Epoch: 43] Average loss: 12441542.0000, val_loss: 15353744.0000\n",
      "[Epoch: 44] Average loss: 12523440.0000, val_loss: 15571062.0000\n",
      "[Epoch: 45] Average loss: 12245510.0000, val_loss: 15182756.0000\n",
      "[Epoch: 46] Average loss: 12176425.0000, val_loss: 15073780.0000\n",
      "[Epoch: 47] Average loss: 12379266.0000, val_loss: 15091069.0000\n",
      "[Epoch: 48] Average loss: 12221592.0000, val_loss: 15014188.0000\n",
      "[Epoch: 49] Average loss: 11932549.0000, val_loss: 14940880.0000\n",
      "[Epoch: 50] Average loss: 11824391.0000, val_loss: 14827140.0000\n",
      "[Epoch: 51] Average loss: 11850534.0000, val_loss: 14675121.0000\n",
      "[Epoch: 52] Average loss: 11963680.0000, val_loss: 14474943.0000\n",
      "[Epoch: 53] Average loss: 11603929.0000, val_loss: 14755726.0000\n",
      "[Epoch: 54] Average loss: 11565641.0000, val_loss: 14403750.0000\n",
      "[Epoch: 55] Average loss: 11465250.0000, val_loss: 14405150.0000\n",
      "[Epoch: 56] Average loss: 11375030.0000, val_loss: 14063265.0000\n",
      "[Epoch: 57] Average loss: 11353615.0000, val_loss: 14104872.0000\n",
      "[Epoch: 58] Average loss: 11297515.0000, val_loss: 13851052.0000\n",
      "[Epoch: 59] Average loss: 11212260.0000, val_loss: 13922263.0000\n",
      "[Epoch: 60] Average loss: 11572952.0000, val_loss: 13849912.0000\n",
      "[Epoch: 61] Average loss: 11071280.0000, val_loss: 13808314.0000\n",
      "[Epoch: 62] Average loss: 10962055.0000, val_loss: 13471565.0000\n",
      "[Epoch: 63] Average loss: 11097309.0000, val_loss: 13703932.0000\n",
      "[Epoch: 64] Average loss: 10861885.0000, val_loss: 13392450.0000\n",
      "[Epoch: 65] Average loss: 10906804.0000, val_loss: 13344452.0000\n",
      "[Epoch: 66] Average loss: 10684852.0000, val_loss: 13248342.0000\n",
      "[Epoch: 67] Average loss: 10608561.0000, val_loss: 13301336.0000\n",
      "[Epoch: 68] Average loss: 10601356.0000, val_loss: 12905622.0000\n",
      "[Epoch: 69] Average loss: 10478821.0000, val_loss: 12930337.0000\n",
      "[Epoch: 70] Average loss: 10680349.0000, val_loss: 12733535.0000\n",
      "[Epoch: 71] Average loss: 10520100.0000, val_loss: 12753386.0000\n",
      "[Epoch: 72] Average loss: 10228075.0000, val_loss: 12650230.0000\n",
      "[Epoch: 73] Average loss: 10436200.0000, val_loss: 12416989.0000\n",
      "[Epoch: 74] Average loss: 10216636.0000, val_loss: 12412098.0000\n",
      "[Epoch: 75] Average loss: 9970607.0000, val_loss: 12298663.0000\n",
      "[Epoch: 76] Average loss: 9861757.0000, val_loss: 12030268.0000\n",
      "[Epoch: 77] Average loss: 9778619.0000, val_loss: 11951223.0000\n",
      "[Epoch: 78] Average loss: 9635573.0000, val_loss: 11822095.0000\n",
      "[Epoch: 79] Average loss: 9560873.0000, val_loss: 11699743.0000\n",
      "[Epoch: 80] Average loss: 9594340.0000, val_loss: 11598153.0000\n",
      "[Epoch: 81] Average loss: 9702799.0000, val_loss: 11763562.0000\n",
      "[Epoch: 82] Average loss: 9250401.0000, val_loss: 11441465.0000\n",
      "[Epoch: 83] Average loss: 9260149.0000, val_loss: 11457122.0000\n",
      "[Epoch: 84] Average loss: 9204979.0000, val_loss: 11138262.0000\n",
      "[Epoch: 85] Average loss: 8911937.0000, val_loss: 11044508.0000\n",
      "[Epoch: 86] Average loss: 8968726.0000, val_loss: 10866186.0000\n",
      "[Epoch: 87] Average loss: 8861503.0000, val_loss: 11007557.0000\n",
      "[Epoch: 88] Average loss: 8587373.0000, val_loss: 10627506.0000\n",
      "[Epoch: 89] Average loss: 8510842.0000, val_loss: 10436564.0000\n",
      "[Epoch: 90] Average loss: 8463347.0000, val_loss: 10293408.0000\n",
      "[Epoch: 91] Average loss: 8401862.0000, val_loss: 10162766.0000\n",
      "[Epoch: 92] Average loss: 8148663.5000, val_loss: 9973458.0000\n",
      "[Epoch: 93] Average loss: 7982737.0000, val_loss: 9852941.0000\n",
      "[Epoch: 94] Average loss: 7832796.5000, val_loss: 9942326.0000\n",
      "[Epoch: 95] Average loss: 7887051.0000, val_loss: 9696084.0000\n",
      "[Epoch: 96] Average loss: 7601460.5000, val_loss: 9647446.0000\n",
      "[Epoch: 97] Average loss: 7538768.0000, val_loss: 9306690.0000\n",
      "[Epoch: 98] Average loss: 7388174.5000, val_loss: 9278062.0000\n",
      "[Epoch: 99] Average loss: 7299488.0000, val_loss: 9013511.0000\n",
      "[Epoch: 100] Average loss: 7109128.0000, val_loss: 8991086.0000\n",
      "[Epoch: 101] Average loss: 7129657.0000, val_loss: 8767414.0000\n",
      "[Epoch: 102] Average loss: 6853866.5000, val_loss: 8615932.0000\n",
      "[Epoch: 103] Average loss: 6763561.0000, val_loss: 8491661.0000\n",
      "[Epoch: 104] Average loss: 6783780.0000, val_loss: 8437491.0000\n",
      "[Epoch: 105] Average loss: 6491077.0000, val_loss: 8295477.5000\n",
      "[Epoch: 106] Average loss: 6389410.0000, val_loss: 8145992.0000\n",
      "[Epoch: 107] Average loss: 6275683.0000, val_loss: 8034968.5000\n",
      "[Epoch: 108] Average loss: 6258368.5000, val_loss: 7848131.5000\n",
      "[Epoch: 109] Average loss: 6027065.5000, val_loss: 7828851.5000\n",
      "[Epoch: 110] Average loss: 5915743.5000, val_loss: 7652560.5000\n",
      "[Epoch: 111] Average loss: 5839981.0000, val_loss: 7584771.0000\n",
      "[Epoch: 112] Average loss: 5762002.5000, val_loss: 7393199.0000\n",
      "[Epoch: 113] Average loss: 5619426.5000, val_loss: 7246874.0000\n",
      "[Epoch: 114] Average loss: 5664979.0000, val_loss: 7084849.0000\n",
      "[Epoch: 115] Average loss: 5364771.0000, val_loss: 7015026.0000\n",
      "[Epoch: 116] Average loss: 5248712.5000, val_loss: 6832971.5000\n",
      "[Epoch: 117] Average loss: 5167731.5000, val_loss: 6702954.0000\n",
      "[Epoch: 118] Average loss: 5048906.5000, val_loss: 6703707.0000\n",
      "[Epoch: 119] Average loss: 4944900.5000, val_loss: 6556675.0000\n",
      "[Epoch: 120] Average loss: 4866504.5000, val_loss: 6501294.0000\n",
      "[Epoch: 121] Average loss: 4763615.0000, val_loss: 6421883.5000\n",
      "[Epoch: 122] Average loss: 4791649.0000, val_loss: 6260818.5000\n",
      "[Epoch: 123] Average loss: 4637835.0000, val_loss: 6113810.0000\n",
      "[Epoch: 124] Average loss: 4511872.0000, val_loss: 6066134.0000\n",
      "[Epoch: 125] Average loss: 4443869.5000, val_loss: 5917595.0000\n",
      "[Epoch: 126] Average loss: 4375033.0000, val_loss: 5838000.0000\n",
      "[Epoch: 127] Average loss: 4294701.0000, val_loss: 5772198.0000\n"
     ]
    },
    {
     "name": "stdout",
     "output_type": "stream",
     "text": [
      "[Epoch: 128] Average loss: 4161093.5000, val_loss: 5586359.0000\n",
      "[Epoch: 129] Average loss: 4097674.2500, val_loss: 5501138.0000\n",
      "[Epoch: 130] Average loss: 4012148.7500, val_loss: 5411828.5000\n",
      "[Epoch: 131] Average loss: 3932605.5000, val_loss: 5443833.5000\n",
      "[Epoch: 132] Average loss: 3894615.7500, val_loss: 5254179.0000\n",
      "[Epoch: 133] Average loss: 3802264.2500, val_loss: 5225299.5000\n",
      "[Epoch: 134] Average loss: 3734345.5000, val_loss: 5100599.5000\n",
      "[Epoch: 135] Average loss: 3701676.2500, val_loss: 5107719.5000\n",
      "[Epoch: 136] Average loss: 3613695.5000, val_loss: 4982404.0000\n",
      "[Epoch: 137] Average loss: 3621945.2500, val_loss: 4939870.0000\n",
      "[Epoch: 138] Average loss: 3488199.5000, val_loss: 4855522.0000\n",
      "[Epoch: 139] Average loss: 3484357.5000, val_loss: 4870395.0000\n",
      "[Epoch: 140] Average loss: 3430413.0000, val_loss: 4691206.0000\n",
      "[Epoch: 141] Average loss: 3315378.5000, val_loss: 4603972.0000\n",
      "[Epoch: 142] Average loss: 3284453.7500, val_loss: 4537487.5000\n",
      "[Epoch: 143] Average loss: 3221426.5000, val_loss: 4528940.5000\n",
      "[Epoch: 144] Average loss: 3180329.0000, val_loss: 4464603.5000\n",
      "[Epoch: 145] Average loss: 3221270.7500, val_loss: 4350443.5000\n",
      "[Epoch: 146] Average loss: 3082898.5000, val_loss: 4344662.0000\n",
      "[Epoch: 147] Average loss: 3024396.2500, val_loss: 4283702.0000\n",
      "[Epoch: 148] Average loss: 3074990.0000, val_loss: 4174253.2500\n",
      "[Epoch: 149] Average loss: 2995165.5000, val_loss: 4165285.0000\n",
      "[Epoch: 150] Average loss: 2923506.0000, val_loss: 4085343.5000\n",
      "[Epoch: 151] Average loss: 2927308.0000, val_loss: 4041120.5000\n",
      "[Epoch: 152] Average loss: 2859484.0000, val_loss: 4002220.7500\n",
      "[Epoch: 153] Average loss: 2793143.5000, val_loss: 3925460.0000\n",
      "[Epoch: 154] Average loss: 2749011.7500, val_loss: 3880450.2500\n",
      "[Epoch: 155] Average loss: 2759853.5000, val_loss: 3827630.5000\n",
      "[Epoch: 156] Average loss: 2735012.5000, val_loss: 3780997.5000\n",
      "[Epoch: 157] Average loss: 2663098.7500, val_loss: 3771844.0000\n",
      "[Epoch: 158] Average loss: 2605178.2500, val_loss: 3756250.5000\n",
      "[Epoch: 159] Average loss: 2564931.0000, val_loss: 3682465.7500\n",
      "[Epoch: 160] Average loss: 2559196.2500, val_loss: 3651418.5000\n",
      "[Epoch: 161] Average loss: 2504394.2500, val_loss: 3593922.5000\n",
      "[Epoch: 162] Average loss: 2486147.2500, val_loss: 3560933.0000\n",
      "[Epoch: 163] Average loss: 2441945.5000, val_loss: 3522900.0000\n",
      "[Epoch: 164] Average loss: 2430211.2500, val_loss: 3464653.0000\n",
      "[Epoch: 165] Average loss: 2402513.2500, val_loss: 3429969.0000\n",
      "[Epoch: 166] Average loss: 2359847.0000, val_loss: 3442104.5000\n",
      "[Epoch: 167] Average loss: 2357241.2500, val_loss: 3379224.7500\n",
      "[Epoch: 168] Average loss: 2308724.7500, val_loss: 3333884.7500\n",
      "[Epoch: 169] Average loss: 2376064.2500, val_loss: 3320198.2500\n",
      "[Epoch: 170] Average loss: 2255818.5000, val_loss: 3274985.0000\n",
      "[Epoch: 171] Average loss: 2226517.5000, val_loss: 3274259.0000\n",
      "[Epoch: 172] Average loss: 2201602.2500, val_loss: 3203580.7500\n",
      "[Epoch: 173] Average loss: 2195301.5000, val_loss: 3183652.5000\n",
      "[Epoch: 174] Average loss: 2176908.5000, val_loss: 3191319.0000\n",
      "[Epoch: 175] Average loss: 2178305.2500, val_loss: 3100380.7500\n",
      "[Epoch: 176] Average loss: 2109697.2500, val_loss: 3079011.7500\n",
      "[Epoch: 177] Average loss: 2096789.0000, val_loss: 3033933.0000\n",
      "[Epoch: 178] Average loss: 2068402.2500, val_loss: 3025155.7500\n",
      "[Epoch: 179] Average loss: 2064481.1250, val_loss: 3033776.5000\n",
      "[Epoch: 180] Average loss: 2028800.6250, val_loss: 2967469.0000\n",
      "[Epoch: 181] Average loss: 2039391.5000, val_loss: 2937233.2500\n",
      "[Epoch: 182] Average loss: 1990927.8750, val_loss: 2935235.5000\n",
      "[Epoch: 183] Average loss: 1980484.6250, val_loss: 2941979.5000\n",
      "[Epoch: 184] Average loss: 1980093.1250, val_loss: 2915067.5000\n",
      "[Epoch: 185] Average loss: 1937686.1250, val_loss: 2879875.0000\n",
      "[Epoch: 186] Average loss: 1919292.5000, val_loss: 2828004.5000\n",
      "[Epoch: 187] Average loss: 1891111.0000, val_loss: 2820847.7500\n",
      "[Epoch: 188] Average loss: 1887029.0000, val_loss: 2816114.5000\n",
      "[Epoch: 189] Average loss: 1854157.0000, val_loss: 2764330.0000\n",
      "[Epoch: 190] Average loss: 1878666.8750, val_loss: 2758392.2500\n",
      "[Epoch: 191] Average loss: 1812906.3750, val_loss: 2712114.0000\n",
      "[Epoch: 192] Average loss: 1814757.5000, val_loss: 2730040.5000\n",
      "[Epoch: 193] Average loss: 1811887.5000, val_loss: 2714424.0000\n",
      "[Epoch: 194] Average loss: 1753516.5000, val_loss: 2687807.0000\n",
      "[Epoch: 195] Average loss: 1746466.5000, val_loss: 2649881.0000\n",
      "[Epoch: 196] Average loss: 1728404.1250, val_loss: 2606504.0000\n",
      "[Epoch: 197] Average loss: 1731308.5000, val_loss: 2617016.0000\n",
      "[Epoch: 198] Average loss: 1704162.5000, val_loss: 2619747.5000\n",
      "[Epoch: 199] Average loss: 1691364.7500, val_loss: 2585904.2500\n",
      "[Epoch: 200] Average loss: 1682594.7500, val_loss: 2559680.7500\n"
     ]
    }
   ],
   "source": [
    "for epoch in range(epochs):\n",
    "    avg_loss = 0\n",
    "\n",
    "    for X1, X2, Y in train_loader:\n",
    "        X1 = X1.to(device)\n",
    "        X2 = X2.to(device)\n",
    "        Y = Y.to(device)\n",
    "\n",
    "        model.zero_grad()  # why we use zero_grad?\n",
    "        prediction = model(X1, X2)\n",
    "        loss = criterion(prediction, Y)\n",
    "        loss.backward()\n",
    "        optimizer.step()\n",
    "        avg_loss += loss / len(train_loader)\n",
    "    print(f'[Epoch: {epoch+1:>2}] Average loss: {avg_loss:.4f}, ', end='')\n",
    "    with torch.no_grad():\n",
    "        val_avg_loss = 0.\n",
    "        for X1_val, X2_val, Y_val in val_loader:\n",
    "            X1_val = X1_val.to(device)\n",
    "            X2_val = X2_val.to(device)\n",
    "            Y_val = Y_val.to(device)\n",
    "            val_prediction = model(X1_val, X2_val)\n",
    "            val_loss = criterion(val_prediction, Y_val)\n",
    "            val_avg_loss += val_loss / len(val_loader)\n",
    "        \n",
    "        print(f\"val_loss: {val_avg_loss:.4f}\")"
   ]
  },
  {
   "cell_type": "code",
   "execution_count": 13,
   "id": "bb590aa6",
   "metadata": {
    "ExecuteTime": {
     "end_time": "2022-02-17T21:30:15.581341Z",
     "start_time": "2022-02-17T21:30:15.567345Z"
    }
   },
   "outputs": [
    {
     "name": "stdout",
     "output_type": "stream",
     "text": [
      "Accuracy: 88.05%\n"
     ]
    }
   ],
   "source": [
    "metric = R2Score(device=device)\n",
    "metric.reset()\n",
    "with torch.no_grad():\n",
    "    test_avg_acc = 0\n",
    "    for X1_test, X2_test, Y_test in test_loader:\n",
    "        X1_test = X1_test.to(device)\n",
    "        X2_test = X2_test.to(device)\n",
    "        Y_test = Y_test.to(device)\n",
    "        \n",
    "        test_prediction = model(X1_test, X2_test)\n",
    "        metric.update([test_prediction, Y_test])\n",
    "    print(f\"Accuracy: {metric.compute()*100:.2f}%\")"
   ]
  },
  {
   "cell_type": "code",
   "execution_count": null,
   "id": "4bca4cab",
   "metadata": {},
   "outputs": [],
   "source": []
  }
 ],
 "metadata": {
  "kernelspec": {
   "display_name": "cuda",
   "language": "python",
   "name": "python-3-9-7"
  },
  "language_info": {
   "codemirror_mode": {
    "name": "ipython",
    "version": 3
   },
   "file_extension": ".py",
   "mimetype": "text/x-python",
   "name": "python",
   "nbconvert_exporter": "python",
   "pygments_lexer": "ipython3",
   "version": "3.9.7"
  }
 },
 "nbformat": 4,
 "nbformat_minor": 5
}
