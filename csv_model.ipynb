{
 "cells": [
  {
   "cell_type": "code",
   "execution_count": 74,
   "id": "a83628a5",
   "metadata": {
    "ExecuteTime": {
     "end_time": "2022-02-17T21:02:30.917632Z",
     "start_time": "2022-02-17T21:02:30.873532Z"
    }
   },
   "outputs": [],
   "source": [
    "import pandas as pd\n",
    "import numpy as np\n",
    "import torch\n",
    "import torch.nn as nn\n",
    "import torch.nn.functional as F\n",
    "import torchvision\n",
    "import torchvision.transforms as transforms\n",
    "from torch.utils.data.dataset import random_split\n",
    "from ignite.contrib.metrics.regression import R2Score\n",
    "\n",
    "device = torch.device('cuda' if torch.cuda.is_available() else 'cpu')\n",
    "device = torch.device('cpu')"
   ]
  },
  {
   "cell_type": "code",
   "execution_count": 2,
   "id": "a6a6f2fe",
   "metadata": {
    "ExecuteTime": {
     "end_time": "2022-02-17T20:38:24.353595Z",
     "start_time": "2022-02-17T20:38:24.338588Z"
    }
   },
   "outputs": [],
   "source": [
    "root = \"total.csv\"\n",
    "batch_size = 64\n",
    "epochs = 200\n",
    "learning_rate = 1e-4"
   ]
  },
  {
   "cell_type": "code",
   "execution_count": 3,
   "id": "ca7f373c",
   "metadata": {
    "ExecuteTime": {
     "end_time": "2022-02-17T20:38:24.511156Z",
     "start_time": "2022-02-17T20:38:24.354593Z"
    }
   },
   "outputs": [
    {
     "data": {
      "text/html": [
       "<div>\n",
       "<style scoped>\n",
       "    .dataframe tbody tr th:only-of-type {\n",
       "        vertical-align: middle;\n",
       "    }\n",
       "\n",
       "    .dataframe tbody tr th {\n",
       "        vertical-align: top;\n",
       "    }\n",
       "\n",
       "    .dataframe thead th {\n",
       "        text-align: right;\n",
       "    }\n",
       "</style>\n",
       "<table border=\"1\" class=\"dataframe\">\n",
       "  <thead>\n",
       "    <tr style=\"text-align: right;\">\n",
       "      <th></th>\n",
       "      <th>Id</th>\n",
       "      <th>Shape</th>\n",
       "      <th>Weight</th>\n",
       "      <th>Clarity</th>\n",
       "      <th>Colour</th>\n",
       "      <th>Cut</th>\n",
       "      <th>Polish</th>\n",
       "      <th>Symmetry</th>\n",
       "      <th>Fluorescence</th>\n",
       "      <th>Length</th>\n",
       "      <th>Width</th>\n",
       "      <th>Depth</th>\n",
       "      <th>Price</th>\n",
       "    </tr>\n",
       "  </thead>\n",
       "  <tbody>\n",
       "    <tr>\n",
       "      <th>0</th>\n",
       "      <td>1638147</td>\n",
       "      <td>CUSHION</td>\n",
       "      <td>0.55</td>\n",
       "      <td>SI2</td>\n",
       "      <td>E</td>\n",
       "      <td>EX</td>\n",
       "      <td>EX</td>\n",
       "      <td>VG</td>\n",
       "      <td>N</td>\n",
       "      <td>5.05</td>\n",
       "      <td>4.35</td>\n",
       "      <td>2.94</td>\n",
       "      <td>1378.65</td>\n",
       "    </tr>\n",
       "    <tr>\n",
       "      <th>1</th>\n",
       "      <td>1630155</td>\n",
       "      <td>CUSHION</td>\n",
       "      <td>0.50</td>\n",
       "      <td>VVS1</td>\n",
       "      <td>FANCY</td>\n",
       "      <td>EX</td>\n",
       "      <td>EX</td>\n",
       "      <td>VG</td>\n",
       "      <td>F</td>\n",
       "      <td>4.60</td>\n",
       "      <td>4.31</td>\n",
       "      <td>2.92</td>\n",
       "      <td>1379.74</td>\n",
       "    </tr>\n",
       "    <tr>\n",
       "      <th>2</th>\n",
       "      <td>1612606</td>\n",
       "      <td>CUSHION</td>\n",
       "      <td>0.51</td>\n",
       "      <td>VS2</td>\n",
       "      <td>H</td>\n",
       "      <td>EX</td>\n",
       "      <td>EX</td>\n",
       "      <td>VG</td>\n",
       "      <td>N</td>\n",
       "      <td>4.71</td>\n",
       "      <td>4.35</td>\n",
       "      <td>2.94</td>\n",
       "      <td>1380.19</td>\n",
       "    </tr>\n",
       "    <tr>\n",
       "      <th>3</th>\n",
       "      <td>1638140</td>\n",
       "      <td>CUSHION</td>\n",
       "      <td>0.50</td>\n",
       "      <td>VS2</td>\n",
       "      <td>H</td>\n",
       "      <td>EX</td>\n",
       "      <td>EX</td>\n",
       "      <td>VG</td>\n",
       "      <td>N</td>\n",
       "      <td>4.91</td>\n",
       "      <td>4.26</td>\n",
       "      <td>2.88</td>\n",
       "      <td>1380.61</td>\n",
       "    </tr>\n",
       "    <tr>\n",
       "      <th>4</th>\n",
       "      <td>1536093</td>\n",
       "      <td>CUSHION</td>\n",
       "      <td>0.53</td>\n",
       "      <td>SI1</td>\n",
       "      <td>D</td>\n",
       "      <td>EX</td>\n",
       "      <td>VG</td>\n",
       "      <td>VG</td>\n",
       "      <td>N</td>\n",
       "      <td>4.70</td>\n",
       "      <td>4.46</td>\n",
       "      <td>3.01</td>\n",
       "      <td>1383.13</td>\n",
       "    </tr>\n",
       "  </tbody>\n",
       "</table>\n",
       "</div>"
      ],
      "text/plain": [
       "        Id    Shape  Weight Clarity Colour Cut Polish Symmetry Fluorescence  \\\n",
       "0  1638147  CUSHION    0.55     SI2      E  EX     EX       VG            N   \n",
       "1  1630155  CUSHION    0.50    VVS1  FANCY  EX     EX       VG            F   \n",
       "2  1612606  CUSHION    0.51     VS2      H  EX     EX       VG            N   \n",
       "3  1638140  CUSHION    0.50     VS2      H  EX     EX       VG            N   \n",
       "4  1536093  CUSHION    0.53     SI1      D  EX     VG       VG            N   \n",
       "\n",
       "   Length  Width  Depth    Price  \n",
       "0    5.05   4.35   2.94  1378.65  \n",
       "1    4.60   4.31   2.92  1379.74  \n",
       "2    4.71   4.35   2.94  1380.19  \n",
       "3    4.91   4.26   2.88  1380.61  \n",
       "4    4.70   4.46   3.01  1383.13  "
      ]
     },
     "execution_count": 3,
     "metadata": {},
     "output_type": "execute_result"
    }
   ],
   "source": [
    "data_pd = pd.read_csv(root)\n",
    "data_pd.head()"
   ]
  },
  {
   "cell_type": "code",
   "execution_count": 4,
   "id": "06878422",
   "metadata": {
    "ExecuteTime": {
     "end_time": "2022-02-17T20:38:24.526630Z",
     "start_time": "2022-02-17T20:38:24.512125Z"
    }
   },
   "outputs": [],
   "source": [
    "data_numpy = data_pd.to_numpy()"
   ]
  },
  {
   "cell_type": "code",
   "execution_count": 5,
   "id": "c82b5d8e",
   "metadata": {
    "ExecuteTime": {
     "end_time": "2022-02-17T20:38:24.558650Z",
     "start_time": "2022-02-17T20:38:24.527628Z"
    }
   },
   "outputs": [
    {
     "name": "stdout",
     "output_type": "stream",
     "text": [
      "{'CUSHION': 0, 'EMERALD': 1, 'HEART': 2, 'MARQUISE': 3, 'OVAL': 4, 'PEAR': 5, 'PRINCESS': 6, 'ROUND': 7}\n",
      "{'FL': 0, 'I1': 1, 'I2': 2, 'I3': 3, 'IF': 4, 'SI1': 5, 'SI2': 6, 'VS1': 7, 'VS2': 8, 'VVS1': 9, 'VVS2': 10}\n",
      "{'D': 0, 'E': 1, 'F': 2, 'FANCY': 3, 'G': 4, 'H': 5, 'I': 6, 'J': 7, 'K': 8, 'L': 9, 'M': 10, 'N': 11, 'O': 12, 'O-P': 13, 'Q-R': 14, 'S-T': 15, 'U-V': 16, 'W': 17, 'W-X': 18, 'Y-Z': 19}\n",
      "{'EX': 0, 'F': 1, 'GD': 2, 'VG': 3}\n",
      "{'EX': 0, 'F': 1, 'GD': 2, 'VG': 3}\n",
      "{'EX': 0, 'FR': 1, 'GD': 2, 'VG': 3}\n",
      "{'F': 0, 'M': 1, 'N': 2, 'SL': 3, 'ST': 4, 'VS': 5, 'VSL': 6}\n"
     ]
    }
   ],
   "source": [
    "for i in [1, 3, 4, 5, 6, 7, 8]:\n",
    "    wordset = {word: idx for idx, word in enumerate(np.unique(data_numpy[:,i]))}\n",
    "    print(wordset)\n",
    "    for row in range(len(data_numpy)):\n",
    "        data_numpy[row][i] = wordset[data_numpy[row][i]]"
   ]
  },
  {
   "cell_type": "code",
   "execution_count": 6,
   "id": "7d93a08a",
   "metadata": {
    "ExecuteTime": {
     "end_time": "2022-02-17T20:38:24.574608Z",
     "start_time": "2022-02-17T20:38:24.559650Z"
    }
   },
   "outputs": [
    {
     "name": "stdout",
     "output_type": "stream",
     "text": [
      "[0 0.55 6 1 0 0 3 2 5.05 4.35 2.94 1378.65]\n"
     ]
    }
   ],
   "source": [
    "data_numpy = data_numpy[:,1:]\n",
    "print(data_numpy[0])"
   ]
  },
  {
   "cell_type": "code",
   "execution_count": 58,
   "id": "02ad83dd",
   "metadata": {
    "ExecuteTime": {
     "end_time": "2022-02-17T20:50:33.424029Z",
     "start_time": "2022-02-17T20:50:33.416051Z"
    }
   },
   "outputs": [],
   "source": [
    "class Dataset(torch.utils.data.Dataset):\n",
    "    def __init__(self,ints, floats, target):\n",
    "        super(Dataset).__init__()\n",
    "        self.ints = ints\n",
    "        self.floats = floats\n",
    "        self.target = target\n",
    "        \n",
    "    def __getitem__(self,idx):\n",
    "        return self.ints[idx],self.floats[idx], self.target[idx]\n",
    "    \n",
    "    def __len__(self):\n",
    "        return len(self.ints)"
   ]
  },
  {
   "cell_type": "code",
   "execution_count": 66,
   "id": "b3a73f05",
   "metadata": {
    "ExecuteTime": {
     "end_time": "2022-02-17T20:51:28.914945Z",
     "start_time": "2022-02-17T20:51:28.897018Z"
    }
   },
   "outputs": [
    {
     "name": "stdout",
     "output_type": "stream",
     "text": [
      "tensor([0, 6, 1, 0, 0, 3, 2], dtype=torch.int32)\n",
      "tensor([0.5500, 5.0500, 4.3500, 2.9400])\n",
      "tensor([1378.6500])\n"
     ]
    }
   ],
   "source": [
    "data_int = torch.from_numpy(np.array(data_numpy[:,[0,2,3,4,5,6,7]], dtype=\"int\"))\n",
    "data_float = torch.from_numpy(np.array(data_numpy[:,[1,8,9,10]], dtype=\"float\")).float()\n",
    "data_target = torch.from_numpy(np.array(data_numpy[:,[11]], dtype=\"float\")).float()\n",
    "print(data_int[0])\n",
    "print(data_float[0])\n",
    "print(data_target[0])"
   ]
  },
  {
   "cell_type": "code",
   "execution_count": 67,
   "id": "ff0950ff",
   "metadata": {
    "ExecuteTime": {
     "end_time": "2022-02-17T20:51:29.214041Z",
     "start_time": "2022-02-17T20:51:29.208056Z"
    }
   },
   "outputs": [],
   "source": [
    "train_length = int(len(data_numpy) * 0.6)\n",
    "test_length = int(len(data_numpy) * 0.2)\n",
    "val_length = len(data_numpy) - train_length - test_length\n",
    "\n",
    "train_dataset = Dataset(data_int, data_float, data_target)\n",
    "train_dataset, test_dataset = random_split(train_dataset, [train_length, test_length+val_length])\n",
    "test_dataset, val_dataset = random_split(test_dataset, [test_length, val_length])\n",
    "\n",
    "train_loader = torch.utils.data.DataLoader(train_dataset, batch_size=batch_size, shuffle = True)\n",
    "test_loader = torch.utils.data.DataLoader(test_dataset, batch_size=batch_size, shuffle = True)\n",
    "val_loader = torch.utils.data.DataLoader(val_dataset, batch_size=batch_size, shuffle = True)"
   ]
  },
  {
   "cell_type": "code",
   "execution_count": null,
   "id": "8f8eefa9",
   "metadata": {},
   "outputs": [],
   "source": []
  },
  {
   "cell_type": "code",
   "execution_count": 68,
   "id": "a476a743",
   "metadata": {
    "ExecuteTime": {
     "end_time": "2022-02-17T20:51:29.914267Z",
     "start_time": "2022-02-17T20:51:29.905292Z"
    }
   },
   "outputs": [],
   "source": [
    "class Net(nn.Module):\n",
    "    def __init__(self):\n",
    "        super(Net, self).__init__()\n",
    "        self.emb1 = torch.nn.Embedding(8, 3)\n",
    "        self.emb2 = torch.nn.Embedding(11, 3)\n",
    "        self.emb3 = torch.nn.Embedding(20, 3)\n",
    "        self.emb4 = torch.nn.Embedding(4, 3)\n",
    "        self.emb5 = torch.nn.Embedding(4, 3)\n",
    "        self.emb6 = torch.nn.Embedding(4, 3)\n",
    "        self.emb7 = torch.nn.Embedding(7, 3)\n",
    "        self.act = nn.ReLU()\n",
    "        self.fc1 = nn.Linear(7*3+4, 120)\n",
    "        self.fc2 = nn.Linear(120, 84)\n",
    "        self.fc3 = nn.Linear(84, 1)\n",
    "    \n",
    "    def forward(self, x, y):\n",
    "        x1 = self.emb1(x[:,0])\n",
    "        x2 = self.emb2(x[:,1])\n",
    "        x3 = self.emb3(x[:,2])\n",
    "        x4 = self.emb4(x[:,3])\n",
    "        x5 = self.emb5(x[:,4])\n",
    "        x6 = self.emb6(x[:,5])\n",
    "        x7 = self.emb7(x[:,6])\n",
    "        x = torch.cat((x1, x2, x3, x4, x5, x6, x7, y), dim=1)\n",
    "        x = self.act(self.fc1(x))\n",
    "        x = self.act(self.fc2(x))\n",
    "        x = self.fc3(x)\n",
    "        return x"
   ]
  },
  {
   "cell_type": "code",
   "execution_count": 69,
   "id": "57844bf7",
   "metadata": {
    "ExecuteTime": {
     "end_time": "2022-02-17T20:51:30.599436Z",
     "start_time": "2022-02-17T20:51:30.583478Z"
    }
   },
   "outputs": [],
   "source": [
    "model = Net().to(device)\n",
    "\n",
    "criterion = nn.MSELoss().to(device)\n",
    "optimizer = torch.optim.Adam(model.parameters(), lr=learning_rate)"
   ]
  },
  {
   "cell_type": "code",
   "execution_count": 72,
   "id": "beaad684",
   "metadata": {
    "ExecuteTime": {
     "end_time": "2022-02-17T20:54:52.426783Z",
     "start_time": "2022-02-17T20:54:36.281341Z"
    }
   },
   "outputs": [
    {
     "name": "stdout",
     "output_type": "stream",
     "text": [
      "[Epoch:  1] Average loss: 13493655.0000, test_loss: 10915603.0000\n",
      "[Epoch:  2] Average loss: 13440445.0000, test_loss: 10813842.0000\n",
      "[Epoch:  3] Average loss: 13426317.0000, test_loss: 10807034.0000\n",
      "[Epoch:  4] Average loss: 15054504.0000, test_loss: 11466920.0000\n",
      "[Epoch:  5] Average loss: 15036650.0000, test_loss: 11115783.0000\n",
      "[Epoch:  6] Average loss: 13365760.0000, test_loss: 10733439.0000\n",
      "[Epoch:  7] Average loss: 13343042.0000, test_loss: 10710504.0000\n",
      "[Epoch:  8] Average loss: 13326338.0000, test_loss: 10798163.0000\n",
      "[Epoch:  9] Average loss: 13332097.0000, test_loss: 10690954.0000\n",
      "[Epoch: 10] Average loss: 13288410.0000, test_loss: 10674899.0000\n",
      "[Epoch: 11] Average loss: 13273007.0000, test_loss: 10644811.0000\n",
      "[Epoch: 12] Average loss: 13254641.0000, test_loss: 10640309.0000\n",
      "[Epoch: 13] Average loss: 13236126.0000, test_loss: 10636708.0000\n",
      "[Epoch: 14] Average loss: 13213132.0000, test_loss: 10604341.0000\n",
      "[Epoch: 15] Average loss: 13206429.0000, test_loss: 11285371.0000\n",
      "[Epoch: 16] Average loss: 13176926.0000, test_loss: 10603997.0000\n",
      "[Epoch: 17] Average loss: 13158163.0000, test_loss: 10552813.0000\n",
      "[Epoch: 18] Average loss: 13158607.0000, test_loss: 10630885.0000\n",
      "[Epoch: 19] Average loss: 13156116.0000, test_loss: 10874750.0000\n",
      "[Epoch: 20] Average loss: 14193408.0000, test_loss: 10862968.0000\n",
      "[Epoch: 21] Average loss: 13142826.0000, test_loss: 10587030.0000\n",
      "[Epoch: 22] Average loss: 13070250.0000, test_loss: 10861124.0000\n",
      "[Epoch: 23] Average loss: 13040082.0000, test_loss: 10459384.0000\n",
      "[Epoch: 24] Average loss: 13026011.0000, test_loss: 10467596.0000\n",
      "[Epoch: 25] Average loss: 13011548.0000, test_loss: 11142040.0000\n",
      "[Epoch: 26] Average loss: 14182705.0000, test_loss: 10418770.0000\n",
      "[Epoch: 27] Average loss: 13921882.0000, test_loss: 10402204.0000\n",
      "[Epoch: 28] Average loss: 14573948.0000, test_loss: 10385903.0000\n",
      "[Epoch: 29] Average loss: 12940917.0000, test_loss: 10761446.0000\n",
      "[Epoch: 30] Average loss: 12920777.0000, test_loss: 10364632.0000\n",
      "[Epoch: 31] Average loss: 13282186.0000, test_loss: 10500874.0000\n",
      "[Epoch: 32] Average loss: 12903950.0000, test_loss: 11037689.0000\n",
      "[Epoch: 33] Average loss: 12865862.0000, test_loss: 10492076.0000\n",
      "[Epoch: 34] Average loss: 12845743.0000, test_loss: 10301024.0000\n",
      "[Epoch: 35] Average loss: 12841902.0000, test_loss: 10274909.0000\n",
      "[Epoch: 36] Average loss: 12824243.0000, test_loss: 10439850.0000\n",
      "[Epoch: 37] Average loss: 12781324.0000, test_loss: 10253252.0000\n",
      "[Epoch: 38] Average loss: 12774467.0000, test_loss: 10320145.0000\n",
      "[Epoch: 39] Average loss: 14653928.0000, test_loss: 10219915.0000\n",
      "[Epoch: 40] Average loss: 12734659.0000, test_loss: 10202921.0000\n",
      "[Epoch: 41] Average loss: 12738500.0000, test_loss: 10198571.0000\n",
      "[Epoch: 42] Average loss: 13196242.0000, test_loss: 10340244.0000\n",
      "[Epoch: 43] Average loss: 12709577.0000, test_loss: 10184177.0000\n",
      "[Epoch: 44] Average loss: 12964790.0000, test_loss: 10154309.0000\n",
      "[Epoch: 45] Average loss: 12653345.0000, test_loss: 10134674.0000\n",
      "[Epoch: 46] Average loss: 12926645.0000, test_loss: 10263655.0000\n",
      "[Epoch: 47] Average loss: 12617490.0000, test_loss: 10095544.0000\n",
      "[Epoch: 48] Average loss: 12595924.0000, test_loss: 10112964.0000\n",
      "[Epoch: 49] Average loss: 12568301.0000, test_loss: 10068029.0000\n",
      "[Epoch: 50] Average loss: 12559709.0000, test_loss: 10050962.0000\n",
      "[Epoch: 51] Average loss: 12554588.0000, test_loss: 10200549.0000\n",
      "[Epoch: 52] Average loss: 12516054.0000, test_loss: 10023142.0000\n",
      "[Epoch: 53] Average loss: 12508149.0000, test_loss: 10014091.0000\n",
      "[Epoch: 54] Average loss: 12533043.0000, test_loss: 10179295.0000\n",
      "[Epoch: 55] Average loss: 12495166.0000, test_loss: 9989509.0000\n",
      "[Epoch: 56] Average loss: 13100728.0000, test_loss: 9974304.0000\n",
      "[Epoch: 57] Average loss: 12421030.0000, test_loss: 9965505.0000\n",
      "[Epoch: 58] Average loss: 12416832.0000, test_loss: 9933294.0000\n",
      "[Epoch: 59] Average loss: 12755499.0000, test_loss: 10276586.0000\n",
      "[Epoch: 60] Average loss: 12376449.0000, test_loss: 9908481.0000\n",
      "[Epoch: 61] Average loss: 12366388.0000, test_loss: 9890532.0000\n",
      "[Epoch: 62] Average loss: 12371042.0000, test_loss: 9876047.0000\n",
      "[Epoch: 63] Average loss: 12335921.0000, test_loss: 9952523.0000\n",
      "[Epoch: 64] Average loss: 12602351.0000, test_loss: 9842677.0000\n",
      "[Epoch: 65] Average loss: 12283390.0000, test_loss: 9839249.0000\n",
      "[Epoch: 66] Average loss: 12266182.0000, test_loss: 9827119.0000\n",
      "[Epoch: 67] Average loss: 12252364.0000, test_loss: 9896772.0000\n",
      "[Epoch: 68] Average loss: 12235592.0000, test_loss: 10138158.0000\n",
      "[Epoch: 69] Average loss: 12238274.0000, test_loss: 9772775.0000\n",
      "[Epoch: 70] Average loss: 13201037.0000, test_loss: 9776601.0000\n",
      "[Epoch: 71] Average loss: 12182627.0000, test_loss: 9745580.0000\n",
      "[Epoch: 72] Average loss: 12161884.0000, test_loss: 9736008.0000\n",
      "[Epoch: 73] Average loss: 12154206.0000, test_loss: 9735428.0000\n",
      "[Epoch: 74] Average loss: 12131449.0000, test_loss: 9711080.0000\n",
      "[Epoch: 75] Average loss: 12741303.0000, test_loss: 10436875.0000\n",
      "[Epoch: 76] Average loss: 12116483.0000, test_loss: 10332142.0000\n",
      "[Epoch: 77] Average loss: 12070287.0000, test_loss: 9814014.0000\n",
      "[Epoch: 78] Average loss: 12057738.0000, test_loss: 9659685.0000\n",
      "[Epoch: 79] Average loss: 12043378.0000, test_loss: 9659867.0000\n",
      "[Epoch: 80] Average loss: 12022667.0000, test_loss: 9658543.0000\n",
      "[Epoch: 81] Average loss: 12007217.0000, test_loss: 9608203.0000\n",
      "[Epoch: 82] Average loss: 11989193.0000, test_loss: 9613229.0000\n",
      "[Epoch: 83] Average loss: 11985521.0000, test_loss: 9595807.0000\n",
      "[Epoch: 84] Average loss: 11955113.0000, test_loss: 9595879.0000\n",
      "[Epoch: 85] Average loss: 11936623.0000, test_loss: 9791429.0000\n",
      "[Epoch: 86] Average loss: 11917492.0000, test_loss: 9533004.0000\n",
      "[Epoch: 87] Average loss: 11895244.0000, test_loss: 9523773.0000\n",
      "[Epoch: 88] Average loss: 12175528.0000, test_loss: 9506295.0000\n",
      "[Epoch: 89] Average loss: 11860786.0000, test_loss: 9819889.0000\n",
      "[Epoch: 90] Average loss: 11872077.0000, test_loss: 9483037.0000\n",
      "[Epoch: 91] Average loss: 11831122.0000, test_loss: 9631066.0000\n",
      "[Epoch: 92] Average loss: 11818729.0000, test_loss: 9448937.0000\n",
      "[Epoch: 93] Average loss: 11792667.0000, test_loss: 9450448.0000\n",
      "[Epoch: 94] Average loss: 11770386.0000, test_loss: 9424387.0000\n",
      "[Epoch: 95] Average loss: 14110794.0000, test_loss: 9490212.0000\n",
      "[Epoch: 96] Average loss: 11739489.0000, test_loss: 9418423.0000\n",
      "[Epoch: 97] Average loss: 13210984.0000, test_loss: 9388282.0000\n",
      "[Epoch: 98] Average loss: 11693973.0000, test_loss: 9391812.0000\n",
      "[Epoch: 99] Average loss: 11678665.0000, test_loss: 9352912.0000\n",
      "[Epoch: 100] Average loss: 11663753.0000, test_loss: 9355127.0000\n",
      "[Epoch: 101] Average loss: 11914975.0000, test_loss: 9466585.0000\n",
      "[Epoch: 102] Average loss: 11625731.0000, test_loss: 9314584.0000\n",
      "[Epoch: 103] Average loss: 11618165.0000, test_loss: 9306601.0000\n",
      "[Epoch: 104] Average loss: 11593670.0000, test_loss: 9288846.0000\n",
      "[Epoch: 105] Average loss: 11579722.0000, test_loss: 9291154.0000\n",
      "[Epoch: 106] Average loss: 11562717.0000, test_loss: 9269657.0000\n",
      "[Epoch: 107] Average loss: 11533421.0000, test_loss: 9241790.0000\n",
      "[Epoch: 108] Average loss: 11540988.0000, test_loss: 9235184.0000\n",
      "[Epoch: 109] Average loss: 11513198.0000, test_loss: 9852384.0000\n",
      "[Epoch: 110] Average loss: 11482738.0000, test_loss: 9359212.0000\n",
      "[Epoch: 111] Average loss: 11494910.0000, test_loss: 9185907.0000\n",
      "[Epoch: 112] Average loss: 11450874.0000, test_loss: 9186519.0000\n",
      "[Epoch: 113] Average loss: 11482183.0000, test_loss: 9160782.0000\n",
      "[Epoch: 114] Average loss: 11420426.0000, test_loss: 9145240.0000\n",
      "[Epoch: 115] Average loss: 11399876.0000, test_loss: 9455245.0000\n",
      "[Epoch: 116] Average loss: 11401589.0000, test_loss: 9133841.0000\n",
      "[Epoch: 117] Average loss: 11368565.0000, test_loss: 9103232.0000\n",
      "[Epoch: 118] Average loss: 11350214.0000, test_loss: 9234289.0000\n",
      "[Epoch: 119] Average loss: 11330739.0000, test_loss: 9078370.0000\n",
      "[Epoch: 120] Average loss: 11312067.0000, test_loss: 9055892.0000\n",
      "[Epoch: 121] Average loss: 11291989.0000, test_loss: 9693595.0000\n",
      "[Epoch: 122] Average loss: 11270989.0000, test_loss: 9672471.0000\n",
      "[Epoch: 123] Average loss: 11250100.0000, test_loss: 9011421.0000\n",
      "[Epoch: 124] Average loss: 11236042.0000, test_loss: 9004567.0000\n",
      "[Epoch: 125] Average loss: 11219935.0000, test_loss: 9125591.0000\n"
     ]
    },
    {
     "name": "stdout",
     "output_type": "stream",
     "text": [
      "[Epoch: 126] Average loss: 11227356.0000, test_loss: 8961954.0000\n",
      "[Epoch: 127] Average loss: 11175677.0000, test_loss: 9217221.0000\n",
      "[Epoch: 128] Average loss: 11157528.0000, test_loss: 9248045.0000\n",
      "[Epoch: 129] Average loss: 11147063.0000, test_loss: 8926854.0000\n",
      "[Epoch: 130] Average loss: 11124203.0000, test_loss: 9044459.0000\n",
      "[Epoch: 131] Average loss: 11113030.0000, test_loss: 8926342.0000\n",
      "[Epoch: 132] Average loss: 11105127.0000, test_loss: 8889637.0000\n",
      "[Epoch: 133] Average loss: 11063978.0000, test_loss: 8856850.0000\n",
      "[Epoch: 134] Average loss: 11064783.0000, test_loss: 8852748.0000\n",
      "[Epoch: 135] Average loss: 11031049.0000, test_loss: 8965847.0000\n",
      "[Epoch: 136] Average loss: 11001482.0000, test_loss: 8905648.0000\n",
      "[Epoch: 137] Average loss: 10982686.0000, test_loss: 8793037.0000\n",
      "[Epoch: 138] Average loss: 11133085.0000, test_loss: 8789279.0000\n",
      "[Epoch: 139] Average loss: 10954764.0000, test_loss: 8784596.0000\n",
      "[Epoch: 140] Average loss: 10932207.0000, test_loss: 8834406.0000\n",
      "[Epoch: 141] Average loss: 10915384.0000, test_loss: 8763079.0000\n",
      "[Epoch: 142] Average loss: 10888573.0000, test_loss: 9023444.0000\n",
      "[Epoch: 143] Average loss: 10862270.0000, test_loss: 8708896.0000\n",
      "[Epoch: 144] Average loss: 10852080.0000, test_loss: 8714737.0000\n",
      "[Epoch: 145] Average loss: 10831076.0000, test_loss: 8675084.0000\n",
      "[Epoch: 146] Average loss: 10817134.0000, test_loss: 8661556.0000\n",
      "[Epoch: 147] Average loss: 10780392.0000, test_loss: 8637183.0000\n",
      "[Epoch: 148] Average loss: 10768082.0000, test_loss: 8651129.0000\n",
      "[Epoch: 149] Average loss: 10747120.0000, test_loss: 8621324.0000\n",
      "[Epoch: 150] Average loss: 10758108.0000, test_loss: 8907203.0000\n",
      "[Epoch: 151] Average loss: 10735115.0000, test_loss: 8709752.0000\n",
      "[Epoch: 152] Average loss: 10691195.0000, test_loss: 8564042.0000\n",
      "[Epoch: 153] Average loss: 10698585.0000, test_loss: 8548750.0000\n",
      "[Epoch: 154] Average loss: 10641168.0000, test_loss: 8544975.0000\n",
      "[Epoch: 155] Average loss: 10634637.0000, test_loss: 8609993.0000\n",
      "[Epoch: 156] Average loss: 10604362.0000, test_loss: 9091179.0000\n",
      "[Epoch: 157] Average loss: 10869840.0000, test_loss: 8478486.0000\n",
      "[Epoch: 158] Average loss: 10556476.0000, test_loss: 8754979.0000\n",
      "[Epoch: 159] Average loss: 10545814.0000, test_loss: 8453026.0000\n",
      "[Epoch: 160] Average loss: 10530626.0000, test_loss: 8431241.0000\n",
      "[Epoch: 161] Average loss: 10518713.0000, test_loss: 8421916.0000\n",
      "[Epoch: 162] Average loss: 10503728.0000, test_loss: 8512938.0000\n",
      "[Epoch: 163] Average loss: 10463793.0000, test_loss: 8395607.0000\n",
      "[Epoch: 164] Average loss: 10442357.0000, test_loss: 8371062.0000\n",
      "[Epoch: 165] Average loss: 10427959.0000, test_loss: 8929761.0000\n",
      "[Epoch: 166] Average loss: 10662172.0000, test_loss: 8341593.5000\n",
      "[Epoch: 167] Average loss: 10379247.0000, test_loss: 8594490.0000\n",
      "[Epoch: 168] Average loss: 10363253.0000, test_loss: 8297858.0000\n",
      "[Epoch: 169] Average loss: 10360357.0000, test_loss: 8301760.5000\n",
      "[Epoch: 170] Average loss: 10314781.0000, test_loss: 8260424.5000\n",
      "[Epoch: 171] Average loss: 10294612.0000, test_loss: 8825596.0000\n",
      "[Epoch: 172] Average loss: 10488638.0000, test_loss: 8241020.0000\n",
      "[Epoch: 173] Average loss: 10243109.0000, test_loss: 8210179.0000\n",
      "[Epoch: 174] Average loss: 10227952.0000, test_loss: 8193904.5000\n",
      "[Epoch: 175] Average loss: 10230498.0000, test_loss: 8175867.5000\n",
      "[Epoch: 176] Average loss: 10497228.0000, test_loss: 8162048.0000\n",
      "[Epoch: 177] Average loss: 10154481.0000, test_loss: 8149453.0000\n",
      "[Epoch: 178] Average loss: 10144242.0000, test_loss: 8128197.0000\n",
      "[Epoch: 179] Average loss: 10120191.0000, test_loss: 8104874.5000\n",
      "[Epoch: 180] Average loss: 10091371.0000, test_loss: 8654294.0000\n",
      "[Epoch: 181] Average loss: 10078182.0000, test_loss: 8075250.0000\n",
      "[Epoch: 182] Average loss: 10050505.0000, test_loss: 8082554.0000\n",
      "[Epoch: 183] Average loss: 10029133.0000, test_loss: 8035653.5000\n",
      "[Epoch: 184] Average loss: 10010346.0000, test_loss: 8591404.0000\n",
      "[Epoch: 185] Average loss: 9988688.0000, test_loss: 8131824.5000\n",
      "[Epoch: 186] Average loss: 9961288.0000, test_loss: 8003769.0000\n",
      "[Epoch: 187] Average loss: 11147592.0000, test_loss: 7967430.0000\n",
      "[Epoch: 188] Average loss: 9917042.0000, test_loss: 7951987.0000\n",
      "[Epoch: 189] Average loss: 9919670.0000, test_loss: 8110465.0000\n",
      "[Epoch: 190] Average loss: 9879235.0000, test_loss: 7914437.0000\n",
      "[Epoch: 191] Average loss: 10108213.0000, test_loss: 7889660.5000\n",
      "[Epoch: 192] Average loss: 9841683.0000, test_loss: 7917435.0000\n",
      "[Epoch: 193] Average loss: 9805381.0000, test_loss: 7867074.5000\n",
      "[Epoch: 194] Average loss: 9790263.0000, test_loss: 8402526.0000\n",
      "[Epoch: 195] Average loss: 9776447.0000, test_loss: 7828310.5000\n",
      "[Epoch: 196] Average loss: 9755855.0000, test_loss: 7809795.5000\n",
      "[Epoch: 197] Average loss: 9938715.0000, test_loss: 7821712.0000\n",
      "[Epoch: 198] Average loss: 9954123.0000, test_loss: 7769008.5000\n",
      "[Epoch: 199] Average loss: 10549062.0000, test_loss: 7757729.0000\n",
      "[Epoch: 200] Average loss: 9820909.0000, test_loss: 7753499.0000\n"
     ]
    }
   ],
   "source": [
    "for epoch in range(epochs):\n",
    "    avg_loss = 0\n",
    "\n",
    "    for X1, X2, Y in train_loader:\n",
    "        X1 = X1.to(device)\n",
    "        X2 = X2.to(device)\n",
    "        Y = Y.to(device)\n",
    "\n",
    "        model.zero_grad()  # why we use zero_grad?\n",
    "        prediction = model(X1, X2)\n",
    "        loss = criterion(prediction, Y)\n",
    "        loss.backward()\n",
    "        optimizer.step()\n",
    "        avg_loss += loss / len(train_loader)\n",
    "    print(f'[Epoch: {epoch+1:>2}] Average loss: {avg_loss:.4f}, ', end='')\n",
    "    with torch.no_grad():\n",
    "        val_avg_loss = 0.\n",
    "        for X1_val, X2_val, Y_val in val_loader:\n",
    "            X1_val = X1_val.to(device)\n",
    "            X2_val = X2_val.to(device)\n",
    "            Y_val = Y_val.to(device)\n",
    "            val_prediction = model(X1_val, X2_val)\n",
    "            val_loss = criterion(val_prediction, Y_val)\n",
    "            val_avg_loss += val_loss / len(val_loader)\n",
    "        \n",
    "        print(f\"test_loss: {val_avg_loss:.4f}\")"
   ]
  },
  {
   "cell_type": "code",
   "execution_count": 130,
   "id": "b29fb180",
   "metadata": {
    "ExecuteTime": {
     "end_time": "2022-02-17T21:15:35.809724Z",
     "start_time": "2022-02-17T21:15:35.793767Z"
    }
   },
   "outputs": [
    {
     "name": "stdout",
     "output_type": "stream",
     "text": [
      "0.4687736714892158\n"
     ]
    }
   ],
   "source": [
    "metric = R2Score(device=device)\n",
    "metric.reset()\n",
    "with torch.no_grad():\n",
    "    test_avg_acc = 0\n",
    "    for X1_test, X2_test, Y_test in test_loader:\n",
    "        X1_test = X1_test.to(device)\n",
    "        X2_test = X2_test.to(device)\n",
    "        Y_test = Y_test.to(device)\n",
    "        \n",
    "        test_prediction = model(X1_test, X2_test)\n",
    "        metric.update([test_prediction, Y_test])\n",
    "#         test_avg_acc += state.metrics['r2'] / len(test_loader)\n",
    "    print(metric.compute())"
   ]
  },
  {
   "cell_type": "code",
   "execution_count": null,
   "id": "18ef51ce",
   "metadata": {},
   "outputs": [],
   "source": []
  }
 ],
 "metadata": {
  "kernelspec": {
   "display_name": "cuda",
   "language": "python",
   "name": "python-3-9-7"
  },
  "language_info": {
   "codemirror_mode": {
    "name": "ipython",
    "version": 3
   },
   "file_extension": ".py",
   "mimetype": "text/x-python",
   "name": "python",
   "nbconvert_exporter": "python",
   "pygments_lexer": "ipython3",
   "version": "3.9.7"
  }
 },
 "nbformat": 4,
 "nbformat_minor": 5
}
