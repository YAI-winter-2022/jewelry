{
 "cells": [
  {
   "cell_type": "code",
   "execution_count": 1,
   "metadata": {
    "ExecuteTime": {
     "end_time": "2022-02-23T21:32:36.893577Z",
     "start_time": "2022-02-23T21:32:36.205229Z"
    },
    "executionInfo": {
     "elapsed": 389,
     "status": "ok",
     "timestamp": 1645248583756,
     "user": {
      "displayName": "석진혁(공과대학 기계공학)",
      "photoUrl": "https://lh3.googleusercontent.com/a/default-user=s64",
      "userId": "04829476984882153292"
     },
     "user_tz": -540
    },
    "id": "gala7GMLTriy"
   },
   "outputs": [],
   "source": [
    "import pandas as pd\n",
    "import numpy as np\n",
    "from PIL import Image\n",
    "import torch\n",
    "import torchvision\n",
    "import torch.nn as nn\n",
    "import torch.optim as optim\n",
    "from torchvision import transforms\n",
    "from torch.utils.data import Dataset, DataLoader\n",
    "from torch.utils.data.dataset import random_split\n",
    "import random\n",
    "\n",
    "device = torch.device('cuda' if torch.cuda.is_available() else 'cpu')"
   ]
  },
  {
   "cell_type": "code",
   "execution_count": 2,
   "metadata": {
    "ExecuteTime": {
     "end_time": "2022-02-23T21:32:36.908985Z",
     "start_time": "2022-02-23T21:32:36.894532Z"
    }
   },
   "outputs": [],
   "source": [
    "csv_path = \"final.csv\"\n",
    "image_path = \"./images\"\n",
    "batch_size = 256\n",
    "epochs = 200\n",
    "learning_rate = 1e-3\n",
    "seed = 42"
   ]
  },
  {
   "cell_type": "code",
   "execution_count": 3,
   "metadata": {
    "ExecuteTime": {
     "end_time": "2022-02-23T21:32:37.033879Z",
     "start_time": "2022-02-23T21:32:36.909982Z"
    }
   },
   "outputs": [],
   "source": [
    "torch.manual_seed(seed)\n",
    "np.random.seed(seed)\n",
    "random.seed(seed)\n",
    "torch.backends.cudnn.deterministic = True\n",
    "torch.backends.cudnn.benchmark = False\n",
    "torch.cuda.manual_seed(seed)\n",
    "torch.cuda.manual_seed_all(seed)"
   ]
  },
  {
   "cell_type": "code",
   "execution_count": 4,
   "metadata": {
    "ExecuteTime": {
     "end_time": "2022-02-23T21:32:37.049193Z",
     "start_time": "2022-02-23T21:32:37.034878Z"
    },
    "executionInfo": {
     "elapsed": 304,
     "status": "ok",
     "timestamp": 1645248727632,
     "user": {
      "displayName": "석진혁(공과대학 기계공학)",
      "photoUrl": "https://lh3.googleusercontent.com/a/default-user=s64",
      "userId": "04829476984882153292"
     },
     "user_tz": -540
    },
    "id": "S2aoNXxHSGUw"
   },
   "outputs": [],
   "source": [
    "class ImageDataset(Dataset):\n",
    "    def __init__(self, csv_path, image_path, image_transform=transforms.Compose([transforms.ToTensor()])):\n",
    "        super(ImageDataset).__init__()\n",
    "        csv = pd.read_csv(csv_path)\n",
    "        csv_np = csv.to_numpy()\n",
    "        self.images = []\n",
    "        for Id in csv['Id']:\n",
    "            Id = str(Id)\n",
    "            image = Image.open(image_path+'/'+Id+'.jpg')\n",
    "            self.images.append(image_transform(image))\n",
    "            image.close()\n",
    "        \n",
    "        self.target = torch.from_numpy(np.array(csv_np[:,[12]], dtype=\"float\")).float()\n",
    "    \n",
    "    \n",
    "    def __getitem__(self,idx):\n",
    "        return self.images[idx], self.target[idx]\n",
    "    \n",
    "    \n",
    "    def __len__(self):\n",
    "        return len(self.images)"
   ]
  },
  {
   "cell_type": "code",
   "execution_count": 5,
   "metadata": {
    "ExecuteTime": {
     "end_time": "2022-02-23T21:32:45.647716Z",
     "start_time": "2022-02-23T21:32:37.050042Z"
    }
   },
   "outputs": [],
   "source": [
    "data_length = len(pd.read_csv(csv_path))\n",
    "train_length = int(data_length * 0.6)\n",
    "test_length = int(data_length * 0.2)\n",
    "val_length = data_length - train_length - test_length\n",
    "\n",
    "image_transform = transforms.Compose([transforms.ToTensor(),\n",
    "                                     transforms.Normalize((0.5, 0.5, 0.5),\n",
    "                                                         (0.5, 0.5, 0.5))\n",
    "                                     ])\n",
    "\n",
    "train_dataset = ImageDataset(csv_path, image_path, image_transform)\n",
    "train_dataset, test_dataset = random_split(train_dataset, [train_length, test_length+val_length])\n",
    "test_dataset, val_dataset = random_split(test_dataset, [test_length, val_length])\n",
    "\n",
    "train_loader = DataLoader(train_dataset, batch_size=batch_size, shuffle = True)\n",
    "test_loader = DataLoader(test_dataset, batch_size=batch_size, shuffle = True)\n",
    "val_loader = DataLoader(val_dataset, batch_size=batch_size, shuffle = True)"
   ]
  },
  {
   "cell_type": "code",
   "execution_count": 6,
   "metadata": {
    "ExecuteTime": {
     "end_time": "2022-02-23T21:32:45.663673Z",
     "start_time": "2022-02-23T21:32:45.648714Z"
    }
   },
   "outputs": [],
   "source": [
    "class ImageNet(nn.Module):\n",
    "    def __init__(self):\n",
    "        super(ImageNet, self).__init__()\n",
    "        self.resnet18 = torchvision.models.resnet18(pretrained=False)\n",
    "        self.resnet18.conv1 = nn.Conv2d(3, 64, kernel_size=(7, 7), stride=(2, 2), padding=(3, 3), bias=False)\n",
    "        self.resnet18.fc = nn.Sequential(\n",
    "        nn.Linear(512, 1000),\n",
    "        nn.ReLU(),\n",
    "        nn.Linear(1000, 1)\n",
    "        )\n",
    "        self.resnet18.to(device)\n",
    "    \n",
    "    def forward(self, x):\n",
    "        return self.resnet18(x)"
   ]
  },
  {
   "cell_type": "code",
   "execution_count": 7,
   "metadata": {
    "ExecuteTime": {
     "end_time": "2022-02-23T21:32:45.959085Z",
     "start_time": "2022-02-23T21:32:45.664670Z"
    },
    "executionInfo": {
     "elapsed": 256,
     "status": "ok",
     "timestamp": 1645249328264,
     "user": {
      "displayName": "석진혁(공과대학 기계공학)",
      "photoUrl": "https://lh3.googleusercontent.com/a/default-user=s64",
      "userId": "04829476984882153292"
     },
     "user_tz": -540
    },
    "id": "l9xfqkslLx40"
   },
   "outputs": [],
   "source": [
    "model = ImageNet().to(device)\n",
    "\n",
    "criterion = nn.MSELoss().to(device)\n",
    "optimizer = optim.Adam(model.parameters(), lr=learning_rate)"
   ]
  },
  {
   "cell_type": "code",
   "execution_count": 8,
   "metadata": {
    "ExecuteTime": {
     "end_time": "2022-02-24T05:28:00.227975Z",
     "start_time": "2022-02-23T21:32:45.960082Z"
    },
    "colab": {
     "base_uri": "https://localhost:8080/"
    },
    "executionInfo": {
     "elapsed": 786494,
     "status": "ok",
     "timestamp": 1645250118255,
     "user": {
      "displayName": "석진혁(공과대학 기계공학)",
      "photoUrl": "https://lh3.googleusercontent.com/a/default-user=s64",
      "userId": "04829476984882153292"
     },
     "user_tz": -540
    },
    "id": "HTmDcy0gVAoM",
    "outputId": "355d74c4-e47f-45a7-b321-6aa19d66ac02"
   },
   "outputs": [
    {
     "name": "stdout",
     "output_type": "stream",
     "text": [
      "[Epoch:  1] Average loss: 4456.9009, val_loss: 4406.0122\n",
      "[Epoch:  2] Average loss: 4743.9351, val_loss: 4472.6665\n",
      "[Epoch:  3] Average loss: 4215.2744, val_loss: 4831.9395\n",
      "[Epoch:  4] Average loss: 4307.5649, val_loss: 4773.2588\n",
      "[Epoch:  5] Average loss: 3733.3230, val_loss: 4651.1431\n",
      "[Epoch:  6] Average loss: 3516.4712, val_loss: 4363.0747\n",
      "[Epoch:  7] Average loss: 3650.0522, val_loss: 4460.0522\n",
      "[Epoch:  8] Average loss: 3600.7942, val_loss: 5485.5078\n",
      "[Epoch:  9] Average loss: 3334.7437, val_loss: 3952.6387\n",
      "[Epoch: 10] Average loss: 3403.0981, val_loss: 4018.1406\n",
      "[Epoch: 11] Average loss: 3409.8513, val_loss: 24775.2090\n",
      "[Epoch: 12] Average loss: 3401.1980, val_loss: 3828.3286\n",
      "[Epoch: 13] Average loss: 3351.7126, val_loss: 4210.9214\n",
      "[Epoch: 14] Average loss: 3269.0938, val_loss: 3975.8286\n",
      "[Epoch: 15] Average loss: 3286.4202, val_loss: 4082.4236\n",
      "[Epoch: 16] Average loss: 3141.9619, val_loss: 3963.2339\n",
      "[Epoch: 17] Average loss: 3183.3521, val_loss: 3857.0747\n",
      "[Epoch: 18] Average loss: 3000.3301, val_loss: 4020.0352\n",
      "[Epoch: 19] Average loss: 2628.8638, val_loss: 6387.4336\n",
      "[Epoch: 20] Average loss: 2501.9124, val_loss: 4518.2788\n",
      "[Epoch: 21] Average loss: 2440.8474, val_loss: 3606.8179\n",
      "[Epoch: 22] Average loss: 2256.7173, val_loss: 3802.8550\n",
      "[Epoch: 23] Average loss: 2303.0723, val_loss: 4105.6548\n",
      "[Epoch: 24] Average loss: 2009.0411, val_loss: 4340.6387\n",
      "[Epoch: 25] Average loss: 2135.0288, val_loss: 4005.9265\n",
      "[Epoch: 26] Average loss: 1740.2759, val_loss: 3568.9949\n",
      "[Epoch: 27] Average loss: 1900.0569, val_loss: 3982.8174\n",
      "[Epoch: 28] Average loss: 3626.7705, val_loss: 3535.8481\n",
      "[Epoch: 29] Average loss: 1986.9067, val_loss: 4003.1106\n",
      "[Epoch: 30] Average loss: 1757.2181, val_loss: 3871.9846\n",
      "[Epoch: 31] Average loss: 1976.1517, val_loss: 3961.8198\n",
      "[Epoch: 32] Average loss: 1524.8325, val_loss: 3701.5515\n",
      "[Epoch: 33] Average loss: 1483.5760, val_loss: 3223.9141\n",
      "[Epoch: 34] Average loss: 1488.3364, val_loss: 2945.9841\n",
      "[Epoch: 35] Average loss: 1568.7487, val_loss: 3796.3401\n",
      "[Epoch: 36] Average loss: 1365.3353, val_loss: 3283.8794\n",
      "[Epoch: 37] Average loss: 1355.8698, val_loss: 3818.2524\n",
      "[Epoch: 38] Average loss: 1535.9371, val_loss: 3500.3770\n",
      "[Epoch: 39] Average loss: 1189.0338, val_loss: 3540.3862\n",
      "[Epoch: 40] Average loss: 1136.3557, val_loss: 3483.9209\n",
      "[Epoch: 41] Average loss: 1205.7296, val_loss: 3616.1995\n",
      "[Epoch: 42] Average loss: 1283.0132, val_loss: 3413.6978\n",
      "[Epoch: 43] Average loss: 1380.2090, val_loss: 3773.6101\n",
      "[Epoch: 44] Average loss: 1456.4995, val_loss: 3459.0679\n",
      "[Epoch: 45] Average loss: 1287.7734, val_loss: 3174.7261\n",
      "[Epoch: 46] Average loss: 1133.1295, val_loss: 3024.4583\n",
      "[Epoch: 47] Average loss: 1412.8290, val_loss: 3577.5952\n",
      "[Epoch: 48] Average loss: 1311.3052, val_loss: 3566.7100\n",
      "[Epoch: 49] Average loss: 1139.1472, val_loss: 3491.2441\n",
      "[Epoch: 50] Average loss: 1018.4047, val_loss: 3691.7217\n",
      "[Epoch: 51] Average loss: 992.4673, val_loss: 3633.8379\n",
      "[Epoch: 52] Average loss: 1066.9406, val_loss: 3170.5566\n",
      "[Epoch: 53] Average loss: 898.7172, val_loss: 3519.8037\n",
      "[Epoch: 54] Average loss: 1009.0361, val_loss: 3841.5513\n",
      "[Epoch: 55] Average loss: 1083.8478, val_loss: 3755.9368\n",
      "[Epoch: 56] Average loss: 849.7728, val_loss: 3577.5896\n",
      "[Epoch: 57] Average loss: 936.2474, val_loss: 3303.4917\n",
      "[Epoch: 58] Average loss: 949.2535, val_loss: 3673.2056\n",
      "[Epoch: 59] Average loss: 912.0242, val_loss: 3413.0757\n",
      "[Epoch: 60] Average loss: 2140.1599, val_loss: 3811.0811\n",
      "[Epoch: 61] Average loss: 923.6480, val_loss: 3460.8848\n",
      "[Epoch: 62] Average loss: 960.7194, val_loss: 3882.8062\n",
      "[Epoch: 63] Average loss: 970.4695, val_loss: 3594.0898\n",
      "[Epoch: 64] Average loss: 948.2386, val_loss: 3656.0283\n",
      "[Epoch: 65] Average loss: 1079.3984, val_loss: 5020.6396\n",
      "[Epoch: 66] Average loss: 898.8961, val_loss: 3732.7126\n",
      "[Epoch: 67] Average loss: 879.7009, val_loss: 3842.8147\n",
      "[Epoch: 68] Average loss: 835.8188, val_loss: 3200.5903\n",
      "[Epoch: 69] Average loss: 1060.1366, val_loss: 3738.1853\n",
      "[Epoch: 70] Average loss: 917.7061, val_loss: 3635.2144\n",
      "[Epoch: 71] Average loss: 763.7349, val_loss: 3730.6235\n",
      "[Epoch: 72] Average loss: 767.0665, val_loss: 3467.5034\n",
      "[Epoch: 73] Average loss: 742.6710, val_loss: 3377.0498\n",
      "[Epoch: 74] Average loss: 789.2824, val_loss: 3295.2876\n",
      "[Epoch: 75] Average loss: 757.1861, val_loss: 3698.0137\n",
      "[Epoch: 76] Average loss: 936.0278, val_loss: 3384.8774\n",
      "[Epoch: 77] Average loss: 805.5448, val_loss: 3640.1709\n",
      "[Epoch: 78] Average loss: 831.4926, val_loss: 3488.9966\n",
      "[Epoch: 79] Average loss: 848.5382, val_loss: 3655.2319\n",
      "[Epoch: 80] Average loss: 810.6691, val_loss: 3370.3538\n",
      "[Epoch: 81] Average loss: 838.4642, val_loss: 3598.5132\n",
      "[Epoch: 82] Average loss: 830.1631, val_loss: 3468.6165\n",
      "[Epoch: 83] Average loss: 803.9800, val_loss: 3480.4014\n",
      "[Epoch: 84] Average loss: 858.9436, val_loss: 3207.0056\n",
      "[Epoch: 85] Average loss: 946.8628, val_loss: 3313.5405\n",
      "[Epoch: 86] Average loss: 708.5751, val_loss: 3445.0845\n",
      "[Epoch: 87] Average loss: 702.9423, val_loss: 3666.1973\n",
      "[Epoch: 88] Average loss: 936.4944, val_loss: 4237.1792\n",
      "[Epoch: 89] Average loss: 846.6470, val_loss: 3878.7695\n",
      "[Epoch: 90] Average loss: 772.1249, val_loss: 2993.2671\n",
      "[Epoch: 91] Average loss: 634.8064, val_loss: 3728.4473\n",
      "[Epoch: 92] Average loss: 729.2181, val_loss: 3538.2930\n",
      "[Epoch: 93] Average loss: 706.9684, val_loss: 3622.7153\n",
      "[Epoch: 94] Average loss: 732.9355, val_loss: 3621.3203\n",
      "[Epoch: 95] Average loss: 697.1297, val_loss: 3287.7961\n",
      "[Epoch: 96] Average loss: 621.2431, val_loss: 3514.0103\n",
      "[Epoch: 97] Average loss: 656.3402, val_loss: 3174.4553\n",
      "[Epoch: 98] Average loss: 672.1921, val_loss: 3630.0305\n",
      "[Epoch: 99] Average loss: 1774.7218, val_loss: 3558.2627\n",
      "[Epoch: 100] Average loss: 640.0935, val_loss: 3589.0264\n",
      "[Epoch: 101] Average loss: 596.9155, val_loss: 3599.2073\n",
      "[Epoch: 102] Average loss: 621.7175, val_loss: 3440.9805\n",
      "[Epoch: 103] Average loss: 780.0760, val_loss: 3476.6233\n",
      "[Epoch: 104] Average loss: 597.8412, val_loss: 3541.3818\n",
      "[Epoch: 105] Average loss: 535.6294, val_loss: 3229.3062\n",
      "[Epoch: 106] Average loss: 640.3557, val_loss: 3467.7544\n",
      "[Epoch: 107] Average loss: 740.9271, val_loss: 3547.7581\n",
      "[Epoch: 108] Average loss: 511.0661, val_loss: 3448.3169\n",
      "[Epoch: 109] Average loss: 570.3383, val_loss: 3527.8477\n",
      "[Epoch: 110] Average loss: 598.9161, val_loss: 3525.6472\n",
      "[Epoch: 111] Average loss: 605.1080, val_loss: 3751.4255\n",
      "[Epoch: 112] Average loss: 699.1635, val_loss: 3263.0825\n",
      "[Epoch: 113] Average loss: 587.2123, val_loss: 3148.7930\n",
      "[Epoch: 114] Average loss: 571.9744, val_loss: 3376.5903\n",
      "[Epoch: 115] Average loss: 489.3318, val_loss: 3592.3613\n",
      "[Epoch: 116] Average loss: 569.2582, val_loss: 3133.5789\n",
      "[Epoch: 117] Average loss: 622.4434, val_loss: 3039.9119\n",
      "[Epoch: 118] Average loss: 774.2123, val_loss: 3587.5713\n",
      "[Epoch: 119] Average loss: 596.6008, val_loss: 3710.8369\n",
      "[Epoch: 120] Average loss: 649.2239, val_loss: 3625.5356\n",
      "[Epoch: 121] Average loss: 642.9955, val_loss: 3587.5786\n",
      "[Epoch: 122] Average loss: 632.3833, val_loss: 3880.4150\n",
      "[Epoch: 123] Average loss: 551.1334, val_loss: 3347.7871\n",
      "[Epoch: 124] Average loss: 513.6079, val_loss: 3514.9663\n",
      "[Epoch: 125] Average loss: 596.0699, val_loss: 2940.2576\n",
      "[Epoch: 126] Average loss: 582.2305, val_loss: 3610.6096\n",
      "[Epoch: 127] Average loss: 623.3216, val_loss: 3547.4646\n",
      "[Epoch: 128] Average loss: 591.9142, val_loss: 3220.4453\n",
      "[Epoch: 129] Average loss: 633.0834, val_loss: 3422.3640\n",
      "[Epoch: 130] Average loss: 674.1688, val_loss: 3873.2075\n",
      "[Epoch: 131] Average loss: 540.0660, val_loss: 3520.0203\n",
      "[Epoch: 132] Average loss: 577.0244, val_loss: 3357.9170\n",
      "[Epoch: 133] Average loss: 592.3204, val_loss: 3236.4624\n",
      "[Epoch: 134] Average loss: 672.5215, val_loss: 3416.1497\n",
      "[Epoch: 135] Average loss: 570.1138, val_loss: 3506.1304\n",
      "[Epoch: 136] Average loss: 599.0607, val_loss: 3219.7908\n",
      "[Epoch: 137] Average loss: 546.8058, val_loss: 3506.3975\n",
      "[Epoch: 138] Average loss: 599.9063, val_loss: 3206.1167\n",
      "[Epoch: 139] Average loss: 525.9365, val_loss: 3299.1689\n",
      "[Epoch: 140] Average loss: 561.5660, val_loss: 3902.3508\n",
      "[Epoch: 141] Average loss: 593.7114, val_loss: 3575.3381\n",
      "[Epoch: 142] Average loss: 547.8928, val_loss: 3450.7959\n",
      "[Epoch: 143] Average loss: 458.2214, val_loss: 2967.3130\n",
      "[Epoch: 144] Average loss: 536.6957, val_loss: 2854.8491\n"
     ]
    },
    {
     "name": "stdout",
     "output_type": "stream",
     "text": [
      "[Epoch: 145] Average loss: 636.4312, val_loss: 3550.5588\n",
      "[Epoch: 146] Average loss: 585.5553, val_loss: 3662.8809\n",
      "[Epoch: 147] Average loss: 500.2102, val_loss: 3809.3533\n",
      "[Epoch: 148] Average loss: 499.5533, val_loss: 3600.4363\n",
      "[Epoch: 149] Average loss: 547.5504, val_loss: 3392.2251\n",
      "[Epoch: 150] Average loss: 518.5259, val_loss: 3054.8115\n",
      "[Epoch: 151] Average loss: 525.9615, val_loss: 3753.9622\n",
      "[Epoch: 152] Average loss: 601.2767, val_loss: 3210.4583\n",
      "[Epoch: 153] Average loss: 591.2318, val_loss: 3070.2175\n",
      "[Epoch: 154] Average loss: 593.7047, val_loss: 3417.8110\n",
      "[Epoch: 155] Average loss: 1189.9629, val_loss: 3135.2729\n",
      "[Epoch: 156] Average loss: 687.4740, val_loss: 3472.3135\n",
      "[Epoch: 157] Average loss: 554.5086, val_loss: 3595.0989\n",
      "[Epoch: 158] Average loss: 558.4708, val_loss: 3920.9575\n",
      "[Epoch: 159] Average loss: 597.6159, val_loss: 3321.3176\n",
      "[Epoch: 160] Average loss: 471.7493, val_loss: 3529.9072\n",
      "[Epoch: 161] Average loss: 403.5014, val_loss: 3304.2891\n",
      "[Epoch: 162] Average loss: 453.5991, val_loss: 3350.5947\n",
      "[Epoch: 163] Average loss: 390.6741, val_loss: 3082.9822\n",
      "[Epoch: 164] Average loss: 347.3957, val_loss: 3412.1753\n",
      "[Epoch: 165] Average loss: 437.0878, val_loss: 3595.1948\n",
      "[Epoch: 166] Average loss: 629.0540, val_loss: 3174.2393\n",
      "[Epoch: 167] Average loss: 687.5438, val_loss: 3370.8254\n",
      "[Epoch: 168] Average loss: 768.8320, val_loss: 3584.0239\n",
      "[Epoch: 169] Average loss: 551.8537, val_loss: 3288.5237\n",
      "[Epoch: 170] Average loss: 2013.7913, val_loss: 3946.3533\n",
      "[Epoch: 171] Average loss: 469.7523, val_loss: 3424.3008\n",
      "[Epoch: 172] Average loss: 544.0848, val_loss: 3820.5371\n",
      "[Epoch: 173] Average loss: 513.1292, val_loss: 3530.6362\n",
      "[Epoch: 174] Average loss: 448.2780, val_loss: 3594.4163\n",
      "[Epoch: 175] Average loss: 483.0128, val_loss: 3488.6086\n",
      "[Epoch: 176] Average loss: 422.7207, val_loss: 3753.1553\n",
      "[Epoch: 177] Average loss: 557.0107, val_loss: 3810.2346\n",
      "[Epoch: 178] Average loss: 509.8771, val_loss: 3187.3286\n",
      "[Epoch: 179] Average loss: 418.1725, val_loss: 3276.1443\n",
      "[Epoch: 180] Average loss: 385.6124, val_loss: 3919.7905\n",
      "[Epoch: 181] Average loss: 393.5921, val_loss: 3728.7170\n",
      "[Epoch: 182] Average loss: 459.9579, val_loss: 3473.5332\n",
      "[Epoch: 183] Average loss: 395.7712, val_loss: 3300.3511\n",
      "[Epoch: 184] Average loss: 341.2925, val_loss: 3531.7744\n",
      "[Epoch: 185] Average loss: 447.0239, val_loss: 3398.2388\n",
      "[Epoch: 186] Average loss: 404.1273, val_loss: 3731.5068\n",
      "[Epoch: 187] Average loss: 365.0698, val_loss: 3817.0276\n",
      "[Epoch: 188] Average loss: 543.1864, val_loss: 3515.1067\n",
      "[Epoch: 189] Average loss: 474.2780, val_loss: 3366.9990\n",
      "[Epoch: 190] Average loss: 406.5043, val_loss: 3724.9155\n",
      "[Epoch: 191] Average loss: 378.8719, val_loss: 3847.2495\n",
      "[Epoch: 192] Average loss: 398.3664, val_loss: 3439.2588\n",
      "[Epoch: 193] Average loss: 316.7584, val_loss: 3558.9434\n",
      "[Epoch: 194] Average loss: 389.7395, val_loss: 3671.3760\n",
      "[Epoch: 195] Average loss: 513.7514, val_loss: 3688.1436\n",
      "[Epoch: 196] Average loss: 595.4114, val_loss: 3246.5701\n",
      "[Epoch: 197] Average loss: 505.6107, val_loss: 3702.2651\n",
      "[Epoch: 198] Average loss: 478.7078, val_loss: 3752.3916\n",
      "[Epoch: 199] Average loss: 366.0663, val_loss: 3745.0276\n",
      "[Epoch: 200] Average loss: 382.3015, val_loss: 3689.4917\n"
     ]
    }
   ],
   "source": [
    "for epoch in range(epochs):\n",
    "    model.train()\n",
    "    criterion.train()\n",
    "    \n",
    "    avg_loss = 0\n",
    "\n",
    "    for X, Y in train_loader:\n",
    "        X = X.to(device)\n",
    "        Y = Y.to(device)\n",
    "\n",
    "        model.zero_grad()  # why we use zero_grad?\n",
    "        prediction = model(X)\n",
    "        loss = torch.sqrt(criterion(prediction, Y)).to(device)\n",
    "        loss.backward()\n",
    "        optimizer.step()\n",
    "        avg_loss += loss / len(train_loader)\n",
    "    print(f'[Epoch: {epoch+1:>2}] Average loss: {avg_loss:.4f}, ', end='')\n",
    "    \n",
    "    model.eval()\n",
    "    criterion.eval()\n",
    "    with torch.no_grad():\n",
    "        val_avg_loss = 0.\n",
    "        for X_val, Y_val in val_loader:\n",
    "            X_val = X_val.to(device)\n",
    "            Y_val = Y_val.to(device)\n",
    "            val_prediction = model(X_val)\n",
    "            val_loss = torch.sqrt(criterion(val_prediction, Y_val)).to(device)\n",
    "            val_avg_loss += val_loss / len(val_loader)\n",
    "        \n",
    "        print(f\"val_loss: {val_avg_loss:.4f}\")"
   ]
  },
  {
   "cell_type": "code",
   "execution_count": 9,
   "metadata": {
    "ExecuteTime": {
     "end_time": "2022-02-24T05:28:00.817131Z",
     "start_time": "2022-02-24T05:28:00.228974Z"
    },
    "colab": {
     "base_uri": "https://localhost:8080/"
    },
    "executionInfo": {
     "elapsed": 8090,
     "status": "ok",
     "timestamp": 1645251018146,
     "user": {
      "displayName": "석진혁(공과대학 기계공학)",
      "photoUrl": "https://lh3.googleusercontent.com/a/default-user=s64",
      "userId": "04829476984882153292"
     },
     "user_tz": -540
    },
    "id": "bNWcnr4RR9wP",
    "outputId": "d1174ff1-ea8b-49a9-9ce4-294874569f6e"
   },
   "outputs": [
    {
     "name": "stdout",
     "output_type": "stream",
     "text": [
      "Accuracy: 33.31%\n"
     ]
    }
   ],
   "source": [
    "model.eval()\n",
    "criterion.eval()\n",
    "ss_tot = 0\n",
    "ss_res = 0\n",
    "with torch.no_grad():\n",
    "    for X_test, Y_test in test_loader:\n",
    "        X_test = X_test.to(device)\n",
    "        Y_test = Y_test.to(device)\n",
    "        prediction = model(X_test)\n",
    "        mean = torch.mean(Y_test)\n",
    "        ss_tot += torch.sum((Y_test - mean) ** 2)\n",
    "        ss_res += torch.sum((Y_test - prediction) ** 2)\n",
    "    \n",
    "    accuracy = 1 - ss_res/ss_tot\n",
    "    print(f\"Accuracy: {accuracy*100:.2f}%\")"
   ]
  }
 ],
 "metadata": {
  "accelerator": "GPU",
  "colab": {
   "authorship_tag": "ABX9TyPfB93W6gSzubm+xCLPEP0L",
   "collapsed_sections": [],
   "name": "train.ipynb",
   "provenance": []
  },
  "kernelspec": {
   "display_name": "Python 3 (ipykernel)",
   "language": "python",
   "name": "python3"
  },
  "language_info": {
   "codemirror_mode": {
    "name": "ipython",
    "version": 3
   },
   "file_extension": ".py",
   "mimetype": "text/x-python",
   "name": "python",
   "nbconvert_exporter": "python",
   "pygments_lexer": "ipython3",
   "version": "3.9.7"
  }
 },
 "nbformat": 4,
 "nbformat_minor": 1
}
