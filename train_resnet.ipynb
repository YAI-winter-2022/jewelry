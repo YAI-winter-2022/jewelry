{
 "cells": [
  {
   "cell_type": "code",
   "execution_count": 1,
   "metadata": {
    "ExecuteTime": {
     "end_time": "2022-02-21T11:28:57.697208Z",
     "start_time": "2022-02-21T11:28:57.590495Z"
    },
    "colab": {
     "base_uri": "https://localhost:8080/"
    },
    "executionInfo": {
     "elapsed": 2234,
     "status": "ok",
     "timestamp": 1645246358775,
     "user": {
      "displayName": "석진혁(공과대학 기계공학)",
      "photoUrl": "https://lh3.googleusercontent.com/a/default-user=s64",
      "userId": "04829476984882153292"
     },
     "user_tz": -540
    },
    "id": "jXVgPLhBW4pG",
    "outputId": "451cbf0a-5852-4fe5-83d3-5d43fd7d04c8"
   },
   "outputs": [
    {
     "ename": "ModuleNotFoundError",
     "evalue": "No module named 'google.colab'",
     "output_type": "error",
     "traceback": [
      "\u001b[1;31m---------------------------------------------------------------------------\u001b[0m",
      "\u001b[1;31mModuleNotFoundError\u001b[0m                       Traceback (most recent call last)",
      "\u001b[1;32m~\\AppData\\Local\\Temp/ipykernel_14236/1408506528.py\u001b[0m in \u001b[0;36m<module>\u001b[1;34m\u001b[0m\n\u001b[1;32m----> 1\u001b[1;33m \u001b[1;32mfrom\u001b[0m \u001b[0mgoogle\u001b[0m\u001b[1;33m.\u001b[0m\u001b[0mcolab\u001b[0m \u001b[1;32mimport\u001b[0m \u001b[0mdrive\u001b[0m\u001b[1;33m\u001b[0m\u001b[1;33m\u001b[0m\u001b[0m\n\u001b[0m\u001b[0;32m      2\u001b[0m \u001b[0mdrive\u001b[0m\u001b[1;33m.\u001b[0m\u001b[0mmount\u001b[0m\u001b[1;33m(\u001b[0m\u001b[1;34m'/content/drive'\u001b[0m\u001b[1;33m)\u001b[0m\u001b[1;33m\u001b[0m\u001b[1;33m\u001b[0m\u001b[0m\n",
      "\u001b[1;31mModuleNotFoundError\u001b[0m: No module named 'google.colab'"
     ]
    }
   ],
   "source": [
    "from google.colab import drive\n",
    "drive.mount('/content/drive')"
   ]
  },
  {
   "cell_type": "code",
   "execution_count": null,
   "metadata": {
    "ExecuteTime": {
     "end_time": "2022-02-21T11:28:57.698254Z",
     "start_time": "2022-02-21T11:28:57.698254Z"
    },
    "colab": {
     "base_uri": "https://localhost:8080/"
    },
    "executionInfo": {
     "elapsed": 5,
     "status": "ok",
     "timestamp": 1645246358775,
     "user": {
      "displayName": "석진혁(공과대학 기계공학)",
      "photoUrl": "https://lh3.googleusercontent.com/a/default-user=s64",
      "userId": "04829476984882153292"
     },
     "user_tz": -540
    },
    "id": "baiYk5vwOWtO",
    "outputId": "a66f2f76-d83d-4c74-fb78-3c4ae7bcd78a"
   },
   "outputs": [],
   "source": [
    "cd /content/drive/MyDrive/'Colab Notebooks'/'yai_9기 겨울방학'/ToyProject"
   ]
  },
  {
   "cell_type": "code",
   "execution_count": null,
   "metadata": {
    "ExecuteTime": {
     "end_time": "2022-02-21T11:28:57.699203Z",
     "start_time": "2022-02-21T11:28:57.699203Z"
    },
    "colab": {
     "base_uri": "https://localhost:8080/"
    },
    "executionInfo": {
     "elapsed": 403,
     "status": "ok",
     "timestamp": 1645246359175,
     "user": {
      "displayName": "석진혁(공과대학 기계공학)",
      "photoUrl": "https://lh3.googleusercontent.com/a/default-user=s64",
      "userId": "04829476984882153292"
     },
     "user_tz": -540
    },
    "id": "oF-o4rYjW0Gk",
    "outputId": "a3a2ddd4-b31c-4c26-b1f0-97f741031bfa"
   },
   "outputs": [],
   "source": [
    "!pip upgrade ignite"
   ]
  },
  {
   "cell_type": "code",
   "execution_count": null,
   "metadata": {
    "ExecuteTime": {
     "end_time": "2022-02-21T11:28:57.700201Z",
     "start_time": "2022-02-21T11:28:57.700201Z"
    },
    "executionInfo": {
     "elapsed": 389,
     "status": "ok",
     "timestamp": 1645248583756,
     "user": {
      "displayName": "석진혁(공과대학 기계공학)",
      "photoUrl": "https://lh3.googleusercontent.com/a/default-user=s64",
      "userId": "04829476984882153292"
     },
     "user_tz": -540
    },
    "id": "gala7GMLTriy"
   },
   "outputs": [],
   "source": [
    "import os\n",
    "import pandas as pd\n",
    "import numpy as np\n",
    "from PIL import Image\n",
    "import torch\n",
    "import torchvision\n",
    "import torch.nn as nn\n",
    "import torch.optim as optim\n",
    "import torch.nn.functional as F\n",
    "from torchvision import transforms, utils\n",
    "from torch.utils.data import Dataset, DataLoader\n",
    "from torch.utils.data.dataset import random_split\n",
    "\n",
    "import matplotlib as mpl\n",
    "import matplotlib.pyplot as plt\n",
    "\n",
    "from tqdm.notebook import tqdm"
   ]
  },
  {
   "cell_type": "code",
   "execution_count": null,
   "metadata": {
    "ExecuteTime": {
     "end_time": "2022-02-21T11:28:57.700201Z",
     "start_time": "2022-02-21T11:28:57.700201Z"
    },
    "colab": {
     "base_uri": "https://localhost:8080/",
     "height": 578
    },
    "executionInfo": {
     "elapsed": 737,
     "status": "ok",
     "timestamp": 1645246359910,
     "user": {
      "displayName": "석진혁(공과대학 기계공학)",
      "photoUrl": "https://lh3.googleusercontent.com/a/default-user=s64",
      "userId": "04829476984882153292"
     },
     "user_tz": -540
    },
    "id": "ZMpNqT68vCen",
    "outputId": "41cab33f-ec2f-4a0b-d016-a3635d643b96"
   },
   "outputs": [],
   "source": [
    "diamond_df = pd.read_csv('./data/images/total.csv')\n",
    "diamond_df_drop = diamond_df.drop_duplicates(['Id'], keep = 'last')\n",
    "names = os.listdir('./data/images')\n",
    "names = list(map(lambda s: s.rstrip('.jpg'),names))\n",
    "print(\"csv 중복제거전 중복제거후 : \",len(diamond_df), len(diamond_df_drop))\n",
    "print(\"이미지 개수\",len(os.listdir('./data/images')))\n",
    "print(\"이미지 파일명 \\n\",names)\n",
    "\n",
    "idxes = []\n",
    "for i in range(len(diamond_df_drop)):\n",
    "    if diamond_df_drop['Id'].iloc[i] not in names:\n",
    "        idxes.append(diamond_df_drop.index[i])\n",
    "print(\"제거돼야할 index들 : \", idxes)\n",
    "diamond_df_drop.drop(idxes)\n",
    "# idxes = diamond_df_drop[diamond_df_drop['Id'] not in names].index\n",
    "# diamond_df_drop = diamond_df_drop(idxes)\n",
    "# print(\"이미지 파일 없는 것 제거 후\",len(diamond_df_drop))\n"
   ]
  },
  {
   "cell_type": "code",
   "execution_count": null,
   "metadata": {
    "ExecuteTime": {
     "end_time": "2022-02-21T11:28:57.701198Z",
     "start_time": "2022-02-21T11:28:57.701198Z"
    },
    "colab": {
     "base_uri": "https://localhost:8080/"
    },
    "executionInfo": {
     "elapsed": 15364,
     "status": "ok",
     "timestamp": 1645246375271,
     "user": {
      "displayName": "석진혁(공과대학 기계공학)",
      "photoUrl": "https://lh3.googleusercontent.com/a/default-user=s64",
      "userId": "04829476984882153292"
     },
     "user_tz": -540
    },
    "id": "jLQvphKWNCdF",
    "outputId": "f3d0b770-f1e9-4943-e74d-caa451fc3569"
   },
   "outputs": [],
   "source": [
    "names = os.listdir('./data/images')\n",
    "sizes = []\n",
    "imageSize = []\n",
    "for name in names:\n",
    "    if name == 'total.csv':\n",
    "        continue\n",
    "    image = Image.open('./data/images/' + name)\n",
    "    image = np.array(image)\n",
    "    sizes.append(image.shape)\n",
    "    if image.shape == (508, 646, 3):\n",
    "        imageSize.append(name)\n",
    "\n",
    "sizes = set(sizes)\n",
    "print(sizes)\n"
   ]
  },
  {
   "cell_type": "code",
   "execution_count": null,
   "metadata": {
    "ExecuteTime": {
     "end_time": "2022-02-21T11:28:57.702195Z",
     "start_time": "2022-02-21T11:28:57.702195Z"
    },
    "executionInfo": {
     "elapsed": 304,
     "status": "ok",
     "timestamp": 1645248727632,
     "user": {
      "displayName": "석진혁(공과대학 기계공학)",
      "photoUrl": "https://lh3.googleusercontent.com/a/default-user=s64",
      "userId": "04829476984882153292"
     },
     "user_tz": -540
    },
    "id": "S2aoNXxHSGUw"
   },
   "outputs": [],
   "source": [
    "class DiamondDataset(Dataset):\n",
    "    def __init__(self, path, transform, train = True):\n",
    "        self.transform = transform\n",
    "        self.path = path\n",
    "        diamond_df = pd.read_csv(path + '/total.csv')\n",
    "        diamond_df = diamond_df.drop_duplicates(['Id'], keep = 'last')\n",
    "\n",
    "        names = os.listdir(path)\n",
    "        names = list(map(lambda s: s.rstrip('.jpg'),names))\n",
    "\n",
    "        idxes = []\n",
    "        for i in range(len(diamond_df)):\n",
    "            if diamond_df['Id'].iloc[i] not in names:\n",
    "                idxes.append(diamond_df.index[i])\n",
    "        \n",
    "        diamond_df = diamond_df.drop(idxes)\n",
    "        self.diamond_df = diamond_df\n",
    "        \n",
    "        \n",
    "    def __len__(self):\n",
    "        return len(self.diamond_df)\n",
    "\n",
    "    def __getitem__(self, idx):\n",
    "        price = self.diamond_df['Price'].iloc[idx]\n",
    "        name =  self.diamond_df['Id'].iloc[idx]\n",
    "        image = Image.open(self.path +'/' + name + '.jpg')\n",
    "\n",
    "        if self.transform:\n",
    "            image = self.transform(image)\n",
    "        return torch.tensor(image, dtype = torch.float), torch.tensor(price, dtype = torch.float)"
   ]
  },
  {
   "cell_type": "code",
   "execution_count": null,
   "metadata": {
    "ExecuteTime": {
     "end_time": "2022-02-21T11:28:57.702195Z",
     "start_time": "2022-02-21T11:28:57.702195Z"
    },
    "colab": {
     "base_uri": "https://localhost:8080/"
    },
    "executionInfo": {
     "elapsed": 402,
     "status": "ok",
     "timestamp": 1645246375659,
     "user": {
      "displayName": "석진혁(공과대학 기계공학)",
      "photoUrl": "https://lh3.googleusercontent.com/a/default-user=s64",
      "userId": "04829476984882153292"
     },
     "user_tz": -540
    },
    "id": "B60B9eYJljUc",
    "outputId": "8ac97421-e0e2-48d3-ada4-5f5a7ba6be5c"
   },
   "outputs": [],
   "source": [
    "!pwd"
   ]
  },
  {
   "cell_type": "code",
   "execution_count": null,
   "metadata": {
    "ExecuteTime": {
     "end_time": "2022-02-21T11:28:57.703194Z",
     "start_time": "2022-02-21T11:28:57.703194Z"
    },
    "colab": {
     "base_uri": "https://localhost:8080/"
    },
    "executionInfo": {
     "elapsed": 771,
     "status": "ok",
     "timestamp": 1645248733410,
     "user": {
      "displayName": "석진혁(공과대학 기계공학)",
      "photoUrl": "https://lh3.googleusercontent.com/a/default-user=s64",
      "userId": "04829476984882153292"
     },
     "user_tz": -540
    },
    "id": "NYx7egr7lZE1",
    "outputId": "e34b8eda-4a4f-451d-890d-d542cc676553"
   },
   "outputs": [],
   "source": [
    "dataset = DiamondDataset(path = './data/images',\n",
    "                         transform = transforms.Compose([\n",
    "                                     transforms.ToTensor(),\n",
    "                                     transforms.Normalize((0.5,0.5,0.5),\n",
    "                                                          (0.5,0.5,0.5))                          \n",
    "                                      ]))\n",
    "image, price = next(iter(dataset))"
   ]
  },
  {
   "cell_type": "code",
   "execution_count": null,
   "metadata": {
    "ExecuteTime": {
     "end_time": "2022-02-21T11:28:57.703194Z",
     "start_time": "2022-02-21T11:28:57.703194Z"
    },
    "colab": {
     "base_uri": "https://localhost:8080/",
     "height": 287
    },
    "executionInfo": {
     "elapsed": 624,
     "status": "ok",
     "timestamp": 1645248604131,
     "user": {
      "displayName": "석진혁(공과대학 기계공학)",
      "photoUrl": "https://lh3.googleusercontent.com/a/default-user=s64",
      "userId": "04829476984882153292"
     },
     "user_tz": -540
    },
    "id": "1WdqccrcnkBN",
    "outputId": "ae818aaa-6ac0-4951-c398-6c8dc3913f3c"
   },
   "outputs": [],
   "source": [
    "plt.imshow(transforms.ToPILImage()(image*0.5+0.5)) # Normalize 처리때문에 복구\n",
    "print(price)"
   ]
  },
  {
   "cell_type": "code",
   "execution_count": null,
   "metadata": {
    "ExecuteTime": {
     "end_time": "2022-02-21T11:28:57.704192Z",
     "start_time": "2022-02-21T11:28:57.704192Z"
    },
    "colab": {
     "base_uri": "https://localhost:8080/",
     "height": 1000
    },
    "executionInfo": {
     "elapsed": 4163,
     "status": "ok",
     "timestamp": 1645250627203,
     "user": {
      "displayName": "석진혁(공과대학 기계공학)",
      "photoUrl": "https://lh3.googleusercontent.com/a/default-user=s64",
      "userId": "04829476984882153292"
     },
     "user_tz": -540
    },
    "id": "-YDpcf7umggj",
    "outputId": "29d4a003-70a7-4a03-edf8-593624b09f12"
   },
   "outputs": [],
   "source": [
    "dataloader= DataLoader(dataset=dataset,\n",
    "                       batch_size=16,\n",
    "                       shuffle=True,\n",
    "                       num_workers=4,\n",
    "                       )\n",
    "images, labels = next(iter(dataloader))\n",
    "print(images.shape)\n",
    "plt.figure(figsize=(12,12))\n",
    "\n",
    "for n, (image, label) in enumerate(zip(images, labels), start=1):\n",
    "    plt.subplot(4,4,n)\n",
    "    plt.imshow(transforms.ToPILImage()(image*0.5+0.5))  # Normalize 처리때문에 복구\n",
    "    plt.axis('off')\n",
    "plt.tight_layout()\n",
    "plt.show()"
   ]
  },
  {
   "cell_type": "code",
   "execution_count": null,
   "metadata": {
    "ExecuteTime": {
     "end_time": "2022-02-21T11:28:57.705188Z",
     "start_time": "2022-02-21T11:28:57.705188Z"
    },
    "executionInfo": {
     "elapsed": 256,
     "status": "ok",
     "timestamp": 1645249328264,
     "user": {
      "displayName": "석진혁(공과대학 기계공학)",
      "photoUrl": "https://lh3.googleusercontent.com/a/default-user=s64",
      "userId": "04829476984882153292"
     },
     "user_tz": -540
    },
    "id": "l9xfqkslLx40"
   },
   "outputs": [],
   "source": [
    "# 모델\n",
    "resnet18 = torchvision.models.resnet18(pretrained=False)\n",
    "resnet18.conv1 = nn.Conv2d(3, 64, kernel_size=(7, 7), stride=(2, 2), padding=(3, 3), bias=False)\n",
    "resnet18.fc = nn.Sequential(\n",
    "    nn.Linear(in_features = 512, out_features = 120, bias = True),\n",
    "    nn.ReLU(),\n",
    "    nn.Linear(in_features = 120, out_features = 1, bias = True),\n",
    "    nn.ReLU()    \n",
    ")\n",
    "\n",
    "device = torch.device(\"cuda:0\" if torch.cuda.is_available() else \"cpu\")\n",
    "resnet18.to(device)\n",
    "\n",
    "epoch = 30\n",
    "LEARNING_RATE = 0.0001\n",
    "batch_size = 64\n",
    "\n",
    "criterion = nn.MSELoss()\n",
    "optimizer = torch.optim.Adam(resnet18.parameters(), lr=LEARNING_RATE)"
   ]
  },
  {
   "cell_type": "code",
   "execution_count": null,
   "metadata": {
    "ExecuteTime": {
     "end_time": "2022-02-21T11:28:57.705188Z",
     "start_time": "2022-02-21T11:28:57.705188Z"
    },
    "executionInfo": {
     "elapsed": 668,
     "status": "ok",
     "timestamp": 1645250436059,
     "user": {
      "displayName": "석진혁(공과대학 기계공학)",
      "photoUrl": "https://lh3.googleusercontent.com/a/default-user=s64",
      "userId": "04829476984882153292"
     },
     "user_tz": -540
    },
    "id": "Z5FqsBtKREGA"
   },
   "outputs": [],
   "source": [
    "dataset = DiamondDataset(path = './data/images',\n",
    "                transform = transforms.Compose([\n",
    "                            transforms.Resize((300,300)),\n",
    "                            transforms.ToTensor(),\n",
    "                            transforms.Normalize((0.5,0.5,0.5),\n",
    "                                                 (0.5,0.5,0.5))                          \n",
    "                            ]))\n",
    "length = len(dataset)\n",
    "train_set, test_set = random_split(dataset, [int(length*0.8),length - int(length*0.8)])\n",
    "train_loader= DataLoader(dataset=train_set,\n",
    "                       batch_size=batch_size,\n",
    "                       shuffle=True,\n",
    "                       num_workers=1,\n",
    "                       )\n",
    "test_loader = DataLoader(dataset = test_set,\n",
    "                         batch_size = batch_size,\n",
    "                         shuffle = True,\n",
    "                         num_workers = 1)"
   ]
  },
  {
   "cell_type": "code",
   "execution_count": null,
   "metadata": {
    "ExecuteTime": {
     "end_time": "2022-02-21T11:28:57.706185Z",
     "start_time": "2022-02-21T11:28:57.706185Z"
    },
    "executionInfo": {
     "elapsed": 255,
     "status": "ok",
     "timestamp": 1645249216952,
     "user": {
      "displayName": "석진혁(공과대학 기계공학)",
      "photoUrl": "https://lh3.googleusercontent.com/a/default-user=s64",
      "userId": "04829476984882153292"
     },
     "user_tz": -540
    },
    "id": "tDMgXLA0bxbE"
   },
   "outputs": [],
   "source": [
    "def r2_loss(output, target):\n",
    "    target_mean = torch.mean(target)\n",
    "    ss_tot = torch.sum((target - target_mean) ** 2)\n",
    "    ss_res = torch.sum((target - output) ** 2)\n",
    "    r2 = 1 - ss_res / ss_tot\n",
    "    return r2"
   ]
  },
  {
   "cell_type": "code",
   "execution_count": null,
   "metadata": {
    "ExecuteTime": {
     "end_time": "2022-02-21T11:28:57.707182Z",
     "start_time": "2022-02-21T11:28:57.707182Z"
    },
    "colab": {
     "base_uri": "https://localhost:8080/"
    },
    "executionInfo": {
     "elapsed": 786494,
     "status": "ok",
     "timestamp": 1645250118255,
     "user": {
      "displayName": "석진혁(공과대학 기계공학)",
      "photoUrl": "https://lh3.googleusercontent.com/a/default-user=s64",
      "userId": "04829476984882153292"
     },
     "user_tz": -540
    },
    "id": "HTmDcy0gVAoM",
    "outputId": "355d74c4-e47f-45a7-b321-6aa19d66ac02"
   },
   "outputs": [],
   "source": [
    "for epoch in range(epoch):\n",
    "    running_loss = 0\n",
    "\n",
    "    for images, labels in train_loader:\n",
    "        images = images.to(device)\n",
    "        labels = labels.to(device)\n",
    "\n",
    "        optimizer.zero_grad()\n",
    "        pred = resnet18(images)\n",
    "        loss = criterion(pred, labels)\n",
    "        loss.backward()\n",
    "        optimizer.step()\n",
    "\n",
    "        running_loss += loss\n",
    "    avg_loss = running_loss/len(train_loader)\n",
    "    print(f'[Epoch : {epoch}] average loss : {avg_loss}')"
   ]
  },
  {
   "cell_type": "code",
   "execution_count": null,
   "metadata": {
    "ExecuteTime": {
     "end_time": "2022-02-21T11:28:57.707182Z",
     "start_time": "2022-02-21T11:28:57.707182Z"
    },
    "colab": {
     "base_uri": "https://localhost:8080/"
    },
    "executionInfo": {
     "elapsed": 8090,
     "status": "ok",
     "timestamp": 1645251018146,
     "user": {
      "displayName": "석진혁(공과대학 기계공학)",
      "photoUrl": "https://lh3.googleusercontent.com/a/default-user=s64",
      "userId": "04829476984882153292"
     },
     "user_tz": -540
    },
    "id": "bNWcnr4RR9wP",
    "outputId": "d1174ff1-ea8b-49a9-9ce4-294874569f6e"
   },
   "outputs": [],
   "source": [
    "resnet18.eval()\n",
    "criterion = nn.MSELoss().to(device)\n",
    "ss_tot = 0\n",
    "ss_res = 0\n",
    "with torch.no_grad():\n",
    "    for images, prices in test_loader:\n",
    "        images =images.to(device)\n",
    "        prices = prices.to(device)\n",
    "        prediction = resnet18(images).to(device)\n",
    "        prices_mean = torch.mean(prices)\n",
    "        ss_tot += torch.sum((prices - prices_mean) ** 2)\n",
    "        ss_res = torch.sum((prices - prediction) ** 2)\n",
    "    \n",
    "    accuracy = 1 - ss_tot/ss_res        \n",
    "    print(f\"Accuracy: {accuracy*100:.2f}%\")"
   ]
  }
 ],
 "metadata": {
  "accelerator": "GPU",
  "colab": {
   "authorship_tag": "ABX9TyPfB93W6gSzubm+xCLPEP0L",
   "collapsed_sections": [],
   "name": "train.ipynb",
   "provenance": []
  },
  "kernelspec": {
   "display_name": "Python 3 (ipykernel)",
   "language": "python",
   "name": "python3"
  },
  "language_info": {
   "codemirror_mode": {
    "name": "ipython",
    "version": 3
   },
   "file_extension": ".py",
   "mimetype": "text/x-python",
   "name": "python",
   "nbconvert_exporter": "python",
   "pygments_lexer": "ipython3",
   "version": "3.9.7"
  }
 },
 "nbformat": 4,
 "nbformat_minor": 1
}
