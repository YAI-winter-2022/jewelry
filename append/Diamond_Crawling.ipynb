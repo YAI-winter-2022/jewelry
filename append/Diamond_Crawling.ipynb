{
  "nbformat": 4,
  "nbformat_minor": 0,
  "metadata": {
    "colab": {
      "name": "Diamond Crawling",
      "provenance": [],
      "collapsed_sections": []
    },
    "kernelspec": {
      "name": "python3",
      "display_name": "Python 3"
    },
    "language_info": {
      "name": "python"
    }
  },
  "cells": [
    {
      "cell_type": "code",
      "execution_count": 14,
      "metadata": {
        "id": "s8R-e55zNkyY"
      },
      "outputs": [],
      "source": [
        "import time\n",
        "import pandas as pd\n",
        "import requests\n",
        "from bs4 import BeautifulSoup\n",
        "from tqdm import tqdm\n",
        "import urllib.request\n",
        "import seaborn as sns\n",
        "import matplotlib.pyplot as plt\n",
        "import numpy as np"
      ]
    },
    {
      "cell_type": "code",
      "source": [
        "df1=pd.DataFrame(columns = ['Id', 'Shape', 'Weight', 'Clarity', 'Colour', 'Cut', 'Polish', 'Symmetry', 'Fluorescence', 'Length', 'Width', 'Depth', 'Price'])"
      ],
      "metadata": {
        "id": "eMAhSdl9TdMw"
      },
      "execution_count": null,
      "outputs": []
    },
    {
      "cell_type": "code",
      "source": [
        "#15개 page\n",
        "me = {'User-Agent' : 'Mozilla/5.0 (Macintosh; Intel Mac OS X 10_9_5)'}\n",
        "\n",
        "url1 = requests.get('https://capitalwholesalediamonds.com/product-tag/natural/page/4/?orderby=date&filters=price%5B20000_70000%5D', headers=me)\n",
        "html1 = BeautifulSoup(url1.text, features=\"html.parser\")"
      ],
      "metadata": {
        "id": "ZqXBCDyJNl6u"
      },
      "execution_count": null,
      "outputs": []
    },
    {
      "cell_type": "code",
      "source": [
        "a = html1.find_all('div', class_='ftc-product product')\n",
        "# url2 = requests.get(a[2].find('div', class_='images').find('a')['href'], headers=me)\n",
        "a[0]"
      ],
      "metadata": {
        "colab": {
          "base_uri": "https://localhost:8080/"
        },
        "id": "2x-saVh1Zf20",
        "outputId": "de263bd5-6751-41e4-f670-5c0fd11ce4bd"
      },
      "execution_count": null,
      "outputs": [
        {
          "output_type": "execute_result",
          "data": {
            "text/plain": [
              "<div class=\"ftc-product product\">\n",
              "<div class=\"images \">\n",
              "<a href=\"https://capitalwholesalediamonds.com/product/0-91-ct-cushion-27/\">\n",
              "<span class=\"no-image\"><img alt=\"Placeholder\" class=\"woocommerce-placeholder wp-post-image\" height=\"300\" loading=\"lazy\" sizes=\"(max-width: 300px) 100vw, 300px\" src=\"https://capitalwholesalediamonds.com/wp-content/uploads/woocommerce-placeholder.png\" srcset=\"https://capitalwholesalediamonds.com/wp-content/uploads/woocommerce-placeholder.png 300w, https://capitalwholesalediamonds.com/wp-content/uploads/woocommerce-placeholder-600x600.png 600w, https://capitalwholesalediamonds.com/wp-content/uploads/woocommerce-placeholder-1024x1024.png 1024w, https://capitalwholesalediamonds.com/wp-content/uploads/woocommerce-placeholder-150x150.png 150w, https://capitalwholesalediamonds.com/wp-content/uploads/woocommerce-placeholder-768x768.png 768w, https://capitalwholesalediamonds.com/wp-content/uploads/woocommerce-placeholder-100x100.png 100w\" width=\"300\"/></span>\n",
              "</a>\n",
              "<div class=\"conditions-box\">\n",
              "</div>\n",
              "<div class=\"group-button-product\"><div class=\"add-to-cart add_to_cart_button\"><a class=\"button product_type_simple add_to_cart_button ajax_add_to_cart\" data-product_id=\"486086\" data-product_sku=\"1754997\" data-quantity=\"1\" href=\"?add-to-cart=486086\" rel=\"nofollow\">\n",
              "<span class=\"ftc-tooltip button-tooltip\">Add to cart</span></a></div><div class=\"yith-wcwl-add-to-wishlist add-to-wishlist-486086 \"><a class=\"add_to_wishlist wishlist\" data-product-id=\"486086\" data-product-type=\"simple\" href=\"/product-tag/natural/page/4/?orderby=date&amp;filters=price%5B20000_70000%5D&amp;add_to_wishlist=486086\"><i class=\"icon-heart\"></i><span class=\"ftc-tooltip button-tooltip\">Wishlist</span></a><img alt=\"loading\" class=\"ajax-loading\" height=\"16\" src=\"https://capitalwholesalediamonds.com/wp-content/themes/karo/assets/images/ajax-loader.gif\" style=\"visibility:hidden\" width=\"16\"/><span class=\"yith-wcwl-wishlistaddedbrowse hide\" style=\"display: none\"><a href=\"https://capitalwholesalediamonds.com/wishlist-2/\"><i class=\"icon-heart\"></i><span class=\"ftc-tooltip button-tooltip\">Wishlist</span></a></span><span class=\"yith-wcwl-wishlistexistsbrowse hide\" style=\"display: none\"><a href=\"https://capitalwholesalediamonds.com/wishlist-2/\"><i class=\"icon-heart\"></i><span class=\"ftc-tooltip button-tooltip\">Wishlist</span></a></span></div><a class=\"compare\" data-product_id=\"486086\" href=\"https://capitalwholesalediamonds.com?action=yith-woocompare-add-product&amp;id=486086\"><i class=\"icon-refresh\"></i><span class=\"ftc-tooltip button-tooltip\">Compare</span></a><a class=\"quickview\" href=\"https://capitalwholesalediamonds.com/wp-admin/admin-ajax.php?ajax=true&amp;action=load_quickshop_content&amp;product_id=486086\"><i class=\"icon-magnifier\"></i><span class=\"ftc-tooltip button-tooltip\">Quick view</span></a></div>\n",
              "</div>\n",
              "<div class=\"item-description\">\n",
              "\t\t\t1754997\t\t\t<h3 class=\"product_title product-name\"><a href=\"https://capitalwholesalediamonds.com/product/0-91-ct-cushion-27/\">0.91 CT CUSHION</a></h3><div class=\"product-categories\"><span></span><a href=\"https://capitalwholesalediamonds.com/product-category/cushion/\" rel=\"tag\">CUSHION</a></div><div class=\"meta_info\"><div class=\"add-to-cart add_to_cart_button\"><a class=\"button product_type_simple add_to_cart_button ajax_add_to_cart\" data-product_id=\"486086\" data-product_sku=\"1754997\" data-quantity=\"1\" href=\"?add-to-cart=486086\" rel=\"nofollow\">\n",
              "<span class=\"ftc-tooltip button-tooltip\">Add to cart</span></a></div><a class=\"compare\" data-product_id=\"486086\" href=\"https://capitalwholesalediamonds.com?action=yith-woocompare-add-product&amp;id=486086\"><i class=\"icon-refresh\"></i><span class=\"ftc-tooltip button-tooltip\">Compare</span></a><div class=\"yith-wcwl-add-to-wishlist add-to-wishlist-486086 \"><a class=\"add_to_wishlist wishlist\" data-product-id=\"486086\" data-product-type=\"simple\" href=\"/product-tag/natural/page/4/?orderby=date&amp;filters=price%5B20000_70000%5D&amp;add_to_wishlist=486086\"><i class=\"icon-heart\"></i><span class=\"ftc-tooltip button-tooltip\">Wishlist</span></a><img alt=\"loading\" class=\"ajax-loading\" height=\"16\" src=\"https://capitalwholesalediamonds.com/wp-content/themes/karo/assets/images/ajax-loader.gif\" style=\"visibility:hidden\" width=\"16\"/><span class=\"yith-wcwl-wishlistaddedbrowse hide\" style=\"display: none\"><a href=\"https://capitalwholesalediamonds.com/wishlist-2/\"><i class=\"icon-heart\"></i><span class=\"ftc-tooltip button-tooltip\">Wishlist</span></a></span><span class=\"yith-wcwl-wishlistexistsbrowse hide\" style=\"display: none\"><a href=\"https://capitalwholesalediamonds.com/wishlist-2/\"><i class=\"icon-heart\"></i><span class=\"ftc-tooltip button-tooltip\">Wishlist</span></a></span></div><a class=\"quickview\" href=\"https://capitalwholesalediamonds.com/wp-admin/admin-ajax.php?ajax=true&amp;action=load_quickshop_content&amp;product_id=486086\"><i class=\"icon-magnifier\"></i><span class=\"ftc-tooltip button-tooltip\">Quick view</span></a></div> <div class=\"short-description list\" style=\"display: none\">\n",
              "        1754997        </div>\n",
              "</div>\n",
              "</div>"
            ]
          },
          "metadata": {},
          "execution_count": 202
        }
      ]
    },
    {
      "cell_type": "code",
      "source": [
        "#Image id\n",
        "# url_id = a[1].find('div', class_='item-description').text.split('\\n')[-2].strip()\n",
        "url_id = a[1].find('div', class_='item-description')\n",
        "url_id"
      ],
      "metadata": {
        "colab": {
          "base_uri": "https://localhost:8080/"
        },
        "id": "DPbMvNz5ch9g",
        "outputId": "6ef14e0b-18a0-412b-faff-f8e03f6b69d2"
      },
      "execution_count": null,
      "outputs": [
        {
          "output_type": "execute_result",
          "data": {
            "text/plain": [
              "<div class=\"item-description\">\n",
              "\t\t\t1754997\t\t\t<h3 class=\"product_title product-name\"><a href=\"https://capitalwholesalediamonds.com/product/0-91-ct-cushion-27/\">0.91 CT CUSHION</a></h3><div class=\"product-categories\"><span></span><a href=\"https://capitalwholesalediamonds.com/product-category/cushion/\" rel=\"tag\">CUSHION</a></div><div class=\"meta_info\"><div class=\"add-to-cart add_to_cart_button\"><a class=\"button product_type_simple add_to_cart_button ajax_add_to_cart\" data-product_id=\"486086\" data-product_sku=\"1754997\" data-quantity=\"1\" href=\"?add-to-cart=486086\" rel=\"nofollow\">\n",
              "<span class=\"ftc-tooltip button-tooltip\">Add to cart</span></a></div><a class=\"compare\" data-product_id=\"486086\" href=\"https://capitalwholesalediamonds.com?action=yith-woocompare-add-product&amp;id=486086\"><i class=\"icon-refresh\"></i><span class=\"ftc-tooltip button-tooltip\">Compare</span></a><div class=\"yith-wcwl-add-to-wishlist add-to-wishlist-486086 \"><a class=\"add_to_wishlist wishlist\" data-product-id=\"486086\" data-product-type=\"simple\" href=\"/product-tag/natural/page/4/?orderby=date&amp;filters=price%5B20000_70000%5D&amp;add_to_wishlist=486086\"><i class=\"icon-heart\"></i><span class=\"ftc-tooltip button-tooltip\">Wishlist</span></a><img alt=\"loading\" class=\"ajax-loading\" height=\"16\" src=\"https://capitalwholesalediamonds.com/wp-content/themes/karo/assets/images/ajax-loader.gif\" style=\"visibility:hidden\" width=\"16\"/><span class=\"yith-wcwl-wishlistaddedbrowse hide\" style=\"display: none\"><a href=\"https://capitalwholesalediamonds.com/wishlist-2/\"><i class=\"icon-heart\"></i><span class=\"ftc-tooltip button-tooltip\">Wishlist</span></a></span><span class=\"yith-wcwl-wishlistexistsbrowse hide\" style=\"display: none\"><a href=\"https://capitalwholesalediamonds.com/wishlist-2/\"><i class=\"icon-heart\"></i><span class=\"ftc-tooltip button-tooltip\">Wishlist</span></a></span></div><a class=\"quickview\" href=\"https://capitalwholesalediamonds.com/wp-admin/admin-ajax.php?ajax=true&amp;action=load_quickshop_content&amp;product_id=486086\"><i class=\"icon-magnifier\"></i><span class=\"ftc-tooltip button-tooltip\">Quick view</span></a></div> <div class=\"short-description list\" style=\"display: none\">\n",
              "        1754997        </div>\n",
              "</div>"
            ]
          },
          "metadata": {},
          "execution_count": 207
        }
      ]
    },
    {
      "cell_type": "code",
      "source": [
        "#image 원본\n",
        "url_image = str(a[0].find('div', class_='images').find('span', class_='no-image')).split('src=')[1].split('\"')[1]\n",
        "url_image.split('.')[-1]"
      ],
      "metadata": {
        "colab": {
          "base_uri": "https://localhost:8080/",
          "height": 35
        },
        "id": "xPyAN9URZkza",
        "outputId": "0f69b5cb-c715-4caf-8ace-1d462a1720b4"
      },
      "execution_count": null,
      "outputs": [
        {
          "output_type": "execute_result",
          "data": {
            "application/vnd.google.colaboratory.intrinsic+json": {
              "type": "string"
            },
            "text/plain": [
              "'jpg'"
            ]
          },
          "metadata": {},
          "execution_count": 181
        }
      ]
    },
    {
      "cell_type": "code",
      "source": [
        "#image 다운\n",
        "urllib.request.urlretrieve(url_image, \"C:/Diamond_images/{}.jpg\".format(url_id))"
      ],
      "metadata": {
        "colab": {
          "base_uri": "https://localhost:8080/"
        },
        "id": "yPo2O3UYcB0i",
        "outputId": "179c0003-9468-4914-b5a1-4cda261b6af0"
      },
      "execution_count": null,
      "outputs": [
        {
          "output_type": "execute_result",
          "data": {
            "text/plain": [
              "('201212-8.jpg', <http.client.HTTPMessage at 0x7f758b380f90>)"
            ]
          },
          "metadata": {},
          "execution_count": 170
        }
      ]
    },
    {
      "cell_type": "code",
      "source": [
        "#각 diamond 상세 페이지\n",
        "url2 = requests.get(html1.find_all('div', class_='ftc-product product')[2].find('div', class_='images').find('a')['href'], headers=me)\n",
        "html2 = BeautifulSoup(url2.text, features=\"html.parser\")"
      ],
      "metadata": {
        "id": "TkGBfN7TNqPZ"
      },
      "execution_count": null,
      "outputs": []
    },
    {
      "cell_type": "code",
      "source": [
        "lists1 = []\n",
        "#Id\n",
        "lists1.append(html2.find_all('p')[7].text.split('\\n')[0].split(':')[1].strip())\n",
        "\n",
        "#Shpae\n",
        "lists1.append(html2.find_all('p')[7].text.split('\\n')[1].split(':')[1].strip())\n",
        "\n",
        "#Weight\n",
        "lists1.append(float(html2.find_all('p')[7].text.split('\\n')[2].split(':')[1].strip()))\n",
        "\n",
        "#Clarity\n",
        "lists1.append(html2.find_all('p')[7].text.split('\\n')[3].split(':')[1].strip())\n",
        "\n",
        "#Colour\n",
        "lists1.append(html2.find_all('p')[7].text.split('\\n')[4].split(':')[1].strip())\n",
        "\n",
        "#Cut\n",
        "lists1.append(html2.find_all('p')[7].text.split('\\n')[5].split(':')[1].strip())\n",
        "\n",
        "#Polish\n",
        "lists1.append(html2.find_all('p')[7].text.split('\\n')[6].split(':')[1].strip())\n",
        "\n",
        "#Symmetry\n",
        "lists1.append(html2.find_all('p')[7].text.split('\\n')[7].split(':')[1].strip())\n",
        "\n",
        "#Fluorescence\n",
        "lists1.append(html2.find_all('p')[7].text.split('\\n')[8].split(':')[1].strip())\n",
        "\n",
        "#Length\n",
        "lists1.append(float(html2.find_all('p')[7].text.split('\\n')[9].split(':')[1].strip().split('-')[0]))\n",
        "\n",
        "#Width\n",
        "lists1.append(float(html2.find_all('p')[7].text.split('\\n')[9].split(':')[1].strip().split('-')[1].split('×')[0]))\n",
        "\n",
        "#Depth\n",
        "lists1.append(float(html2.find_all('p')[7].text.split('\\n')[9].split(':')[1].strip().split('-')[1].split('×')[1]))\n",
        "\n",
        "#Price\n",
        "lists1.append(float(html2.find_all('p')[5].text[1:3] + html2.find_all('p')[5].text[4:]))"
      ],
      "metadata": {
        "id": "e4Ccnq6qR8cV"
      },
      "execution_count": null,
      "outputs": []
    },
    {
      "cell_type": "code",
      "source": [
        "df1.loc[len(df1)] = lists1\n",
        "df1"
      ],
      "metadata": {
        "colab": {
          "base_uri": "https://localhost:8080/",
          "height": 81
        },
        "id": "XHMNdyPFW67y",
        "outputId": "249aab2f-0722-44b9-9d0d-f9fa2de13720"
      },
      "execution_count": null,
      "outputs": [
        {
          "output_type": "execute_result",
          "data": {
            "text/html": [
              "\n",
              "  <div id=\"df-94c0844e-b37c-4ce3-afa4-daedc3fb229c\">\n",
              "    <div class=\"colab-df-container\">\n",
              "      <div>\n",
              "<style scoped>\n",
              "    .dataframe tbody tr th:only-of-type {\n",
              "        vertical-align: middle;\n",
              "    }\n",
              "\n",
              "    .dataframe tbody tr th {\n",
              "        vertical-align: top;\n",
              "    }\n",
              "\n",
              "    .dataframe thead th {\n",
              "        text-align: right;\n",
              "    }\n",
              "</style>\n",
              "<table border=\"1\" class=\"dataframe\">\n",
              "  <thead>\n",
              "    <tr style=\"text-align: right;\">\n",
              "      <th></th>\n",
              "      <th>Id</th>\n",
              "      <th>Shape</th>\n",
              "      <th>Weight</th>\n",
              "      <th>Clarity</th>\n",
              "      <th>Colour</th>\n",
              "      <th>Cut</th>\n",
              "      <th>Polish</th>\n",
              "      <th>Symmetry</th>\n",
              "      <th>Fluorescence</th>\n",
              "      <th>Length</th>\n",
              "      <th>Width</th>\n",
              "      <th>Depth</th>\n",
              "      <th>Price</th>\n",
              "    </tr>\n",
              "  </thead>\n",
              "  <tbody>\n",
              "    <tr>\n",
              "      <th>0</th>\n",
              "      <td>211201-10</td>\n",
              "      <td>EMERALD</td>\n",
              "      <td>3.51</td>\n",
              "      <td>SI1</td>\n",
              "      <td>K</td>\n",
              "      <td>VG</td>\n",
              "      <td>EX</td>\n",
              "      <td>EX</td>\n",
              "      <td>ST</td>\n",
              "      <td>9.9</td>\n",
              "      <td>7.38</td>\n",
              "      <td>5.12</td>\n",
              "      <td>28995.88</td>\n",
              "    </tr>\n",
              "  </tbody>\n",
              "</table>\n",
              "</div>\n",
              "      <button class=\"colab-df-convert\" onclick=\"convertToInteractive('df-94c0844e-b37c-4ce3-afa4-daedc3fb229c')\"\n",
              "              title=\"Convert this dataframe to an interactive table.\"\n",
              "              style=\"display:none;\">\n",
              "        \n",
              "  <svg xmlns=\"http://www.w3.org/2000/svg\" height=\"24px\"viewBox=\"0 0 24 24\"\n",
              "       width=\"24px\">\n",
              "    <path d=\"M0 0h24v24H0V0z\" fill=\"none\"/>\n",
              "    <path d=\"M18.56 5.44l.94 2.06.94-2.06 2.06-.94-2.06-.94-.94-2.06-.94 2.06-2.06.94zm-11 1L8.5 8.5l.94-2.06 2.06-.94-2.06-.94L8.5 2.5l-.94 2.06-2.06.94zm10 10l.94 2.06.94-2.06 2.06-.94-2.06-.94-.94-2.06-.94 2.06-2.06.94z\"/><path d=\"M17.41 7.96l-1.37-1.37c-.4-.4-.92-.59-1.43-.59-.52 0-1.04.2-1.43.59L10.3 9.45l-7.72 7.72c-.78.78-.78 2.05 0 2.83L4 21.41c.39.39.9.59 1.41.59.51 0 1.02-.2 1.41-.59l7.78-7.78 2.81-2.81c.8-.78.8-2.07 0-2.86zM5.41 20L4 18.59l7.72-7.72 1.47 1.35L5.41 20z\"/>\n",
              "  </svg>\n",
              "      </button>\n",
              "      \n",
              "  <style>\n",
              "    .colab-df-container {\n",
              "      display:flex;\n",
              "      flex-wrap:wrap;\n",
              "      gap: 12px;\n",
              "    }\n",
              "\n",
              "    .colab-df-convert {\n",
              "      background-color: #E8F0FE;\n",
              "      border: none;\n",
              "      border-radius: 50%;\n",
              "      cursor: pointer;\n",
              "      display: none;\n",
              "      fill: #1967D2;\n",
              "      height: 32px;\n",
              "      padding: 0 0 0 0;\n",
              "      width: 32px;\n",
              "    }\n",
              "\n",
              "    .colab-df-convert:hover {\n",
              "      background-color: #E2EBFA;\n",
              "      box-shadow: 0px 1px 2px rgba(60, 64, 67, 0.3), 0px 1px 3px 1px rgba(60, 64, 67, 0.15);\n",
              "      fill: #174EA6;\n",
              "    }\n",
              "\n",
              "    [theme=dark] .colab-df-convert {\n",
              "      background-color: #3B4455;\n",
              "      fill: #D2E3FC;\n",
              "    }\n",
              "\n",
              "    [theme=dark] .colab-df-convert:hover {\n",
              "      background-color: #434B5C;\n",
              "      box-shadow: 0px 1px 3px 1px rgba(0, 0, 0, 0.15);\n",
              "      filter: drop-shadow(0px 1px 2px rgba(0, 0, 0, 0.3));\n",
              "      fill: #FFFFFF;\n",
              "    }\n",
              "  </style>\n",
              "\n",
              "      <script>\n",
              "        const buttonEl =\n",
              "          document.querySelector('#df-94c0844e-b37c-4ce3-afa4-daedc3fb229c button.colab-df-convert');\n",
              "        buttonEl.style.display =\n",
              "          google.colab.kernel.accessAllowed ? 'block' : 'none';\n",
              "\n",
              "        async function convertToInteractive(key) {\n",
              "          const element = document.querySelector('#df-94c0844e-b37c-4ce3-afa4-daedc3fb229c');\n",
              "          const dataTable =\n",
              "            await google.colab.kernel.invokeFunction('convertToInteractive',\n",
              "                                                     [key], {});\n",
              "          if (!dataTable) return;\n",
              "\n",
              "          const docLinkHtml = 'Like what you see? Visit the ' +\n",
              "            '<a target=\"_blank\" href=https://colab.research.google.com/notebooks/data_table.ipynb>data table notebook</a>'\n",
              "            + ' to learn more about interactive tables.';\n",
              "          element.innerHTML = '';\n",
              "          dataTable['output_type'] = 'display_data';\n",
              "          await google.colab.output.renderOutput(dataTable, element);\n",
              "          const docLink = document.createElement('div');\n",
              "          docLink.innerHTML = docLinkHtml;\n",
              "          element.appendChild(docLink);\n",
              "        }\n",
              "      </script>\n",
              "    </div>\n",
              "  </div>\n",
              "  "
            ],
            "text/plain": [
              "          Id    Shape  Weight Clarity  ... Length Width Depth     Price\n",
              "0  211201-10  EMERALD    3.51     SI1  ...    9.9  7.38  5.12  28995.88\n",
              "\n",
              "[1 rows x 13 columns]"
            ]
          },
          "metadata": {},
          "execution_count": 139
        }
      ]
    },
    {
      "cell_type": "code",
      "source": [
        "import time\n",
        "import pandas as pd\n",
        "import requests\n",
        "from bs4 import BeautifulSoup\n",
        "from tqdm import tqdm\n",
        "import urllib.request\n",
        "\n",
        "df1=pd.DataFrame(columns = ['Id', 'Shape', 'Weight', 'Clarity', 'Colour', 'Cut', 'Polish', 'Symmetry', 'Fluorescence', 'Length', 'Width', 'Depth', 'Price'])\n",
        "id_set = set(pd.read_csv('C:\\\\Diamond_images\\\\final.csv')['Id'])\n",
        "\n",
        "id_set = {}\n",
        "for i in range(1,150) :\n",
        "\n",
        "    #15개 나오는 페이지\n",
        "    url1 = requests.get('https://capitalwholesalediamonds.com/product-tag/natural/page/{}/?orderby=date&filters=price%5B20000_70000%5D'.format(i), headers=me)\n",
        "    html1 = BeautifulSoup(url1.text, features=\"html.parser\")\n",
        "    a = html1.find_all('div', class_='ftc-product product')\n",
        "    \n",
        "    for j in tqdm(range(len(a))) :\n",
        "        try :\n",
        "            #이미 있는 Id or .png라면 pass\n",
        "            url_id = a[j].find('div', class_='item-description').text.split('\\n')[-2].strip()\n",
        "            url_image = str(a[j].find('div', class_='images').find('span', class_='no-image')).split('src=')[1].split('\"')[1]\n",
        "            if url_id in id_set or url_image.split('.')[-1] != 'jpg' :\n",
        "                continue\n",
        "\n",
        "            #사진 다운\n",
        "            urllib.request.urlretrieve(url_image, \"C:\\\\Diamond_images\\\\{}.jpg\".format(url_id))\n",
        "\n",
        "            #상세페이지\n",
        "            url2 = requests.get(html1.find_all('div', class_='ftc-product product')[2].find('div', class_='images').find('a')['href'], headers=me)\n",
        "            html2 = BeautifulSoup(url2.text, features=\"html.parser\")\n",
        "\n",
        "            #CSV 파일\n",
        "            lists1 = []\n",
        "            #Id\n",
        "            lists1.append(html2.find_all('p')[7].text.split('\\n')[0].split(':')[1].strip())\n",
        "\n",
        "            #Shpae\n",
        "            lists1.append(html2.find_all('p')[7].text.split('\\n')[1].split(':')[1].strip())\n",
        "\n",
        "            #Weight\n",
        "            lists1.append(float(html2.find_all('p')[7].text.split('\\n')[2].split(':')[1].strip()))\n",
        "\n",
        "            #Clarity\n",
        "            lists1.append(html2.find_all('p')[7].text.split('\\n')[3].split(':')[1].strip())\n",
        "\n",
        "            #Colour\n",
        "            lists1.append(html2.find_all('p')[7].text.split('\\n')[4].split(':')[1].strip())\n",
        "\n",
        "            #Cut\n",
        "            lists1.append(html2.find_all('p')[7].text.split('\\n')[5].split(':')[1].strip())\n",
        "\n",
        "            #Polish\n",
        "            lists1.append(html2.find_all('p')[7].text.split('\\n')[6].split(':')[1].strip())\n",
        "\n",
        "            #Symmetry\n",
        "            lists1.append(html2.find_all('p')[7].text.split('\\n')[7].split(':')[1].strip())\n",
        "\n",
        "            #Fluorescence\n",
        "            lists1.append(html2.find_all('p')[7].text.split('\\n')[8].split(':')[1].strip())\n",
        "\n",
        "            #Length\n",
        "            lists1.append(float(html2.find_all('p')[7].text.split('\\n')[9].split(':')[1].strip().split('-')[0]))\n",
        "\n",
        "            #Width\n",
        "            lists1.append(float(html2.find_all('p')[7].text.split('\\n')[9].split(':')[1].strip().split('-')[1].split('×')[0]))\n",
        "\n",
        "            #Depth\n",
        "            lists1.append(float(html2.find_all('p')[7].text.split('\\n')[9].split(':')[1].strip().split('-')[1].split('×')[1]))\n",
        "\n",
        "            #Price\n",
        "            lists1.append(float(html2.find_all('p')[5].text[1:3] + html2.find_all('p')[5].text[4:]))\n",
        "\n",
        "            df1.loc[len(df1)] = lists1\n",
        "        except :\n",
        "            pass\n",
        "print(df1)\n",
        "df1.to_csv('C:\\\\Diamond_image\\\\append.csv')"
      ],
      "metadata": {
        "id": "I4sjDTYegppw"
      },
      "execution_count": null,
      "outputs": []
    },
    {
      "cell_type": "code",
      "source": [
        "#최종 돌린 것\n",
        "import time\n",
        "import pandas as pd\n",
        "import requests\n",
        "from bs4 import BeautifulSoup\n",
        "from tqdm import tqdm\n",
        "import urllib.request\n",
        "\n",
        "me = {'User-Agent' : 'Mozilla/5.0 (Macintosh; Intel Mac OS X 10_9_5)'}\n",
        "\n",
        "df1 = pd.DataFrame(columns=['Id', 'Shape', 'Weight', 'Clarity', 'Colour', 'Cut', 'Polish', 'Symmetry', 'Fluorescence', 'Length', 'Width', 'Depth', 'Price'])\n",
        "df2 = pd.read_csv('C:\\\\Diamond_images\\\\append.csv')\n",
        "id_set = set(pd.read_csv('C:\\\\Diamond_images\\\\final.csv')['Id'])\n",
        "\n",
        "for i in tqdm(range(9, 149)):\n",
        "    try :\n",
        "        # 15개 나오는 페이지\n",
        "        url1 = requests.get('https://capitalwholesalediamonds.com/product-tag/natural/page/{}/?orderby=date&filters=price%5B20000_70000%5D'.format(i), headers=me)\n",
        "        html1 = BeautifulSoup(url1.text, features=\"html.parser\")\n",
        "        a = html1.find_all('div', class_='ftc-product product')\n",
        "\n",
        "        for j in range(len(a)):\n",
        "            try:\n",
        "                # 이미 있는 Id or .png라면 pass\n",
        "                url_id = a[j].find('div', class_='item-description').text.split('\\n')[-2].strip()\n",
        "                url_image = str(a[j].find('div', class_='images').find('span', class_='no-image')).split('src=')[1].split('\"')[1]\n",
        "                if url_id in id_set or url_image.split('.')[-1] != 'jpg':\n",
        "                    continue\n",
        "\n",
        "                # 사진 다운\n",
        "                urllib.request.urlretrieve(url_image, \"C:\\\\Diamond_images\\\\{}.jpg\".format(url_id))\n",
        "\n",
        "                # 상세페이지\n",
        "                url2 = requests.get(html1.find_all('div', class_='ftc-product product')[j].find('div', class_='images').find('a')['href'],headers=me)\n",
        "                html2 = BeautifulSoup(url2.text, features=\"html.parser\")\n",
        "\n",
        "                # CSV 파일\n",
        "                lists1 = []\n",
        "                # Id\n",
        "                lists1.append(html2.find_all('p')[7].text.split('\\n')[0].split(':')[1].strip())\n",
        "\n",
        "                # Shpae\n",
        "                lists1.append(html2.find_all('p')[7].text.split('\\n')[1].split(':')[1].strip())\n",
        "\n",
        "                # Weight\n",
        "                lists1.append(float(html2.find_all('p')[7].text.split('\\n')[2].split(':')[1].strip()))\n",
        "\n",
        "                # Clarity\n",
        "                lists1.append(html2.find_all('p')[7].text.split('\\n')[3].split(':')[1].strip())\n",
        "\n",
        "                # Colour\n",
        "                lists1.append(html2.find_all('p')[7].text.split('\\n')[4].split(':')[1].strip())\n",
        "\n",
        "                # Cut\n",
        "                lists1.append(html2.find_all('p')[7].text.split('\\n')[5].split(':')[1].strip())\n",
        "\n",
        "                # Polish\n",
        "                lists1.append(html2.find_all('p')[7].text.split('\\n')[6].split(':')[1].strip())\n",
        "\n",
        "                # Symmetry\n",
        "                lists1.append(html2.find_all('p')[7].text.split('\\n')[7].split(':')[1].strip())\n",
        "\n",
        "                # Fluorescence\n",
        "                lists1.append(html2.find_all('p')[7].text.split('\\n')[8].split(':')[1].strip())\n",
        "\n",
        "                # Length\n",
        "                lists1.append(float(html2.find_all('p')[7].text.split('\\n')[9].split(':')[1].strip().split('-')[0]))\n",
        "\n",
        "                # Width\n",
        "                lists1.append(\n",
        "                    float(html2.find_all('p')[7].text.split('\\n')[9].split(':')[1].strip().split('-')[1].split('×')[0]))\n",
        "\n",
        "                # Depth\n",
        "                lists1.append(\n",
        "                    float(html2.find_all('p')[7].text.split('\\n')[9].split(':')[1].strip().split('-')[1].split('×')[1]))\n",
        "\n",
        "                # Price\n",
        "                lists1.append(float(html2.find_all('p')[5].text[1:3] + html2.find_all('p')[5].text[4:]))\n",
        "\n",
        "                df1.loc[len(df1)] = lists1\n",
        "\n",
        "            except:\n",
        "                pass\n",
        "\n",
        "        print(df1.tail(15))\n",
        "    except :\n",
        "        continue\n",
        "df1 = pd.concat([df2, df1])\n",
        "df1.to_csv('C:\\\\Diamond_images\\\\append.csv', index = False)"
      ],
      "metadata": {
        "id": "latg1ZrE3-UP"
      },
      "execution_count": null,
      "outputs": []
    },
    {
      "cell_type": "code",
      "source": [
        "#데이터 확인\n",
        "df_1 = pd.read_csv('append.csv')"
      ],
      "metadata": {
        "id": "mCF3Ts5K4gmW"
      },
      "execution_count": 45,
      "outputs": []
    },
    {
      "cell_type": "code",
      "source": [
        "df_1.info()"
      ],
      "metadata": {
        "colab": {
          "base_uri": "https://localhost:8080/"
        },
        "id": "T1sQ4PYs4t6G",
        "outputId": "0edabdda-2f51-4a79-d475-8252f2944a8f"
      },
      "execution_count": 11,
      "outputs": [
        {
          "output_type": "stream",
          "name": "stdout",
          "text": [
            "<class 'pandas.core.frame.DataFrame'>\n",
            "RangeIndex: 2136 entries, 0 to 2135\n",
            "Data columns (total 13 columns):\n",
            " #   Column        Non-Null Count  Dtype  \n",
            "---  ------        --------------  -----  \n",
            " 0   Id            2136 non-null   object \n",
            " 1   Shape         2136 non-null   object \n",
            " 2   Weight        2136 non-null   float64\n",
            " 3   Clarity       2136 non-null   object \n",
            " 4   Colour        2136 non-null   object \n",
            " 5   Cut           2136 non-null   object \n",
            " 6   Polish        2136 non-null   object \n",
            " 7   Symmetry      2136 non-null   object \n",
            " 8   Fluorescence  2136 non-null   object \n",
            " 9   Length        2136 non-null   float64\n",
            " 10  Width         2136 non-null   float64\n",
            " 11  Depth         2136 non-null   float64\n",
            " 12  Price         2136 non-null   float64\n",
            "dtypes: float64(5), object(8)\n",
            "memory usage: 217.1+ KB\n"
          ]
        }
      ]
    },
    {
      "cell_type": "code",
      "source": [
        "df_1.head()"
      ],
      "metadata": {
        "colab": {
          "base_uri": "https://localhost:8080/",
          "height": 206
        },
        "id": "ruopNS3a4vgv",
        "outputId": "deb847b5-6f7e-440a-81f6-b7fd083a0195"
      },
      "execution_count": 12,
      "outputs": [
        {
          "output_type": "execute_result",
          "data": {
            "text/html": [
              "\n",
              "  <div id=\"df-fda0a86b-4f8a-4c32-bc5b-9df2834966f5\">\n",
              "    <div class=\"colab-df-container\">\n",
              "      <div>\n",
              "<style scoped>\n",
              "    .dataframe tbody tr th:only-of-type {\n",
              "        vertical-align: middle;\n",
              "    }\n",
              "\n",
              "    .dataframe tbody tr th {\n",
              "        vertical-align: top;\n",
              "    }\n",
              "\n",
              "    .dataframe thead th {\n",
              "        text-align: right;\n",
              "    }\n",
              "</style>\n",
              "<table border=\"1\" class=\"dataframe\">\n",
              "  <thead>\n",
              "    <tr style=\"text-align: right;\">\n",
              "      <th></th>\n",
              "      <th>Id</th>\n",
              "      <th>Shape</th>\n",
              "      <th>Weight</th>\n",
              "      <th>Clarity</th>\n",
              "      <th>Colour</th>\n",
              "      <th>Cut</th>\n",
              "      <th>Polish</th>\n",
              "      <th>Symmetry</th>\n",
              "      <th>Fluorescence</th>\n",
              "      <th>Length</th>\n",
              "      <th>Width</th>\n",
              "      <th>Depth</th>\n",
              "      <th>Price</th>\n",
              "    </tr>\n",
              "  </thead>\n",
              "  <tbody>\n",
              "    <tr>\n",
              "      <th>0</th>\n",
              "      <td>210211-26</td>\n",
              "      <td>EMERALD</td>\n",
              "      <td>5.51</td>\n",
              "      <td>VS1</td>\n",
              "      <td>O-P</td>\n",
              "      <td>EX</td>\n",
              "      <td>EX</td>\n",
              "      <td>EX</td>\n",
              "      <td>F</td>\n",
              "      <td>11.31</td>\n",
              "      <td>8.50</td>\n",
              "      <td>5.78</td>\n",
              "      <td>41613.86</td>\n",
              "    </tr>\n",
              "    <tr>\n",
              "      <th>1</th>\n",
              "      <td>211069-30</td>\n",
              "      <td>EMERALD</td>\n",
              "      <td>5.01</td>\n",
              "      <td>SI2</td>\n",
              "      <td>M</td>\n",
              "      <td>EX</td>\n",
              "      <td>EX</td>\n",
              "      <td>EX</td>\n",
              "      <td>N</td>\n",
              "      <td>11.77</td>\n",
              "      <td>8.13</td>\n",
              "      <td>5.33</td>\n",
              "      <td>26256.28</td>\n",
              "    </tr>\n",
              "    <tr>\n",
              "      <th>2</th>\n",
              "      <td>210595-6</td>\n",
              "      <td>EMERALD</td>\n",
              "      <td>5.01</td>\n",
              "      <td>VS2</td>\n",
              "      <td>M</td>\n",
              "      <td>VG</td>\n",
              "      <td>EX</td>\n",
              "      <td>EX</td>\n",
              "      <td>N</td>\n",
              "      <td>10.99</td>\n",
              "      <td>8.32</td>\n",
              "      <td>5.62</td>\n",
              "      <td>53764.84</td>\n",
              "    </tr>\n",
              "    <tr>\n",
              "      <th>3</th>\n",
              "      <td>210300-52</td>\n",
              "      <td>EMERALD</td>\n",
              "      <td>5.01</td>\n",
              "      <td>VS2</td>\n",
              "      <td>J</td>\n",
              "      <td>VG</td>\n",
              "      <td>EX</td>\n",
              "      <td>EX</td>\n",
              "      <td>M</td>\n",
              "      <td>10.63</td>\n",
              "      <td>8.03</td>\n",
              "      <td>5.63</td>\n",
              "      <td>56407.68</td>\n",
              "    </tr>\n",
              "    <tr>\n",
              "      <th>4</th>\n",
              "      <td>210211-15</td>\n",
              "      <td>EMERALD</td>\n",
              "      <td>5.00</td>\n",
              "      <td>VS1</td>\n",
              "      <td>L</td>\n",
              "      <td>VG</td>\n",
              "      <td>EX</td>\n",
              "      <td>EX</td>\n",
              "      <td>N</td>\n",
              "      <td>10.95</td>\n",
              "      <td>8.27</td>\n",
              "      <td>5.78</td>\n",
              "      <td>39042.12</td>\n",
              "    </tr>\n",
              "  </tbody>\n",
              "</table>\n",
              "</div>\n",
              "      <button class=\"colab-df-convert\" onclick=\"convertToInteractive('df-fda0a86b-4f8a-4c32-bc5b-9df2834966f5')\"\n",
              "              title=\"Convert this dataframe to an interactive table.\"\n",
              "              style=\"display:none;\">\n",
              "        \n",
              "  <svg xmlns=\"http://www.w3.org/2000/svg\" height=\"24px\"viewBox=\"0 0 24 24\"\n",
              "       width=\"24px\">\n",
              "    <path d=\"M0 0h24v24H0V0z\" fill=\"none\"/>\n",
              "    <path d=\"M18.56 5.44l.94 2.06.94-2.06 2.06-.94-2.06-.94-.94-2.06-.94 2.06-2.06.94zm-11 1L8.5 8.5l.94-2.06 2.06-.94-2.06-.94L8.5 2.5l-.94 2.06-2.06.94zm10 10l.94 2.06.94-2.06 2.06-.94-2.06-.94-.94-2.06-.94 2.06-2.06.94z\"/><path d=\"M17.41 7.96l-1.37-1.37c-.4-.4-.92-.59-1.43-.59-.52 0-1.04.2-1.43.59L10.3 9.45l-7.72 7.72c-.78.78-.78 2.05 0 2.83L4 21.41c.39.39.9.59 1.41.59.51 0 1.02-.2 1.41-.59l7.78-7.78 2.81-2.81c.8-.78.8-2.07 0-2.86zM5.41 20L4 18.59l7.72-7.72 1.47 1.35L5.41 20z\"/>\n",
              "  </svg>\n",
              "      </button>\n",
              "      \n",
              "  <style>\n",
              "    .colab-df-container {\n",
              "      display:flex;\n",
              "      flex-wrap:wrap;\n",
              "      gap: 12px;\n",
              "    }\n",
              "\n",
              "    .colab-df-convert {\n",
              "      background-color: #E8F0FE;\n",
              "      border: none;\n",
              "      border-radius: 50%;\n",
              "      cursor: pointer;\n",
              "      display: none;\n",
              "      fill: #1967D2;\n",
              "      height: 32px;\n",
              "      padding: 0 0 0 0;\n",
              "      width: 32px;\n",
              "    }\n",
              "\n",
              "    .colab-df-convert:hover {\n",
              "      background-color: #E2EBFA;\n",
              "      box-shadow: 0px 1px 2px rgba(60, 64, 67, 0.3), 0px 1px 3px 1px rgba(60, 64, 67, 0.15);\n",
              "      fill: #174EA6;\n",
              "    }\n",
              "\n",
              "    [theme=dark] .colab-df-convert {\n",
              "      background-color: #3B4455;\n",
              "      fill: #D2E3FC;\n",
              "    }\n",
              "\n",
              "    [theme=dark] .colab-df-convert:hover {\n",
              "      background-color: #434B5C;\n",
              "      box-shadow: 0px 1px 3px 1px rgba(0, 0, 0, 0.15);\n",
              "      filter: drop-shadow(0px 1px 2px rgba(0, 0, 0, 0.3));\n",
              "      fill: #FFFFFF;\n",
              "    }\n",
              "  </style>\n",
              "\n",
              "      <script>\n",
              "        const buttonEl =\n",
              "          document.querySelector('#df-fda0a86b-4f8a-4c32-bc5b-9df2834966f5 button.colab-df-convert');\n",
              "        buttonEl.style.display =\n",
              "          google.colab.kernel.accessAllowed ? 'block' : 'none';\n",
              "\n",
              "        async function convertToInteractive(key) {\n",
              "          const element = document.querySelector('#df-fda0a86b-4f8a-4c32-bc5b-9df2834966f5');\n",
              "          const dataTable =\n",
              "            await google.colab.kernel.invokeFunction('convertToInteractive',\n",
              "                                                     [key], {});\n",
              "          if (!dataTable) return;\n",
              "\n",
              "          const docLinkHtml = 'Like what you see? Visit the ' +\n",
              "            '<a target=\"_blank\" href=https://colab.research.google.com/notebooks/data_table.ipynb>data table notebook</a>'\n",
              "            + ' to learn more about interactive tables.';\n",
              "          element.innerHTML = '';\n",
              "          dataTable['output_type'] = 'display_data';\n",
              "          await google.colab.output.renderOutput(dataTable, element);\n",
              "          const docLink = document.createElement('div');\n",
              "          docLink.innerHTML = docLinkHtml;\n",
              "          element.appendChild(docLink);\n",
              "        }\n",
              "      </script>\n",
              "    </div>\n",
              "  </div>\n",
              "  "
            ],
            "text/plain": [
              "          Id    Shape  Weight Clarity  ... Length Width Depth     Price\n",
              "0  210211-26  EMERALD    5.51     VS1  ...  11.31  8.50  5.78  41613.86\n",
              "1  211069-30  EMERALD    5.01     SI2  ...  11.77  8.13  5.33  26256.28\n",
              "2   210595-6  EMERALD    5.01     VS2  ...  10.99  8.32  5.62  53764.84\n",
              "3  210300-52  EMERALD    5.01     VS2  ...  10.63  8.03  5.63  56407.68\n",
              "4  210211-15  EMERALD    5.00     VS1  ...  10.95  8.27  5.78  39042.12\n",
              "\n",
              "[5 rows x 13 columns]"
            ]
          },
          "metadata": {},
          "execution_count": 12
        }
      ]
    },
    {
      "cell_type": "code",
      "source": [
        "# Shape에 'CUSHION MBR'(63개)이나 'RADIANT'(7개)가 섞여 있습니다.\n",
        "# Cushion mbr은 cushion cut의 한 종류라서 cushion으로 넣고 radiant는 아예 새로운 cut 종류라 삭제했습니다.\n",
        "set(df_1['Shape'])"
      ],
      "metadata": {
        "colab": {
          "base_uri": "https://localhost:8080/"
        },
        "id": "L4ZXyNdL9Nlu",
        "outputId": "bdf9deac-f524-4cd8-a2fa-f8748023893d"
      },
      "execution_count": 52,
      "outputs": [
        {
          "output_type": "execute_result",
          "data": {
            "text/plain": [
              "{'CUSHION',\n",
              " 'CUSHION MBR',\n",
              " 'EMERALD',\n",
              " 'HEART',\n",
              " 'MARQUISE',\n",
              " 'OVAL',\n",
              " 'PEAR',\n",
              " 'PRINCESS',\n",
              " 'RADIANT',\n",
              " 'ROUND'}"
            ]
          },
          "metadata": {},
          "execution_count": 52
        }
      ]
    },
    {
      "cell_type": "code",
      "source": [
        "df_1[df_1['Shape']=='RADIANT']"
      ],
      "metadata": {
        "colab": {
          "base_uri": "https://localhost:8080/",
          "height": 269
        },
        "id": "WEgeIeGcAnYa",
        "outputId": "b693aa8d-b9a8-47ea-c736-fd4d4d54f037"
      },
      "execution_count": 54,
      "outputs": [
        {
          "output_type": "execute_result",
          "data": {
            "text/html": [
              "\n",
              "  <div id=\"df-705bc407-5719-417e-bfb2-0b5661717452\">\n",
              "    <div class=\"colab-df-container\">\n",
              "      <div>\n",
              "<style scoped>\n",
              "    .dataframe tbody tr th:only-of-type {\n",
              "        vertical-align: middle;\n",
              "    }\n",
              "\n",
              "    .dataframe tbody tr th {\n",
              "        vertical-align: top;\n",
              "    }\n",
              "\n",
              "    .dataframe thead th {\n",
              "        text-align: right;\n",
              "    }\n",
              "</style>\n",
              "<table border=\"1\" class=\"dataframe\">\n",
              "  <thead>\n",
              "    <tr style=\"text-align: right;\">\n",
              "      <th></th>\n",
              "      <th>Id</th>\n",
              "      <th>Shape</th>\n",
              "      <th>Weight</th>\n",
              "      <th>Clarity</th>\n",
              "      <th>Colour</th>\n",
              "      <th>Cut</th>\n",
              "      <th>Polish</th>\n",
              "      <th>Symmetry</th>\n",
              "      <th>Fluorescence</th>\n",
              "      <th>Length</th>\n",
              "      <th>Width</th>\n",
              "      <th>Depth</th>\n",
              "      <th>Price</th>\n",
              "    </tr>\n",
              "  </thead>\n",
              "  <tbody>\n",
              "    <tr>\n",
              "      <th>1533</th>\n",
              "      <td>200640-17</td>\n",
              "      <td>RADIANT</td>\n",
              "      <td>4.01</td>\n",
              "      <td>SI1</td>\n",
              "      <td>K</td>\n",
              "      <td>EX</td>\n",
              "      <td>EX</td>\n",
              "      <td>EX</td>\n",
              "      <td>N</td>\n",
              "      <td>10.40</td>\n",
              "      <td>8.12</td>\n",
              "      <td>5.10</td>\n",
              "      <td>44435.40</td>\n",
              "    </tr>\n",
              "    <tr>\n",
              "      <th>1708</th>\n",
              "      <td>210034-68</td>\n",
              "      <td>RADIANT</td>\n",
              "      <td>3.00</td>\n",
              "      <td>SI1</td>\n",
              "      <td>J</td>\n",
              "      <td>EX</td>\n",
              "      <td>EX</td>\n",
              "      <td>EX</td>\n",
              "      <td>N</td>\n",
              "      <td>8.14</td>\n",
              "      <td>8.01</td>\n",
              "      <td>5.48</td>\n",
              "      <td>27837.75</td>\n",
              "    </tr>\n",
              "    <tr>\n",
              "      <th>1920</th>\n",
              "      <td>211014-51</td>\n",
              "      <td>RADIANT</td>\n",
              "      <td>2.20</td>\n",
              "      <td>SI1</td>\n",
              "      <td>D</td>\n",
              "      <td>EX</td>\n",
              "      <td>EX</td>\n",
              "      <td>EX</td>\n",
              "      <td>N</td>\n",
              "      <td>7.46</td>\n",
              "      <td>7.27</td>\n",
              "      <td>4.89</td>\n",
              "      <td>20982.61</td>\n",
              "    </tr>\n",
              "    <tr>\n",
              "      <th>1968</th>\n",
              "      <td>201223-45</td>\n",
              "      <td>RADIANT</td>\n",
              "      <td>2.01</td>\n",
              "      <td>VVS2</td>\n",
              "      <td>H</td>\n",
              "      <td>EX</td>\n",
              "      <td>EX</td>\n",
              "      <td>EX</td>\n",
              "      <td>N</td>\n",
              "      <td>7.98</td>\n",
              "      <td>6.38</td>\n",
              "      <td>4.34</td>\n",
              "      <td>22989.92</td>\n",
              "    </tr>\n",
              "    <tr>\n",
              "      <th>2069</th>\n",
              "      <td>200784-213</td>\n",
              "      <td>RADIANT</td>\n",
              "      <td>2.00</td>\n",
              "      <td>VS2</td>\n",
              "      <td>G</td>\n",
              "      <td>EX</td>\n",
              "      <td>EX</td>\n",
              "      <td>EX</td>\n",
              "      <td>N</td>\n",
              "      <td>7.02</td>\n",
              "      <td>6.98</td>\n",
              "      <td>4.76</td>\n",
              "      <td>21903.50</td>\n",
              "    </tr>\n",
              "    <tr>\n",
              "      <th>2070</th>\n",
              "      <td>201211-100</td>\n",
              "      <td>RADIANT</td>\n",
              "      <td>2.00</td>\n",
              "      <td>SI1</td>\n",
              "      <td>F</td>\n",
              "      <td>EX</td>\n",
              "      <td>EX</td>\n",
              "      <td>EX</td>\n",
              "      <td>N</td>\n",
              "      <td>7.88</td>\n",
              "      <td>6.27</td>\n",
              "      <td>4.31</td>\n",
              "      <td>22250.16</td>\n",
              "    </tr>\n",
              "    <tr>\n",
              "      <th>2071</th>\n",
              "      <td>201223-83</td>\n",
              "      <td>RADIANT</td>\n",
              "      <td>2.00</td>\n",
              "      <td>VS1</td>\n",
              "      <td>F</td>\n",
              "      <td>EX</td>\n",
              "      <td>EX</td>\n",
              "      <td>VG</td>\n",
              "      <td>N</td>\n",
              "      <td>7.97</td>\n",
              "      <td>6.35</td>\n",
              "      <td>4.35</td>\n",
              "      <td>24218.34</td>\n",
              "    </tr>\n",
              "  </tbody>\n",
              "</table>\n",
              "</div>\n",
              "      <button class=\"colab-df-convert\" onclick=\"convertToInteractive('df-705bc407-5719-417e-bfb2-0b5661717452')\"\n",
              "              title=\"Convert this dataframe to an interactive table.\"\n",
              "              style=\"display:none;\">\n",
              "        \n",
              "  <svg xmlns=\"http://www.w3.org/2000/svg\" height=\"24px\"viewBox=\"0 0 24 24\"\n",
              "       width=\"24px\">\n",
              "    <path d=\"M0 0h24v24H0V0z\" fill=\"none\"/>\n",
              "    <path d=\"M18.56 5.44l.94 2.06.94-2.06 2.06-.94-2.06-.94-.94-2.06-.94 2.06-2.06.94zm-11 1L8.5 8.5l.94-2.06 2.06-.94-2.06-.94L8.5 2.5l-.94 2.06-2.06.94zm10 10l.94 2.06.94-2.06 2.06-.94-2.06-.94-.94-2.06-.94 2.06-2.06.94z\"/><path d=\"M17.41 7.96l-1.37-1.37c-.4-.4-.92-.59-1.43-.59-.52 0-1.04.2-1.43.59L10.3 9.45l-7.72 7.72c-.78.78-.78 2.05 0 2.83L4 21.41c.39.39.9.59 1.41.59.51 0 1.02-.2 1.41-.59l7.78-7.78 2.81-2.81c.8-.78.8-2.07 0-2.86zM5.41 20L4 18.59l7.72-7.72 1.47 1.35L5.41 20z\"/>\n",
              "  </svg>\n",
              "      </button>\n",
              "      \n",
              "  <style>\n",
              "    .colab-df-container {\n",
              "      display:flex;\n",
              "      flex-wrap:wrap;\n",
              "      gap: 12px;\n",
              "    }\n",
              "\n",
              "    .colab-df-convert {\n",
              "      background-color: #E8F0FE;\n",
              "      border: none;\n",
              "      border-radius: 50%;\n",
              "      cursor: pointer;\n",
              "      display: none;\n",
              "      fill: #1967D2;\n",
              "      height: 32px;\n",
              "      padding: 0 0 0 0;\n",
              "      width: 32px;\n",
              "    }\n",
              "\n",
              "    .colab-df-convert:hover {\n",
              "      background-color: #E2EBFA;\n",
              "      box-shadow: 0px 1px 2px rgba(60, 64, 67, 0.3), 0px 1px 3px 1px rgba(60, 64, 67, 0.15);\n",
              "      fill: #174EA6;\n",
              "    }\n",
              "\n",
              "    [theme=dark] .colab-df-convert {\n",
              "      background-color: #3B4455;\n",
              "      fill: #D2E3FC;\n",
              "    }\n",
              "\n",
              "    [theme=dark] .colab-df-convert:hover {\n",
              "      background-color: #434B5C;\n",
              "      box-shadow: 0px 1px 3px 1px rgba(0, 0, 0, 0.15);\n",
              "      filter: drop-shadow(0px 1px 2px rgba(0, 0, 0, 0.3));\n",
              "      fill: #FFFFFF;\n",
              "    }\n",
              "  </style>\n",
              "\n",
              "      <script>\n",
              "        const buttonEl =\n",
              "          document.querySelector('#df-705bc407-5719-417e-bfb2-0b5661717452 button.colab-df-convert');\n",
              "        buttonEl.style.display =\n",
              "          google.colab.kernel.accessAllowed ? 'block' : 'none';\n",
              "\n",
              "        async function convertToInteractive(key) {\n",
              "          const element = document.querySelector('#df-705bc407-5719-417e-bfb2-0b5661717452');\n",
              "          const dataTable =\n",
              "            await google.colab.kernel.invokeFunction('convertToInteractive',\n",
              "                                                     [key], {});\n",
              "          if (!dataTable) return;\n",
              "\n",
              "          const docLinkHtml = 'Like what you see? Visit the ' +\n",
              "            '<a target=\"_blank\" href=https://colab.research.google.com/notebooks/data_table.ipynb>data table notebook</a>'\n",
              "            + ' to learn more about interactive tables.';\n",
              "          element.innerHTML = '';\n",
              "          dataTable['output_type'] = 'display_data';\n",
              "          await google.colab.output.renderOutput(dataTable, element);\n",
              "          const docLink = document.createElement('div');\n",
              "          docLink.innerHTML = docLinkHtml;\n",
              "          element.appendChild(docLink);\n",
              "        }\n",
              "      </script>\n",
              "    </div>\n",
              "  </div>\n",
              "  "
            ],
            "text/plain": [
              "              Id    Shape  Weight Clarity  ... Length Width Depth     Price\n",
              "1533   200640-17  RADIANT    4.01     SI1  ...  10.40  8.12  5.10  44435.40\n",
              "1708   210034-68  RADIANT    3.00     SI1  ...   8.14  8.01  5.48  27837.75\n",
              "1920   211014-51  RADIANT    2.20     SI1  ...   7.46  7.27  4.89  20982.61\n",
              "1968   201223-45  RADIANT    2.01    VVS2  ...   7.98  6.38  4.34  22989.92\n",
              "2069  200784-213  RADIANT    2.00     VS2  ...   7.02  6.98  4.76  21903.50\n",
              "2070  201211-100  RADIANT    2.00     SI1  ...   7.88  6.27  4.31  22250.16\n",
              "2071   201223-83  RADIANT    2.00     VS1  ...   7.97  6.35  4.35  24218.34\n",
              "\n",
              "[7 rows x 13 columns]"
            ]
          },
          "metadata": {},
          "execution_count": 54
        }
      ]
    },
    {
      "cell_type": "code",
      "source": [
        "# 여기부터는 진혁님이 plt나 sns 이용한 eda 복붙 했습니다.\n",
        "f, ax = plt.subplots(figsize=(10, 8))\n",
        "corr = df_1.corr()\n",
        "sns.heatmap(corr, mask=np.zeros_like(corr, dtype=np.bool), cmap=sns.diverging_palette(240,10,as_cmap=True),\n",
        "            square=True, ax=ax)"
      ],
      "metadata": {
        "colab": {
          "base_uri": "https://localhost:8080/",
          "height": 580
        },
        "id": "kevzSHmy773l",
        "outputId": "203ce670-4096-4784-d1ba-14a409a0fcd7"
      },
      "execution_count": 30,
      "outputs": [
        {
          "output_type": "stream",
          "name": "stderr",
          "text": [
            "/usr/local/lib/python3.7/dist-packages/ipykernel_launcher.py:3: DeprecationWarning: `np.bool` is a deprecated alias for the builtin `bool`. To silence this warning, use `bool` by itself. Doing this will not modify any behavior and is safe. If you specifically wanted the numpy scalar type, use `np.bool_` here.\n",
            "Deprecated in NumPy 1.20; for more details and guidance: https://numpy.org/devdocs/release/1.20.0-notes.html#deprecations\n",
            "  This is separate from the ipykernel package so we can avoid doing imports until\n"
          ]
        },
        {
          "output_type": "execute_result",
          "data": {
            "text/plain": [
              "<matplotlib.axes._subplots.AxesSubplot at 0x7f7241e72310>"
            ]
          },
          "metadata": {},
          "execution_count": 30
        },
        {
          "output_type": "display_data",
          "data": {
            "image/png": "[encoded data removed]",
            "text/plain": [
              "<Figure size 720x576 with 2 Axes>"
            ]
          },
          "metadata": {
            "needs_background": "light"
          }
        }
      ]
    },
    {
      "cell_type": "code",
      "source": [
        "csv_cushion = df_1[df_1.Shape == 'CUSHION']\n",
        "f, ax = plt.subplots(figsize=(10, 8))\n",
        "corr = csv_cushion.corr()\n",
        "sns.heatmap(corr, mask=np.zeros_like(corr, dtype=np.bool), cmap=sns.diverging_palette(240,10,as_cmap=True),\n",
        "            square=True, ax=ax)"
      ],
      "metadata": {
        "colab": {
          "base_uri": "https://localhost:8080/",
          "height": 580
        },
        "id": "c3J6vdzd8Nda",
        "outputId": "a2e467a4-06e3-49ca-a31c-385adbc40f35"
      },
      "execution_count": 31,
      "outputs": [
        {
          "output_type": "stream",
          "name": "stderr",
          "text": [
            "/usr/local/lib/python3.7/dist-packages/ipykernel_launcher.py:4: DeprecationWarning: `np.bool` is a deprecated alias for the builtin `bool`. To silence this warning, use `bool` by itself. Doing this will not modify any behavior and is safe. If you specifically wanted the numpy scalar type, use `np.bool_` here.\n",
            "Deprecated in NumPy 1.20; for more details and guidance: https://numpy.org/devdocs/release/1.20.0-notes.html#deprecations\n",
            "  after removing the cwd from sys.path.\n"
          ]
        },
        {
          "output_type": "execute_result",
          "data": {
            "text/plain": [
              "<matplotlib.axes._subplots.AxesSubplot at 0x7f7241d5a510>"
            ]
          },
          "metadata": {},
          "execution_count": 31
        },
        {
          "output_type": "display_data",
          "data": {
            "image/png": "[encoded data removed]",
            "text/plain": [
              "<Figure size 720x576 with 2 Axes>"
            ]
          },
          "metadata": {
            "needs_background": "light"
          }
        }
      ]
    },
    {
      "cell_type": "code",
      "source": [
        "fig, ax = plt.subplots(figsize=(12, 10))\n",
        "\n",
        "sns.histplot(x='Price', data=df_1, hue = 'Shape')"
      ],
      "metadata": {
        "colab": {
          "base_uri": "https://localhost:8080/",
          "height": 624
        },
        "id": "d7Hdq0no8Wy-",
        "outputId": "029de282-05c5-43e1-f37f-6ad68f196981"
      },
      "execution_count": 32,
      "outputs": [
        {
          "output_type": "execute_result",
          "data": {
            "text/plain": [
              "<matplotlib.axes._subplots.AxesSubplot at 0x7f7241cfdfd0>"
            ]
          },
          "metadata": {},
          "execution_count": 32
        },
        {
          "output_type": "display_data",
          "data": {
            "image/png": "[encoded data removed]",
            "text/plain": [
              "<Figure size 864x720 with 1 Axes>"
            ]
          },
          "metadata": {
            "needs_background": "light"
          }
        }
      ]
    },
    {
      "cell_type": "code",
      "source": [
        "print(\"최소 price와 최대 price : \",df_1.Price.min(),df_1.Price.max())"
      ],
      "metadata": {
        "colab": {
          "base_uri": "https://localhost:8080/"
        },
        "id": "GuRF02e38RZZ",
        "outputId": "f5dcdba6-4ba3-4593-a5a3-6208ea12423d"
      },
      "execution_count": 33,
      "outputs": [
        {
          "output_type": "stream",
          "name": "stdout",
          "text": [
            "최소 price와 최대 price :  9.90368003401038 11.155692937039001\n"
          ]
        }
      ]
    },
    {
      "cell_type": "code",
      "source": [
        "csv_log_price = df_1\n",
        "csv_log_price['Price'] = csv_log_price.Price.apply(np.log, axis = 1)\n",
        "\n",
        "fig, axes = plt.subplots(figsize=(12, 10))\n",
        "\n",
        "sns.histplot(x='Price', data=df_1, hue = 'Shape')"
      ],
      "metadata": {
        "colab": {
          "base_uri": "https://localhost:8080/",
          "height": 624
        },
        "id": "0ZGnYFsH8m3b",
        "outputId": "126c5eba-7cad-44d2-fdca-2c032fc65bfd"
      },
      "execution_count": 34,
      "outputs": [
        {
          "output_type": "execute_result",
          "data": {
            "text/plain": [
              "<matplotlib.axes._subplots.AxesSubplot at 0x7f7241be4710>"
            ]
          },
          "metadata": {},
          "execution_count": 34
        },
        {
          "output_type": "display_data",
          "data": {
            "image/png": "[encoded data removed]",
            "text/plain": [
              "<Figure size 864x720 with 1 Axes>"
            ]
          },
          "metadata": {
            "needs_background": "light"
          }
        }
      ]
    },
    {
      "cell_type": "code",
      "source": [
        "fig, axes = plt.subplots(figsize=(12, 10))\n",
        "\n",
        "sns.histplot(x='Price', data=df_1)"
      ],
      "metadata": {
        "colab": {
          "base_uri": "https://localhost:8080/",
          "height": 624
        },
        "id": "VzTcK1Ul8tyJ",
        "outputId": "552a6a6e-1d41-47ad-c626-bd9609b7741b"
      },
      "execution_count": 35,
      "outputs": [
        {
          "output_type": "execute_result",
          "data": {
            "text/plain": [
              "<matplotlib.axes._subplots.AxesSubplot at 0x7f7241a67710>"
            ]
          },
          "metadata": {},
          "execution_count": 35
        },
        {
          "output_type": "display_data",
          "data": {
            "image/png": "[encoded data removed]",
            "text/plain": [
              "<Figure size 864x720 with 1 Axes>"
            ]
          },
          "metadata": {
            "needs_background": "light"
          }
        }
      ]
    },
    {
      "cell_type": "code",
      "source": [
        "csv_heart = df_1[df_1.Shape == 'CUSHION']\n",
        "f, ax = plt.subplots(figsize=(10, 8))\n",
        "corr = csv_heart.corr()\n",
        "sns.heatmap(corr, mask=np.zeros_like(corr, dtype=np.bool), cmap=sns.diverging_palette(240,10,as_cmap=True),\n",
        "            square=True, ax=ax)"
      ],
      "metadata": {
        "colab": {
          "base_uri": "https://localhost:8080/",
          "height": 580
        },
        "id": "wTNtoQBM80C0",
        "outputId": "6150a176-9677-4ca7-ea22-0e33767693be"
      },
      "execution_count": 36,
      "outputs": [
        {
          "output_type": "stream",
          "name": "stderr",
          "text": [
            "/usr/local/lib/python3.7/dist-packages/ipykernel_launcher.py:4: DeprecationWarning: `np.bool` is a deprecated alias for the builtin `bool`. To silence this warning, use `bool` by itself. Doing this will not modify any behavior and is safe. If you specifically wanted the numpy scalar type, use `np.bool_` here.\n",
            "Deprecated in NumPy 1.20; for more details and guidance: https://numpy.org/devdocs/release/1.20.0-notes.html#deprecations\n",
            "  after removing the cwd from sys.path.\n"
          ]
        },
        {
          "output_type": "execute_result",
          "data": {
            "text/plain": [
              "<matplotlib.axes._subplots.AxesSubplot at 0x7f7241764590>"
            ]
          },
          "metadata": {},
          "execution_count": 36
        },
        {
          "output_type": "display_data",
          "data": {
            "image/png": "[encoded data removed]",
            "text/plain": [
              "<Figure size 720x576 with 2 Axes>"
            ]
          },
          "metadata": {
            "needs_background": "light"
          }
        }
      ]
    },
    {
      "cell_type": "code",
      "source": [
        "fig, axes = plt.subplots(figsize = (18,5))\n",
        "\n",
        "sns.countplot(x = 'Shape', data = df_1)"
      ],
      "metadata": {
        "colab": {
          "base_uri": "https://localhost:8080/",
          "height": 352
        },
        "id": "T6eVufFG845j",
        "outputId": "3c61f7c2-943d-457d-9b8b-2203126900af"
      },
      "execution_count": 37,
      "outputs": [
        {
          "output_type": "execute_result",
          "data": {
            "text/plain": [
              "<matplotlib.axes._subplots.AxesSubplot at 0x7f724170a090>"
            ]
          },
          "metadata": {},
          "execution_count": 37
        },
        {
          "output_type": "display_data",
          "data": {
            "image/png": "[encoded data removed]",
            "text/plain": [
              "<Figure size 1296x360 with 1 Axes>"
            ]
          },
          "metadata": {
            "needs_background": "light"
          }
        }
      ]
    },
    {
      "cell_type": "code",
      "source": [
        "fig, axes = plt.subplots(8,1,figsize=(12, 30), sharex = True)\n",
        "\n",
        "sns.histplot(x='Price', data=df_1[df_1.Shape == 'CUSHION'], ax = axes[0])\n",
        "axes[0].set_title('CUSHION')\n",
        "sns.histplot(x='Price', data=df_1[df_1.Shape == 'OVAL'], ax = axes[1])\n",
        "axes[1].set_title('OVAL')\n",
        "sns.histplot(x='Price', data=df_1[df_1.Shape == 'PEAR'], ax = axes[2])\n",
        "axes[2].set_title('PEAR')\n",
        "sns.histplot(x='Price', data=df_1[df_1.Shape == 'HEART'], ax = axes[3])\n",
        "axes[3].set_title('HEART')\n",
        "sns.histplot(x='Price', data=df_1[df_1.Shape == 'ROUND'], ax = axes[4])\n",
        "axes[4].set_title('ROUND')\n",
        "sns.histplot(x='Price', data=df_1[df_1.Shape == 'EMERALD'], ax = axes[5])\n",
        "axes[5].set_title('EMERALD')\n",
        "sns.histplot(x='Price', data=df_1[df_1.Shape == 'PRINCESS'], ax = axes[6])\n",
        "axes[6].set_title('PRINCESS')\n",
        "sns.histplot(x='Price', data=df_1[df_1.Shape == 'MARQUISE'], ax = axes[7])\n",
        "axes[7].set_title('MARQUISE')"
      ],
      "metadata": {
        "colab": {
          "base_uri": "https://localhost:8080/",
          "height": 1000
        },
        "id": "3D5dlmwl88H-",
        "outputId": "3d723b90-8f03-4da0-fdf8-7793ea63b52d"
      },
      "execution_count": 38,
      "outputs": [
        {
          "output_type": "execute_result",
          "data": {
            "text/plain": [
              "Text(0.5, 1.0, 'MARQUISE')"
            ]
          },
          "metadata": {},
          "execution_count": 38
        },
        {
          "output_type": "display_data",
          "data": {
            "image/png": "[encoded data removed]",
            "text/plain": [
              "<Figure size 864x2160 with 8 Axes>"
            ]
          },
          "metadata": {
            "needs_background": "light"
          }
        }
      ]
    },
    {
      "cell_type": "code",
      "source": [
        "import pandas as pd\n",
        "import glob\n",
        "\n",
        "# 이미지 개수 2112개\n",
        "input_path = \"C:\\\\Diamond_images\\\\*.jpg\"\n",
        "file_list = [f for f in glob.glob(input_path)]\n",
        "list_1 = []\n",
        "for c in file_list :\n",
        "    list_1.append(c.split('\\\\')[-1].split('.jpg')[0])\n",
        "print(len(list_1)) # 2112개\n",
        "\n",
        "# CSV Id 개수 2129개, set으로 만들고 len 해보니 2110개\n",
        "df__1 = pd.read_csv('C:\\\\Diamond_images\\\\append.csv')\n",
        "list_2 = list(df__1['Id'])\n",
        "print(len(list_2)) # 2129개\n",
        "print(len(set(list_2))) # 2110개\n",
        "\n",
        "\n",
        "list_3 = list_1 + list_2\n",
        "print(len(set(list_3)))\n",
        "print(set(list_1)-set(list_2))\n",
        "\n",
        "# 이미지만 있고 csv id 없는 파일 삭제\n",
        "print('210016-6' in list_2)\n",
        "print('M210595-21' in list_2)\n",
        "\n",
        "# append csv에 있는 중복 id 삭제\n",
        "df__1 = df__1.drop_duplicates(subset = ['Id'])\n",
        "df__1.info()\n",
        "df__1.to_csv('C:\\\\Diamond_images\\\\append.csv', index=False)\n",
        "\n",
        "# 최종 : 이미지 + CSV(중복 없음) 총 개수 2110"
      ],
      "metadata": {
        "id": "bbg4vQZ-HdA4"
      },
      "execution_count": null,
      "outputs": []
    },
    {
      "cell_type": "markdown",
      "source": [
        "전처리는 shape이 cushion mbr인 것을 cushion으로 변경했고, radiant가 7개 나와서 삭제했습니다. 동일하게 사진도 해당하는 id는 삭제해뒀습니다. 이미지만 있고 CSV에는 없는 파일은 삭제하고 csv에 Id가 중복으로 들어가 있는 경우도 제외했습니다.\n",
        "다만 가격을 20000~70000으로 잡고 거의 모든 보석을 가져와서 나중에 확인해보니 round와 oval이 상당히 많은 것으로 집계된 것 같아서 price 불균형은 잡았지만 shape 불균형이 가속화된 것 아닌가 조금 염려되기는 합니다.\n",
        "append 최종 개수는 2110개 입니다.\n"
      ],
      "metadata": {
        "id": "a8FFoVL5LAHu"
      }
    }
  ]
}